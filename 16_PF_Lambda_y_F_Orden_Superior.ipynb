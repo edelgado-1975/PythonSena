{
  "nbformat": 4,
  "nbformat_minor": 0,
  "metadata": {
    "colab": {
      "private_outputs": true,
      "provenance": [],
      "include_colab_link": true
    },
    "kernelspec": {
      "name": "python3",
      "display_name": "Python 3"
    },
    "language_info": {
      "name": "python"
    }
  },
  "cells": [
    {
      "cell_type": "markdown",
      "metadata": {
        "id": "view-in-github",
        "colab_type": "text"
      },
      "source": [
        "<a href=\"https://colab.research.google.com/github/edelgado-1975/PythonSena/blob/main/16_PF_Lambda_y_F_Orden_Superior.ipynb\" target=\"_parent\"><img src=\"https://colab.research.google.com/assets/colab-badge.svg\" alt=\"Open In Colab\"/></a>"
      ]
    },
    {
      "cell_type": "markdown",
      "source": [
        "![M I S I Ó N.png](data:image/png;base64,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)"
      ],
      "metadata": {
        "id": "MToTAwFPHtgd"
      }
    },
    {
      "cell_type": "markdown",
      "source": [
        "# Programación Funcional en Python\n"
      ],
      "metadata": {
        "id": "Rav-C_4Dlwf1"
      }
    },
    {
      "cell_type": "markdown",
      "source": [
        "## Funciones Lambda\n",
        "\n",
        "\n",
        "\n"
      ],
      "metadata": {
        "id": "2QojZblfOebv"
      }
    },
    {
      "cell_type": "markdown",
      "source": [
        "Las expresiones Lambda nos permiten crear funciones anónimas que se utilizan para realizar operaciones rápidas en las que requerimos de alguna funcionalidad que podemos ejecutar directamente sin necesidad de realizar una declaración formal de la función."
      ],
      "metadata": {
        "id": "A_XMHRrFnTs8"
      }
    },
    {
      "cell_type": "markdown",
      "source": [
        "Sintaxis de una expresión Lambda:\n",
        "\n",
        "\n",
        "\n",
        "```\n",
        "lambda argumentos: expresión\n",
        "```\n",
        "\n"
      ],
      "metadata": {
        "id": "XXS7wM27D479"
      }
    },
    {
      "cell_type": "markdown",
      "source": [
        "Ejemplo:  Requerimos una función que reciba un número y retorne el cuadrado de ese número.\n",
        "\n",
        "De forma tradicional:"
      ],
      "metadata": {
        "id": "90_Af6dAEKNt"
      }
    },
    {
      "cell_type": "code",
      "source": [
        "def cuadrado(num):\n",
        "  return num ** 2\n",
        "\n",
        "print (cuadrado(6))"
      ],
      "metadata": {
        "id": "PX2kAMTeESqJ"
      },
      "execution_count": null,
      "outputs": []
    },
    {
      "cell_type": "markdown",
      "source": [
        "Con expresión Lambda:"
      ],
      "metadata": {
        "id": "tvXYvVPxEaIt"
      }
    },
    {
      "cell_type": "code",
      "source": [
        "res = lambda num : num ** 2\n",
        "print (type(res))\n",
        "print (res(6))"
      ],
      "metadata": {
        "id": "MPrzqUFNEgOe"
      },
      "execution_count": null,
      "outputs": []
    },
    {
      "cell_type": "markdown",
      "source": [
        "Observemos en la línea 1 el uso de la expresión lambda para crear una función sin nombre (anónima) que recibe la variable res.  En este caso res se convierte en una función que adquiere el comportamiento de la función lambda y posterior a ello ya la podemos utilizar como lo hacemos en la línea 2.\n",
        "\n",
        "Analicemos de nuevo la línea 1\n",
        "\n",
        "\n",
        "```\n",
        "res = lambda num : num ** 2\n",
        "```\n",
        " Esta indica que la función lambda recibe un parámetro llamado num y lo que hace es tomar ese parámetro y elevarlo a la 2.  \n"
      ],
      "metadata": {
        "id": "g80BlYThE9m9"
      }
    },
    {
      "cell_type": "markdown",
      "source": [
        "Debido a que la expresión lambda es una función en si misma, podríamos invocarla de la siguiente manera:\n",
        "\n"
      ],
      "metadata": {
        "id": "272OWJB7GKaX"
      }
    },
    {
      "cell_type": "code",
      "source": [
        "print ((lambda num : num ** 2)(6))"
      ],
      "metadata": {
        "id": "xBw023eYINq-"
      },
      "execution_count": null,
      "outputs": []
    },
    {
      "cell_type": "markdown",
      "source": [
        "o mejor aún así, para recibir el parámetro por parte del usuario:"
      ],
      "metadata": {
        "id": "CVHY_LjvIVs2"
      }
    },
    {
      "cell_type": "code",
      "source": [
        "print ((lambda num : num ** 2)(int(input(\"ingrese un número\"))))"
      ],
      "metadata": {
        "id": "DHVSkRYKH24W"
      },
      "execution_count": null,
      "outputs": []
    },
    {
      "cell_type": "markdown",
      "source": [
        "**¿Cómo serían las funciones lambda equivalentes a las siguientes funciones tradicionales?**\n",
        "\n",
        "\n",
        "---\n",
        "\n"
      ],
      "metadata": {
        "id": "EVA3oTLbIeSu"
      }
    },
    {
      "cell_type": "code",
      "source": [
        "def sumar(num1,num2):\n",
        "    return num1 + num2\n",
        "\n",
        "print (sumar(4,5))"
      ],
      "metadata": {
        "id": "0c201XZ_I7Vu"
      },
      "execution_count": null,
      "outputs": []
    },
    {
      "cell_type": "code",
      "source": [
        "print((lambda num1, num2 : num1 + num2)(3,8))\n"
      ],
      "metadata": {
        "id": "FNwN_Ndi-qh6"
      },
      "execution_count": null,
      "outputs": []
    },
    {
      "cell_type": "code",
      "source": [
        "#escriba aquí la función lambda equivalente\n",
        "print((lambda num1, num2: num1+num2)(4,5))"
      ],
      "metadata": {
        "id": "4ssXwwqBJDmu"
      },
      "execution_count": null,
      "outputs": []
    },
    {
      "cell_type": "markdown",
      "source": [
        "\n",
        "\n",
        "---\n",
        "\n"
      ],
      "metadata": {
        "id": "UFag5604QSIo"
      }
    },
    {
      "cell_type": "code",
      "source": [
        "def saludar ():\n",
        "  return \"hola\"\n",
        "\n",
        "print (saludar())"
      ],
      "metadata": {
        "id": "Ocb73WDWNaZq"
      },
      "execution_count": null,
      "outputs": []
    },
    {
      "cell_type": "code",
      "source": [
        "#escriba aquí la función lambda equivalente\n",
        "print((lambda : \"hola\")())"
      ],
      "metadata": {
        "id": "Xs7YprQhNoeI"
      },
      "execution_count": null,
      "outputs": []
    },
    {
      "cell_type": "markdown",
      "source": [
        "\n",
        "\n",
        "---\n",
        "\n"
      ],
      "metadata": {
        "id": "6qN7g3-wQV45"
      }
    },
    {
      "cell_type": "code",
      "source": [
        "def contar_caracteres(cadena):\n",
        "    return len(cadena)\n",
        "\n",
        "print (contar_caracteres(\"ejemplos lambda\"))"
      ],
      "metadata": {
        "id": "1uCOLHS-QNYy"
      },
      "execution_count": null,
      "outputs": []
    },
    {
      "cell_type": "code",
      "source": [
        "#escriba aquí la función lambda equivalente\n",
        "x = lambda cadena: len(cadena)\n",
        "print (x(\"ejemplos lambda\"))"
      ],
      "metadata": {
        "id": "t3dhEdnGQPjQ"
      },
      "execution_count": null,
      "outputs": []
    },
    {
      "cell_type": "markdown",
      "source": [
        "\n",
        "\n",
        "---\n",
        "\n"
      ],
      "metadata": {
        "id": "scATEQ3oQdcB"
      }
    },
    {
      "cell_type": "code",
      "source": [
        "def area_triangulo(base, altura):\n",
        "    return (base * altura) / 2\n",
        "\n",
        "print (area_triangulo(5,3))"
      ],
      "metadata": {
        "id": "VYlcDHSERM5j"
      },
      "execution_count": null,
      "outputs": []
    },
    {
      "cell_type": "code",
      "source": [
        "#escriba aquí la función lambda equivalente\n",
        "x = lambda base, altura: (base*altura)/2\n",
        "print (x(5,3))"
      ],
      "metadata": {
        "id": "ejXQ-ijoRUMQ"
      },
      "execution_count": null,
      "outputs": []
    },
    {
      "cell_type": "code",
      "source": [
        "def mayor (n1, n2):\n",
        "  if n1 > n2:\n",
        "    return n1\n",
        "  else:\n",
        "    return n2\n",
        "\n",
        "print (mayor(4,2))"
      ],
      "metadata": {
        "id": "nC1kroV8OIug"
      },
      "execution_count": null,
      "outputs": []
    },
    {
      "cell_type": "code",
      "source": [
        "#escriba aquí la función lambda equivalente\n",
        "print ((lambda n1,n2: n1 if n1 > n2 else n2)(4,2))"
      ],
      "metadata": {
        "id": "3MPXlR_XOwng"
      },
      "execution_count": null,
      "outputs": []
    },
    {
      "cell_type": "markdown",
      "source": [
        "\n",
        "\n",
        "---\n",
        "\n"
      ],
      "metadata": {
        "id": "_6c-NVuGQkWh"
      }
    },
    {
      "cell_type": "code",
      "source": [
        "def retornar_pares(lista):\n",
        "    pares = []\n",
        "    for num in lista:\n",
        "      if num % 2 == 0:\n",
        "        pares.append(num)\n",
        "    return pares\n",
        "\n",
        "print(retornar_pares([1,2,3,4,5,6,7,8]))\n"
      ],
      "metadata": {
        "id": "wKJlZf5AJNc2"
      },
      "execution_count": null,
      "outputs": []
    },
    {
      "cell_type": "code",
      "source": [
        "print((lambda lista : [num for num in lista if num % 2 == 0])([1,2,3,4,5,6,7,8]))"
      ],
      "metadata": {
        "id": "A2V4owrEBiso"
      },
      "execution_count": null,
      "outputs": []
    },
    {
      "cell_type": "code",
      "source": [
        "respuesta = lambda lista : [num for num in lista if num % 2 == 0]\n",
        "print(respuesta([54,656,76,87,3,5,7,8]))"
      ],
      "metadata": {
        "id": "RboFRuj7Ccl6"
      },
      "execution_count": null,
      "outputs": []
    },
    {
      "cell_type": "code",
      "source": [
        "#escriba aquí la función lambda equivalente\n",
        "print ((lambda lista: [num for num in lista if num % 2 == 0])([1,2,3,4,5,6,7,8]))"
      ],
      "metadata": {
        "id": "jo9_NDkXJ6Ef"
      },
      "execution_count": null,
      "outputs": []
    },
    {
      "cell_type": "markdown",
      "source": [
        "\n",
        "\n",
        "---\n",
        "\n"
      ],
      "metadata": {
        "id": "Sa22FPyWQmuh"
      }
    },
    {
      "cell_type": "markdown",
      "source": [
        "**Uno de los usos comunes de las funciones lambda es como función interna de una closure function.  Miremos:**\n",
        "\n",
        "\n",
        "Sin Lambda:"
      ],
      "metadata": {
        "id": "7ZIiCEljTcpq"
      }
    },
    {
      "cell_type": "code",
      "source": [
        "def potencia(n):\n",
        "    def eleva(x):\n",
        "        return x ** n\n",
        "    return eleva\n",
        "\n",
        "cuadrado = potencia(2)\n",
        "print (cuadrado(5))"
      ],
      "metadata": {
        "id": "K6eo8Q9WUg_5"
      },
      "execution_count": null,
      "outputs": []
    },
    {
      "cell_type": "markdown",
      "source": [
        "Con Lambda"
      ],
      "metadata": {
        "id": "lJSBqEfJU6Xq"
      }
    },
    {
      "cell_type": "code",
      "source": [
        "def potencia(n):\n",
        "    return lambda x : x ** n\n",
        "\n",
        "cuadrado = potencia(2)\n",
        "print (cuadrado(5))"
      ],
      "metadata": {
        "id": "SAxmADOZUmVB"
      },
      "execution_count": null,
      "outputs": []
    },
    {
      "cell_type": "markdown",
      "source": [
        "**Otro uso interesante de las funciones Lambda es cuándo enviamos una función lambda como argumento de otra función**\n",
        "\n",
        "Miremos:"
      ],
      "metadata": {
        "id": "aFft58m0iZkf"
      }
    },
    {
      "cell_type": "code",
      "source": [
        "def modificar_lista(lista, funcion_modificadora):\n",
        "  return [funcion_modificadora(x) for x in lista]\n",
        "\n",
        "lista = [x for x in range (10)]\n",
        "print (modificar_lista(lista, lambda num : num * 2)) #duplica cada elemento de la lista\n",
        "print (modificar_lista(lista, lambda num : num **2 ))#eleva al cuadrado cada elemento de la lista\n",
        "print (modificar_lista(lista, lambda num : 0 if num % 2 == 0 else 1 ))#convierte los pares en 0 y los impares en 1"
      ],
      "metadata": {
        "id": "MwPUtJIMiq3w"
      },
      "execution_count": null,
      "outputs": []
    },
    {
      "cell_type": "markdown",
      "source": [
        "Comparemos los siguientes dos programas.  En el primero tenemos funciones tradicionales anidadas y en el segundo se usan funciones lambda anidadas"
      ],
      "metadata": {
        "id": "tPUXXcqA6G0s"
      }
    },
    {
      "cell_type": "markdown",
      "source": [
        "Con funciones tradicionales anidadas"
      ],
      "metadata": {
        "id": "ZLAWwNvZ6mT1"
      }
    },
    {
      "cell_type": "code",
      "source": [
        "def potencia(n):\n",
        "    def eleva(x):\n",
        "        return x ** n\n",
        "    return eleva\n",
        "\n",
        "cuadrado = potencia(2)\n",
        "print (cuadrado(5))"
      ],
      "metadata": {
        "id": "SgtAJnVY329j"
      },
      "execution_count": null,
      "outputs": []
    },
    {
      "cell_type": "markdown",
      "source": [
        "Con funciones lambda anidadas"
      ],
      "metadata": {
        "id": "4WKNBiYJ6qmr"
      }
    },
    {
      "cell_type": "code",
      "source": [
        "cuadrado = (lambda n :(lambda x : x ** n))(2)\n",
        "print(cuadrado(5))"
      ],
      "metadata": {
        "id": "yUYOV_N134tM"
      },
      "execution_count": null,
      "outputs": []
    },
    {
      "cell_type": "markdown",
      "source": [
        "**Funciones Lambda con número variable de argumentos**\n",
        "\n",
        "El reconocido parámetro *args también aplica para las funciones lambda.  Miremos:"
      ],
      "metadata": {
        "id": "ziun7yC89YqV"
      }
    },
    {
      "cell_type": "code",
      "source": [
        "suma = lambda *args : sum(args)\n",
        "print (suma(2,3))\n",
        "print (suma(2,3,4,5))\n",
        "print (suma(10,5,10,20,5,10))"
      ],
      "metadata": {
        "id": "xFEWswCO9mr1"
      },
      "execution_count": null,
      "outputs": []
    },
    {
      "cell_type": "code",
      "source": [
        "# sin lambda\n",
        "def menor_de_todos(lista_numeros):\n",
        "  return min(lista_numeros)\n",
        "\n",
        "print(menor_de_todos([3,5,7,2]))"
      ],
      "metadata": {
        "id": "sQYUI7-PkA1_"
      },
      "execution_count": null,
      "outputs": []
    },
    {
      "cell_type": "markdown",
      "source": [
        "con lambda"
      ],
      "metadata": {
        "id": "h-ehaYFRlRKn"
      }
    },
    {
      "cell_type": "code",
      "source": [
        "print((lambda lista_numeros: min(lista_numeros))([3,5,7,2]))"
      ],
      "metadata": {
        "id": "1Dh5S4telPw2"
      },
      "execution_count": null,
      "outputs": []
    },
    {
      "cell_type": "code",
      "source": [
        "#Sin lambda\n",
        "def apto_para_votar(nombre, edad):\n",
        "  if edad >=18:\n",
        "    print(nombre, \"Si puede votar\")\n",
        "  else:\n",
        "    print(nombre, \"No puede votar\")\n",
        "\n",
        "apto_para_votar(\"Juan\",30)\n",
        "apto_para_votar(\"Pedro\",17)"
      ],
      "metadata": {
        "id": "HkFyFBCUlkZg"
      },
      "execution_count": null,
      "outputs": []
    },
    {
      "cell_type": "markdown",
      "source": [
        "Con lambda"
      ],
      "metadata": {
        "id": "47zeejpdneqf"
      }
    },
    {
      "cell_type": "code",
      "source": [
        "x=(lambda nombre,edad: nombre +\" Si puede votar\" if edad>= 18 else nombre+ \" No puede votar\")\n",
        "print(x(\"Omar\",10), x(\"Omar\",30))\n"
      ],
      "metadata": {
        "id": "1PtVjlbingKW"
      },
      "execution_count": null,
      "outputs": []
    },
    {
      "cell_type": "code",
      "source": [
        "#Se necesita una función Lambda que reciba una palabra y una letra e indique cuántas veces se encuentra la letra en la palabra\n",
        "\n",
        "cantidad = lambda palabra, letra : palabra.count(letra)\n",
        "\n",
        "palabra = input (\"Ingrese una palabra\")\n",
        "letra = input (\"Ingrese una letra\")\n",
        "print (f\"La letra {letra} se encuentra en la palabra {palabra} {cantidad(palabra, letra)} veces\" )\n",
        "\n"
      ],
      "metadata": {
        "id": "nMRZwu8XFkbJ"
      },
      "execution_count": null,
      "outputs": []
    },
    {
      "cell_type": "markdown",
      "source": [],
      "metadata": {
        "id": "aF2FtKeNFjvq"
      }
    },
    {
      "cell_type": "markdown",
      "source": [
        "## Funciones de orden superior\n",
        "\n",
        "Una función de orden superior es sencillamente una función que recibe como parámetro otra función y/o retornan una función.  Dicho lo anterior, podemos concluir que ya hemos programado funciones de orden superior antes.\n",
        "\n",
        "\n",
        "\n",
        "El lenguaje Python nos ofrece algunas funciones de orden superior muy reconocidas dentro del paradigma de programación funcional para el tratamiento de colecciones de datos."
      ],
      "metadata": {
        "id": "6BSsLJ5Y-Pnl"
      }
    },
    {
      "cell_type": "markdown",
      "source": [
        "### map\n",
        "\n",
        "La palabra clave para entender el uso de la función map es **transformación**\n",
        "\n",
        "La función map recibe una *función* y un *iterable*  devolviendo el resultado de aplicar la función recibida a cada elemento del iterable recibido.  \n",
        "\n",
        "Esta función **no modifica el iterable original** sino que crea una copia del mismo sobre el cual realiza la transformación solicitada a través de la función que se envía como parámetro.\n"
      ],
      "metadata": {
        "id": "_H23_U_k_L-t"
      }
    },
    {
      "cell_type": "markdown",
      "source": [
        "![map.png](data:image/png;base64,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)"
      ],
      "metadata": {
        "id": "Ihbgdy4O5iqK"
      }
    },
    {
      "cell_type": "markdown",
      "source": [
        "\n",
        "Miremos el ejercicio realizado anteriormente aplicando la función map de Python:"
      ],
      "metadata": {
        "id": "LhIzCNDqBOOc"
      }
    },
    {
      "cell_type": "code",
      "source": [
        "nombres = [\"juan\", \"pedro\", \"luis\"]\n",
        "#si quiero pasar los nombres a mayúsculas:\n",
        "print (list(map(str.upper,nombres)))\n",
        "#si quiero pasar los nombres a formato título\n",
        "print(list(map(str.title, nombres)))"
      ],
      "metadata": {
        "id": "Ru5IL_ykBeEA"
      },
      "execution_count": null,
      "outputs": []
    },
    {
      "cell_type": "markdown",
      "source": [
        "El código anterior, no solo es más corto sino más eficiente, pues la función map internamente hace un uso óptimo de la memoria para hacer sus transformaciones utilizando una técnica de programación conocida como \"lazy evaluation\", la cual va aplicando la función de transformación a cada elemento en la medida que se va requiriendo."
      ],
      "metadata": {
        "id": "O-B8Add5D3Gt"
      }
    },
    {
      "cell_type": "markdown",
      "source": [
        "Por supuesto que también podemos enviar a la función de orden superior map una función como parámetro creada por nosotros mismos.  Miremos:"
      ],
      "metadata": {
        "id": "I2htPOIJFTVv"
      }
    },
    {
      "cell_type": "code",
      "source": [
        "def duplicar(num):\n",
        "  return num * 2\n",
        "\n",
        "print (list(map(duplicar,[1,2,3,4,5,6])))"
      ],
      "metadata": {
        "id": "XZRctkHLFkZw"
      },
      "execution_count": null,
      "outputs": []
    },
    {
      "cell_type": "markdown",
      "source": [
        "Y por supuesto que también podemos enviar una función lambda como parámetro a la función de orden superior map.  Miremos:"
      ],
      "metadata": {
        "id": "5Ai5N5M_GP-A"
      }
    },
    {
      "cell_type": "code",
      "source": [
        "print (list(map(lambda num:num*-1,[1,-2,3,4,-5,6])))"
      ],
      "metadata": {
        "id": "KwWe8yyMrAIr"
      },
      "execution_count": null,
      "outputs": []
    },
    {
      "cell_type": "code",
      "source": [
        "lista = [2, 3, 4, 5]\n",
        "nueva_lista = list(map(lambda x: x**2, lista))\n",
        "print(nueva_lista)"
      ],
      "metadata": {
        "id": "DnCYkYZM_XUQ"
      },
      "execution_count": null,
      "outputs": []
    },
    {
      "cell_type": "markdown",
      "source": [
        "**Realizar los siguientes ejercicios propuestos haciendo uso de la función de orden superior map**\n",
        "\n"
      ],
      "metadata": {
        "id": "0i1DGnjUJLws"
      }
    },
    {
      "cell_type": "markdown",
      "source": [
        "Convertir una lista de temperaturas en grados Celsius a grados Fahrenheit utilizando una función propia y la función map(). La fórmula para la conversión es: F = (C * 1.8) + 32.  \n",
        "\n"
      ],
      "metadata": {
        "id": "X0d0n5MfJaan"
      }
    },
    {
      "cell_type": "code",
      "source": [],
      "metadata": {
        "id": "-rwx2uxXJj_y"
      },
      "execution_count": null,
      "outputs": []
    },
    {
      "cell_type": "markdown",
      "source": [
        "\n",
        "\n",
        "---\n",
        "\n"
      ],
      "metadata": {
        "id": "1Ej_dgEqJ4jT"
      }
    },
    {
      "cell_type": "markdown",
      "source": [
        "Dada una lista de palabras, obtener una lista que contenga la longitud de cada palabra utilizando una función lambda y la función map."
      ],
      "metadata": {
        "id": "R-Yd_ZbcKFdD"
      }
    },
    {
      "cell_type": "code",
      "source": [
        "\n"
      ],
      "metadata": {
        "id": "bk4rIgAmKJk-"
      },
      "execution_count": null,
      "outputs": []
    },
    {
      "cell_type": "markdown",
      "source": [
        "\n",
        "\n",
        "---\n",
        "\n"
      ],
      "metadata": {
        "id": "xsKt6YuPKLVz"
      }
    },
    {
      "cell_type": "markdown",
      "source": [
        "Dado un diccionario cuya clave es el nombre del estudiante y valor una lista de sus 3 notas, obtener una lista con los promedios de cada estudiante utilizando una función propia y la función map.  "
      ],
      "metadata": {
        "id": "kWCMpW-UKNhc"
      }
    },
    {
      "cell_type": "code",
      "source": [
        "def promedio (lista):\n",
        "  return sum(lista)/len(lista)\n",
        "\n",
        "diccionario = {\"juan\":[3,4,5], \"luis\": [5,2,3]}\n",
        "\n",
        "print (list(map(promedio, diccionario.values())))\n"
      ],
      "metadata": {
        "id": "Q_5KpzEuKr8E"
      },
      "execution_count": null,
      "outputs": []
    },
    {
      "cell_type": "markdown",
      "source": [
        "\n",
        "\n",
        "---\n",
        "\n"
      ],
      "metadata": {
        "id": "eMS_t444K8rA"
      }
    },
    {
      "cell_type": "markdown",
      "source": [
        "\n",
        "### filter\n",
        "\n",
        "La palabra clave para entender el uso de la función filter es **filtro**\n",
        "\n",
        "La función filter recibe una *función* y un *iterable*  devolviendo el conjunto de datos del iterable que cumplan con el filtro evaluado en la función dada.  \n",
        "\n",
        "Esta función **no modifica el iterable original** sino que crea una copia del mismo sobre el cual se aplica el filtro.  La función filter crea un objeto simple que alberga una referencia a la lista original, la función proporcionada y un índice de dónde ir en la lista original, lo que ocupa menos memoria.\n",
        "\n",
        "**La función pasada como argumento a la función filter debe devolver un valor booleano**, que ayudará a evaluar cada elemento del iterable."
      ],
      "metadata": {
        "id": "6KeqbAcu_kC0"
      }
    },
    {
      "cell_type": "markdown",
      "source": [
        "![filter.png](data:image/png;base64,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)"
      ],
      "metadata": {
        "id": "7l_PY8yi5pYa"
      }
    },
    {
      "cell_type": "markdown",
      "source": [
        "Antes de usar la función filter vamos a mirar el siguiente ejercicio"
      ],
      "metadata": {
        "id": "GnzIxEryuPuH"
      }
    },
    {
      "cell_type": "code",
      "source": [
        "def pares(num):\n",
        "  return num % 2 == 0\n",
        "\n",
        "def impares(num):\n",
        "  return num % 2 != 0\n",
        "\n",
        "def filtrar (funcion, numeros):\n",
        "  resultado = []\n",
        "  for n in numeros:\n",
        "    if funcion(n):\n",
        "      resultado.append(n)\n",
        "  return resultado\n",
        "\n",
        "pares\n",
        "print (filtrar(pares, [1,2,3,4,5,6,7,8,9]))\n",
        "#impares\n",
        "print (filtrar(impares, [1,2,3,4,5,6,7,8,9]))\n"
      ],
      "metadata": {
        "id": "H9uelE2UueaX"
      },
      "execution_count": null,
      "outputs": []
    },
    {
      "cell_type": "markdown",
      "source": [
        "Ahora intentaremos lograr los resultados del ejercicio anterior usando la función filter.  "
      ],
      "metadata": {
        "id": "OSt6HU83wrSo"
      }
    },
    {
      "cell_type": "code",
      "source": [
        "#pares\n",
        "print (list(filter(lambda x : x % 2 == 0 if isinstance(x,int) else print(\"solo numeros\") , [1,2,3,4,5,6,7,8,\"r\"])))\n",
        "#impares\n",
        "print (list(filter(lambda x : x % 2 != 0, [1,2,3,4,5,6,7,8,9])))"
      ],
      "metadata": {
        "id": "dL8v1BXVw0pL"
      },
      "execution_count": null,
      "outputs": []
    },
    {
      "cell_type": "markdown",
      "source": [
        "Se tiene la siguiente información sobre los estudiantes de un grupo:"
      ],
      "metadata": {
        "id": "t7rf8mU1x2gv"
      }
    },
    {
      "cell_type": "code",
      "source": [
        "estudiantes = [{\"nombre\": \"juan\", \"edad\": 23, \"genero\": \"m\", \"ciudad\": \"Manizales\"},\n",
        "               {\"nombre\": \"pedro\", \"edad\": 17, \"genero\": \"M\", \"ciudad\": \"Pereira\"},\n",
        "               {\"nombre\": \"lina\", \"edad\": 42, \"genero\": \"f\", \"ciudad\": \"Manizales\"},\n",
        "               {\"nombre\": \"carlos\", \"edad\": 13, \"genero\": \"m\", \"ciudad\": \"Cali\"},\n",
        "               {\"nombre\": \"diana\", \"edad\": 20, \"genero\": \"f\", \"ciudad\": \"Manizales\"},\n",
        "               {\"nombre\": \"luisa\", \"edad\": 15, \"genero\": \"f\", \"ciudad\": \"Cali\"},\n",
        "               {\"nombre\": \"julian\", \"edad\": 22, \"genero\": \"M\", \"ciudad\": \"Pereira\"},\n",
        "               {\"nombre\": \"kelly\", \"edad\": 14, \"genero\": \"f\", \"ciudad\": \"Cali\"},\n",
        "              ]\n",
        "\n",
        "#Lista de los hombres\n",
        "#print (list(filter(lambda x: x[\"genero\"].lower() == \"m\", estudiantes )))\n",
        "\n",
        "#lista de las mujeres\n",
        "#print(list(filter(lambda x: x[\"genero\"] == \"f\", estudiantes)))\n",
        "\n",
        "\n",
        "#lista de los menores de edad\n",
        "#print(list(filter(lambda x: x[\"edad\"] < 18, estudiantes)))\n",
        "\n",
        "#lista de los mayores de edad\n",
        "#print(list(filter(lambda x: x[\"edad\"]>=18, estudiantes)))\n",
        "\n",
        "#lista de los nombres de los estudiantes de una determinada ciudad\n",
        "#print(list(filter(lambda x: x[\"ciudad\"]==\"Manizales\", estudiantes)))\n",
        "\n",
        "#Lista de los hombres menores de edad\n",
        "#print (list(filter(lambda x: x[\"genero\"].lower() == \"m\" and x[\"edad\"] < 18, estudiantes )))\n",
        "print (list(map(lambda y: y[\"nombre\"],filter(lambda x: x[\"genero\"].lower() == \"m\" and x[\"edad\"] < 18, estudiantes ))))"
      ],
      "metadata": {
        "id": "Jnc5pT3Yyky4"
      },
      "execution_count": null,
      "outputs": []
    },
    {
      "cell_type": "markdown",
      "source": [
        "**Realizar los siguientes ejercicios propuestos haciendo uso de la función de orden superior filter**"
      ],
      "metadata": {
        "id": "Zh0qgEok8Oqr"
      }
    },
    {
      "cell_type": "markdown",
      "source": [
        "Tome una lista de números e imprima solamente aquellos que sean múltiplos de 3"
      ],
      "metadata": {
        "id": "rXGIp6cj98gu"
      }
    },
    {
      "cell_type": "code",
      "source": [
        "print(list(filter(lambda x: x%3==0, [2,3,4,5,6,7,8,9])))"
      ],
      "metadata": {
        "id": "rZWw-bH26w-n"
      },
      "execution_count": null,
      "outputs": []
    },
    {
      "cell_type": "markdown",
      "source": [
        "\n",
        "\n",
        "---\n",
        "\n"
      ],
      "metadata": {
        "id": "jCM4lhPO85Lk"
      }
    },
    {
      "cell_type": "markdown",
      "source": [
        "Cree una lista de palabras y fíltrela mostrando de esa lista únicamente las palabras palíndromes (se leen igual de izquierda a derecha que de derecha a izquierda)"
      ],
      "metadata": {
        "id": "zzCnRwrb8SiS"
      }
    },
    {
      "cell_type": "code",
      "source": [
        "print(list(filter(lambda x: x==x[::-1],[\"pao\", \"olo\", \"amor\",\"apa\"])))"
      ],
      "metadata": {
        "id": "-Nak_mml97BO"
      },
      "execution_count": null,
      "outputs": []
    },
    {
      "cell_type": "markdown",
      "source": [
        "\n",
        "\n",
        "---\n",
        "\n"
      ],
      "metadata": {
        "id": "9zbZm7Mz97jf"
      }
    },
    {
      "cell_type": "markdown",
      "source": [
        "Tome una lista de palabras y muestre solo aquellas palabras que inician con una vocal."
      ],
      "metadata": {
        "id": "-7uUJ_C986S0"
      }
    },
    {
      "cell_type": "code",
      "source": [
        "def inicia_vocal(palabra):\n",
        "  x = [\"a\",\"e\",\"i\",\"o\",\"u\"]\n",
        "  if palabra[0].lower() in x:\n",
        "    return True\n",
        "  return False\n",
        "\n",
        "print(list(filter(inicia_vocal, [\"sena\", \"andres\", \"pizza\", \"europa\", \"sol\"] )))"
      ],
      "metadata": {
        "id": "iXWlQYMdBOQn"
      },
      "execution_count": null,
      "outputs": []
    },
    {
      "cell_type": "markdown",
      "source": [
        "\n",
        "\n",
        "---\n",
        "\n"
      ],
      "metadata": {
        "id": "J3gXTI6tBO9Q"
      }
    },
    {
      "cell_type": "markdown",
      "source": [
        "Cree una lista de objetos de la clase Estudiante que tiene como atributos el nombre y la nota del estudiante.  Muestre posteriormente el listado de los estudiantes que aprobaron y no aprobaron usando la función filter."
      ],
      "metadata": {
        "id": "LHrz6ZyBGndA"
      }
    },
    {
      "cell_type": "code",
      "source": [
        "class Estudiante:\n",
        "  def __init__(self, nombre, nota):\n",
        "    self.nombre = nombre\n",
        "    self.nota = nota\n",
        "\n",
        "estudiantes = [Estudiante(\"Juan\", 2), Estudiante(\"Luis\", 4), Estudiante(\"Carla\", 4.5)]\n",
        "print (\"Aprobaron\")\n",
        "print(list(map(lambda y: y.nombre,filter(lambda x: x.nota >= 3, estudiantes))))\n",
        "print (\"No Aprobaron\")\n",
        "print(list(map(lambda y: y.nombre,filter(lambda x: x.nota < 3, estudiantes))))"
      ],
      "metadata": {
        "id": "jPIZgbyPG64J"
      },
      "execution_count": null,
      "outputs": []
    },
    {
      "cell_type": "markdown",
      "source": [
        "\n",
        "\n",
        "---\n",
        "\n"
      ],
      "metadata": {
        "id": "k8cDaeANG7PB"
      }
    },
    {
      "cell_type": "markdown",
      "source": [
        "Tome una lista de palabras y muestre solo aquellas palabras que contienen las 5 vocales."
      ],
      "metadata": {
        "id": "nUdcKlHGBQAP"
      }
    },
    {
      "cell_type": "code",
      "source": [
        "def cinco_vocales(palabra):\n",
        "  vocales = [\"a\",\"e\",\"i\",\"o\",\"u\"]\n",
        "  c=0\n",
        "  for vocal in vocales:\n",
        "    if vocal in palabra:\n",
        "      c+=1\n",
        "      if c>=5:\n",
        "        return True\n",
        "  return False\n",
        "\n",
        "print(list(filter(cinco_vocales,[\"caballo\", \"aurelio\", \"corazon\", \"murcielago\"])))"
      ],
      "metadata": {
        "id": "W8uy_U2zCA3I"
      },
      "execution_count": null,
      "outputs": []
    },
    {
      "cell_type": "markdown",
      "source": [
        "\n",
        "\n",
        "---\n",
        "\n"
      ],
      "metadata": {
        "id": "AyGccBWbCBdu"
      }
    },
    {
      "cell_type": "markdown",
      "source": [
        "### reduce\n",
        "\n",
        "La palabra clave para entender el uso de la función reduce es **consolidar**\n",
        "\n",
        "Para usar esta función, debemos importarla del módulo **functools**\n",
        "\n",
        "\n",
        "\n",
        "```\n",
        "from functools import reduce\n",
        "```\n",
        "\n",
        "\n",
        "La función reduce recibe una *función* y un *iterable* importante saber que la *función* obligatoriamente recibe dos parámetros, el primero actúa como acumulador y el segundo como cada elemento de la colección.  \n",
        "\n",
        "La operación que se realiza al interior de la *función* es la que determina el comportamiento de reduce\n",
        "\n",
        "El resultado de aplicar la función reduce sobre un iterable es un único valor.  Miremos:"
      ],
      "metadata": {
        "id": "66ICdhl6_7Qt"
      }
    },
    {
      "cell_type": "markdown",
      "source": [
        "![reduce.png](data:image/png;base64,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)"
      ],
      "metadata": {
        "id": "tEspi76v5tvy"
      }
    },
    {
      "cell_type": "markdown",
      "source": [
        "Queremos obtener la sumatoria de todos los números de una lista dada.  Primero miremos cómo lo haríamos sin reduce:"
      ],
      "metadata": {
        "id": "Yz04oIGcNnUD"
      }
    },
    {
      "cell_type": "code",
      "source": [
        "def sumar(y, x=0):\n",
        "  return x+y\n",
        "\n",
        "def reducir(funcion, numeros):\n",
        "  total = 0\n",
        "  for n in numeros:\n",
        "    total += funcion (n)\n",
        "  return total\n",
        "\n",
        "print (reducir(sumar, [2,3,4,5]))"
      ],
      "metadata": {
        "id": "icwYpgXpNwEj"
      },
      "execution_count": null,
      "outputs": []
    },
    {
      "cell_type": "markdown",
      "source": [
        "Ahora con reduce:"
      ],
      "metadata": {
        "id": "V-cl_oHYPTOk"
      }
    },
    {
      "cell_type": "code",
      "source": [
        "from functools import reduce\n",
        "def sumar (x, y):\n",
        "  print(\"x: \",x)\n",
        "  print(\"y: \",y)\n",
        "  return x + y\n",
        "\n",
        "print (reduce(sumar, [2,3,4,5]))"
      ],
      "metadata": {
        "id": "tHWV1eWQPWG0"
      },
      "execution_count": null,
      "outputs": []
    },
    {
      "cell_type": "markdown",
      "source": [
        "Con reduce y función lambda:"
      ],
      "metadata": {
        "id": "TMyNL1QcP1PV"
      }
    },
    {
      "cell_type": "code",
      "source": [
        "from functools import reduce\n",
        "print (reduce(lambda x,y : x + y, [2,3,4,5]))"
      ],
      "metadata": {
        "id": "k4-qvutcP6Pl"
      },
      "execution_count": null,
      "outputs": []
    },
    {
      "cell_type": "markdown",
      "source": [
        "**Realice los siguientes ejercicios usando la función reduce**"
      ],
      "metadata": {
        "id": "Qlde0_V1SCO1"
      }
    },
    {
      "cell_type": "markdown",
      "source": [
        "A partir de una lista de objetos de tipo Empleado cuyos atributos son el nombre y el salario, determine el salario más alto y el salario promedio de todos los empleados."
      ],
      "metadata": {
        "id": "f-tRkclvSI3t"
      }
    },
    {
      "cell_type": "code",
      "source": [
        "from functools import reduce\n",
        "class Empleado:\n",
        "  def __init__(self, nombre, salario):\n",
        "    self.nombre = nombre\n",
        "    self.salario = salario\n",
        "\n",
        "def mayor(a, b):\n",
        "  if a.salario > b.salario:\n",
        "    return a\n",
        "  else:\n",
        "    return b\n",
        "\n",
        "empleados = [Empleado(\"Juan\",100000),Empleado(\"Pedro\",300000),Empleado(\"Luis\",200000)]\n",
        "\n",
        "salario_mayor = reduce(mayor,empleados)\n",
        "print (salario_mayor.salario)"
      ],
      "metadata": {
        "id": "yyeWDtBBSeyg"
      },
      "execution_count": null,
      "outputs": []
    },
    {
      "cell_type": "markdown",
      "source": [
        "\n",
        "\n",
        "---\n",
        "\n"
      ],
      "metadata": {
        "id": "gDQMR1DESfQm"
      }
    },
    {
      "cell_type": "markdown",
      "source": [
        "Dada una lista de números mostrar la sumatoria de los pares."
      ],
      "metadata": {
        "id": "pFUdsmqaSgbO"
      }
    },
    {
      "cell_type": "code",
      "source": [
        "from functools import reduce\n",
        "print (reduce(lambda x,y : x + y, filter(lambda x: x % 2 == 0, [3,5,6,8])))\n",
        "\n"
      ],
      "metadata": {
        "id": "hLdOu-aBUfvR"
      },
      "execution_count": null,
      "outputs": []
    },
    {
      "cell_type": "code",
      "source": [
        "from functools import reduce\n",
        "\n",
        "\n",
        "\n",
        "\n",
        "\n",
        "\n",
        "\n",
        "lista_numeros = [3,4,54,7,65,3,4,6]\n",
        "\n",
        "pares = list(filter(lambda x: x % 2 == 0, lista_numeros))\n",
        "\n",
        "\n",
        "\n",
        "suma_pares = reduce(lambda x,y : x + y, pares)\n",
        "\n",
        "print (pares)\n",
        "\n",
        "print(suma_pares)"
      ],
      "metadata": {
        "id": "V9TJZK-JYcZI"
      },
      "execution_count": null,
      "outputs": []
    },
    {
      "cell_type": "markdown",
      "source": [
        "\n",
        "\n",
        "---\n",
        "\n"
      ],
      "metadata": {
        "id": "xQWK333CUgLi"
      }
    },
    {
      "cell_type": "markdown",
      "source": [
        "Dada una lista de objetos de tipo producto cuyos atributos son el nombre, el precio unitario y la cantidad.  Obtener el valor del inventario (dinero total que se obtendría si todos los productos se vendieran)."
      ],
      "metadata": {
        "id": "HVKArYIiUhWq"
      }
    },
    {
      "cell_type": "code",
      "source": [
        "from functools import reduce\n",
        "\n",
        "class Producto:\n",
        "  def __init__(self, nombre, precio, cantidad):\n",
        "    self.nombre = nombre\n",
        "    self.precio = precio\n",
        "    self.cantidad = cantidad\n",
        "\n",
        "productos = [Producto(\"computador\", 1000, 12), Producto (\"TV\", 3000, 5)]\n",
        "inventario_total = reduce(lambda x,y : x.precio*x.cantidad + y.precio * y.cantidad, productos )\n",
        "print (inventario_total)"
      ],
      "metadata": {
        "id": "MCk2t2vIVJUc"
      },
      "execution_count": null,
      "outputs": []
    },
    {
      "cell_type": "code",
      "source": [
        "from functools import reduce\n",
        "\n",
        "class Producto:\n",
        "  def __init__(self, nombre, precio, cantidad):\n",
        "    self.nombre = nombre\n",
        "    self.precio = precio\n",
        "    self.cantidad = cantidad\n",
        "\n",
        "  def total_producto(self):\n",
        "    return self.precio * self.cantidad\n",
        "\n",
        "\n",
        "productos = [Producto(\"computador\", 1000, 12), Producto (\"TV\", 3000, 5), Producto(\"Tablet\", 2000, 5)]\n",
        "totales = list(map(lambda x: x.total_producto(), productos))\n",
        "print (totales)\n",
        "inventario_total = reduce(lambda x,y: x+y, totales )\n",
        "print (inventario_total)\n"
      ],
      "metadata": {
        "id": "_aQVMKBmbVcV"
      },
      "execution_count": null,
      "outputs": []
    },
    {
      "cell_type": "markdown",
      "source": [
        "\n",
        "\n",
        "---\n",
        "\n"
      ],
      "metadata": {
        "id": "9jrSunpcVJ4C"
      }
    },
    {
      "cell_type": "markdown",
      "source": [
        "### Anidamiento de funciones de orden superior\n",
        "\n",
        "Siempre que se utilicen las funciones de orden superior con la sintaxis adecuada, estas se pueden concatenar o anidar a otras para lograr resultados más detallados.  Miremos:"
      ],
      "metadata": {
        "id": "ZCmpIEYPEMjp"
      }
    },
    {
      "cell_type": "markdown",
      "source": [
        "Obtener la sumatoria de los números impares de una lista:"
      ],
      "metadata": {
        "id": "_4Z4y7kNEhSn"
      }
    },
    {
      "cell_type": "code",
      "source": [
        "from functools import reduce\n",
        "\n",
        "lista = [1, 2, 3, 4, 5, 6, 7, 8, 9, 10]\n",
        "\n",
        "salida = reduce(lambda x, y: x+y, filter(lambda x: x % 2 != 0, lista))\n",
        "\n",
        "print(salida)\n"
      ],
      "metadata": {
        "id": "shHP7YXYEvmA"
      },
      "execution_count": null,
      "outputs": []
    },
    {
      "cell_type": "markdown",
      "source": [
        "Obtener la sumatoria de los cuadrados de los números pares en una lista"
      ],
      "metadata": {
        "id": "6Wbj2f5xFQWy"
      }
    },
    {
      "cell_type": "code",
      "source": [
        "lista = [1, 2, 3, 4, 5, 6]\n",
        "salida = reduce (lambda y, z: y+z,  map (lambda a: a**2,filter (lambda x : x % 2 == 0, lista)))\n",
        "print (salida)"
      ],
      "metadata": {
        "id": "CpDH_jt_FSXJ"
      },
      "execution_count": null,
      "outputs": []
    },
    {
      "cell_type": "markdown",
      "source": [
        "# Apropiación\n",
        "\n",
        "Para los siguientes ejercicios puedes concatenar diferentes funciones de orden superior"
      ],
      "metadata": {
        "id": "AcwypC82Dcmt"
      }
    },
    {
      "cell_type": "markdown",
      "source": [
        "1. Obtener el promedio de los números pares de una lista"
      ],
      "metadata": {
        "id": "31oq6dVoHmvB"
      }
    },
    {
      "cell_type": "code",
      "source": [],
      "metadata": {
        "id": "s8KsGs3LHtw5"
      },
      "execution_count": null,
      "outputs": []
    },
    {
      "cell_type": "markdown",
      "source": [
        "\n",
        "\n",
        "---\n",
        "\n"
      ],
      "metadata": {
        "id": "T0TDyuaAHucS"
      }
    },
    {
      "cell_type": "markdown",
      "source": [
        "2. Obtener los números que son mayores al promedio de los números de una lista"
      ],
      "metadata": {
        "id": "6j6hdJFOHwYS"
      }
    },
    {
      "cell_type": "code",
      "source": [],
      "metadata": {
        "id": "rUQkehxQIPFp"
      },
      "execution_count": null,
      "outputs": []
    },
    {
      "cell_type": "markdown",
      "source": [
        "\n",
        "\n",
        "---\n",
        "\n"
      ],
      "metadata": {
        "id": "QLh64MlaIPkx"
      }
    },
    {
      "cell_type": "markdown",
      "source": [
        "3. Obtener el producto de los elementos de una lista que son divisibles por 3"
      ],
      "metadata": {
        "id": "wBW_M4IOIQiI"
      }
    },
    {
      "cell_type": "code",
      "source": [],
      "metadata": {
        "id": "tD3yK9mrIeXT"
      },
      "execution_count": null,
      "outputs": []
    },
    {
      "cell_type": "markdown",
      "source": [
        "\n",
        "\n",
        "---\n",
        "\n"
      ],
      "metadata": {
        "id": "syB9Bb3QIfO5"
      }
    },
    {
      "cell_type": "markdown",
      "source": [
        "4. Dado un diccionario de ventas por día, en el que la llave es el nombre del día y el valor el total de venta en ese día, encontrar el promedio de ventas diarias"
      ],
      "metadata": {
        "id": "IfqSLXpsIgeB"
      }
    },
    {
      "cell_type": "markdown",
      "source": [
        "\n",
        "\n",
        "---\n",
        "\n"
      ],
      "metadata": {
        "id": "ZqpaeybPJPrC"
      }
    },
    {
      "cell_type": "markdown",
      "source": [
        "5. Dada una lista de palabras, convertir a mayúscula aquellas palabras cuya longitud sea menor de 4 caracteres"
      ],
      "metadata": {
        "id": "CSMaJvVeJQoa"
      }
    },
    {
      "cell_type": "code",
      "source": [],
      "metadata": {
        "id": "SEcKkRxGOcR6"
      },
      "execution_count": null,
      "outputs": []
    },
    {
      "cell_type": "markdown",
      "source": [
        "\n",
        "\n",
        "---\n",
        "\n"
      ],
      "metadata": {
        "id": "lI6cYRInJxOi"
      }
    }
  ]
}