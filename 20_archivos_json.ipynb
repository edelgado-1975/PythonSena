{
  "nbformat": 4,
  "nbformat_minor": 0,
  "metadata": {
    "colab": {
      "private_outputs": true,
      "provenance": [],
      "include_colab_link": true
    },
    "kernelspec": {
      "name": "python3",
      "display_name": "Python 3"
    },
    "language_info": {
      "name": "python"
    }
  },
  "cells": [
    {
      "cell_type": "markdown",
      "metadata": {
        "id": "view-in-github",
        "colab_type": "text"
      },
      "source": [
        "<a href=\"https://colab.research.google.com/github/edelgado-1975/PythonSena/blob/main/20_archivos_json.ipynb\" target=\"_parent\"><img src=\"https://colab.research.google.com/assets/colab-badge.svg\" alt=\"Open In Colab\"/></a>"
      ]
    },
    {
      "cell_type": "markdown",
      "source": [
        "![M I S I Ó N.png](data:image/png;base64,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)"
      ],
      "metadata": {
        "id": "aY9T5HkBFdJN"
      }
    },
    {
      "cell_type": "markdown",
      "source": [
        "# Gestión de archivos JSON (JavaScript Object Notation)\n",
        "\n",
        "Los archivos JSON son usados para el almacenamiento e intercambio de datos estructurados.  Algunos usos comunes son:\n",
        "\n",
        "*   Intercambio de datos en aplicaciones web\n",
        "\n",
        "*   Almacenamiento de datos\n",
        "\n",
        "*   Configuración de aplicaciones\n",
        "\n",
        "*   Integración de sistemas\n"
      ],
      "metadata": {
        "id": "8CiSJ29CGVL5"
      }
    },
    {
      "cell_type": "markdown",
      "source": [
        "Además de JSON existen otros formatos para el almacenamiento e intercambio de datos como el **XML** eXtensible Markup Language.  El uso de un formato o del otro depende de las necesidades específicas, sin embargo, el formato JSON es actualmente el más popular.  \n",
        "\n",
        "Algunas razones:\n",
        "\n",
        "*   Tamaño\n",
        "*   Facilidad de uso\n",
        "*   Adopción por parte de APIs Web modernas\n"
      ],
      "metadata": {
        "id": "wJAYyCluL9hh"
      }
    },
    {
      "cell_type": "markdown",
      "source": [
        "En el siguiente ejemplo veremos ambos formatos de intercambio de datos y apreciaremos sus principales diferencias:\n",
        "\n",
        "**XML**\n",
        "\n",
        "\n",
        "```\n",
        "<libro>\n",
        "  <titulo>El Principito</titulo>\n",
        "  <autor>Antoine de Saint-Exupéry</autor>\n",
        "  <genero>Fábula</genero>\n",
        "  <publicacion>\n",
        "    <fecha>1943-04-06</fecha>\n",
        "    <editorial>\n",
        "      <nombre>Éditions Gallimard</nombre>\n",
        "      <ciudad>París</ciudad>\n",
        "      <pais>Francia</pais>\n",
        "    </editorial>\n",
        "  </publicacion>\n",
        "</libro>\n",
        "\n",
        "```\n",
        "**JSON**\n",
        "\n",
        "\n",
        "```\n",
        "{\n",
        "  \"titulo\": \"El Principito\",\n",
        "  \"autor\": \"Antoine de Saint-Exupéry\",\n",
        "  \"genero\": \"Fábula\",\n",
        "  \"publicacion\": {\n",
        "    \"fecha\": \"1943-04-06\",\n",
        "    \"editorial\": {\n",
        "      \"nombre\": \"Éditions Gallimard\",\n",
        "      \"ciudad\": \"París\",\n",
        "      \"pais\": \"Francia\"\n",
        "    }\n",
        "  }\n",
        "}\n",
        "```\n",
        "\n",
        "\n"
      ],
      "metadata": {
        "id": "jxBEXkuDN67C"
      }
    },
    {
      "cell_type": "markdown",
      "source": [
        "## Sintaxis\n",
        "\n",
        "La sintaxis general de un archivo JSON básico es la que se utiliza en los diccionarios en Python.\n",
        "\n",
        "```\n",
        "{\"clave1\": <valor1>, \"clave_n\": <valor_n>}\n",
        "```\n",
        "Ejemplo:  Almacenar en un archivo Json los datos id, nombre y fecha de nacimiento de una persona:\n",
        "\n",
        "\n",
        "\n",
        "```\n",
        "{\n",
        "  \"id\": 1,\n",
        "  \"nombre\": \"Juan\",\n",
        "  \"fecha_nac\": \"01/01/2005\"\n",
        "}\n",
        "```\n",
        "\n",
        "Como podemos ver, las claves siempre deben ser cadenas, pero los valores pueden ser de diversos tipos (números, cadenas, booleanos, arreglos o incluso otros objetos JSON.\n",
        "\n",
        "\n",
        "\n"
      ],
      "metadata": {
        "id": "MiifdVUgRbNt"
      }
    },
    {
      "cell_type": "markdown",
      "source": [
        "**Cuando el valor es una cadena**\n",
        "\n",
        "\n",
        "```\n",
        "  \"institucion\": \"SENA\"\n",
        "\n",
        "```\n",
        "**Cuando el valor es un número**\n",
        "\n",
        "\n",
        "```\n",
        "  \"edad\": 49\n",
        "\n",
        "```\n",
        "**Cuando el valor es un booleano**\n",
        "\n",
        "\n",
        "```\n",
        "  \"activo\": true\n",
        "\n",
        "```\n",
        "**Cuando el valor es un arreglo**\n",
        "\n",
        "\n",
        "```\n",
        "  \"deportes\": [\"Futbol\", \"Tenis\", \"Natación\"]\n",
        "\n",
        "```\n",
        "**Cuando el valor es otro Json**\n",
        "\n",
        "\n",
        "```\n",
        "\"direccion\": {\n",
        "              \"principal\": \"Av. Bolivar\",\n",
        "              \"numero\": 45,\n",
        "              \"ciudad\": \"Manizales\",\n",
        "              \"pais\": \"Colombia\"\n",
        "             }\n",
        "\n",
        "```"
      ],
      "metadata": {
        "id": "x7V8qry3UXNH"
      }
    },
    {
      "cell_type": "markdown",
      "source": [
        "## El módulo json\n",
        "\n",
        "Python nos proporciona un módulo incorporado por defecto para facilitar la gestión de archivos JSON.  La forma de importarlo es:\n",
        "\n",
        "\n",
        "```\n",
        "import json\n",
        "```\n",
        "\n",
        "\n"
      ],
      "metadata": {
        "id": "0IWbRV_uZ51Q"
      }
    },
    {
      "cell_type": "markdown",
      "source": [
        "### Convertir objetos JSON a diccionarios Python\n",
        "\n",
        "Dado que un objeto JSON es una cadena de texto, debemos encontrar la manera de obtener su contenido de manera estructurada y una buena manera de hacerlo es a través de los diccionarios (por aquello de su clave: valor).\n",
        "\n",
        "Para convertir una cadena de texto en formato JSON a un diccionario Python, el módulo json nos provee una función llamada **loads()**.  Miremos"
      ],
      "metadata": {
        "id": "L8ihP72xZsuR"
      }
    },
    {
      "cell_type": "code",
      "source": [
        "import json\n",
        "\n",
        "texto_json = \"\"\"{\n",
        "\n",
        "                  \"nombre\": \"Juan\",\n",
        "                  \"institucion\": \"SENA\",\n",
        "                  \"edad\": 49,\n",
        "                  \"activo\": true,\n",
        "                  \"deportes\": [\"Futbol\", \"Tenis\", \"Natación\"],\n",
        "                  \"direccion\": {\n",
        "                                \"principal\": \"Av. Bolivar\",\n",
        "                                \"numero\": 45,\n",
        "                                \"ciudad\": \"Manizales\",\n",
        "                                \"pais\": \"Colombia\"\n",
        "                                }\n",
        "                }\n",
        "              \"\"\"\n",
        "\n",
        "diccionario = json.loads(texto_json)\n",
        "print (type(diccionario))\n",
        "print (\"Diccionario completo:\\n\", diccionario)\n",
        "print (\"Solo la institución: \", diccionario[\"institucion\"])\n",
        "print (\"Solo la dirección: \", diccionario[\"direccion\"])\n",
        "print (\"Su segundo deporte favorito: \", diccionario[\"deportes\"][1])"
      ],
      "metadata": {
        "id": "0nkOpVxjbS_q"
      },
      "execution_count": null,
      "outputs": []
    },
    {
      "cell_type": "markdown",
      "source": [
        "### Convertir diccionarios Python a cadenas de texto con formato JSON\n",
        "\n",
        "El intercambio de datos entre aplicaciones nos exige sacar los datos de nuestro programa para ser transmitidos a otra aplicación y en esos casos es útil generar cadenas de texto en formato JSON.\n",
        "\n",
        "El módulo json nos proporciona la función **dumps()** que se encarga de esto:\n",
        "\n",
        "\n",
        "\n",
        "```\n",
        "texto_json = json.dumps(diccionario)\n",
        "```\n",
        "\n"
      ],
      "metadata": {
        "id": "g_YCo870eZxy"
      }
    },
    {
      "cell_type": "code",
      "source": [
        "dicci = {\"3\": \"tres\", \"2\": \"dos\"}\n",
        "print(dicci[\"3\"])"
      ],
      "metadata": {
        "id": "tu65NTFchiQp"
      },
      "execution_count": null,
      "outputs": []
    },
    {
      "cell_type": "code",
      "source": [
        "import json\n",
        "\n",
        "diccionario = {'marca': \"mazda\", \"modelo\": 2023, \"accesorios\": [\"ABS\", \"vidrios\", \"sensores\"]}\n",
        "\n",
        "texto_json = json.dumps(diccionario, indent=4)\n",
        "print (type (texto_json))\n",
        "print (texto_json)\n"
      ],
      "metadata": {
        "id": "FTcc9jhml-Wn"
      },
      "execution_count": null,
      "outputs": []
    },
    {
      "cell_type": "markdown",
      "source": [
        "Podemos crear el texto con una indentación que facilite su lectura incluyendo el parámetro opcional **indent** de la función dumps()\n",
        "\n",
        "\n",
        "```\n",
        "texto_json = json.dumps(diccionario, indent=4)\n",
        "```\n",
        "\n"
      ],
      "metadata": {
        "id": "Hd6MvdMRnRMo"
      }
    },
    {
      "cell_type": "code",
      "source": [
        "import json\n",
        "\n",
        "diccionario = {\"marca\": \"mazda\", \"modelo\": 2023, \"accesorios\": [\"ABS\", \"vidrios\", \"sensores\"]}\n",
        "\n",
        "texto_json = json.dumps(diccionario, indent=4)\n",
        "print (texto_json)\n"
      ],
      "metadata": {
        "id": "OpqiqDWhoKYq"
      },
      "execution_count": null,
      "outputs": []
    },
    {
      "cell_type": "markdown",
      "source": [
        "### Serialización y deserialización de objetos\n",
        "\n",
        "La serialización de objetos se refiere al proceso de tomar objetos en memoria y convertirlos en un formato apto para su almacenamiento y/o transmisión a través de la red.  Por su parte, la deserialización es el proceso contrario, toma un archivo o texto en formato apto para su transmisión por la red y lo convierte en un objeto dentro de la aplicación.\n",
        "\n",
        "Dado que los diccionarios son objetos, el proceso de serialización y deserialización ya lo hemos realizado antes.  Sin embargo, estos procesos los podemos aplicar también sobre instancias de clases definidas por el usuario.  Veamos"
      ],
      "metadata": {
        "id": "k8hJbknvq8FC"
      }
    },
    {
      "cell_type": "markdown",
      "source": [
        "#### Serialización\n"
      ],
      "metadata": {
        "id": "A9ae9XLxRTrC"
      }
    },
    {
      "cell_type": "code",
      "source": [
        "import json\n",
        "\n",
        "class Aprendiz:\n",
        "  def __init__(self, nombre, edad, sexo):\n",
        "    self.nombre = nombre\n",
        "    self.edad = edad\n",
        "    self.sexo = sexo\n",
        "\n",
        "aprendiz1 = Aprendiz (\"Juan\", 35, \"M\")\n",
        "aprendiz2 = Aprendiz (\"Lina\", 41, \"F\")\n",
        "\n",
        "#Serialización de los objetos\n",
        "serializado1 = json.dumps(aprendiz1.__dict__, indent=4) #convertimos el objeto a diccionario\n",
        "\n",
        "serializado2 = json.dumps(aprendiz2.__dict__, indent=4) #y lo pasamos a la función dumps\n",
        "\n",
        "print (\"objeto 1 serializado\\n\",serializado1)\n",
        "print (\"objeto 2 serializado\\n\",serializado2)\n",
        "\n"
      ],
      "metadata": {
        "id": "cL3N63IURXs7"
      },
      "execution_count": null,
      "outputs": []
    },
    {
      "cell_type": "markdown",
      "source": [
        "#### Deserialización"
      ],
      "metadata": {
        "id": "3s7RNrzVVoAd"
      }
    },
    {
      "cell_type": "code",
      "source": [
        "import json\n",
        "\n",
        "serializado1 = \"\"\"\n",
        " {\n",
        "    \"nombre\": \"Juan\",\n",
        "    \"edad\": 35,\n",
        "    \"sexo\": \"M\"\n",
        "}\n",
        "\"\"\"\n",
        "serializado2 = \"\"\"\n",
        " {\n",
        "    \"nombre\": \"Lina\",\n",
        "    \"edad\": 41,\n",
        "    \"sexo\": \"F\"\n",
        "}\n",
        "\"\"\"\n",
        "\n",
        "#Deserialización de los objetos\n",
        "dic1 = json.loads (serializado1)\n",
        "aprendiz1 = Aprendiz (dic1[\"nombre\"], dic1[\"edad\"], dic1[\"sexo\"])\n",
        "dic2 = json.loads (serializado2)\n",
        "aprendiz2 = Aprendiz (dic2[\"nombre\"], dic2[\"edad\"], dic2[\"sexo\"])\n",
        "\n",
        "print (f\"Datos del aprendiz1:\\nnombre:{aprendiz1.nombre} edad: {aprendiz1.edad} sexo: {aprendiz1.sexo}\")\n",
        "print (f\"Datos del aprendiz2:\\nnombre:{aprendiz2.nombre} edad: {aprendiz2.edad} sexo: {aprendiz2.sexo}\")\n"
      ],
      "metadata": {
        "id": "FSIUUASDV0LU"
      },
      "execution_count": null,
      "outputs": []
    },
    {
      "cell_type": "markdown",
      "source": [
        "## Archivos JSON externos\n",
        "\n",
        "La verdadera esencia de la Serialización/Deserialización se da cuando obtenemos la información de archivos externos y sacamos la información de nuestra aplicación hacia archivos externos.\n",
        "\n",
        "Los archivos JSON \"curiósamente\" tienen la extensión **.json**.  \n",
        "\n",
        "Para nuestra práctica vamos a crear un archivo llamado **auditoria.json**  El contenido del archivo es el siguiente:\n",
        "\n",
        "\n",
        "```\n",
        "[\n",
        "  {\n",
        "    \"ip\": \"192.228.17.57\",\n",
        "    \"fecha\": \"2023-01-01\",\n",
        "    \"hora\": \"17:50:12\",\n",
        "    \"operacion\": \"lectura\",\n",
        "    \"autenticado\": true\n",
        "  },\n",
        "  {\n",
        "    \"ip\": \"192.228.17.82\",\n",
        "    \"fecha\": \"2023-01-01\",\n",
        "    \"hora\": \"17:51:01\",\n",
        "    \"operacion\": \"escritura\",\n",
        "    \"autenticado\": false\n",
        "  },\n",
        "  {\n",
        "    \"ip\": \"192.228.17.93\",\n",
        "    \"fecha\": \"2023-01-01\",\n",
        "    \"hora\": \"17:52:23\",\n",
        "    \"operacion\": \"escritura\",\n",
        "    \"autenticado\": true\n",
        "  }\n",
        "]\n",
        "```\n",
        "\n"
      ],
      "metadata": {
        "id": "bhoGG0qOX7L8"
      }
    },
    {
      "cell_type": "markdown",
      "source": [
        "### Lectura de un archivo JSON\n",
        "\n",
        "\n",
        "\n"
      ],
      "metadata": {
        "id": "yxrwdhlfh4Xz"
      }
    },
    {
      "cell_type": "code",
      "source": [
        "import json\n",
        "\n",
        "with open(\"auditoria.json\") as archivo_json:\n",
        "  audit = json.load(archivo_json)\n",
        "\n",
        "print(audit)"
      ],
      "metadata": {
        "id": "9B3iXz9Ri3db"
      },
      "execution_count": null,
      "outputs": []
    },
    {
      "cell_type": "markdown",
      "source": [
        "La función **load()** del módulo json permite hacer la lectura del archivo .json y devuelve el objeto adecuado.  En este caso, una lista de diccionarios.  En este momento ya hemos realizado la deserialización tomando como fuente un archivo .json externo.  Una vez deserializado, podemos realizar cualquier cantidad de operaciones.\n",
        "\n",
        "Ejemplo, Mostrar la información de los registros no autenticados:"
      ],
      "metadata": {
        "id": "RZSyDaC8loNU"
      }
    },
    {
      "cell_type": "code",
      "source": [
        "import json\n",
        "\n",
        "with open(\"auditoria.json\") as archivo_json:\n",
        "  audit = json.load(archivo_json)\n",
        "\n",
        "print (\"No autenticados\")\n",
        "for registro in audit:\n",
        "  if registro[\"autenticado\"] == False:\n",
        "      print (\"ip:\",registro[\"ip\"])\n",
        "      print (\"fecha:\",registro[\"fecha\"])\n",
        "      print (\"hora:\",registro[\"hora\"])\n",
        "      print (\"operacion:\",registro[\"operacion\"])\n",
        "      print (\"autenticado:\",registro[\"ip\"])"
      ],
      "metadata": {
        "id": "_B-WtC9WqgzN"
      },
      "execution_count": null,
      "outputs": []
    },
    {
      "cell_type": "markdown",
      "source": [
        "### Escritura de un archivo JSON\n",
        "\n",
        "Para escribir en un archivo .json usamos la función **dump()** del módulo json dentro del gestor de contexto.  Miremos\n",
        "\n"
      ],
      "metadata": {
        "id": "Seu-C8j9mNnt"
      }
    },
    {
      "cell_type": "code",
      "source": [],
      "metadata": {
        "id": "W64fcUwEyKdO"
      },
      "execution_count": null,
      "outputs": []
    },
    {
      "cell_type": "markdown",
      "source": [
        "Supongamos que queremos llevar las notas de los aprendices a un archivo .json"
      ],
      "metadata": {
        "id": "1xf4OHFttDCw"
      }
    },
    {
      "cell_type": "code",
      "source": [
        "import json\n",
        "\n",
        "aprendices = [\n",
        "              {\"nombre\": \"Juan\",\n",
        "               \"grupo\": \"25091\",\n",
        "               \"competencias\": {\"etica\": \"A\",\"Ingles\":\"A\"}\n",
        "              },\n",
        "              {\"nombre\": \"Pedro\",\n",
        "               \"grupo\": \"25093\",\n",
        "               \"competencias\": {\"etica\": \"A\",\"Ingles\":\"D\"}\n",
        "              },\n",
        "              {\"nombre\": \"Lina\",\n",
        "               \"grupo\": \"25091\",\n",
        "               \"competencias\": {\"etica\": \"D\",\"Ingles\":\"A\"}\n",
        "              }\n",
        "             ]\n",
        "with open(\"aprendices.json\",\"w\") as archivo_json:\n",
        "    json.dump(aprendices,archivo_json, indent=4)"
      ],
      "metadata": {
        "id": "WVf42d4Av9gT"
      },
      "execution_count": null,
      "outputs": []
    },
    {
      "cell_type": "markdown",
      "source": [
        "La magia ocurre en las líneas 18 y 19.  La línea 18 abre o crea el archivo y en la 19 se envía la información de la lista al archivo."
      ],
      "metadata": {
        "id": "QVPzVh6mwreC"
      }
    },
    {
      "cell_type": "markdown",
      "source": [
        "#Apropiación"
      ],
      "metadata": {
        "id": "sDRmhJ1r0u09"
      }
    },
    {
      "cell_type": "markdown",
      "source": [
        "Cree una aplicación con interfaz gráfica Tkinter que contenga un botón con el título \"Exportar Datos\".  Al usuario dar click en este botón, la aplicación debe obtener todos los registros de la tabla \"instructor\" que se encuentra en la base de datos \"sena\" de SQLite.  Estos registros deben ser exportados a un archivo JSON con el nombre \"instructores.json\""
      ],
      "metadata": {
        "id": "6ICbKCPU06Db"
      }
    },
    {
      "cell_type": "code",
      "source": [
        "contenido_bd = [(111,\"Omar\"), (222, \"Liliana\"),(333, \"Wilder\"),(444, \"Guillermo\")]\n",
        "preparo_json = [{\"id\":registro[0], \"nombre\":registro[1]} for registro in contenido_bd]\n",
        "print (preparo_json)"
      ],
      "metadata": {
        "id": "fMSy64-c4JnT"
      },
      "execution_count": null,
      "outputs": []
    },
    {
      "cell_type": "markdown",
      "source": [
        "\n",
        "\n",
        "---\n",
        "\n"
      ],
      "metadata": {
        "id": "vWHgHIyWQHnF"
      }
    }
  ]
}