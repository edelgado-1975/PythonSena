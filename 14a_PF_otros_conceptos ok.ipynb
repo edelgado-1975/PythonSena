{
  "nbformat": 4,
  "nbformat_minor": 0,
  "metadata": {
    "colab": {
      "private_outputs": true,
      "provenance": [],
      "include_colab_link": true
    },
    "kernelspec": {
      "name": "python3",
      "display_name": "Python 3"
    },
    "language_info": {
      "name": "python"
    }
  },
  "cells": [
    {
      "cell_type": "markdown",
      "metadata": {
        "id": "view-in-github",
        "colab_type": "text"
      },
      "source": [
        "<a href=\"https://colab.research.google.com/github/edelgado-1975/PythonSena/blob/main/14a_PF_otros_conceptos%20ok.ipynb\" target=\"_parent\"><img src=\"https://colab.research.google.com/assets/colab-badge.svg\" alt=\"Open In Colab\"/></a>"
      ]
    },
    {
      "cell_type": "markdown",
      "source": [
        "![M I S I Ó N.png](data:image/png;base64,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)"
      ],
      "metadata": {
        "id": "TNSN-gmh9IAm"
      }
    },
    {
      "cell_type": "markdown",
      "source": [
        "# Programación Funcional en Python\n"
      ],
      "metadata": {
        "id": "Rav-C_4Dlwf1"
      }
    },
    {
      "cell_type": "markdown",
      "source": [
        "## Decoradores (Funciones Decoradoras)\n",
        "\n",
        "Las funciones decoradoras envuelven la ejecución de otra función y permiten extender su comportamiento.  \n",
        "\n"
      ],
      "metadata": {
        "id": "2QojZblfOebv"
      }
    },
    {
      "cell_type": "markdown",
      "source": [
        "Supongamos que queremos ampliar el comportamiento de una función existente cualquiera simplemente añadiendo una línea antes de su ejecución y otra línea despues de su normal ejecución.  El código sería algo así:"
      ],
      "metadata": {
        "id": "A_XMHRrFnTs8"
      }
    },
    {
      "cell_type": "code",
      "source": [
        "def mi_decorador (funcion_a_decorar):  #creamos el decorador y recibe la funcion a decorar\n",
        "    print (\"inicio ___________________________\") #extensión de funcionalidad (decoraciones)\n",
        "    funcion_a_decorar()   #invocación de la función original\n",
        "    print (\"_______________________________fin\") #extensión de funcionalidad (decoraciones)\n",
        "\n",
        "def saludo():\n",
        "  print (\"Hola Mundo Decorador\")\n",
        "\n",
        "def despedida():\n",
        "  print (\"Adios Mundo Decorador\")\n",
        "\n",
        "\n",
        "mi_decorador(saludo)\n",
        "mi_decorador(despedida)\n"
      ],
      "metadata": {
        "id": "vyP9NUFVyLPS"
      },
      "execution_count": null,
      "outputs": []
    },
    {
      "cell_type": "markdown",
      "source": [
        "Hasta este punto hemos logrado el objetivo, pero no hemos usado los decoradores.  "
      ],
      "metadata": {
        "id": "4oUPVXxMomvq"
      }
    },
    {
      "cell_type": "markdown",
      "source": [
        "La sintaxis para crear un decorador es igual a la sintaxis para definir una función, por eso le llaman funciones decoradoras.  \n",
        "\n",
        "La \"invocación\" de una función decoradora se hace con el signo **@** y el nombre de la función decoradora.  Esto se debe realizar justo antes de la declaración de la función a ser decorada."
      ],
      "metadata": {
        "id": "puScdosZokZL"
      }
    },
    {
      "cell_type": "markdown",
      "source": [
        "Ya hemos usado decoradores antes en nuestros programas.  Recordemos algunos:\n",
        "\n",
        "@classmethod\n",
        "\n",
        "@staticmethod\n",
        "\n",
        "@abstractmethod"
      ],
      "metadata": {
        "id": "wzgMxBnRdhY5"
      }
    },
    {
      "cell_type": "markdown",
      "source": [
        "Ahora aprenderemos a crear nuestros propios decoradores usando funciones decoradoras.\n",
        "\n",
        "Sintaxis general:\n",
        "\n",
        "\n",
        "\n",
        "```\n",
        "def decorador (funcion):\n",
        "  def decorar (parametros_funcion):\n",
        "     #usamos y extendemos el comportamiento\n",
        "     #de la funcion\n",
        "  retornamos decorar\n",
        "\n",
        "\n",
        "@decorador\n",
        "def funcion_a_decorar():\n",
        "   codigo de la funcion\n",
        "```\n",
        "\n"
      ],
      "metadata": {
        "id": "VjMCJzLcd4_Z"
      }
    },
    {
      "cell_type": "markdown",
      "source": [
        "Presentamos el mismo ejemplo, pero esta vez usando decoradores:"
      ],
      "metadata": {
        "id": "xUjegFksfWtQ"
      }
    },
    {
      "cell_type": "code",
      "source": [
        "import math\n",
        "def mi_decorador (funcion_a_decorar):  #creamos el decorador y recibe la funcion a decorar\n",
        "  def decoracion(*args): #funcion interna que extiende la funcionalidad (decora)\n",
        "    print (\"inicio ___________________________\") #extensión de funcionalidad (decoraciones)\n",
        "    funcion_a_decorar(*args)   #invocación de la función original\n",
        "    print (\"_______________________________fin\") #extensión de funcionalidad (decoraciones)\n",
        "  return decoracion  #retorno de la función decorada\n",
        "\n",
        "\n",
        "@mi_decorador\n",
        "def saludo(nombre):\n",
        "  print (\"Hola Mundo Decorador \", nombre)\n",
        "\n",
        "@mi_decorador\n",
        "def despedida():\n",
        "  print (\"Adios Mundo Decorador\")\n",
        "\n",
        "@mi_decorador\n",
        "def mostrar_pi():\n",
        "  print (math.pi)\n",
        "\n",
        "\n",
        "saludo(\"Juan\")\n",
        "despedida()\n",
        "\n",
        "#mostrar_pi()\n",
        "\n"
      ],
      "metadata": {
        "id": "qgTZQ7R7ZVrh"
      },
      "execution_count": null,
      "outputs": []
    },
    {
      "cell_type": "markdown",
      "source": [
        "Como podemos ver, en las líneas 8 y 12 se invoca al decorador (función decoradora) y la función que se declara inmediatamente después es la misma que se envía como parámetro.  De esta manera, las funciones originales (saludo() y despedida()) quedan decoradas fácilmente."
      ],
      "metadata": {
        "id": "lwpMz8u1qUVo"
      }
    },
    {
      "cell_type": "markdown",
      "source": [
        "**Decorando funciones que reciben argumentos**\n",
        "\n",
        "Podemos enviar los parámetros de la función a decorar como parámetros de la función interna de la función decoradora.  Miremos:"
      ],
      "metadata": {
        "id": "DQkOzja8vfce"
      }
    },
    {
      "cell_type": "code",
      "source": [
        "def mi_decorador (funcion_a_decorar):\n",
        "  def decoracion(nombre): #acá recibimos los parámetros de la función a decorar\n",
        "    print (\"inicio ___________________________\")\n",
        "    funcion_a_decorar(nombre)\n",
        "    print (\"_______________________________fin\")\n",
        "  return decoracion\n",
        "\n",
        "@mi_decorador\n",
        "def saludo(nombre):\n",
        "  print (\"Hola Mundo Decorador\", nombre)\n",
        "\n",
        "@mi_decorador\n",
        "def despedida(nombre):\n",
        "  print (\"Adios Mundo Decorador\", nombre)\n",
        "\n",
        "saludo(\"juan\")\n",
        "#despedida(\"pedro\")"
      ],
      "metadata": {
        "id": "oZgm1RMtvgV3"
      },
      "execution_count": null,
      "outputs": []
    },
    {
      "cell_type": "markdown",
      "source": [
        "Pero, qué ocurre si como es natural a la hora de crear decoradores, **no sabemos qué funciones los van a utilizar y mucho menos los parámetros que esas funciones van a tener?**  \n",
        "\n",
        "\n",
        "\n",
        "\n",
        "---\n",
        "\n"
      ],
      "metadata": {
        "id": "FV40loQaxLAO"
      }
    },
    {
      "cell_type": "code",
      "source": [
        "def mi_decorador (funcion_a_decorar):\n",
        "  def decoracion(*args): #acá recibimos los parámetros de la función a decorar\n",
        "    print (\"inicio ___________________________\")\n",
        "    funcion_a_decorar(*args)\n",
        "    print (\"_______________________________fin\")\n",
        "  return decoracion\n",
        "\n",
        "@mi_decorador\n",
        "def saludo():\n",
        "  print (\"Hola\")\n",
        "\n",
        "@mi_decorador\n",
        "def saludo_personal(nombre):\n",
        "  print (\"Hola\", nombre)\n",
        "\n",
        "@mi_decorador\n",
        "def saludo_personal_formal(nombre, titulo_cortesia):\n",
        "  print (\"Hola\", titulo_cortesia, nombre)\n",
        "\n",
        "saludo()\n",
        "saludo_personal(\"Carlos\")\n",
        "saludo_personal_formal(\"Diego\", \"Doctor\")\n"
      ],
      "metadata": {
        "id": "roscvg-QxdJg"
      },
      "execution_count": null,
      "outputs": []
    },
    {
      "cell_type": "markdown",
      "source": [
        "**Cree una función decoradora que se invoque de la siguiente manera:**\n",
        "\n",
        "\n",
        "---\n",
        "\n",
        "\n",
        "\n",
        "```\n",
        "@solopositivos\n",
        "```\n",
        "Este decorador se asegurará de que todos los parámetros que reciba la función decorada sean números positivos, en caso contrario, debe lanzar una excepción de tipo TypeError\n",
        "\n",
        "\n",
        "\n",
        "\n",
        "\n"
      ],
      "metadata": {
        "id": "yYNTg_c1krkW"
      }
    },
    {
      "cell_type": "code",
      "source": [
        "# realice la función decoradora en las siguientes líneas\n",
        "def solopositivos(funcion):\n",
        "  def interna(*args):\n",
        "    for x in args:\n",
        "      if not isinstance(x, (int, float)) or x < 0:\n",
        "        raise TypeError(\"Al menos uno de los parámetros no es un número o es un número negativo\")\n",
        "    return funcion(*args)\n",
        "  return interna\n",
        "\n",
        "\n",
        "@solopositivos\n",
        "def dividir(a, b):\n",
        "  return a/b\n",
        "\n",
        "@solopositivos\n",
        "def sumar(x, y):\n",
        "  print (x + y)\n",
        "\n",
        "@solopositivos\n",
        "def multiplicar(x, y):\n",
        "  print (x * y)\n",
        "\n",
        "\n",
        "print(dividir(4,1))\n"
      ],
      "metadata": {
        "id": "X9azPG8WOV1O"
      },
      "execution_count": null,
      "outputs": []
    },
    {
      "cell_type": "markdown",
      "source": [
        "## Generadores (Funciones Generadoras)\n",
        "\n",
        "Los generadores son funciones especiales que devuelven una secuencia de valores de uno en uno para ser usados.  Debido a que cada valor se produce en el momento en que se necesita, las funciones generadoras son una forma eficiente de gestionar grandes volúmenes de datos.  Las funciones generadoras crean un Iterable a través del cual se puede acceder a los valores generados."
      ],
      "metadata": {
        "id": "r0_HBevQMwbm"
      }
    },
    {
      "cell_type": "markdown",
      "source": [
        "La sintaxis para crear un generador es simplemente dentro de la función, anteceder el valor generado por la palabra reservada **yield** de esta manera la función sabrá que dicho valor no es retornado como el resultado que arroja la función sino como un valor de la secuencia que se genera cada vez que se itera sobre la función.  Miremos"
      ],
      "metadata": {
        "id": "bKibNIosmZRF"
      }
    },
    {
      "cell_type": "code",
      "source": [
        "def generador_de_pares(cantidad):\n",
        "  for x in range(cantidad):\n",
        "    if x % 2 == 0:\n",
        "      yield x   #Acá se crea el generador donde cada número generado es un número par"
      ],
      "metadata": {
        "id": "OZikiDUmm209"
      },
      "execution_count": null,
      "outputs": []
    },
    {
      "cell_type": "markdown",
      "source": [
        "Para hacer uso del generador, debemos usar este como un Iterable tradicional.  "
      ],
      "metadata": {
        "id": "2Nkb6ICsnRj_"
      }
    },
    {
      "cell_type": "code",
      "source": [
        "def generador_de_pares(cantidad):\n",
        "  for x in range(2, cantidad):\n",
        "    if x % 2 == 0:\n",
        "      yield x\n",
        "\n",
        "mi_iterador = generador_de_pares(20)\n",
        "print (type(mi_iterador))\n",
        "print (mi_iterador)\n",
        "print (next(mi_iterador))\n",
        "print (next(mi_iterador))\n"
      ],
      "metadata": {
        "id": "3RBCg-LUneLk"
      },
      "execution_count": null,
      "outputs": []
    },
    {
      "cell_type": "code",
      "source": [
        "print (next(mi_iterador))"
      ],
      "metadata": {
        "id": "RLKEDReZHNWv"
      },
      "execution_count": null,
      "outputs": []
    },
    {
      "cell_type": "markdown",
      "source": [
        "También podemos acceder a los valores generados dentro de un ciclo como si se tratara del uso de la función range()"
      ],
      "metadata": {
        "id": "BCC91E07oVBl"
      }
    },
    {
      "cell_type": "code",
      "source": [
        "def generador_de_pares(cantidad):\n",
        "  for x in range(cantidad):\n",
        "    if x % 2 == 0:\n",
        "      yield x\n",
        "\n",
        "for num in generador_de_pares(20):\n",
        "  print (num)"
      ],
      "metadata": {
        "id": "dg6hC2SemXod"
      },
      "execution_count": null,
      "outputs": []
    },
    {
      "cell_type": "markdown",
      "source": [
        "Supongamos que queremos una función que nos devuelva los primeros N números primos.  Una forma de realizarla sería la siguiente:\n"
      ],
      "metadata": {
        "id": "dpxgxXdP5-3X"
      }
    },
    {
      "cell_type": "code",
      "source": [
        "def primos(n):\n",
        "  def es_primo(num):\n",
        "    for x in range (2, num):\n",
        "      if num % x == 0:\n",
        "        return False\n",
        "    return True\n",
        "\n",
        "  lista = []\n",
        "  for num in range(2, n+1):\n",
        "    if es_primo(num):\n",
        "      lista.append(num)\n",
        "  return lista\n",
        "\n",
        "print (primos(100000))"
      ],
      "metadata": {
        "id": "675Srlyv6NbQ"
      },
      "execution_count": null,
      "outputs": []
    },
    {
      "cell_type": "markdown",
      "source": [
        "La solución anterior crea una lista con todos los números primos.  Ocupando una gran cantidad de memoria al mismo tiempo.  La cantidad de memoria usada depende directamente del parámetro N ingresado.  \n",
        "\n",
        "Miremos esta misma solución con generadores:"
      ],
      "metadata": {
        "id": "I1Q4PZruDIjO"
      }
    },
    {
      "cell_type": "code",
      "source": [
        "def primos(n):\n",
        "  def es_primo(num):\n",
        "    for x in range (2, num):\n",
        "      if num % x == 0:\n",
        "        return False\n",
        "    return True\n",
        "\n",
        "  #lista = []  No necesito una lista\n",
        "  for num in range(2, n+1):\n",
        "    if es_primo(num):\n",
        "      #lista.append(num)\n",
        "      yield num #Acá generamos el número primo y lo entregamos sobre pedido\n",
        "  #return lista\n",
        "\n",
        "for p in primos(100000):\n",
        "  print (p)"
      ],
      "metadata": {
        "id": "wQRENGvBEQKm"
      },
      "execution_count": null,
      "outputs": []
    },
    {
      "cell_type": "markdown",
      "source": [
        "Si quisiera procesar cada número primo de la secuencia, el trabajo con generadores sería más eficiente ya que solo entrega el número primo de la secuencia cuando se le solicita, sin ocupar una gran memoria.\n",
        "\n",
        "El uso de generadores es más eficiente en términos de uso de memoria y procesamiento de datos cuando:\n",
        "\n",
        "\n",
        "*   Se trabaja con grandes conjuntos de datos\n",
        "*   Se requiere la generación infinita de valores\n",
        "*   Se trabaja con conjuntos de datos que no se pueden almacenar completamente en la memoria\n",
        "\n",
        "\n",
        "\n"
      ],
      "metadata": {
        "id": "WsGi0HnwGkI9"
      }
    },
    {
      "cell_type": "markdown",
      "source": [
        "**Cree un generador que reciba un texto y genere cada uno de los caracteres que solo se encuentran una vez en el texto**  Luego utilice ese generador dentro del programa principal para comprobar su funcionamiento.\n",
        "\n",
        "\n",
        "---\n",
        "\n"
      ],
      "metadata": {
        "id": "G2MhZS-JsOzU"
      }
    },
    {
      "cell_type": "code",
      "source": [
        "def unicas_letras(texto):\n",
        "  for x in texto:\n",
        "    if texto.count(x) == 1:\n",
        "      yield x\n",
        "\n",
        "for a in unicas_letras(input(\"ingrese texto\")):\n",
        "  print (a)"
      ],
      "metadata": {
        "id": "L0bvHMVqsOZs"
      },
      "execution_count": null,
      "outputs": []
    },
    {
      "cell_type": "markdown",
      "source": [
        "## List Comprehensions (comprensión de listas)"
      ],
      "metadata": {
        "id": "8lGsCW7mNAtk"
      }
    },
    {
      "cell_type": "markdown",
      "source": [
        "Podemos crear listas con los valores generados a partir de otros objetos iterables de una forma concisa y eficiente.  Generalmente necesitaremos de una sola línea para ello.  Esto lo denominamos comprensión de listas.  Miremos:\n",
        "  "
      ],
      "metadata": {
        "id": "CirnpqK8M6vm"
      }
    },
    {
      "cell_type": "markdown",
      "source": [
        "Queremos una función que reciba un número y devuelva una lista con los números pares comprendidos entre 1 y el número recibido.\n",
        "\n",
        "**Sin comprensión de listas:**"
      ],
      "metadata": {
        "id": "a3kWHFep0r3V"
      }
    },
    {
      "cell_type": "code",
      "source": [
        "def pares(num):\n",
        "  par = []\n",
        "  for n in range(1, num+1):\n",
        "    if n % 2 == 0:\n",
        "      par.append(n)\n",
        "  return par\n",
        "\n",
        "print(pares(20))"
      ],
      "metadata": {
        "id": "Ae1pSn0K0-uf"
      },
      "execution_count": null,
      "outputs": []
    },
    {
      "cell_type": "markdown",
      "source": [
        "**Con comprensión de listas**"
      ],
      "metadata": {
        "id": "36pOT5241gM0"
      }
    },
    {
      "cell_type": "code",
      "source": [
        "def pares (num):\n",
        "  #return  list(x for x in range(1,num+1) if x % 2 == 0)\n",
        "  return  [ for n in range(1,num+1)]\n",
        "\n",
        "print (pares(20))"
      ],
      "metadata": {
        "id": "8yynsG_o1lP0"
      },
      "execution_count": null,
      "outputs": []
    },
    {
      "cell_type": "markdown",
      "source": [
        "Como podemos apreciar en este sencillo ejemplo, pasamos de 5 líneas de código a solo 1 línea de código usando la comprensión de listas."
      ],
      "metadata": {
        "id": "dw5O_HG82Tdl"
      }
    },
    {
      "cell_type": "markdown",
      "source": [
        "La sintaxis en la comprensión de listas es la siguiente:\n",
        "\n",
        "\n",
        "```\n",
        "[expresion for variable in iterable]\n",
        "```\n",
        "La condición es opcional,  en caso de existir, la sintaxis sería:\n",
        "\n",
        "\n",
        "```\n",
        "[expresion for variable in colección if condición]\n",
        "```"
      ],
      "metadata": {
        "id": "N8W5Pl4H2jod"
      }
    },
    {
      "cell_type": "markdown",
      "source": [
        "Crear e imprimir una lista con los primeros 10 números"
      ],
      "metadata": {
        "id": "6ObKNW7r3FD8"
      }
    },
    {
      "cell_type": "code",
      "source": [
        "x = [i for i in range (1,11)]\n",
        "print(type(x))\n",
        "print (x)"
      ],
      "metadata": {
        "id": "xwZRU92A3PQn"
      },
      "execution_count": null,
      "outputs": []
    },
    {
      "cell_type": "markdown",
      "source": [
        "Crear e imprimir una lista con los números múltiplos de 3 que se encuentran entre el 1 y el 100"
      ],
      "metadata": {
        "id": "rhNjlWII3tpE"
      }
    },
    {
      "cell_type": "code",
      "source": [
        "res = [x for x in range(1,10) if x % 3 == 0 and x > 5 ]\n",
        "print (res)"
      ],
      "metadata": {
        "id": "1XrBdKd04L4v"
      },
      "execution_count": null,
      "outputs": []
    },
    {
      "cell_type": "markdown",
      "source": [
        "El iterable del for puede ser de cualquier tipo, no solamente de tipo range.  Miremos:\n",
        "\n",
        "Ejemplo Iterable tipo lista:"
      ],
      "metadata": {
        "id": "uy_YW-L54nYt"
      }
    },
    {
      "cell_type": "code",
      "source": [
        "lista = [2,5,6,8,9,0,11,4]\n",
        "res = [x for x in lista if x % 2 == 0]\n",
        "print (res)"
      ],
      "metadata": {
        "id": "Nz1PCt0k5wv-"
      },
      "execution_count": null,
      "outputs": []
    },
    {
      "cell_type": "markdown",
      "source": [
        "Ejemplo Iterable tipo tupla:"
      ],
      "metadata": {
        "id": "Xg-_dFaK6GVk"
      }
    },
    {
      "cell_type": "code",
      "source": [
        "tupla = (2,5,6,8,9,0,11,4)\n",
        "res = [x for x in tupla if x % 2 == 0 else \"a\"]\n",
        "print (res)"
      ],
      "metadata": {
        "id": "mgtxSzHX6OIk"
      },
      "execution_count": null,
      "outputs": []
    },
    {
      "cell_type": "code",
      "source": [
        "numbers = [1, 2, 3, 4, 5, 6, 7, 8, 9, 10]\n",
        "\n",
        "even_odd = ['even' for num in numbers if num % 2 == 0 else 'odd']\n",
        "\n",
        "print(even_odd)"
      ],
      "metadata": {
        "id": "Kobu0fZHmzXm"
      },
      "execution_count": null,
      "outputs": []
    },
    {
      "cell_type": "markdown",
      "source": [
        "Ejemplo Iterable tipo conjunto:"
      ],
      "metadata": {
        "id": "Ob5MuPti6Wic"
      }
    },
    {
      "cell_type": "code",
      "source": [
        "conjunto = {2,5,6,8,9,0,11,4}\n",
        "res = [x for x in conjunto if x % 2 == 0]\n",
        "print (res)"
      ],
      "metadata": {
        "id": "--OocQLA6aiU"
      },
      "execution_count": null,
      "outputs": []
    },
    {
      "cell_type": "markdown",
      "source": [
        "Ejemplo Iterable tipo diccionario:"
      ],
      "metadata": {
        "id": "CeZvSMn96jLk"
      }
    },
    {
      "cell_type": "code",
      "source": [
        "diccionario = {1:2, 2:5, 3:6, 4:8, 5:9, 6:0, 7:11, 8:4}\n",
        "res = [x for x in diccionario.values() if x % 2 == 0]\n",
        "print (res)"
      ],
      "metadata": {
        "id": "tLJKRBrt7U1l"
      },
      "execution_count": null,
      "outputs": []
    },
    {
      "cell_type": "markdown",
      "source": [
        "Ejemplo Iterable tipo generador"
      ],
      "metadata": {
        "id": "QADGLMxj8Ck9"
      }
    },
    {
      "cell_type": "code",
      "source": [
        "def gen():\n",
        "  for i in range(10):\n",
        "    yield i\n",
        "\n",
        "generador = gen()\n",
        "res = [x for x in generador if x % 2 == 0]\n",
        "print (res)"
      ],
      "metadata": {
        "id": "GMmLeZU88LId"
      },
      "execution_count": null,
      "outputs": []
    },
    {
      "cell_type": "markdown",
      "source": [
        "**Cree una función que reciba un diccionario cuyas llaves son los nombres de estudiantes y valores sus edades.  Esta función debe retornar una lista por comprensión con los nombres de los estudiantes menores de edad.**\n",
        "\n",
        "\n",
        "---\n",
        "\n"
      ],
      "metadata": {
        "id": "im6lKBLV9sM1"
      }
    },
    {
      "cell_type": "code",
      "source": [
        "def funcion1(estudiantes):\n",
        "  return list([est for est in estudiantes.keys() if estudiantes[est] < 18])\n",
        "\n",
        "dicc = {\"juan\":20,\"luis\":10,\"diego\":24,\"lina\":16,\"carlos\":17}\n",
        "print (funcion1(dicc))"
      ],
      "metadata": {
        "id": "fGPxNdbK_Ift"
      },
      "execution_count": null,
      "outputs": []
    },
    {
      "cell_type": "markdown",
      "source": [
        "**Cree una función que reciba una lista de palabras y retorne una lista por comprensión de la longitud de cada palabra.  Ejemplo, si la lista que recibe es [\"casa\", \"uno\", \"radioactiva\"] la lista devuelta debe ser   [4, 3, 11]**\n",
        "\n",
        "\n",
        "---\n",
        "\n"
      ],
      "metadata": {
        "id": "bb85nmhpAea9"
      }
    },
    {
      "cell_type": "code",
      "source": [
        "def devolver_longitud_palabras(palabras):\n",
        "  return [len(palabra)  for palabra in palabras]\n",
        "\n",
        "print (devolver_longitud_palabras([\"sena\", \"armenia\", \"comida\"]))"
      ],
      "metadata": {
        "id": "J-99HL4eBvgt"
      },
      "execution_count": null,
      "outputs": []
    },
    {
      "cell_type": "markdown",
      "source": [
        "**Crear una lista por comprensión de números pares a partir de otra lista por comprensión creada con las potencias de 2 de los primeros 10 números.  Use una sola línea de código para crear las listas y comprobarlas**\n",
        "\n",
        "\n",
        "---\n",
        "\n"
      ],
      "metadata": {
        "id": "4To2HqvUDJFU"
      }
    },
    {
      "cell_type": "code",
      "source": [
        "print([x for x in [num**2 for num in range(1,11)]if x % 2 == 0])"
      ],
      "metadata": {
        "id": "gIzTTMvWDjam"
      },
      "execution_count": null,
      "outputs": []
    },
    {
      "cell_type": "markdown",
      "source": [
        "Las listas por comprensión no solo generan listas, de manera análoga pueden generar otros tipos de colecciones.\n",
        "\n",
        "Ejemplo generando una tupla:"
      ],
      "metadata": {
        "id": "frbvr3ELEc69"
      }
    },
    {
      "cell_type": "code",
      "source": [
        "mi_tupla = tuple(x for x in range (10))\n",
        "print (type(mi_tupla))\n",
        "print (mi_tupla)"
      ],
      "metadata": {
        "id": "hwdAKeD2EqeH"
      },
      "execution_count": null,
      "outputs": []
    },
    {
      "cell_type": "markdown",
      "source": [
        "Ejemplo generando un conjunto:"
      ],
      "metadata": {
        "id": "mxtNFr0lFrSm"
      }
    },
    {
      "cell_type": "code",
      "source": [
        "mi_conjunto = {x for x in range (10)}\n",
        "print (type(mi_conjunto))\n",
        "print (mi_conjunto)"
      ],
      "metadata": {
        "id": "5qEnACuEFvrs"
      },
      "execution_count": null,
      "outputs": []
    },
    {
      "cell_type": "markdown",
      "source": [
        "Ejemplo generando un diccionario:"
      ],
      "metadata": {
        "id": "13jl8qwFGT3E"
      }
    },
    {
      "cell_type": "code",
      "source": [
        "mi_diccionario = {x: chr(x) for x in range (97,123)}\n",
        "print (type(mi_diccionario))\n",
        "print (mi_diccionario)"
      ],
      "metadata": {
        "id": "DrSH0bPjGWqs"
      },
      "execution_count": null,
      "outputs": []
    },
    {
      "cell_type": "markdown",
      "source": [
        "**Cree una función que reciba dos listas (nombres y telefonos) la función debe retornar un diccionario por comprensión con los nombres como llaves y los teléfonos como valores siempre y cuando las listas recibidas de nombres y teléfonos tengan la misma cantidad de elementos, en caso contrario generar una excepción de tipo ValueError**\n",
        "\n",
        "\n",
        "---\n",
        "\n"
      ],
      "metadata": {
        "id": "xkkKGmjUHoOu"
      }
    },
    {
      "cell_type": "code",
      "source": [],
      "metadata": {
        "id": "M-KZZp_DIlf1"
      },
      "execution_count": null,
      "outputs": []
    },
    {
      "cell_type": "markdown",
      "source": [
        "Le han dado el siguiente código que permite generar una lista con las posibles combinaciones de los nombres de las personas de una listas de nombres dada"
      ],
      "metadata": {
        "id": "bN3-F_QhMoWO"
      }
    },
    {
      "cell_type": "code",
      "source": [
        "def combinar_nombres(nombres):\n",
        "  nombres_compuestos=[]\n",
        "  for nombre1 in nombres:\n",
        "      for nombre2 in nombres:\n",
        "          if nombre1!=nombre2:\n",
        "              nombres_compuestos.append([nombre1, nombre2])\n",
        "  return nombres_compuestos\n",
        "\n",
        "nombres=['Andres','Julian','Mauricio','Felipe']\n",
        "print(combinar_nombres(nombres))"
      ],
      "metadata": {
        "id": "A3drwAGtM_qd"
      },
      "execution_count": null,
      "outputs": []
    },
    {
      "cell_type": "code",
      "source": [
        "print ([nombre1 + \" \" +nombre2 for nombre1 in [\"Paula\", \"Maria\", \"Laura\"] for nombre2 in [\"Paula\", \"Maria\", \"Laura\"] if nombre1 != nombre2 ])\n"
      ],
      "metadata": {
        "id": "wBCpQP8ius2H"
      },
      "execution_count": null,
      "outputs": []
    },
    {
      "cell_type": "code",
      "source": [],
      "metadata": {
        "id": "5EGOVrOiv6pV"
      },
      "execution_count": null,
      "outputs": []
    },
    {
      "cell_type": "code",
      "source": [],
      "metadata": {
        "id": "m9LSb4UgvzJ1"
      },
      "execution_count": null,
      "outputs": []
    },
    {
      "cell_type": "markdown",
      "source": [],
      "metadata": {
        "id": "QcudGxObvsOB"
      }
    },
    {
      "cell_type": "markdown",
      "source": [
        "**Se le pide que optimice el código generando la lista con la combinación de nombres mediante list comprehensions**\n",
        "\n",
        "\n",
        "---\n",
        "\n"
      ],
      "metadata": {
        "id": "Qu-uGYkzOggE"
      }
    },
    {
      "cell_type": "code",
      "source": [],
      "metadata": {
        "id": "8VKgNlmBOus_"
      },
      "execution_count": null,
      "outputs": []
    }
  ]
}