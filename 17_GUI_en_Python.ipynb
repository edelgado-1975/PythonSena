{
  "nbformat": 4,
  "nbformat_minor": 0,
  "metadata": {
    "colab": {
      "private_outputs": true,
      "provenance": [],
      "include_colab_link": true
    },
    "kernelspec": {
      "name": "python3",
      "display_name": "Python 3"
    },
    "language_info": {
      "name": "python"
    }
  },
  "cells": [
    {
      "cell_type": "markdown",
      "metadata": {
        "id": "view-in-github",
        "colab_type": "text"
      },
      "source": [
        "<a href=\"https://colab.research.google.com/github/edelgado-1975/PythonSena/blob/main/17_GUI_en_Python.ipynb\" target=\"_parent\"><img src=\"https://colab.research.google.com/assets/colab-badge.svg\" alt=\"Open In Colab\"/></a>"
      ]
    },
    {
      "cell_type": "markdown",
      "source": [
        "![M I S I Ó N.png](data:image/png;base64,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)"
      ],
      "metadata": {
        "id": "6QPAqmMZKz_c"
      }
    },
    {
      "cell_type": "markdown",
      "source": [
        "# Interfaces gráficas con Tkinter\n",
        "\n",
        "Tkinter es una librería incorporada en Python para el desarrollo de GUI (Interfaces Gráficas de Usuario).  Algunas características:\n",
        "\n",
        "* Preinstalado en la librería estándar de Python\n",
        "* Multiplataforma\n",
        "* Liviana\n"
      ],
      "metadata": {
        "id": "-lSZ5IA0KzQH"
      }
    },
    {
      "cell_type": "markdown",
      "source": [
        "importando la librería desde la aplicación Python\n",
        "\n",
        "\n",
        "```\n",
        "import tkinter\n",
        "```\n",
        "\n"
      ],
      "metadata": {
        "id": "5MqBk8jsMWAj"
      }
    },
    {
      "cell_type": "markdown",
      "source": [
        "**Nota:** Los ejercicios aquí propuestos deben ejecutarse en local no a través del servidor google colab ya que a través de este servidor no tendremos acceso a objetos de tipo Display requeridos."
      ],
      "metadata": {
        "id": "948_kKUvOZRt"
      }
    },
    {
      "cell_type": "markdown",
      "source": [
        "## Primera ventana"
      ],
      "metadata": {
        "id": "3CqhNNiYMjlr"
      }
    },
    {
      "cell_type": "code",
      "source": [
        "import tkinter as tk\n",
        "\n",
        "ventana_principal = tk.Tk()\n",
        "ventana_principal.mainloop() # requerido en algunas plataformas"
      ],
      "metadata": {
        "id": "tBiB24k-MmH7"
      },
      "execution_count": null,
      "outputs": []
    },
    {
      "cell_type": "markdown",
      "source": [
        "## Hola Mundo GUI\n",
        "\n",
        "Para generar nuestro primer mensaje \"Hola Mundo\" requerimos de un \"control\" u \"objeto\" que podamos desplegar dentro de la ventana y sobre el cual podamos escribir un texto.  Estos tipos de \"controles\" son conocidos en el mundo Tkinter como **Widgets**\n",
        "\n",
        "Existe un conjunto importante de widgets y todos se crean a partir de la siguiente sintaxis:\n",
        "\n",
        "```\n",
        "widget = nombre_widget(contenedor, **opciones)\n",
        "```\n",
        "Para el caso de nuestro programa Hola Mundo, usaremos un widget simple de tipo Label, miremos:\n",
        "\n"
      ],
      "metadata": {
        "id": "P5S_lfqFUSnk"
      }
    },
    {
      "cell_type": "markdown",
      "source": [
        "\n",
        "\n",
        "```\n",
        "import tkinter as tk\n",
        "\n",
        "ventana = tk.Tk()\n",
        "etiqueta = tk.Label(ventana, text=\"Hola Mundo gráfico\")\n",
        "etiqueta.pack()\n",
        "ventana.mainloop()\n",
        "```\n",
        "\n"
      ],
      "metadata": {
        "id": "rpemvmM73qsO"
      }
    },
    {
      "cell_type": "markdown",
      "source": [
        "![mongo8.png](data:image/png;base64,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)"
      ],
      "metadata": {
        "id": "4BjCy8TLXQ_c"
      }
    },
    {
      "cell_type": "markdown",
      "source": [
        "## Propiedades de la ventana\n",
        "\n",
        "\n",
        "*   **Title** Obtiene/define el título de la ventana\n",
        "*   **geometry** Tamaño y ubicación de la ventana *width*x*height*±*x*±*y*\n",
        "*   **resizable** Especifica si la ventana puede ajustarse en tamaño (ancho, alto)\n",
        "*   **attributes** Permite especificar otros atributos como su transparencia,  \n",
        "*   **iconbitmap** Permite cambiar el ícono de la ventana\n",
        "\n",
        "Miremos un ejemplo:\n",
        "\n",
        "\n",
        "\n",
        "```\n",
        "import tkinter as tk\n",
        "\n",
        "ventana = tk.Tk()\n",
        "etiqueta = tk.Label(ventana, text=\"Hola Mundo gráfico\")\n",
        "etiqueta.pack()\n",
        "ventana.title(\"Aplicación GUI con Tkinter\")\n",
        "ventana.geometry(\"800x600+150+50\")\n",
        "ventana.resizable(False, True)\n",
        "ventana.attributes(\"-alpha\", 0.9)\n",
        "ventana.mainloop()\n",
        "```\n",
        "\n",
        "\n",
        "\n"
      ],
      "metadata": {
        "id": "YkZtfz2MYHSX"
      }
    },
    {
      "cell_type": "markdown",
      "source": [
        "## Cuadros de diálogo\n",
        "\n",
        "En las aplicaciones con interfaz gráfica es común el uso de cuadros de diálogo que nos permitan mostrar o capturar información.  "
      ],
      "metadata": {
        "id": "8SmDA8K2znKf"
      }
    },
    {
      "cell_type": "markdown",
      "source": [
        "### messagebox\n"
      ],
      "metadata": {
        "id": "2he8uDZ90BZO"
      }
    },
    {
      "cell_type": "markdown",
      "source": [
        "#### - Mensajes\n",
        "\n",
        "El módulo messagebox de Tkinter permite mostrar mensajes al usuario en ventanas emergentes.  Los tipos de mensajes son funciones módulo:\n",
        "\n",
        "\n",
        "*   showinfo() muestra información\n",
        "*   showerror() informa sobre un error\n",
        "*   showwarning() presenta advertencia\n",
        "\n",
        "Las tres funciones reciben 2 parámetros, su **title** y **message**\n",
        "\n",
        "Miremos:\n"
      ],
      "metadata": {
        "id": "fMgH-mRk4-Qd"
      }
    },
    {
      "cell_type": "markdown",
      "source": [
        "\n",
        "```\n",
        "import tkinter as tk\n",
        "from tkinter.messagebox import showinfo\n",
        "from tkinter.messagebox import showerror\n",
        "from tkinter.messagebox import showwarning\n",
        "\n",
        "ventana = tk.Tk()\n",
        "ventana.title(\"showinfo\")\n",
        "showinfo(title=\"Mensaje\", message=\"Bienvenido\")\n",
        "showerror(title=\"Error\", message=\"Se detectó virus en su equipo\")\n",
        "showwarning(title=\"Advertencia\", message=\"Puedo estar equivocado\\nValide con soporte técnico\")\n",
        "ventana.mainloop()\n",
        "```\n",
        "\n"
      ],
      "metadata": {
        "id": "cCVl2zU01vsu"
      }
    },
    {
      "cell_type": "markdown",
      "source": [
        "![mongo8.png](data:image/png;base64,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)"
      ],
      "metadata": {
        "id": "ttK9iu0t4FC8"
      }
    },
    {
      "cell_type": "markdown",
      "source": [
        "#### askyesno() - Si/No\n",
        "\n",
        "La función askyesno() permite preguntar al usuario y obtener su respuesta True/False\n",
        "\n",
        "Miremos:\n",
        "\n",
        "\n",
        "```\n",
        "import tkinter as tk\n",
        "from tkinter.messagebox import askyesno\n",
        "from tkinter.messagebox import showinfo\n",
        "\n",
        "ventana = tk.Tk()\n",
        "ventana.title(\"Yes/No\")\n",
        "\n",
        "respuesta = askyesno(title=\"Pregunta\", message=\"¿Quieres salir de este programa?\")\n",
        "if respuesta:\n",
        "    ventana.destroy()\n",
        "else:\n",
        "    showinfo(title=\"Supeer\", message=\"Bienvenido\")\n",
        "    \n",
        "ventana.mainloop()\n",
        "```\n",
        "\n",
        "\n"
      ],
      "metadata": {
        "id": "Sjl9VTMC4Lk1"
      }
    },
    {
      "cell_type": "markdown",
      "source": [
        "![mongo8.png](data:image/png;base64,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)"
      ],
      "metadata": {
        "id": "sGN0-CRk6cXs"
      }
    },
    {
      "cell_type": "markdown",
      "source": [],
      "metadata": {
        "id": "n2QmIv1cwDro"
      }
    },
    {
      "cell_type": "markdown",
      "source": [
        "### filedialog\n",
        "\n",
        "El módulo **filedialog** permite a través de su función **askopenfilename()** seleccionar un archivo del sistema de archivos y obtener su ruta y nombre.  \n",
        "\n",
        "Miremos:\n",
        "\n",
        "\n",
        "```\n",
        "import tkinter as tk\n",
        "from tkinter.filedialog import askopenfilename\n",
        "from tkinter.messagebox import showinfo\n",
        "\n",
        "ventana = tk.Tk()\n",
        "ventana.title(\"Abrir archivo\")\n",
        "\n",
        "archivo = askopenfilename(title=\"Abrir archivo\")\n",
        "showinfo(title=\"Archivo abierto\", message= f\"El archivo seleccionado es {archivo}\")\n",
        "    \n",
        "ventana.mainloop()\n",
        "\n",
        "```\n",
        "\n"
      ],
      "metadata": {
        "id": "dSxrbxWf65vf"
      }
    },
    {
      "cell_type": "markdown",
      "source": [
        "![mongo8.png](data:image/png;base64,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)"
      ],
      "metadata": {
        "id": "zR9ZHRMJ81l1"
      }
    },
    {
      "cell_type": "markdown",
      "source": [
        "También es posible abrir y acceder al contenido del archivo con la función **askopenfile**\n",
        "\n",
        "\n",
        "\n",
        "```\n",
        "f = fd.askopenfile()\n",
        "print(f.readlines())\n",
        "```\n",
        "\n"
      ],
      "metadata": {
        "id": "1-RaA_cx9U5V"
      }
    },
    {
      "cell_type": "markdown",
      "source": [
        "### colorchooser\n",
        "\n",
        "Este módulo permite a través de la función **askcolor()** la selección de un color por parte del usuario.\n",
        "\n",
        "Miremos:\n",
        "\n",
        "\n",
        "\n",
        "```\n",
        "import tkinter as tk\n",
        "from tkinter.colorchooser import askcolor\n",
        "from tkinter.messagebox import showinfo\n",
        "\n",
        "\n",
        "ventana = tk.Tk()\n",
        "ventana.title(\"Cambiar Color\")\n",
        "\n",
        "color = askcolor()\n",
        "ventana[\"bg\"] = color[1]\n",
        "showinfo(message = f\"El color seleccionado fue: {color[0]}\")\n",
        "\n",
        "ventana.mainloop()\n",
        "```\n",
        "\n"
      ],
      "metadata": {
        "id": "FAFLOnKL-hYM"
      }
    },
    {
      "cell_type": "markdown",
      "source": [
        "![mongo8.png](data:image/png;base64,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)"
      ],
      "metadata": {
        "id": "jEEUGZC5AzWX"
      }
    },
    {
      "cell_type": "markdown",
      "source": [
        "## Widgets y Tk Themed widgets ttk\n",
        "\n",
        "Aunque se pueden usar los widgets directamente a partir del módulo tkinter como el Label del programa anterior, a partir de Tkinter 8.5 una nueva generación de widgets han reemplazado y mejorado a los widgets tradicionales.  Son los Tk themed widgets (ttk) ttk es un submódulo de tkinter y a partir de él podemos crear y usar los widgets ttk"
      ],
      "metadata": {
        "id": "yVZwDHzXeEds"
      }
    },
    {
      "cell_type": "markdown",
      "source": [
        "### ttk Button\n",
        "\n",
        "Sintaxis\n",
        "\n",
        "\n",
        "\n",
        "```\n",
        "mi_boton = ttk.Button(contenedor, **opciones)\n",
        "```\n",
        "Las opciones más importantes son:\n",
        "*   text:  El texto del botón\n",
        "*   command: El nombre de la función que se ejecuta al dar click en el botón.  Miremos:\n",
        "\n",
        "```\n",
        "import tkinter as tk\n",
        "from tkinter import ttk\n",
        "\n",
        "def saludar():\n",
        "    print(\"Hola, Gracias por hacer click\")\n",
        "\n",
        "ventana = tk.Tk()\n",
        "mi_boton = ttk.Button(ventana, text=\"Click aquí\", command=saludar)\n",
        "mi_boton.pack()\n",
        "ventana.mainloop()\n",
        "```\n",
        "\n",
        "\n",
        "\n",
        "\n"
      ],
      "metadata": {
        "id": "TFJgWMjJhD4d"
      }
    },
    {
      "cell_type": "markdown",
      "source": [
        "![mongo8.png](data:image/png;base64,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)"
      ],
      "metadata": {
        "id": "JOOBwDagjNC8"
      }
    },
    {
      "cell_type": "markdown",
      "source": [
        "Ahora, toma el ejercicio anterior y cambia la línea del print por la siguiente:\n",
        "\n",
        "\n",
        "```\n",
        "showinfo(title=\"Atención\", message=\"Hola, Gracias por hacer click\")\n",
        "```\n",
        "y realiza la siguiente importación:\n",
        "\n",
        "\n",
        "```\n",
        "from tkinter.messagebox import showinfo\n",
        "```\n",
        "\n",
        "Verás que el mensaje ya no sale en consola sino en una ventana emergente\n"
      ],
      "metadata": {
        "id": "F24O8uJhlHJi"
      }
    },
    {
      "cell_type": "markdown",
      "source": [
        "![mongo8.png](data:image/png;base64,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)"
      ],
      "metadata": {
        "id": "qQwm_nu-lgSG"
      }
    },
    {
      "cell_type": "markdown",
      "source": [
        "**Botones con imágenes**\n",
        "\n",
        "Capturamos la imagen en un widget de tipo PhotoImage\n",
        "\n",
        "```\n",
        "imagen = tk.PhotoImage(file='py.png')\n",
        "```\n",
        "y luego en el botón no usamos la propiedad text sino **image**\n",
        "\n",
        "\n",
        "```\n",
        "python_button = ttk.Button(ventana, image=imagen, command=python_func)\n",
        "```\n",
        "\n",
        "**Nota:** Podemos poner imagen y texto en un botón adicionando la propiedad **compound** con cualquiera de sus valores **tk.LEFT**, **tk.RIGHT**, **tk.TOP**, **tk.BOTTOM**\n",
        "\n",
        "\n",
        "\n",
        "```\n",
        "compuesto_button = ttk.Button(ventana, image=imagen, text=\"Título\", compound=tk.BOTTOM, command=compuesto)\n",
        "```\n",
        "\n",
        "\n"
      ],
      "metadata": {
        "id": "LCi3m5eWlxuF"
      }
    },
    {
      "cell_type": "markdown",
      "source": [
        "### ttk Entry\n",
        "\n",
        "Este widget representa una caja de texto (textBox)\n",
        "\n",
        "\n",
        "```\n",
        "ttk.Entry(ventana, textvariable=nombre).pack()\n",
        "```\n",
        "**Nota:** se debe definir una variable de tipo tk.StringVar() en la que se obtendrá con el método get() el valor escrito en la caja de texto.\n",
        "\n"
      ],
      "metadata": {
        "id": "ZHONL5E2LYRU"
      }
    },
    {
      "cell_type": "markdown",
      "source": [
        "```\n",
        "import tkinter as tk\n",
        "from tkinter import ttk\n",
        "from tkinter.messagebox import showinfo\n",
        "\n",
        "def funcion_a_ejecutar():\n",
        "    showinfo(message=nombre.get())\n",
        "\n",
        "\n",
        "ventana = tk.Tk()\n",
        "nombre = tk.StringVar()\n",
        "\n",
        "ttk.Entry(ventana, textvariable=nombre).pack()\n",
        "ttk.Button(ventana, text=\"aceptar\", command=funcion_a_ejecutar).pack()\n",
        "\n",
        "ventana.mainloop()\n",
        "```\n",
        "\n"
      ],
      "metadata": {
        "id": "fIyKJ9KrSeg-"
      }
    },
    {
      "cell_type": "markdown",
      "source": [
        "![mongo8.png](data:image/png;base64,iVBORw0KGgoAAAANSUhEUgAAAMwAAABgCAIAAADengowAAAAAXNSR0IArs4c6QAAAARnQU1BAACxjwv8YQUAAAAJcEhZcwAADsMAAA7DAcdvqGQAAASVSURBVHhe7dbBSyNXHMDxXEp73P4F/Q/WBRHaaPGyPZWgZRXdFEG6KLRLQbBevCxtFa8LPRc8eetNFj0uVTeSKKIgxERFxIsgCAXxou1vJi+TySQZZ5L+krfx+yHIzHszkxnz5SWJi4uL8/Pzs7Oz09PTk5OT4+PjYrFYKBSOjo7y+Xwul8tms78Bjf1aZvZdv7sWFhYWFxcTM6Feu1KplNkH4kv8CygjMqgjMqgjMqgjMqgjMqhrJrLV1dXvXrz4eWbW7AOh4kV2dXU1NTWVHPjyzw//DA4OmlEgVLzIJicnJS95fbNUGB4eNqNAqBiReYU9Tf8hkY2Ojl5eXpo5tCwRyhzUFvJ2uVzO7PjIYHN3EvWcm5ubgYGvpLAvvn4lhT1/+cv4+LiZe9i76UTybcHsoK6Qz6/NkUlMn3z6WaCzuoMRRb37iYmJ0jImDyyR9fb2PrSM+cMisofZE5kIJNVKYSLS3ReLxWfPerzC5DU2NmbmGiKyeKyKTHhheRtmIr5Idz87O+tfxpLDPw0NDZm5Bqbl0JLpd77IZKM0giD5x5itGiFTqkp5tViYiHT3IyMjXmHPF/N9fX13d3dmrqHalazwNmljYPJcIcxB+kLeq5234dfWyOTL0Yus79sf5+fnzUSYYGTJJF+ZYWyLrFSY/PU2zER8ke4+nU7L31Jk/f399/f3pfFQgcjcyviibMyqyAJhtdhZpLuXPr7/4ZU86pMnn2cyGTP6gOBKJtv+IQTYE1ndpFrpLNLd7+/v9/T0yKMuLS2ZoQic5UtU/fAvyM8y2SwdAD/3n9WQOagt5O3qxiSDzd1J1HOur6/b/KjoGlG7ub29JTI0J0Y3KysrZguIg8UJ6ogM6ogM6ogM6ogM6ogM6ogM6ogM6hLXnTCPDjEfQHt1LDITOdqIyKCOyKCOyKCOyKCOyKCOyKCOyKCOyKCOyKCOyKCOyKCOyKCOyKCOyKCOyKCOyKCOyKCOyKDu0UWGjjAfQHt1JjI8Kt0Q2V9dzTzkx6xLIjvrUkRmCyKzHJFZjchsQWSWIzKrEZktiMxyRGY1IrNFpyNbTid637w3O/8vIrMFkVnu8UYmaRjpZTN09v5Nb/VYcMDtadkMumVVLlM6pOayzinptJxReZvoiMwWra1kbjfOOuQEVb0ieVPOZiWp4OG+wyq8QeeU2umIiMwWTUbmBuNyG3CiqV5sKsuYy5ms6kl2youXr6LAZQOzMRGZLZqJrJKUbIVEVj1SVYw37RusvSyRPd7IvI/eySK4VSYHNR6p9OTLqM5lfbPxEZktmonMrcD9TpMf5V4ETkMlZgUrH+Vwhpxi3F/x5QGXOc3Zr70skfHDP56WimkCkdmCyCxHZLEQWTOIzGpEZgsisxyRWY3IbCGfRBczD/kx64bIYDkigzoigzoigzoigzoigzoigzoigzoigzoigzoigzoigzoigzoigzoigzoigzoig7rETKjXrlQqZfaB+BL5fP7w8PDg4GBvb293dzeXy2Wz2e3t7Uwms7W1tb6+vra2Njc39zcQwcbGxubmppQj/UhF0tLOzs5/awFabsFrkUMAAAAASUVORK5CYII=)"
      ],
      "metadata": {
        "id": "YwOqDPiAb6Hd"
      }
    },
    {
      "cell_type": "markdown",
      "source": [
        "**Password** La propiedad **show** permite definir el caracter que será mostrado en la caja de texto en lugar del caracter ingresado por el usuario"
      ],
      "metadata": {
        "id": "EuIqTp2Ted2P"
      }
    },
    {
      "cell_type": "markdown",
      "source": [
        "```\n",
        "ttk.Entry(ventana, textvariable=password, show=\"*\").pack()\n",
        "```\n",
        "\n"
      ],
      "metadata": {
        "id": "nMvwdTjoe6rV"
      }
    },
    {
      "cell_type": "markdown",
      "source": [
        "\n",
        "\n",
        "```\n",
        "import tkinter as tk\n",
        "from tkinter import ttk\n",
        "from tkinter.messagebox import showinfo\n",
        "\n",
        "def funcion_a_ejecutar():\n",
        "    showinfo(message=nombre.get())\n",
        "    showinfo(message=password.get())\n",
        "\n",
        "ventana = tk.Tk()\n",
        "nombre = tk.StringVar()\n",
        "password = tk.StringVar()\n",
        "\n",
        "ttk.Entry(ventana, textvariable=nombre).pack()\n",
        "ttk.Entry(ventana, textvariable=password, show=\"*\").pack()\n",
        "ttk.Button(ventana, text=\"aceptar\", command=funcion_a_ejecutar).pack()\n",
        "\n",
        "ventana.mainloop()\n",
        "```\n",
        "\n"
      ],
      "metadata": {
        "id": "nb0Lqvgnf_z9"
      }
    },
    {
      "cell_type": "markdown",
      "source": [
        "![mongo8.png](data:image/png;base64,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)"
      ],
      "metadata": {
        "id": "8yCQdo6CgJQE"
      }
    },
    {
      "cell_type": "markdown",
      "source": [
        "### ttk Checkbutton\n",
        "\n",
        "Este widget representa una casilla de selección (check box)\n",
        "\n",
        "```\n",
        "ttk.Checkbutton(ventana,\n",
        "                text='acepto',\n",
        "                command=funcion_a_ejecutar,\n",
        "                variable=mi_variable,\n",
        "                onvalue='acepto',\n",
        "                offvalue='no_acepto').pack()\n",
        "```\n",
        "\n",
        "**Nota:** se debe definir una variable en este caso llamada mi_variable, la cual obtendrá el valor de acuerdo con las propiedades onvalue y offvalue\n"
      ],
      "metadata": {
        "id": "eGd7fDDrHhY1"
      }
    },
    {
      "cell_type": "markdown",
      "source": [
        "\n",
        "\n",
        "```\n",
        "import tkinter as tk\n",
        "from tkinter import ttk\n",
        "from tkinter.messagebox import showinfo\n",
        "\n",
        "def funcion_a_ejecutar():\n",
        "    showinfo(message=\"seleccionó: \" + mi_variable.get())\n",
        "\n",
        "ventana = tk.Tk()\n",
        "mi_variable = tk.StringVar()\n",
        "\n",
        "ttk.Checkbutton(ventana,\n",
        "                text='acepto',\n",
        "                command=funcion_a_ejecutar,\n",
        "                variable=mi_variable,\n",
        "                onvalue='acepto',\n",
        "                offvalue='no_acepto').pack()\n",
        "ventana.mainloop()\n",
        "\n",
        "```\n",
        "\n"
      ],
      "metadata": {
        "id": "MkNOPHzwLNHO"
      }
    },
    {
      "cell_type": "markdown",
      "source": [
        "![mongo8.png](data:image/png;base64,iVBORw0KGgoAAAANSUhEUgAAAK0AAABQCAIAAADkwWLTAAAAAXNSR0IArs4c6QAAAARnQU1BAACxjwv8YQUAAAAJcEhZcwAADsMAAA7DAcdvqGQAAAPJSURBVHhe7dw9T9tQFAbgLFW7QUemLnRtkKJENFCx0KkDqQBB00aySkDlS7WUTuxV1kqdu7JkRfyFMiCGbBX8AiQkS5UQC6HnXB9sxxDHdsgtN34f0ci+95rEPa+P3UqQu4HM+7K5hRwAcgAKcgAMOQCWMgcHBwfvFxd37Ybsg+ES5+Di4mJ9fb08O/3r99+5uTkZBcPZtp0sB5ZlUQLo623ztFKpyCgYLlkOvBC8qv6kHCwvL5+fn8vcqMtFkkVa0NsdHx/LTgANpv4kCXJweXk5O/uaQvDizRqFYP7Dt9XVVZnLgIi/Ys05oHo/efosFIV7B+NLkINareY2AzptykGhUOjXDA43cuUfp7JjuseTAxKq+oAhINs7O7HO4ezsbGoq74WAvlZWVmSuJ+RgiLzaexsykUrcHDQajWAzKFe2FhYWZK6HDVrq2jiUIZPRecjWHRFTQ+UmYPAQkLg5WFpa8kIw//1PsVi8vr6WuZ4eph9wknqTRcMX8V46P0bQf8gB3QW8HBTfbe7t7clEFNwXhsgNAb16GzKRStwcVKtVenVzMDMz0+l03PFIyMGwhGo/eBTi5qBcLn/8vEYnPD7+/OjoSEb7QA6G4t6qDxiFuDlot9v5fJ5OuNlsylAMFAQ2Ks+JEWSRFvR299abBlN/krg5II7jaD5h0CZBDq6urpCDUZUgB2R/f1+2YLQkywGMKuQA2OTkS+QAbj6hHwDBfQHYNO4LQHBfAFZHDoDwvxccyDx+TpRNyLBM5GBsbEzzq3HQDx6eiVEwLweFeGS1Yug1qpOROZBn3N5COdAM/UCHFDlAP+gL/SCFlpUrNU9k5y70Ax0eQT/okwMTZagfUPWE1ZIh56RZ6h4LD6iSt2RQFd//NrLEP0QGTOwH/HOusmmIgfuBdzVzAbuv68CF3rL8qoeXB5apBYEMeeOGyUQOhKqpoqrFZZMKisCVzXgyWHLeUQcEBru/ibsA/UCHlP3ALxhtReSge6QrB950nxyYKDP9wKsdVy68dYsW9R7xSx7IgVogtb9dYGI/qNfrGXk+4CqxkmW5/YBxFV2BWt7iIS45HeAPKHKYu+8f0h0ho0xMTGTm+SCN4KUfl4n9wMgcxCGrlQEKkyYHJjIvB3qhH4wQtzA6X42DfgAMOQCGHABDDoAhB8CQA2DIATDkABhyAAw5AIYcAEMOgCEHwOztKnIAjv11FzkAx7a3kQPAfQEU5AAYcgAMOQCGHABDDoAhB8Dw/8rAkANgyAEw5AAYcgAMOQCGHADjHNAfAPnlPpBpudw/dRb7fiivbrQAAAAASUVORK5CYII=)"
      ],
      "metadata": {
        "id": "wdwkjQ4RcRr9"
      }
    },
    {
      "cell_type": "markdown",
      "source": [
        "![mongo8.png](data:image/png;base64,iVBORw0KGgoAAAANSUhEUgAAAK8AAABTCAIAAABmoMBAAAAAAXNSR0IArs4c6QAAAARnQU1BAACxjwv8YQUAAAAJcEhZcwAADsMAAA7DAcdvqGQAAASxSURBVHhe7dfPSyN3GMfx76W0N7dHT/0P6oIobbR42YL0B1pW0XURwq5Kd6Ug2JOFQg8l10LPvXrxKru5bHvprlGTaLLGJOtPPApCoBC8aPvMzOM8k2QyySSdab+Tz4tBMt+ZrGafd75RdXRyViwfHxyW9vOFvdzbTDa3m9nbSWe3dzOpnfTW9u6b1M7rLeP48812zx4//PhT3YqGR+ruME6tmdJwacTbOxmaeDqbU6V3RgrfPnuOw+P44quv61YieahC8R3tCvTob+h5ijaG7H4eNQBR+YMifWCgBiCKPiboNwjUAETt5Q7ozwfUAERl99/SX5KoAYjK7OW2Urud1bC5ufnNw4ffrazyOWhOnZ+fl8vllZUVXmjP1dXV4uJibPST37b+Ghsb41XQnDo7OyuVSn5riMfj1AEdnyeOJicneRU0p05PT4vFoq8a7BQ+nvuVapienr68vORrUac88U2hoG+XTqf5xIEWO/5J1MnJyeHhYfs1VKvV0dFPKYWPPntKKTx49P3s7Cxf6wEe/9Eh10BTf+/9D+qCcF1sn1FDoVBov4b5+XlrY6AXTzUMDg622hheLKnYL0d8orv/Tw2kbvZdpkD81XB8fHz//oCdAh0zMzN8rSnUECC7APsBX+iIvxpWV1edG0Ns8vnExARfa2KJbrUsveAlndHr4EcNPC4Fyuqg+xSIvxqmpqbsFB78XB4aGrq5ueFrTf07e4PRU3N8U/A8vleYP4bTf1YDfS7YNQx9+WxtbY0veMEnRYCsFOir/YAvdMRfDXNzc/TVqmFkZOT29tZa94QaglJXQPdB+KshFos9fvKUXva9ex+mUilebQE1BMJ19l0G4a+GfD4/MDBALzuRSPBSGygHQ1R+i/TAN4WCvp3r1Gmx45/EXw2kUqmE/LIhNL5ruL6+Rg1R5bsGsr6+zo8gWjqpAaIKNYBADSBQAwjUAAI1gEANIFADCKmhAj0PNYDooRr6+vpC/qod7A1B0TEIXWsYbA/fbdL0/RomjWvg34Obq6shZNgbwtNBDdgbWopgDRcXF+Pj48lkMuC9YSOuhhNZPmmEvSE8zWqwUlheXq5WqwHvDS1q0FGkanCmQKeuewPNkMU3eKmSTQzXrtUvmIPf4EUzAfln+BZ5Ci9gbwgPTZo+C2j2VIBrCsRzb7Df2cYYa9/jjjf9RlxmX3+74zbzBkdJ9rpmNK6Bpk6zt4JoTIG47g3WZE3mzIzh8RyZ411uMC46B2+cmE9wLNb+I9YN2BvCQ5OmedtBNKZAXPYGGRs98qihdqWmBvtyixp0pF79/sfLZHJhYYEXNGHVQKwgGlMgLnuDPUFjfvWP7tBNzVdk8I4azBu4gLsbtNwbLP39/bygCbsGDy57gzkrw3A8bu0NBmOWFsdE7xhLxuDpCbJg4qdZ5/KU2pC0wq+gF2rognMbaBf2hvDQpNvBd5u6GE8nNehI1xrChb0hcqzxhPlVOz1UA7SEGkCgBhCoAQRqAIEaQKAGEKgBBGoAgRpAoAYQqAEEagCBGkCgBhCoAQRqAIEaQKAGEKgBBGoAgRpAoAYQqAEEagCBGkCgBhCoAQRqAIEaQEgNAFwDgFLqHw8KILfbfFngAAAAAElFTkSuQmCC)"
      ],
      "metadata": {
        "id": "9Ggnm8OTcx2d"
      }
    },
    {
      "cell_type": "markdown",
      "source": [
        "### ttk Frame\n",
        "\n",
        "Un Frame es un marco contenedor de otros widgets, se utiliza principalmente para organizar visualmente los diferentes elementos o subconjuntos de elementos que forman parte de una GUI.\n",
        "\n",
        "Algunas de las propiedades relevantes del Frame son:\n",
        "\n",
        "*   width: ancho del frame\n",
        "*   height: alto del frame\n",
        "*   borderwidth: ancho del borde (por defecto 0)\n",
        "*   padding: espacio entre los elementos internos del frame\n",
        "\n",
        "```\n",
        "ttk.Frame(ventana, width=80, height=50).pack()\n",
        "```\n",
        "\n"
      ],
      "metadata": {
        "id": "dL-KDtgeUagd"
      }
    },
    {
      "cell_type": "markdown",
      "source": [
        "Un Frame tiene relevancia cuando contiene otros elementos en su interior.  Por ejemplo:\n",
        "\n",
        "\n",
        "```\n",
        "import tkinter as tk\n",
        "from tkinter import ttk\n",
        "from tkinter.messagebox import showinfo\n",
        "\n",
        "ventana = tk.Tk()\n",
        "ventana.geometry(\"800x600+150+50\")\n",
        "\n",
        "s = ttk.Style()\n",
        "s.configure('TFrame', background='green')\n",
        "\n",
        "frame = ttk.Frame(ventana,width=400, height=300, padding=100)\n",
        "frame.pack()\n",
        "\n",
        "ttk.Button(frame, text=\"1 Botón\").pack()\n",
        "ttk.Button(frame, text=\"2 Botón\").pack()\n",
        "ttk.Button(frame, text=\"3 Botón\").pack()\n",
        "\n",
        "ventana.mainloop()\n",
        "\n",
        "```\n",
        "\n"
      ],
      "metadata": {
        "id": "jF7E_f_bXpuc"
      }
    },
    {
      "cell_type": "markdown",
      "source": [
        "![mongo8.png](data:image/png;base64,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)"
      ],
      "metadata": {
        "id": "UkTlEKUKc3xd"
      }
    },
    {
      "cell_type": "markdown",
      "source": [
        "### Uniendo las piezas"
      ],
      "metadata": {
        "id": "vkBuEVX_grBU"
      }
    },
    {
      "cell_type": "markdown",
      "source": [
        "```\n",
        "import tkinter as tk\n",
        "from tkinter import ttk\n",
        "from tkinter.messagebox import showinfo\n",
        "\n",
        "# ventana principal\n",
        "ventana = tk.Tk()\n",
        "ventana.geometry(\"300x200+400+200\")\n",
        "ventana.resizable(False, False)\n",
        "ventana.title('Autenticación de usuario')\n",
        "\n",
        "# variables para guardar el usuario, el password y la opción de guardar password\n",
        "usuario = tk.StringVar()\n",
        "password = tk.StringVar()\n",
        "check = tk.StringVar()\n",
        "\n",
        "# función que se ejecuta al dar click en el botón login\n",
        "def login_click():\n",
        "    mensaje = f\"usuario: {usuario.get()}, password: {password.get()}.\\nGuardar password: {check.get()}\"\n",
        "    showinfo(title='Atención', message=mensaje)\n",
        "\n",
        "# Creando un Frame\n",
        "fra_login = ttk.Frame(ventana)\n",
        "fra_login.pack(padx=10, pady=10, fill='x', expand=True)\n",
        "\n",
        "# usuario\n",
        "lbl_usuario = ttk.Label(fra_login, text=\"usuario:\")\n",
        "lbl_usuario.pack(fill='x', expand=True)\n",
        "\n",
        "txt_usuario = ttk.Entry(fra_login, textvariable=usuario)\n",
        "txt_usuario.pack(fill='x', expand=True)\n",
        "txt_usuario.focus()\n",
        "\n",
        "# password\n",
        "lbl_password = ttk.Label(fra_login, text=\"Password:\")\n",
        "lbl_password.pack(fill='x', expand=True)\n",
        "\n",
        "txt_password = ttk.Entry(fra_login, textvariable=password, show=\"*\")\n",
        "txt_password.pack(fill='x', expand=True)\n",
        "\n",
        "# checkbutton\n",
        "check_guardar = ttk.Checkbutton(fra_login,\n",
        "                text='guardar password',\n",
        "                variable=check,\n",
        "                onvalue='True',\n",
        "                offvalue='False')\n",
        "check_guardar.pack(fill='x', expand=True)\n",
        "\n",
        "# button\n",
        "btn_login = ttk.Button(fra_login, text=\"Login\", command=login_click)\n",
        "btn_login.pack(fill='x', expand=True, pady=10)\n",
        "\n",
        "ventana.mainloop()\n",
        "\n",
        "```\n",
        "\n"
      ],
      "metadata": {
        "id": "98xpg8lMmsQM"
      }
    },
    {
      "cell_type": "markdown",
      "source": [
        "![mongo8.png](data:image/png;base64,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)"
      ],
      "metadata": {
        "id": "5wCEw6G0m0bM"
      }
    },
    {
      "cell_type": "markdown",
      "source": [
        "### Asignación de propiedades a un widget\n",
        "\n",
        "Además de la posibilidad que tenemos de asignar las propiedades de un widget en el momento de su creación, también lo podemos hacer después de creado.  Esto permite entre otras cosas el cambio de valor en las propiedades en tiempo de ejecución.\n",
        "Dose maneras de cambiar las propiedades:\n",
        "\n",
        "**A través de un diccionario**\n",
        "\n",
        "\n",
        "```\n",
        "widget[propiedad] = valor\n",
        "```\n",
        "\n",
        "o **a través del método config() del objeto widget**\n",
        "\n",
        "\n",
        "```\n",
        "widget.config(propiedad=valor)\n",
        "```\n",
        "\n",
        "Para entenderlo, tratemos de capturar el nombre y el apellido de una persona en 2 widgets de tipo Entry y presentemos en un Label ambos valores.  Miremos:\n",
        "\n",
        "\n",
        "\n",
        "```\n",
        "import tkinter as tk\n",
        "from tkinter import ttk\n",
        "from tkinter.messagebox import showinfo\n",
        "\n",
        "def funcion_a_ejecutar():\n",
        "   etiqueta[\"text\"] = nombre.get() + \" \" + apellido.get()\n",
        "\n",
        "ventana = tk.Tk()\n",
        "nombre = tk.StringVar()\n",
        "apellido = tk.StringVar()\n",
        "\n",
        "ttk.Entry(ventana, textvariable=nombre).pack(fill='x', expand=True)\n",
        "ttk.Entry(ventana, textvariable=apellido).pack(fill='x', expand=True)\n",
        "etiqueta = ttk.Label(ventana)\n",
        "etiqueta.pack(fill='x', expand=True)\n",
        "ttk.Button(ventana, text=\"aceptar\", command=funcion_a_ejecutar).pack(fill='x', expand=True)\n",
        "\n",
        "ventana.mainloop()\n",
        "\n",
        "```\n",
        "\n",
        "Si observamos el código de la función funcion_a_ejecutar() notaremos que allí establecimos dinámicamente el nuevo contenido del Label etiqueta\n",
        "\n",
        "\n",
        "\n",
        "```\n",
        "etiqueta[\"text\"] = nombre.get() + \" \" + apellido.get()\n",
        "```\n",
        "Esta línea se podría reempazar por la siguiente, teniendo el mismo efecto\n",
        "\n",
        "\n",
        "\n",
        "\n",
        "```\n",
        "etiqueta.config(text = nombre.get() + \" \" + apellido.get())\n",
        "```"
      ],
      "metadata": {
        "id": "5UTGU-UrLlMV"
      }
    },
    {
      "cell_type": "markdown",
      "source": [
        "### Paso de argumentos a las funciones controladoras de eventos\n",
        "\n",
        "Una misma función puede controlar los eventos de diferentes widgets recibiendo un parámetro que identifique al widget que generó el evento.  Miremos:\n",
        "\n",
        "Crearemos dos botones y en la misma función mostraremos el texto del botón presionado.\n",
        "\n",
        "\n",
        "\n",
        "```\n",
        "import tkinter as tk\n",
        "from tkinter import ttk\n",
        "from tkinter.messagebox import showinfo\n",
        "\n",
        "def funcion_controladora(param):\n",
        "    showinfo(message = param)\n",
        "\n",
        "ventana = tk.Tk()\n",
        "ttk.Button(ventana, text=\"1\", command= lambda : funcion_controladora(\"1\")).pack()\n",
        "ttk.Button(ventana, text=\"0\", command= lambda : funcion_controladora(\"0\")).pack()\n",
        "\n",
        "ventana.mainloop()\n",
        "```\n",
        "Observemos que para el envío de parámetros debemos usar funciones tipo lambda\n"
      ],
      "metadata": {
        "id": "toiS3SigU7gQ"
      }
    },
    {
      "cell_type": "markdown",
      "source": [
        "![mongo8.png](data:image/png;base64,iVBORw0KGgoAAAANSUhEUgAAAI8AAACFCAIAAADtmjyiAAAAAXNSR0IArs4c6QAAAARnQU1BAACxjwv8YQUAAAAJcEhZcwAADsMAAA7DAcdvqGQAAAOsSURBVHhe7doxS1tRGMbxLKUd7Rew36ARQqBNLFns1MGUKNpbBKkabGxaIZ1cnEo+QOeCk1s3v4BTHZzcSl26CkKgIC5J+yb39ZIGCffec+/JeQ7PDwk35wRyj3/eKGhhf0Y+3fk40m63P4zs7e21Wq3d3d1ms9loNPTVdumduXdvw1p/CQRrIWEtJKyFhLWQsBaSlLVOTk5eNxrt/Y4+JysS17q+vt7Z2aksPvv240+tVtNVsiJxrc3NTekkXy+7v+r1uq6SFclqRameBl+l1urq6tXVle45ozCVvsgKebvz83N9MkYW091Jglo3NzeLi88l1ZMXW5Jq6c3n9fV13XPJlG+E5VpS5cHDRxPB7l2MKUGtjY2NcLDkzFKrVCo5OFjCnVpioo1JKhG31uXl5cJCMUolX2tra7rnGKdqiahQdKEbycWt1el0xgerUm8tLy/rnmNcqyXCToapRNxaKysrUaqlLz/L5XK/39e9O7I7hb4of1Pey+ZtjLNdSz73olrlV+8PDg50wz2u1QpTyWN0oRvJxa0VBIE8hrWq1epgMAjXHeRUrYlChsHi1qpUKm/fbclp5+Yen52d6aqT3Kl1bxuTYHFrXVxcFItFOW2329UlV8lNTqEvskLe7t4qspjuTuLWEr1ez/JpaUKCWre3t6w1WwlqiePjY72iWUhWi2aLtZCwFhLWQsJaSFgLCWshYS0kw1o9AmGv1nev6SFzZrXWb0/5XGt+ft6zR29rhcfzjM+z5RPOFh7OFgbOVhaOgkIhONInueNspXZ6WJJSQWClFmcrEzJcnC0DtmYrZKkWZysTns7W9va2XuaMs2WOs5UBb2vZwtkyw9ky5+tsWcLZwsPZwsDZwuPzbIXBfHr0uZZ//KzlMT1kzuzVInOshYSfhNnQQ+aMv2VkgLWQsBYS1kLCWkhYCwlrGTgKCiOlw1NdyRlrpRb91VguLPVirbTG/sR/eliyk4u1UvqvkK1/zmCtlFgrG6xljj+3MsBaaUkizSXd7MRiLROSacTKp+AQayFhLSSshYS1kLAWEtZC4mctj+khc2avFpljLSSshYS1kLAWEtZCwlpIWAsJayFhLSSshYS1kLAWEtZCwlpIWAsJayFhLSSshYS1kLAWEtZCwlpIWAsJayFhLSSshYS1kLAWEtZCwlpIWAsJayFhLSSshYS1kLAWEtZCwlpIWAsJayFhLSSshYS1kLAWEtZCwlpIWAsJayFhLSSshYS1kLAWjl7vH5D3qIQkrWOEAAAAAElFTkSuQmCC)"
      ],
      "metadata": {
        "id": "GX7UukMtXVCi"
      }
    },
    {
      "cell_type": "markdown",
      "source": [
        "### Otros widgets en Tkinter\n",
        "\n",
        "Además de los widgets anteriores, existen otros de uso común como:\n",
        "\n",
        "\n",
        "*   LabelFrame\n",
        "*   Menubutton\n",
        "*   PanedWindow\n",
        "*   Radiobutton\n",
        "*   Scale\n",
        "*   Scrollbar\n",
        "*   Spinbox\n",
        "*   Combobox\n",
        "*   Notebook\n",
        "*   Progressbar\n",
        "*   Sizegrip\n",
        "*   Treeview\n",
        "\n",
        "\n",
        "\n",
        "\n"
      ],
      "metadata": {
        "id": "ddArzCaKpVDk"
      }
    },
    {
      "cell_type": "markdown",
      "source": [
        "## Layouts\n",
        "\n",
        "A la forma como se distribuyen los widgets sobre el contenedor (ventana, frame) se le conoce como Layout.\n",
        "\n",
        "Tkinter nos ofrece 3 tipos de Layout\n",
        "\n",
        "\n",
        "*   pack\n",
        "*   grid\n",
        "*   place\n",
        "\n"
      ],
      "metadata": {
        "id": "_Mh6pyWAaE6f"
      }
    },
    {
      "cell_type": "markdown",
      "source": [
        "### Pack Layout\n",
        "\n",
        "Hasta ahora el Layout que hemos usado es el layout pack.  Este tiene la característica de organizar los widgets de arriba hacia abajo"
      ],
      "metadata": {
        "id": "R57Ke7ZGaxAe"
      }
    },
    {
      "cell_type": "markdown",
      "source": [
        "![mongo8.png](data:image/png;base64,iVBORw0KGgoAAAANSUhEUgAAAI8AAACFCAIAAADtmjyiAAAAAXNSR0IArs4c6QAAAARnQU1BAACxjwv8YQUAAAAJcEhZcwAADsMAAA7DAcdvqGQAAAOsSURBVHhe7doxS1tRGMbxLKUd7Rew36ARQqBNLFns1MGUKNpbBKkabGxaIZ1cnEo+QOeCk1s3v4BTHZzcSl26CkKgIC5J+yb39ZIGCffec+/JeQ7PDwk35wRyj3/eKGhhf0Y+3fk40m63P4zs7e21Wq3d3d1ms9loNPTVdumduXdvw1p/CQRrIWEtJKyFhLWQsBaSlLVOTk5eNxrt/Y4+JysS17q+vt7Z2aksPvv240+tVtNVsiJxrc3NTekkXy+7v+r1uq6SFclqRameBl+l1urq6tXVle45ozCVvsgKebvz83N9MkYW091Jglo3NzeLi88l1ZMXW5Jq6c3n9fV13XPJlG+E5VpS5cHDRxPB7l2MKUGtjY2NcLDkzFKrVCo5OFjCnVpioo1JKhG31uXl5cJCMUolX2tra7rnGKdqiahQdKEbycWt1el0xgerUm8tLy/rnmNcqyXCToapRNxaKysrUaqlLz/L5XK/39e9O7I7hb4of1Pey+ZtjLNdSz73olrlV+8PDg50wz2u1QpTyWN0oRvJxa0VBIE8hrWq1epgMAjXHeRUrYlChsHi1qpUKm/fbclp5+Yen52d6aqT3Kl1bxuTYHFrXVxcFItFOW2329UlV8lNTqEvskLe7t4qspjuTuLWEr1ez/JpaUKCWre3t6w1WwlqiePjY72iWUhWi2aLtZCwFhLWQsJaSFgLCWshYS0kw1o9AmGv1nev6SFzZrXWb0/5XGt+ft6zR29rhcfzjM+z5RPOFh7OFgbOVhaOgkIhONInueNspXZ6WJJSQWClFmcrEzJcnC0DtmYrZKkWZysTns7W9va2XuaMs2WOs5UBb2vZwtkyw9ky5+tsWcLZwsPZwsDZwuPzbIXBfHr0uZZ//KzlMT1kzuzVInOshYSfhNnQQ+aMv2VkgLWQsBYS1kLCWkhYCwlrGTgKCiOlw1NdyRlrpRb91VguLPVirbTG/sR/eliyk4u1UvqvkK1/zmCtlFgrG6xljj+3MsBaaUkizSXd7MRiLROSacTKp+AQayFhLSSshYS1kLAWEtZC4mctj+khc2avFpljLSSshYS1kLAWEtZCwlpIWAsJayFhLSSshYS1kLAWEtZCwlpIWAsJayFhLSSshYS1kLAWEtZCwlpIWAsJayFhLSSshYS1kLAWEtZCwlpIWAsJayFhLSSshYS1kLAWEtZCwlpIWAsJayFhLSSshYS1kLAWEtZCwlpIWAsJayFhLSSshYS1kLAWjl7vH5D3qIQkrWOEAAAAAElFTkSuQmCC)"
      ],
      "metadata": {
        "id": "XGDX0kSLbB_0"
      }
    },
    {
      "cell_type": "markdown",
      "source": [
        "Sin embargo, podemos modificar la apariencia o comportamiento de los widgets en su contenedor usando algunas propiedades adicionales."
      ],
      "metadata": {
        "id": "GJrQtWjhbGvN"
      }
    },
    {
      "cell_type": "markdown",
      "source": [
        "**fill** Esta opción aplicada en el pack de un widget permite \"rellenar\" el espacio sobrante del contenedor con el respectivo widget.  Esta propiedad acepta uno de los siguientes tres valores:  **tkinter.X**, **tkinter.Y** y **tkinter.BOTH** rellenando horizontal, vertical o en ambos sentidos respectivamente.  Miremos lo que pasaría en el programa anterior si el segundo botón se llena horizontalmente:\n",
        "\n",
        "\n",
        "```\n",
        "import tkinter as tk\n",
        "from tkinter import ttk\n",
        "from tkinter.messagebox import showinfo\n",
        "\n",
        "def funcion_controladora(param):\n",
        "    showinfo(message = param)\n",
        "\n",
        "ventana = tk.Tk()\n",
        "ttk.Button(ventana, text=\"1\", command= lambda : funcion_controladora(\"1\")).pack()\n",
        "ttk.Button(ventana, text=\"0\", command= lambda : funcion_controladora(\"0\")).pack(fill=tk.X)\n",
        "\n",
        "ventana.mainloop()\n",
        "```\n",
        "\n"
      ],
      "metadata": {
        "id": "0vDOtqqxbnzN"
      }
    },
    {
      "cell_type": "markdown",
      "source": [
        "![mongo8.png](data:image/png;base64,iVBORw0KGgoAAAANSUhEUgAAAUMAAABdCAIAAACw+pMPAAAAAXNSR0IArs4c6QAAAARnQU1BAACxjwv8YQUAAAAJcEhZcwAADsMAAA7DAcdvqGQAAAT1SURBVHhe7dxNSytXHIDxbEq7vP0E/Qb1QhDaaBHhFoQuYrkGbYogvRiwviRgV25cFbcXui64cted3L2r60J8iXkxTlRUFBQEoSButP1P5jSNuRqdOJ4zc/L8CHHmnIFkYB7OJEJiZ2dnp6enx8fHR0dHh4eHBwcH+/v7e3t71WrVcZzd3d1KzQ6AEPB6lDAlT4lUapVmpdzYycmJNCz7MirTcmi5XC6VSsVisVAobG9v52u2AISA16OEKXlKpFKrhC3xxiTjaQARF5PVWP78AyCy3JLlbpuSgUhzS5abbEoGIs0tWT4xUzIQaW7JpVKJkoFIc0suFouUDESaW3KhUGiv5OXl5R/fvp3Ozap9AIa4Jefzeb8lX1xcjI+PJ3q/+fPj3319fWoUgCFuyVtbW35LHhsbk4bl8f2CMzg4qEYBGOKWvLm56avkesZfp/+QklOp1Pn5uZoDwirWkjpIC3m5tbU1tdNABtt+J27JGxsbTy/56uqqt/dbyfir795Jxm9++m1kZETNPe5DJpZ476gdQKcWkWguWYr97PMvmmK+d/DpfJc8OjrqLchy8lJyPB5/bEFurJeSYUx4ShZN3T4zY+GWvL6+/sSSq9Xq69dd9YzlMTw8rOYeRMkIhVCVLOr11jfURFv8lTw7O9u4ICcGf00mk2ruARk51JP50FCybHgjgCZyxamtT7SYelFew8/PWPgreWhoqJ7xm98r3d3dNzc3au5Bn67JzvsEFXcQuWBaUAe9vBavpfNtNDJWstxL10vu/mFibm5OTbTSXHIiwR02DAhbyV7G8lzfUBNt8VdyOp2WZ6/knp6e29tbb7ylppJrKbMiQ7tQldxU7/Nj9leyRPjzL+/ktF+9+nJ1dVWNPqJ5TZbtxiFAj/CUfG+3z4zZX8n5fL6rq0tOe2FhQQ09gbsQizvfeDnyUVk2vQMADWpX4YPUQVrIy91brAy2/U78lSwuLy81nzaAR/ku+fr6mpKBsPFdslhaWlJbAMKhnZIBhA0lAzagZMAGlAzYgJIBG1AyYANKBmxAyYAN/i/5EkBkUbIxf1lNnSR0oWRj5HI/tBQl60fJxlAyAkTJxlAyAkTJxlAyAkTJxlAyAkTJxlAyAkTJxmgteTEdi6UX1c6Lo2T9KNkYXSWvzMel4nSakq1GycZoXZPdRZmSbUbJxlAyAkTJxlAyAkTJxlAyAkTJxlAyAkTJxlAyAkTJxlAyAkTJxugtWStK1o+SjaFkBIiSjaFkBIiSjaFkBIiSjaFkBIiSjaFkBIiSjZHL3WLqJKELJQM2oGTABm7JxWIxl8vJjroxAhApEq8kfKdk9ZUFgIigZMAGlAzYgJIBG1AyYANKBmxAyR1jMR2ric+vqBFYhJI7RP3XQmSDli1EyZ2h4Wd/VubjpGwfSu4Id+rV+mNe0ISSOwIlW4+SOwIlW4+SOwOfk21HyZ1B8lUpS9OEbCFK7hiScA131laiZMAGXsnZbJaSgQijZMAGXskzMzOUDESYV/LU1BQlAxHmlSwJxwqFAiUDEXV/yQAip7lkABFFyYANKBmwASUDNnBLrv8XCkBEUTJgA1VyNptVAwAiyC25XC5TMhBpbsk7OzuUDESaW3KlUqFkINLckh3HmQHg33TN5OTkxMREJpORnFro7+9PJBLJZFLt53KpVEpG5Fnt/zcyMDCg9p8ul/sXTXyb7dNdQDUAAAAASUVORK5CYII=)"
      ],
      "metadata": {
        "id": "169Ob1o4c6Uk"
      }
    },
    {
      "cell_type": "markdown",
      "source": [
        "**expand** La propiedad expand permite expandir el espacio disponible de un widget.  Si verificamos el ejercicio anterior cambiando\n",
        "\n",
        "```\n",
        "fill=tk.X\n",
        "```\n",
        "por\n",
        "\n",
        "\n",
        "```\n",
        "fill=tk.BOTH\n",
        "```\n",
        "No evidenciaremos ningún cambio.  Esto es porque los controles tienen una altura por defecto.  Para ampliar la altura podemos emplear la propiedad expand.  Ajustaremos el pack del ejercicio anterior de la siguiente manera:\n",
        "\n",
        "\n",
        "\n",
        "```\n",
        "pack(expand=True, fill=tk.BOTH)\n",
        "```\n",
        "\n",
        "\n",
        "\n",
        "\n",
        "  "
      ],
      "metadata": {
        "id": "rx-tOiUpdHDa"
      }
    },
    {
      "cell_type": "markdown",
      "source": [
        "![mongo8.png](data:image/png;base64,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)"
      ],
      "metadata": {
        "id": "l_bId8WZgLUK"
      }
    },
    {
      "cell_type": "markdown",
      "source": [
        "**anchor** La propiedad anchor permite ubicar los widgets en una determinada zona, con base en la siguiente figura:\n",
        "\n",
        "\n",
        "![mongo8.png](data:image/png;base64,iVBORw0KGgoAAAANSUhEUgAAAZsAAADxCAMAAAAqXupCAAAAaVBMVEX19fXm5ubs7Ox9fX3Q0NC8vLzj4+Oenp4AAABjY2Pq6upVVVVERERwcHDx8fHz8/Pu7u4tLS3w8PBDQ0PV1dWUlJRAQEDDw8OxsbFdXV3f3991dXXIyMjb29s/Pz+pqamIiIhPT08qKirdUBHwAAALjUlEQVR42uyYYWvjMAyGhWVJFnE+hHKM4zZ2//9X3hS1J6+rP7Vgf/AzKG0WUkVPjZwXFovFYrFYLBaLxWKxGAZXBADBpARAxV4qw7zkQwAABeYFrYF543yULyo/4ebI5ua8XdnwfD8x+ag8u5si7uaS4Sl42zWZD9KU9s+NAQkmJm+Ks7vZL/lFbt6VzA0rs37smbcME5O3r7/J3Yjgi9xkqiwISYkQRPKeYGLyxqJpcjdc6f+8wafcuGgQEQJCmnrcmJukNLkbIH1/zbqBfNkRIOOegfHX1OPG3ABVndxN0v1FbkBs5bHuCRLizDtodwNYJndj28kXuUmKdk17EZ163LgbrrO7AanXeXNMvbVaLBaLxWIxBSK3zBkaPEmDk24WLQjj4gL76lu0+33Ddj1ACAPoFRYdNSKLvjsD7y7kmXPfTTeL9tgAxpD2DFik72ZUOhuF9d08fMYRvKsZKTJnoFI0AW7lTylIurvZNos245Xt9chUypmFwhAII9q9VkWX4/el1Lftrz0+jFrTbWGdjoYbKVZqtLOtmZUjc84HJUVAN0Xl/ATQZtFcCVBZyUoQdLlDQIpol6tY1XR4CH+cn84f8ADawnoddTc+JBBTtLOp2TxF5kya7GxEX4GVvfttFm0H8/ahJsT/KwIjsJuIaHdju12qfAvhSdOIn819Yb2Otlm0YIp2tjWTpsicRZPdG4pfyWUbkUWT5w1cS+WRbqzoiHapsh2wit3UKDf3hT3uaKybpKeipp1I7bqJzNktP3ATWTRpCqsTrBuPdn3dzOGmKSzWTc+N+JFoZ1szK98y55g3P9xEFm3zRmre8iTzxqPd67xp3YycN1FYdLTrhitytPNbzUi3zDn2aWLvsHETWbRvKezEykDD92ke7fo+zYVwrW/uZtw+LQrrdTQfMRs+NUU725qfvIHBzzddBj/fPLPoXtbcwbkA9BidC0CfOWteLBaLxT/27RiHgRAIgiBzIQGs7v+P9QUrAgeWM7fkri+0QBPA96qGmFayhoh2HnsIaOYxh3hmYhymSnMP0FRiHKaVw7EGk8OxBjPT3AM0V96wvzz8k0pzD9CsNPcAzU5zD+DMNPcAzZXmHqCpNPcAzZ0P7qHf2WnuAbIcQzC2wdq2wbINl23AbIPluQGzDZdtsLzTuGzDZRsu23DZhss2XLbhsg3X9oHNi72zUWoUBgJwkiUE0vJTLP31ztP3f8jbTU+oLR2PDsjS7je10SiZcT+XhI0tbJG84Usubtgibvgi5zS+SN7wRdZpfBE3fJH5hi+55A1bxA1fxA1fxA1fxA1fxA1fxA1fxA1fxA1fxA1fxA1fxA1fxA1fKnHDFnHDFzmn8UXc8EXOaXwRN3yp5D3t2FJK3rBF3PBF5hu+SN7wRfKGL+Ot057vTT+L2bgxTN4+P9xYPg1PTo1JPnQEy/Hc6FINhUsIUPdAN/6PF4tIxfgxIqWek5vhhnTp/UOZ1CoL4C7vJM741/0JN9oX07tRzuHDgnKgxsPrublBOdO7sWmcRXEag1VjUXg9PzdaV8PNN3fGNk4jMCZ7zSI1DhTEWbrR5dR5o/7UgEO8gVHjYPRc3WgztRu3sErZ7E2Ng9ejuynHcqN9Ma2b6CVSKl5aNQY01cw3b5B8kPkmZbjFlGtkfDdFUYTCQ9GQN21+RZVXSFl9tuUl5hnud1TqM4wpDdG2iDfe+1N7A02Zd2rH5bnuFGb0Q+Afr/ZZeD0g602S7A/UIB/b9eaInfXxsE+IfdT0hy8Pw8phUvscjHxgNTWq2B/Wm92/rz+22EGCtr/xs7Yf28O+1vfA4yZ7cbpdxErBkp5AnQNOgR2igj8kpIVivmscvGfYc8MN9Q+M6RneuK0/940tWCo7m+zFUrHz4ngamtlU02RC68bud2zzBmx7XdM3tlRzBodNDeGHIUmcUjZJluSbip/M8uaAIgKf88n6fbvbrBs3bX9oqXu6+YbC27gxKV3d9IitIxOADxzFpgbHiVYhk5wjZzQ4r/mmI2+2+lh3503o0BOu05xr6wEAKl72iS3YsKkG1mSRc2HHExwdf8o7yiVm67Qw3+jj7swNOsg63eh6s570+gbsl/qzSe3/xzZMMVh6hhiHQUHpadqKVph9n8czu76hdRrF/NyNrpOb8433WoeHv4Ux4dmbDu6catrwtnkTrUhRj9gC+XQ1ZpetIT5bDThojx+8LlCa8oKqrJAcn0+fVHkHp9LLYUln7CLGBqE/RKN/7U9uXpVq+kNd0K6iKetp0LoxqSNXPWIb5iO7CGe/OowTLx2e5M7OifzraYZtHdq5L25sYnvElr5PU1Q4lkSHlbgLKwoX1hIzqENfuWGzf4PhberPFkMLrk9swX5z6TSD/ZsON1z2PcHeH1v6iW+H5r7v2eWGyf8LUHhvx5YT5SzdPGD1uYvCz8/Nk6hB/NzcPOaGWjdmXm4edSO6m3JObh5tL+3HX0fgr9xwfTUKf4rZuBGGc1MpgRdG3LBF8oYvkjd8ETd8kXMaX8TNX/bu3QZCGAqAIC91cif6L5YMEpOPxE4LK39kWbarNq7auGrjqo3rafO1Y2NfbVy1cdXGVRtXbVy1cdXGVRtXbVy1cdXGVRtXbVxz+94dWV1tXLVxrdqwGjeuxo2rPbRrasNqvXHVxlUbV21ctXHVxlUb19yOYGrjqo2r9cZVG1dtXLVx1cbVPs1VG8xvNprdDOemSI9AIP7GT4/ZWfNiHbnaO8OexmEYDFtx7CQ0Pa6giS8g+P+/8vom66WwjQ9HRXwir0YbijWcPHHiGKT11t1AY1b3Iw+wq18NyPgnNWt6GCmaXbn3YH7WZ6JY193IA+xq5AF2dT/Q2NXDyAPs6vco1djV3cgD7OpuoDGr+5EH2NWvn1aq4RijkCRHLpVLIKPSnFJWsivNMWbFbdXiv44mOfKL+ElJp8mTrl82pTkQBcNwNgc1Cx2hGibMLgkJcyA/W61V+UeP/tv6YPNrDh7mY4hc72F9CVNgMiqXol0uzcEj54/mCDySdPaa1NgH7r+TxGgbT3Ww7jfJHbawafLs3Pw8W91utnXDtn9w8Ki40aREZSF7O/HaeGWr2w0Jl2lkN3A2B49iQ8xbgjEJkcyvZFWly7LYjZvNQdyPO9+E/yENKuu4YTSbg+VmfWccGhoaGhoaMqQQtjLpewUuNWioHh4k4pL1vVGXOht+J1/JePyk6+t8pOggFvLL5clfJ787fnGEwoXF7K90s9Vxb7EhhsXEePrRCHC/WejGuUx+iw31KDEJF5fg22dsmJqaBUhcot4OMGCetRAJLDGypLnGE565+XVS4rMVrouHUakgfK+EtzI5GggfEJH0kmN+mt5wlOgRzpgykrWeCAXhAyI6Pae4PKfTEkNj0+qVvF5dgs8sl6WZViYNQF7Z4CVRXOKzmaaX2a98AZGTJiGBUY8pytLK5HB48ZWNQ9wspRNloL5ZmA6aF1/aC4ausvElboqfjQ1mFyCWWQ+Ly3W4Ti+J2+SDdWOTFbe64YBEWM3x0E8vSbY17bsXNQz7Nu3gGHq5Y/Po0eqxqNWxDTEu1QXJLzs2Aa2/+03BhCcwROMy1NuWAihZYdTYnFtQCAGBIkxS31pzzNqHDToCAQqimHjPZtJObNpeLFkDtsNpx6a29muaVEQry3CdDb7fyqS7uOGPbDzPnpRP0mii1S1utjL5Lm5CbzayJUY6+RY3/vE6G83bE5fkKhv0sZVJ636D1kc2mmZHjrlah+wn33e/QQ+bw2V5b2y67TcgUXLebb9hCstNNvhZYLq13xBLq+PWDIw45jesXdzY1HfE1IQVjCXCVjrlaa1MXvM0CnE5Jac5P1U2vfI0jA4GpuZp+O4NYJbnHZsIMRazUxL4H8ilK3naAX3oc775RB3PN18Mu4OHtltd4La61gX+Wc74H/2HhoaGhoaGhoaGLOsP5UiVaUtkN94AAAAASUVORK5CYII=)"
      ],
      "metadata": {
        "id": "Vmez8aUsbE03"
      }
    },
    {
      "cell_type": "markdown",
      "source": [
        "Supongamos que queremos ubicar el primer botón en la esquina superior izquierda (NW) y el segundo botón en la esquina inferior derecha (SE), el código sería así:\n",
        "\n",
        "\n",
        "```\n",
        "import tkinter as tk\n",
        "from tkinter import ttk\n",
        "from tkinter.messagebox import showinfo\n",
        "\n",
        "def funcion_controladora(param):\n",
        "    showinfo(message = param)\n",
        "\n",
        "ventana = tk.Tk()\n",
        "ttk.Button(ventana, text=\"1\", command= lambda : funcion_controladora(\"1\")).pack(anchor=tk.NW)\n",
        "ttk.Button(ventana, text=\"0\", command= lambda : funcion_controladora(\"0\")).pack(anchor=tk.SE)\n",
        "\n",
        "ventana.mainloop()\n",
        "```\n",
        "\n",
        "\n"
      ],
      "metadata": {
        "id": "agRyjq6sisFz"
      }
    },
    {
      "cell_type": "markdown",
      "source": [
        "![mongo8.png](data:image/png;base64,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)"
      ],
      "metadata": {
        "id": "m1RrCtsRkfh5"
      }
    },
    {
      "cell_type": "markdown",
      "source": [
        "**side**  Esta propiedad es similar en su forma a anchor, nos ayuda a fijar los widgets en las siguientes posiciones TOP, BOTTOM, LEFT, RIGHT\n",
        "Miremos:\n",
        "\n",
        "\n",
        "```\n",
        "import tkinter as tk\n",
        "from tkinter import ttk\n",
        "from tkinter.messagebox import showinfo\n",
        "\n",
        "def funcion_controladora(param):\n",
        "    showinfo(message = param)\n",
        "\n",
        "ventana = tk.Tk()\n",
        "ttk.Button(ventana, text=\"1\", command= lambda : funcion_controladora(\"1\")).pack(side=tk.LEFT)\n",
        "ttk.Button(ventana, text=\"0\", command= lambda : funcion_controladora(\"0\")).pack(side=tk.RIGHT)\n",
        "\n",
        "ventana.mainloop()\n",
        "```\n",
        "\n"
      ],
      "metadata": {
        "id": "kaWYOptLgNrr"
      }
    },
    {
      "cell_type": "markdown",
      "source": [
        "![mongo8.png](data:image/png;base64,iVBORw0KGgoAAAANSUhEUgAAAMYAAAA9CAIAAAB5rIHQAAAAAXNSR0IArs4c6QAAAARnQU1BAACxjwv8YQUAAAAJcEhZcwAADsMAAA7DAcdvqGQAAAQxSURBVHhe7du/SxthHMfxLKUd7Zipf8E1ShDamOJiFzuYoib2iiA1Ci0UAumUxalkFboFCk5u3UTI6FQHJ5dWE38EcVAQAgVx0fZ793y9XH6dudzdc9e7zwspd89zNXeP796l2sYuLi7Oz8/Pzs4ajcbJycnx8fHR0VG9Xq/VaoeHhwe637ZUK9mxsZhurFThwZZqSZvMdkxUsnRwlXe60KxgcUww0cUOc87VSil7v4bZrt9Ps8YKd8965tc9sSvaoEgoFQqGyjk9PaWQYgWWn1biGmU6zyOtsXg6Vyjk0mK7RUnnWseyXFpRlOnucQN9GjpC/4xttNfqGmxHh5jPLrTy2hrdr622Q18UfVvI6wNiqWhWafuSBYCW1F8AlyApcJmWFN1AeQ/AMS0pehDzHoBjWlL05o73ABzTk4orvAfgmJYU/c2c9+zY2tp6Ozv7uVDkfQCdllQhb+/Bd3V1tbKykkq/+P7zz+TkJI8C6MSDL857g1laWqKY6ON1uZbJZHgUQKffpex8E8Ho6bn6jZKan5+/vLzkORiM+EFKP3yQFPRye3t7vGNCg0Ofib2krq+v0+mX1NOzV8vU09S7LwsLCzz3sO3VWGq9xjtRZvHVkpwUpfPo8ZOOqnoODs5eUouLi+IWRVdOSSWTyYduUeaMkBQLTlKkIyCHPREbSdXr9dHRhNETfeRyOZ7rC0n1EKikiJGRscETQ7GRVLFYNN+iUplPMzMzPNfHKh0qrG6bkqINMRJRdPW81cViylMiJuc9ERtJzc3NGT1NfT0YHx+/vb3lub6671K19ZRvOdHJW+CDvGfxWjJPw8yfpOgxZyQ1/uZjqVTiCSudSaVSePgFLinRE/1qbPDEUGwkpaoq/SqSmpiYuLu7E+OWOpLSm4rwI08IVFIdGTmvykZSVMP7D8t0zSMjT3d3d3n0AZ13Kdo2D0VTcJLqGZDDqmwktb+/n0gk6JrL5TIPDUC7NZG2t+c1ejtFm+KACNJXpC8+SAp6uZ7p0ODQZ6IlNfgPZJrNpuRrhv+Ofpca+MfGNzc3SAqs2UuKbG5u8hZAL/TQs/2PWwAs2Hh7DjAIJAUuQ1LgMiQFLkNS4DItKfzXUHCR/k0E3KXAPfzgawK4BEmBy/jBR1s/Qk1cbRDwCYUUXWDrLkX7jZASlxoQoV9nJCUbkgoDJCUHkvIHkgoDJCUHkvIHkvLGhhqLqRu847mIJqUtsia5tsMjHvMrqZ21JOWkqkjKWxSUWGHakBSVX0kJxgXLEMWkTAtMf4jlNIWk/CFnndsykrXYSMofSMojSMpbSMpbEUzKvMB4L+W+KCZFHfEK01LLKQpJ+UTeOtMa66QttL9JSRXRpKRDUv5AUmGApORAUv5AUmGApORAUv6IVlIhpn81A4FPKKToAltJAbgCSYHLkBS4jJMCcE2h8A/6dwoSZjiXeQAAAABJRU5ErkJggg==)"
      ],
      "metadata": {
        "id": "of9A-9IamlI4"
      }
    },
    {
      "cell_type": "markdown",
      "source": [
        "### Grid Layout\n",
        "\n",
        "Este tipo de Layout organiza los widgets en forma de tabla (filas y columnas).  De esta manera, a cada widget que intentemos agregar debemos indicarle la posición (fila, columna) donde debe ser posicionado.\n",
        "\n",
        "Para esto contamos con las propiedades **column** y **row**\n",
        "\n",
        "Para el ejemplo, intentemos posicionar 6 botones en una tabla de 2 columnas x 3 filas\n",
        "\n",
        "\n",
        "```\n",
        "import tkinter as tk\n",
        "from tkinter import ttk\n",
        "\n",
        "ventana = tk.Tk()\n",
        "ttk.Button(ventana, text=\"1\").grid(column=0, row=0)\n",
        "ttk.Button(ventana, text=\"2\").grid(column=1, row=0)\n",
        "ttk.Button(ventana, text=\"3\").grid(column=0, row=1)\n",
        "ttk.Button(ventana, text=\"4\").grid(column=1, row=1)\n",
        "ttk.Button(ventana, text=\"5\").grid(column=0, row=2)\n",
        "ttk.Button(ventana, text=\"6\").grid(column=1, row=2)\n",
        "ventana.mainloop()\n",
        "```\n",
        "\n"
      ],
      "metadata": {
        "id": "Rn8LF1IkjO6c"
      }
    },
    {
      "cell_type": "markdown",
      "source": [
        "![mongo8.png](data:image/png;base64,iVBORw0KGgoAAAANSUhEUgAAAJgAAABsCAIAAAAZo+x5AAAAAXNSR0IArs4c6QAAAARnQU1BAACxjwv8YQUAAAAJcEhZcwAADsMAAA7DAcdvqGQAAASWSURBVHhe7drNShtRGMbxbEq7bG/A3kEtBKGNFjftqgstVbRTBKm4aKFQsCs3WRUvoOtCVu668wakaiPGD+JH0AakW0EQCuJG2/dkTiZxkDCJnefMPPP+kWBmIubtL2dmipP7q1GkkCQpJEkKSZJCkqSQJPUCubS09Or164+f5uxzLQF1B3l6ejo7O1sYevLt55/h4WG7VUtA3UFOT08LoXy9WPg1Ojpqt2oJqAvIQPGR91Ugx8fHT05O7L40lOuYfREk+XWVSsU+aUs29vxOov7Y+fn50NBTUXz4bEYUn7/5PDk5afelpA7/RmBIAbtz917I8saN0Ys6wNTUlL8cZWaBzOfz6VqOUnIgpRDbLRWlSAPU6/XHj/sDRfmamJiw+9JToiClAC/4xu7oqUgDzM3NtS/HwuiHkZERuy89JQ1S8glvryhFGmBsbCxQfP7lcGBg4PLy0u6LkPxgh+yL4q/D70K+jfbQkHIgDSAHXr6fn5+3O1JV0iB9RXkMvrE7eirSAJ7nyaMPOTg4eHV15W9PV4mCDOHd3jLSAIVC4e27GZn2/v0H5XLZbk1byYG8ke2WlpEGqFar/f39Mu3CwoLdlMLk/XfIvgiS/LobwWRjz+8k6o+dnZ2Bp9W6KqrNxcWFQia5LmwWFxftd1ry0kVGkkKSpJAkKSRJCkmSQpKkkCQpJEm5M40iA/mdOn9O+4Q0GdBC/ibNHzILMypk6lNIkhSSJIUkSSFJcgRZ8nI5r2SfxB4e0szXKF9ctptiDg+5XMwLoucRQy4Xi3Y2AQVR4iH9ZELmFdlMPrUK+f9yB4kbUyFjDHdgVcjYMpcCMEVJIeMId2oMUsgYgg5nU8j/X+M/WK0wa9MVJDQwpJMUkiSFJEkhSVJIkhSSpGuQxDUc+Wc0kBpBCkmSHloZkgH1Yif1ZRSyr6+P7DGLkP7kZGURkixdkVRlEZIsVyuy9WdX2F+WQ5CwFYm8bwcPWSr5fmZKEGUIElXJ3G4eP6TzcyTubo8QJGZFygfVK+JuwnIHCbxrJwSJyDCWzCPxijTHVOQZ0sGKbAJCIP0cQNrMGQQ0ZQgy7lp83CsyCHZwDUHGvCIb1zjtQT6ucMjmRWtjYM4V2Yp5Rcps9oOKO0uGIOM/RzbLxDkSWAiSLPfnSFghSNyKBJZFSLJ0RVKVRUjJt2R6zCgkX9cgiWs48s9oIDWCFJIkPbQyJAPqxU7qU0iSFJIkhSRJIUlSSJIcQOL/tOwEsnnHB/QuCCgk7FadIDwk7jaWZk4gwTPiIfEjOoBsHVlhw6IhzTHHwx5ZXazIZrx30ZnTox0NNqRDSPSQuBnNimy76RNyReAYEnPVo5BxZs6VpIdWo+ePZoZEfliRkDKkDTOhBIdsu6RDDYmHdJADSHgKSZJCkqSQJCkkSQpJ0jVI4hqO/DMaSI2g3CeNotzh4eHBwcHu7u7Ozs7W1lalUtnY2FhfXy+Xy2tra6urqysrKz+0xCQcgiI0AiRMgrW5uSl2uePj43q9fnR0VKvV9vf39/b2qtWq7Nje3pZXSD6tlpCEw3cRIGESLFGr1Wr/APgiRv/8pl+SAAAAAElFTkSuQmCC)"
      ],
      "metadata": {
        "id": "bGTUCWq6rXue"
      }
    },
    {
      "cell_type": "markdown",
      "source": [
        "Algunas veces necesitamos expandir columnas o filas, para ello usamos las propiedades **columnspan** y **rowspan** respectivamente.\n",
        "\n",
        "Por ejemplo, intentemos ubicar el botón con el número cero (0) debajo del 5 y 6 ocupando ambas columnas.\n",
        "\n",
        "Agreguemos la siguiente línea debajo del botón 6\n",
        "\n",
        "\n",
        "```\n",
        "ttk.Button(ventana, text=\"0\").grid(column=0, row=3, columnspan=2)\n",
        "```\n",
        "\n"
      ],
      "metadata": {
        "id": "g1GSnfLclvE1"
      }
    },
    {
      "cell_type": "markdown",
      "source": [
        "![mongo8.png](data:image/png;base64,iVBORw0KGgoAAAANSUhEUgAAAJsAAACDCAIAAAAVhv4tAAAAAXNSR0IArs4c6QAAAARnQU1BAACxjwv8YQUAAAAJcEhZcwAADsMAAA7DAcdvqGQAAAU4SURBVHhe7dpNSytnGMbxbEq7PP0E/Qb1QBBatbg5XXWh5SjaOQjSg4sWCoJducmq+AG6LmTlrju/gFRjQhKNMSqxInQrCEJB3Gh7T+bO5IUQnJi5n8k11x8RM5ODuf1lXg55Mpubm/8xiITy6uqKojgJ5eXlJUVxEspGo0FRnISyXq9TFCehrNVqI4ru7e19//79L5tb+pglIKE8OTmJLHp3d7exsTEz99UfR//Oz8/rVpaAhLJarUYWXV9fF0v5+nbn78XFRd3KEpBQViqVaKIh55fe7yK6vLx8e3ur+yahzND0SSbJr5O/vj7oyicZ9ZUIZblcjiD68PAwN/e1cH7xzUfhfPfDr6urq7pvQhryxzIWFblPPv2sD3XgxpcnlKVSKYLo2tpacIDK8CKazWYn6wCVkiMq9fm9klMSymKx+FLR6+vrt2+nQk75WllZ0X2TU6JEpVAx/EF3jJRQHh0dvVR0a2ur+wCdWfx5YWFB901OSROVAsvXc0rRRJeWlkLOd781p6enn56edN8Lkn84JH1S/A35XZYvoztnonKODUWnv/tpe3tbd0xUSRMNOOV7+IPuGKloop7nyfdAdHZ29vn5Odg+WSVKtE/x9ajRRGdmZj78+FHGfvPmc7mh0q2TVnJEB/q9EjWaaL1en5qakrF3dnZ00wQmr39I+iST5NcNlJONI7+SaKLS/f298dgsUpFFHx8fKZrkIotKu7u7+hNLXqOIsiRHUbQoihZF0aIoWhRFi6JoURStjug9g6hH9E/ogoH1AWgyYL/oP6AF06ZhRoriRFG0KIoWRdGiKFquRfNeJuPl9UHs2Yv687XK5vZ1U8w5FN3PZUXT84BF93M5nU1kjUwdigbJqMjHaDt5+1I0htyJ2o1JUYvszrkUjT//dsGMU6JorNldPsMoGmemw2kUjbHW/8862RytzkVNMxZ1EkXRoihaFEWLomhRFK3BosC1QPFn7BFlAFEUrR5RPXRBCwbWB6DJgP2iepGFK5g2DTNSFCeKokVRtCiKFkXRcija+TzY7CNvV6KWa40ciubzAaQ/rpGpI9G8v7A+BaJhdgtTnIjKO9bL2a0gS4Co4UojB6K+Z97/ngZR/3RreRV1INqWTImo5l9ljMY1Fu04pkvU8LxrK9q6IerOBNWdaPtWtzU55jHaKRXHqAypb127KylF0XImahhF0aIoWhRFi6JoURStwaLAtUDxZ+wRZQBRFK0eUT10QQsG1gegyYD9onqRhSuYNg0zUhQniqJFUbQoihZF0XIpav+ZtxPR9uIU03UabkTNlheF2Yvarbhp51bUeFh7UfsRXYp2TrpmU1uL+mchz/ak6/QYbYe7FtC/hOpoZkMmQdR6WrsZ/WO0aw2ryV1DUkRtbpEoapJ/PQU96/qMwWj+kJbvWieiMq1mM6pkLtp1/2c1pENRBzkQNY+iaFEULYqiRVG0KIrWYFHgWqD4M/aIMoAoipZjUT1ZgKZD2uZeVC/rcFEULYqiRVG0KIoWRdGiaMy1P2U3WjNB0ZgLl/qEi0Vij6JxFoK21ooYrz40LhWiPYpdurFG0RijqF0UHXupEE3bdbRQKKCLCqOSiq0NKEXjTihbmZxx/SiKlkPRFFxHXURRtByKFotFio4/h6KlUomi48+haLlcpuj4cyhaqVRcigKnQ9omlMfHx85E2dgTytPTU1+UwXR+fp65ublpNpsXFxdnZ2e1Wk0OWzkXywVW7prkVrhQKBweHh4cHPzFEpNwCIrQCJAwCVa1WhW7RqPRbDb/B5BuW58B8shIAAAAAElFTkSuQmCC)"
      ],
      "metadata": {
        "id": "8hffINTLuFYd"
      }
    },
    {
      "cell_type": "markdown",
      "source": [
        "Ya el botón está ocupando las dos columnas, pero no rellena el espacio sobrante.  **¿qué propiedad adicional usarías?**"
      ],
      "metadata": {
        "id": "pY1Grz-duH9M"
      }
    },
    {
      "cell_type": "markdown",
      "source": [],
      "metadata": {
        "id": "rEGfCYM8vzPc"
      }
    },
    {
      "cell_type": "markdown",
      "source": [
        "Las propiedades fill y expand no funcionan con layouts de tipo Grid.\n",
        "\n",
        "La propiedad **sticky** puede ser usada para ampliar el widget an sentido horizontal con su valor **EW** o vertical con su valor **NS**.  \n",
        "\n",
        "agrega esta propiedad con el valor tk.EW al grid del botón cero (0).  La línea quedaría así:\n",
        "\n",
        "\n",
        "\n",
        "```\n",
        "ttk.Button(ventana, text=\"0\").grid(column=0, row=3, columnspan=2, sticky=tk.EW)\n",
        "```\n",
        "\n"
      ],
      "metadata": {
        "id": "Y1EQGfU5v8t7"
      }
    },
    {
      "cell_type": "markdown",
      "source": [
        "![mongo8.png](data:image/png;base64,iVBORw0KGgoAAAANSUhEUgAAAJoAAACCCAIAAAAxGEa2AAAAAXNSR0IArs4c6QAAAARnQU1BAACxjwv8YQUAAAAJcEhZcwAADsMAAA7DAcdvqGQAAAVUSURBVHhe7dpPSytnFMdxN6Vd3i676jtoLgShjSlublddmKISmyJILy5aKAh25Sar4q6bdlvIyl13vgE3mpCo+aMx16uCuBMEoSButD2T5+RJDCE3o53zzPOb80UkmSjm+HGemZiZ+lfzv7W1tfPz86urK+VEiDhPT08vLy+VEyHiPDk5ubi4UE6EiPPo6Ojs7Ew5ESLOZrNJ661yIkSc9Xq90+mE5tze3v5ufv6XtXW+r8Ug4jw8PGy32yE4b25uVldXM9kv/9r7Z3Z2lrdqMYg49/f3j4+PQ3CurKwQJH18s/k+l8vxVi0GEWetVmu1WpNyWssvCn8Q5+Li4vX1NT/mQ1Nj4y8SiX4c/er5zkC08dnPhDir1SqdDU30/Xd3d9nsV2T5+ddvyfLN978uLS3xY5405jclzElsH338yZDoyI2TR5yVSqXRaEw0yfLystk1aXLiTKfTfu2aVHw4qSG8F1pSxFkul+nk9sOT0IvT169T1pI+8vk8P+ZPseKkLKG9wQ88K+Lc29ujk9sPT7K+vj64a2ZyP8/NzfFj/hQ3TspAvtySCsG5sLBgLd/89m56evrh4YEfmyD6xjHxF0XfmJ8l+TQGc8NJS6vlnP72p42NDX7Aq+LGaSzps73BDzyrEJyFQoE+G86ZmZnHx0ez3a9ixTlE+HLREJyZTOaHH9/SzK9efUqnT7zVt+LDORLvhaIhOOnFaSqVopk3Nzd5k4fR8x8Tf5FI9ONGstHGZz+TEJzU7e2t8MxaqMJx3t/fK2ecC8dJbW1t8S0tfuWzn9H+NjX/p+5zCAV75++5QJQ3aD7X45xXToSYUxdbjJQTKl1soWLOVEo5EdLFFqo+563mf33Ov6Ez0/Id0GhA/q8QRfcvQTOjGk7eBJeZMdg7zf9sldPrlBMq5YRKOaFSTqiccpYKU1OFEt+JPHnOYL5u6eIOb4o4V5w7xTRRFgrAnDvFIs9GrEKgrjhNNCfy3tmL/naV8//OHafcmMoZeXJLrXJGXHCKIGZJKWd0yR0ybcoZWaLDccoZVd2XYv1k9lO3nKIJczpJOaFSTqiUEyrlhEo5oRrBCZzlBO4JpxlY8zrlhEoXW5yGOfmoCpcZ1XDyJriUEyrlhEo5oVJOqJQTKubMZ/ldVqlR+2/uir1/7YpT8noh5hTfO0sloxjMKgTqiLMUXAqPzmmTu77ECSf9uRaKcpeAMaf4YttL8GohB5wBZin4DL93BqssJXbkdMDZY0wCJxccWYRmFebsIyaIU3C5leXsngENJiLqiLN3YtsdG3Pv7Ie/d9KE/Ecrd/RUTqiccQqmnFApJ1TKCZVyQqWcUI3gBM5yAveE0wyseZ1yQqWLLU7DnHxUhcuMajh5E1zKCZVyQqWcUCknVMoJlTNO+TewnXD2rjERveLCAafYJUI2eU65C2d6OeQUnlSeU35EZ5z9tVZsZGnOYP0pyK617vbOXrhX8gWHTR5NbEjnnNKjinLas4PB21EWC06ZcyLljL7gGAq62AaGZrRgSMk/WXlOGpWTmZMS5xw44ZMa0hWngxxwiqecUCknVMoJlXJCpZxQjeAEznIC94TTDKx5nXJClZTFNgkNc/JRVfMw5YRKOaFSTqiUEyrlhCpJnL23zIWufnBRcjjt5Tr2mg/AEsNpNbuXfKB6JoXzCeEALVjKCZVyQpUUzqQdO3d3dw8ODnA5yZA9CRZVMzmcFDl2A11og5LEmYAsJ/qxMxkpJ1SWs1wu1+t15fQ7y1mpVBqNhnL6neWsVqvNZlM5/c5y1mq1VqsVcGpeZzjpVUq73dbrbBEiTjpwdjqd/wDGwlpbjGD8qQAAAABJRU5ErkJggg==)"
      ],
      "metadata": {
        "id": "lMDhOEEbxtej"
      }
    },
    {
      "cell_type": "markdown",
      "source": [
        "### Place Layout\n",
        "\n",
        "El layout tipo place posiciona un widget en una ubicación específica del contenedor usando las coordenadas X , Y.\n",
        "\n",
        "Vamos a realizar un ejemplo posicionando 3 botones en 3 posiciones específicas:\n",
        "\n",
        "\n",
        "```\n",
        "import tkinter as tk\n",
        "from tkinter import ttk\n",
        "\n",
        "ventana = tk.Tk()\n",
        "\n",
        "ttk.Button(ventana, text=\"1\").place(x=10, y=20)\n",
        "ttk.Button(ventana, text=\"2\").place(x=50, y=40)\n",
        "ttk.Button(ventana, text=\"3\").place(x=90, y=40)\n",
        "\n",
        "ventana.mainloop()\n",
        "```\n",
        "\n"
      ],
      "metadata": {
        "id": "eLW9-y_Qxvcy"
      }
    },
    {
      "cell_type": "markdown",
      "source": [
        "![mongo8.png](data:image/png;base64,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)"
      ],
      "metadata": {
        "id": "Ab3Gnjeu0O9V"
      }
    },
    {
      "cell_type": "markdown",
      "source": [
        "Como podemos ver, las posiciones específicas pueden darnos lugar a comportamientos no deseados"
      ],
      "metadata": {
        "id": "jk8vtzcc0cqD"
      }
    },
    {
      "cell_type": "markdown",
      "source": [
        "## Apropiación Ejercicio 1\n",
        "\n",
        "Realice una calculadora básica y funcional con las operaciones (suma, resta, multiplicación y división), utilizando interfaz gráfica Tkinter."
      ],
      "metadata": {
        "id": "WtLvSwT21xCs"
      }
    },
    {
      "cell_type": "code",
      "source": [],
      "metadata": {
        "id": "tzgQf5GccwN3"
      },
      "execution_count": null,
      "outputs": []
    },
    {
      "cell_type": "markdown",
      "source": [
        "## Apropiación Ejercicio 2\n",
        "\n",
        "\n",
        "\n",
        "1.\t**Piedra papel o tijera:**  Debes preguntar al usuario una opción entre piedra, papel o tijera y una vez ingresada su opción se debe mostrar la opción ingresada por el usuario y la obtenida de manera aleatoria por el computador.  El programa debe indicar el ganador con base en las siguientes reglas: Piedra gana a Tijera, Tijera gana a Papel, Papel gana a Piedra.  En caso de empate se debe continuar hasta que haya un ganador.  Utiliza interfaz gráfica TKinter.\n",
        "\n",
        "![piedra.png](data:image/png;base64,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)\n",
        "\n",
        "\n"
      ],
      "metadata": {
        "id": "dtBIBPwBIyyK"
      }
    },
    {
      "cell_type": "markdown",
      "source": [],
      "metadata": {
        "id": "4pqborEmdFuE"
      }
    },
    {
      "cell_type": "code",
      "source": [],
      "metadata": {
        "id": "BWFnHvcx83Gy"
      },
      "execution_count": null,
      "outputs": []
    }
  ]
}