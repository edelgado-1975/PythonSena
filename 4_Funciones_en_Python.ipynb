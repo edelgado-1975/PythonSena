{
  "nbformat": 4,
  "nbformat_minor": 0,
  "metadata": {
    "colab": {
      "provenance": [],
      "include_colab_link": true
    },
    "kernelspec": {
      "name": "python3",
      "display_name": "Python 3"
    },
    "language_info": {
      "name": "python"
    }
  },
  "cells": [
    {
      "cell_type": "markdown",
      "metadata": {
        "id": "view-in-github",
        "colab_type": "text"
      },
      "source": [
        "<a href=\"https://colab.research.google.com/github/edelgado-1975/PythonSena/blob/main/4_Funciones_en_Python.ipynb\" target=\"_parent\"><img src=\"https://colab.research.google.com/assets/colab-badge.svg\" alt=\"Open In Colab\"/></a>"
      ]
    },
    {
      "cell_type": "markdown",
      "source": [
        "![M I S I Ó N.png](data:image/png;base64,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)"
      ],
      "metadata": {
        "id": "Lh0GB1Vk-u-R"
      }
    },
    {
      "cell_type": "markdown",
      "source": [
        "# Introducción"
      ],
      "metadata": {
        "id": "PA4RUJRG-FZN"
      }
    },
    {
      "cell_type": "markdown",
      "source": [
        "En programación algunos términos se pueden confundir y es el caso de las **funciones** y los **métodos**\n",
        "\n",
        "**¿Reconoces la diferencia?**"
      ],
      "metadata": {
        "id": "zbZMDthPAPdl"
      }
    },
    {
      "cell_type": "code",
      "source": [
        "x = \"abc\"\n",
        "print(x.upper())"
      ],
      "metadata": {
        "id": "MTi7FY_-92Zv"
      },
      "execution_count": null,
      "outputs": []
    },
    {
      "cell_type": "markdown",
      "source": [
        "En Python contamos con 4 tipos de funciones:\n",
        "\n",
        "\n",
        "1.   **Funciones integradas**\n",
        "2.   Funciones en módulos preinstalados\n",
        "3.   **Funciones definidas por el usuario**\n",
        "4.   Funciones Lambda\n",
        "\n"
      ],
      "metadata": {
        "id": "mLaRofMaBCe6"
      }
    },
    {
      "cell_type": "markdown",
      "source": [
        "# Funciones integradas\n",
        "  Estas funciones están a disposición del programador y ya hemos utilizado algunas de ellas.\n",
        "\n",
        "Consulta aquí la\n",
        "[Lista de funciones integradas](https://docs.python.org/3/library/functions.html)\n",
        "\n",
        "Utilizando funciones integradas, termina los siguientes programas:"
      ],
      "metadata": {
        "id": "yMG8hJ1tHgeO"
      }
    },
    {
      "cell_type": "markdown",
      "source": [
        "1. Dada una expresión aritmética en una variable tipo cadena, determinar el resultado de la misma"
      ],
      "metadata": {
        "id": "Nc_O2ygdIPi9"
      }
    },
    {
      "cell_type": "code",
      "source": [
        "expresion = input(\"Ingrese expresión aritmética:\")\n",
        "print (eval(expresion))\n"
      ],
      "metadata": {
        "id": "GMZr_FNzICgA"
      },
      "execution_count": null,
      "outputs": []
    },
    {
      "cell_type": "markdown",
      "source": [
        "2. Dada una lista de números, devolver el menor y el mayor de ellos"
      ],
      "metadata": {
        "id": "pebK-cEFKjjG"
      }
    },
    {
      "cell_type": "code",
      "source": [
        "numeros =[5, 6, 2, 8, 3]\n",
        "print (f\"Mayor es {max(numeros)}\")\n",
        "print (f\"Menor es {min(numeros)}\")"
      ],
      "metadata": {
        "id": "Db70gUW5KptW"
      },
      "execution_count": null,
      "outputs": []
    },
    {
      "cell_type": "markdown",
      "source": [
        "3. Dado un número, mostrar su representación en sistema binario, octal y hexadecimal"
      ],
      "metadata": {
        "id": "jxbSzwNcLFjg"
      }
    },
    {
      "cell_type": "code",
      "source": [
        "num = int(input(\"Ingrese un número:\"))\n",
        "num_b = bin(num)\n",
        "num_o = oct(num)\n",
        "num_h = hex(num)\n",
        "print(f\"El numero {num} en binario es {num_b}, octal es {num_o} y hexa es {num_h}\")"
      ],
      "metadata": {
        "id": "e5xFFRZEMFg-"
      },
      "execution_count": null,
      "outputs": []
    },
    {
      "cell_type": "markdown",
      "source": [
        "# Funciones definidas por el usuario\n",
        "\n"
      ],
      "metadata": {
        "id": "ewKErNu3DFme"
      }
    },
    {
      "cell_type": "markdown",
      "source": [
        "## Definición e invocación de funciones\n",
        "\n",
        "La sintaxis para definir una función es la siguiente:\n",
        "\n",
        "```\n",
        "def nombre_funcion():\n",
        "    codigo_funcion\n",
        "```\n",
        "para invocar a una función previamente definida basta con escribir su nombre y en caso de tener parámetros enviarlos entre paréntesis.\n",
        "\n",
        "\n",
        "\n",
        "```\n",
        "#invocación de una función\n",
        "nombre_funcion()\n",
        "```\n",
        "\n",
        "\n"
      ],
      "metadata": {
        "id": "c_73fUW1NWGH"
      }
    },
    {
      "cell_type": "markdown",
      "source": [
        "Una función puede recibir cero o varios parámetros."
      ],
      "metadata": {
        "id": "SRByfv5rDw-s"
      }
    },
    {
      "cell_type": "code",
      "source": [
        "#Ejemplo función sin parámetros\n",
        "\n",
        "#definición de la función\n",
        "def tabla_del_5():\n",
        "    for i in range (1,11):\n",
        "        print(f\"5 x {i} = {5 * i}\")\n",
        "\n",
        "#invocación de la función\n",
        "tabla_del_5()\n"
      ],
      "metadata": {
        "id": "-g-H0oDVEApH"
      },
      "execution_count": null,
      "outputs": []
    },
    {
      "cell_type": "code",
      "source": [
        "\"\"\"\n",
        "def mi_funcion(nombre):\n",
        "  print(\"hola\",nombre)\n",
        "\n",
        "mi_funcion(input(\"ingrese nombre\"))\n",
        "\n",
        "\n",
        "def mostrar_datos(*args):\n",
        "  print(type(args))\n",
        "  print(args)\n",
        "\n",
        "\n",
        "mostrar_datos(2,4,5,6,5,7,76,5,\"fd\",\"papa\")\n",
        "\n",
        "\n",
        "def mostrar_datos(**kwargs):\n",
        "  print(type(kwargs))\n",
        "  print(kwargs)\n",
        "\n",
        "mostrar_datos(nombre=\"Juan\", telefono=\"232332\")\n",
        "\"\"\"\n",
        "\n",
        "suma = 0\n",
        "def devolver_sumatoria(num):\n",
        "  global suma\n",
        "  suma= suma + num\n",
        "  return suma\n",
        "\n",
        "while True:\n",
        "  numero = int(input(\"ingrese numero entero termine con negativo:\"))\n",
        "  if numero < 0:\n",
        "    break\n",
        "  print (devolver_sumatoria(numero))\n"
      ],
      "metadata": {
        "id": "7YlzHGOk8h71"
      },
      "execution_count": null,
      "outputs": []
    },
    {
      "cell_type": "code",
      "source": [
        "#Ejemplo función con parámetros\n",
        "\n",
        "#definición de la función\n",
        "def tabla_del_numero(num, limite):\n",
        "    for i in range (1,limite+1):\n",
        "        print(f\"{num} x {i} = {num * i}\")\n",
        "\n",
        "#invocación de la función\n",
        "#tabla_del_numero(32, 20)\n",
        "print(\"-\"*30)\n",
        "tabla_del_numero(int(input(\"numero:\")),int(input(\"limite\")))"
      ],
      "metadata": {
        "id": "9zI34hFXFifF"
      },
      "execution_count": null,
      "outputs": []
    },
    {
      "cell_type": "markdown",
      "source": [
        "## Argumentos por nombre y parámetros por defecto\n",
        "\n",
        "Miremos el siguiente código.  ¿Puedes predecir los resultados antes de ejecutarlo?\n",
        "\n"
      ],
      "metadata": {
        "id": "HSV1S4m6TA1A"
      }
    },
    {
      "cell_type": "code",
      "source": [
        "def dividir (x, y=2):\n",
        "  res = x/y\n",
        "  print (res)\n",
        "\n",
        "dividir (4, 3)\n",
        "dividir(8)"
      ],
      "metadata": {
        "id": "UYz31x6jSf-o"
      },
      "execution_count": null,
      "outputs": []
    },
    {
      "cell_type": "markdown",
      "source": [
        "*   Los parámetros pueden tener valores por defecto que sólo se tomarán si no se envía un argumento asociado al parámetro.\n",
        "*   Los argumentos son posicionales por defecto.\n",
        "*   Si se envían parámetros por palabra clave, el orden no importa.\n",
        "*   Si se mezclan argumentos por posición y por palabra clave, estos últimos deben ir al final.\n",
        "\n"
      ],
      "metadata": {
        "id": "irVA-Q41U58m"
      }
    },
    {
      "cell_type": "markdown",
      "source": [
        "## Número de argumentos indeterminados\n",
        "\n",
        "Algunas veces nos pueden llamar a una función con un número variable de argumentos.  En ese caso, debemos preparar a la función para que pueda tomarlos y gestionarlos en su interior."
      ],
      "metadata": {
        "id": "siBPb8btkByb"
      }
    },
    {
      "cell_type": "code",
      "source": [
        "def suma (*args):\n",
        "   return sum(args)\n",
        "\n",
        "\n",
        "print (\"La suma de los numeros es :\", suma (5, 2.4,5,3,8,9))\n"
      ],
      "metadata": {
        "id": "Calo_gV3kaDz"
      },
      "execution_count": null,
      "outputs": []
    },
    {
      "cell_type": "markdown",
      "source": [
        "Si además de recibir valores variables, queremos recibir los nombres de las variables podemos definir nuestro parámetro como un diccionario variable. Veamos:"
      ],
      "metadata": {
        "id": "ay7y0Xm6lMgx"
      }
    },
    {
      "cell_type": "code",
      "source": [
        "def mostrar_info(**kwargs):\n",
        "    print(type(kwargs))\n",
        "    for k in kwargs:\n",
        "        print (f\"{k} : {kwargs[k]}\")\n",
        "\n",
        "mostrar_info (nombre=\"Julian\", apellido=\"Valencia\")\n",
        "mostrar_info (nombre=\"Juan\", apellido=\"Velez\", edad = 32, tel =\"32323\")"
      ],
      "metadata": {
        "id": "J08V4E9vlpHE"
      },
      "execution_count": null,
      "outputs": []
    },
    {
      "cell_type": "markdown",
      "source": [
        "## Retorno de valores\n",
        "\n",
        "Como en la mayoría de lenguajes de programación en Python empleamos la palabra reservada **return** para devolver un valor o resultado desde la función hacia la parte del programa donde fue invocada."
      ],
      "metadata": {
        "id": "NormDcBWNwMW"
      }
    },
    {
      "cell_type": "code",
      "source": [
        "def sumar (x, y):\n",
        "  return x + y\n",
        "\n",
        "print (sumar(4,3))"
      ],
      "metadata": {
        "id": "D52AAPe5Wc9A"
      },
      "execution_count": null,
      "outputs": []
    },
    {
      "cell_type": "markdown",
      "source": [
        "En Python podemos tener funciones que retornen varios valores.  En ese caso los valores retornados se tratarán como una Tupla.  Miremos:"
      ],
      "metadata": {
        "id": "9T2rM0zrW6qQ"
      }
    },
    {
      "cell_type": "code",
      "source": [
        "def mi_funcion():\n",
        "    return 1, \"a\", 3.5\n",
        "\n",
        "x = mi_funcion()\n",
        "print (type(x))\n",
        "print (x)"
      ],
      "metadata": {
        "id": "F5KHFfbkXI9o"
      },
      "execution_count": null,
      "outputs": []
    },
    {
      "cell_type": "markdown",
      "source": [
        "Al ser una tupla, podemos acceder a los valores devueltos a partir de su posición e incluso podemos realizar cualquier operación permitida para las tuplas.."
      ],
      "metadata": {
        "id": "GhzCZeFkXkFX"
      }
    },
    {
      "cell_type": "code",
      "source": [
        "def mi_funcion():\n",
        "    return 1, \"a\", 3.5\n",
        "\n",
        "\n",
        "for x in mi_funcion():\n",
        "  print (x)\n",
        "\n"
      ],
      "metadata": {
        "id": "Ajq4AEY1X5Ji"
      },
      "execution_count": null,
      "outputs": []
    },
    {
      "cell_type": "markdown",
      "source": [
        "## Parámetros por valor y por referencia\n",
        "\n",
        "¿Podrías predecir qué se imprime en los siguientes códigos?"
      ],
      "metadata": {
        "id": "zTKKo-7rZ_Sw"
      }
    },
    {
      "cell_type": "code",
      "source": [
        "def doblar_valor(x):\n",
        "     x = x * 2\n",
        "     #print (\"dentro de la funcion \", x)\n",
        "\n",
        "\n",
        "x = 10\n",
        "doblar_valor(x)\n",
        "print(x)\n"
      ],
      "metadata": {
        "id": "WV4sdpfYaNWZ"
      },
      "execution_count": null,
      "outputs": []
    },
    {
      "cell_type": "code",
      "source": [
        "def doblar_valores(ns):\n",
        "    ns [0] = ns[0] * 2\n",
        "    ns [1] = ns[1] * 2\n",
        "    ns [2] = ns[2] * 2\n",
        "\n",
        "ns = [10,50,100]\n",
        "doblar_valores(ns)\n",
        "print(ns)"
      ],
      "metadata": {
        "id": "ZoML-T0OaesY"
      },
      "execution_count": null,
      "outputs": []
    },
    {
      "cell_type": "markdown",
      "source": [],
      "metadata": {
        "id": "AyDHDlHnAqi_"
      }
    },
    {
      "cell_type": "markdown",
      "source": [],
      "metadata": {
        "id": "XeRJ9jLbArso"
      }
    },
    {
      "cell_type": "markdown",
      "source": [
        "*   Los tipos simples se pasan por valor: *Enteros, flotantes, cadenas, lógicos...*\n",
        "*   Los tipos compuestos se pasan por referencia: *Listas, diccionarios, conjuntos...*\n",
        "\n",
        "\n"
      ],
      "metadata": {
        "id": "IKU4L0dJbXd7"
      }
    },
    {
      "cell_type": "markdown",
      "source": [
        "## Ámbito de las variables en una función\n",
        "\n",
        "\n"
      ],
      "metadata": {
        "id": "Y00CLdHzYzWI"
      }
    },
    {
      "cell_type": "markdown",
      "source": [
        "Con relación a las variables, los cambios en las variables al interior de una función no tienen efecto por fuera de ella.  Veamos"
      ],
      "metadata": {
        "id": "pAOwLGQRiFxQ"
      }
    },
    {
      "cell_type": "code",
      "source": [
        "def cambio_valor():\n",
        "  x = 3\n",
        "\n",
        "x = 8\n",
        "cambio_valor()\n",
        "print (x)"
      ],
      "metadata": {
        "id": "y7g5kLRhgDhB"
      },
      "execution_count": null,
      "outputs": []
    },
    {
      "cell_type": "markdown",
      "source": [
        "Sin embargo, con la declaración de una variable al interior de una función como **global** su valor se conservará por fuera de la función.  Veamos"
      ],
      "metadata": {
        "id": "2DITxiPmhCrq"
      }
    },
    {
      "cell_type": "code",
      "source": [
        "def cambio_valor():\n",
        "  global x\n",
        "  x = 3\n",
        "\n",
        "x = 8\n",
        "cambio_valor()\n",
        "print (x)"
      ],
      "metadata": {
        "id": "GlywmcZxhQso"
      },
      "execution_count": null,
      "outputs": []
    },
    {
      "cell_type": "markdown",
      "source": [
        "## Funciones recursivas\n",
        "\n",
        "Una función recursiva es aquella que en su interior se invoca a sí misma."
      ],
      "metadata": {
        "id": "v1sIEe0ooWQD"
      }
    },
    {
      "cell_type": "code",
      "source": [
        "def factorial_recursivo(n):\n",
        "    if n == 1:\n",
        "        return 1\n",
        "    else:\n",
        "        return n * factorial_recursivo(n-1)\n",
        "\n",
        "\n",
        "num=int(input(\"Ingrese numero:\"))\n",
        "print(f\"el factorial de {num} es {factorial_recursivo(num)}\")"
      ],
      "metadata": {
        "id": "6BCNqHXLSk4a"
      },
      "execution_count": null,
      "outputs": []
    },
    {
      "cell_type": "code",
      "source": [
        "def atras(num):\n",
        "  print (num)\n",
        "  num -= 1\n",
        "  if num >= 0:\n",
        "    atras (num)\n",
        "\n",
        "\n",
        "atras (10)"
      ],
      "metadata": {
        "id": "LzxuI0baibag"
      },
      "execution_count": null,
      "outputs": []
    },
    {
      "cell_type": "markdown",
      "source": [
        "# Apropiación"
      ],
      "metadata": {
        "id": "ufm93AZvpOvE"
      }
    },
    {
      "cell_type": "markdown",
      "source": [
        "1. Realiza una función que tome una lista de números enteros y devuelva dos listas ordenadas. La primera con los números pares y la segunda con los números impares."
      ],
      "metadata": {
        "id": "ETbUGku6pSOp"
      }
    },
    {
      "cell_type": "code",
      "source": [],
      "metadata": {
        "id": "EbJ1YSdFpakU"
      },
      "execution_count": null,
      "outputs": []
    },
    {
      "cell_type": "markdown",
      "source": [
        "2. Realiza una función que reciba una palabra y devuelva un diccionario donde las claves sean las diferentes letras que se encuentran en la palabra y los valores sean el número de veces que se repite cada letra en la palabra"
      ],
      "metadata": {
        "id": "uW_er1zppbmr"
      }
    },
    {
      "cell_type": "code",
      "source": [
        "servicio\n",
        "{\"s\": 1, \"e\":1,\"r\":1,     \"i\":2}"
      ],
      "metadata": {
        "id": "R6lFOzO_XJP5"
      },
      "execution_count": null,
      "outputs": []
    },
    {
      "cell_type": "markdown",
      "source": [
        "3. Realiza una función recursiva que reciba un número y muestre los números pares entre 1 y el número leído."
      ],
      "metadata": {
        "id": "NTvJ0NChBA4l"
      }
    },
    {
      "cell_type": "code",
      "source": [],
      "metadata": {
        "id": "yE2GA2BrYlHv"
      },
      "execution_count": null,
      "outputs": []
    },
    {
      "cell_type": "markdown",
      "source": [
        "4. Realiza una función que reciba un número y devuelva una cadena con los nombres de los números recibidos, separando cada número con un guión medio.  Por ejemplo, si el número recibido es 134, la función devolverá la cadena \"uno - tres - cuatro\""
      ],
      "metadata": {
        "id": "Ox9TKSXlYrYz"
      }
    },
    {
      "cell_type": "code",
      "source": [],
      "metadata": {
        "id": "cS_6DzcZZQKb"
      },
      "execution_count": null,
      "outputs": []
    }
  ]
}