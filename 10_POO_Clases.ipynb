{
  "nbformat": 4,
  "nbformat_minor": 0,
  "metadata": {
    "colab": {
      "private_outputs": true,
      "provenance": [],
      "include_colab_link": true
    },
    "kernelspec": {
      "name": "python3",
      "display_name": "Python 3"
    },
    "language_info": {
      "name": "python"
    }
  },
  "cells": [
    {
      "cell_type": "markdown",
      "metadata": {
        "id": "view-in-github",
        "colab_type": "text"
      },
      "source": [
        "<a href=\"https://colab.research.google.com/github/edelgado-1975/PythonSena/blob/main/10_POO_Clases.ipynb\" target=\"_parent\"><img src=\"https://colab.research.google.com/assets/colab-badge.svg\" alt=\"Open In Colab\"/></a>"
      ]
    },
    {
      "cell_type": "markdown",
      "source": [
        "![M I S I Ó N.png](data:image/png;base64,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)"
      ],
      "metadata": {
        "id": "QGe9kPN_R3Xp"
      }
    },
    {
      "cell_type": "markdown",
      "source": [
        "# Programación Orientada a Objetos\n",
        "![poo.avif](data:image/avif;base64,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)"
      ],
      "metadata": {
        "id": "AFjQPgMt4rFm"
      }
    },
    {
      "cell_type": "markdown",
      "source": [
        "Es un paradigma de programación en el que los protagonistas son los objetos.  Cada objeto es una instancia de una clase y contiene su propia estructura (datos/propiedades) y comportamiento (métodos).\n",
        "\n",
        "**¿Por qué la POO?**\n",
        "\n",
        "**¿Ventajas?**"
      ],
      "metadata": {
        "id": "qfzwAjMY46mj"
      }
    },
    {
      "cell_type": "code",
      "source": [
        "n1 = 4\n",
        "n2 = 3\n",
        "n3= 3.5\n",
        "\n",
        "notas = [4,3,3.5]\n",
        "nombres = [\"Juan\", \"Luis\"]\n",
        "\n",
        "estudiantes = {1: {\"nombre\":\"Juan\",\"nota\":4}, 2: {\"nombre\":\"Luis\",\"nota\":3}, 3: {\"nombre\":\"Lina\",\"nota\":3.5}}\n",
        "print (estudiantes)\n",
        "\n",
        "print (estudiantes[1])\n"
      ],
      "metadata": {
        "id": "i9W-qRd-iAWU"
      },
      "execution_count": null,
      "outputs": []
    },
    {
      "cell_type": "markdown",
      "source": [
        "## Definiendo las clases\n",
        "\n",
        "sintaxis básica:\n",
        "\n",
        "\n",
        "```\n",
        "class mi_clase:\n",
        "    miembros (atributos, constructores, métodos)\n",
        "```"
      ],
      "metadata": {
        "id": "H-Ee0pZq4teM"
      }
    },
    {
      "cell_type": "markdown",
      "source": [
        "### Fundamentos\n",
        "\n"
      ],
      "metadata": {
        "id": "cW5F_AEy4ebs"
      }
    },
    {
      "cell_type": "markdown",
      "source": [
        "#### Modificadores de acceso\n",
        "\n",
        "El guión bajo _ tiene un significado especial en python.  En las clases cualquier miembro (atributo, método) por defecto es público.  Si el miembro tiene un guión bajo antes de su nombre, significa que es protegido y si tiene dos guiones bajos antes de su nombre, significa que es privado.\n",
        "\n",
        "\n",
        "```\n",
        "nombre     #atributo público\n",
        "_nombre    #atributo protegido\n",
        "__nombre   #atributo privado\n",
        "\n",
        "obtener_nombre     #método público\n",
        "_obtener_nombre    #método protegido\n",
        "__obtener_nombre   #método privado\n",
        "```\n",
        "\n",
        "\n",
        "---\n",
        "\n",
        "\n",
        "\n"
      ],
      "metadata": {
        "id": "NNyhnelD9FoJ"
      }
    },
    {
      "cell_type": "code",
      "source": [
        "class Estudiante:\n",
        "  def __init__(self, id, nomb, tipo_sangre):\n",
        "    self.identificacion = id\n",
        "    self.nombre = nomb\n",
        "    self.__tipo_sangre = tipo_sangre\n",
        "    self._tipo_sangre = tipo_sangre\n",
        "\n",
        "  def obtener_tipo_sangre(self):\n",
        "    return self.__tipo_sangre\n",
        "\n",
        "  def modificar_tipo_sangre (self, tipo_sangre):\n",
        "    if tipo_sangre == \"a+\":\n",
        "      self.__tipo_sangre = tipo_sangre\n",
        "\n",
        "\n",
        "\n",
        "##############################################################\n",
        "\n",
        "est1 = Estudiante (1,\"Carlos\",\"o-\")\n",
        "\n",
        "print (\"ID: \",est1.identificacion, \"Nombre:\", est1.nombre, \"tipo sangre:\", est1.obtener_tipo_sangre())\n",
        "est1.modificar_tipo_sangre(\"a-\")\n",
        "print (\"ID: \",est1.identificacion, \"Nombre:\", est1.nombre, \"tipo sangre:\", est1.obtener_tipo_sangre())\n",
        "print (vars(est1))\n",
        "\n"
      ],
      "metadata": {
        "id": "0tdAQ1whjGg9"
      },
      "execution_count": null,
      "outputs": []
    },
    {
      "cell_type": "markdown",
      "source": [
        "#### Métodos mágicos\n",
        "\n",
        "Cuando un método tiene dos guiones bajos al principio y final de sus nombres se denomina un método mágico.  Los métodos mágicos no se pueden llamar directamente desde el código como lo hacemos con los demás métodos, son \"mágicos\" porque Python los llama automáticamente en determinadas situaciones.\n",
        "\n",
        "\n",
        "```\n",
        "__metodo_magico__()   #el doble guión bajo antes y después del nombre del método lo identifica como método mágico\n",
        "```\n",
        "\n",
        "---"
      ],
      "metadata": {
        "id": "SAjWJ7fY-UAC"
      }
    },
    {
      "cell_type": "markdown",
      "source": [
        "#### El parámetro self\n",
        "\n",
        "Cada clase da origen a diferentes objetos.  El parámetro **self** que se recibe en los constructores o métodos de una clase hace referencia al objeto en particular que está accediendo al comportamiento definido en la clase en un momento determinado.\n",
        "\n",
        "Todos los métodos en Python deben recibir como primer parámetro el parámetro  **self** de esta manera se tiene una referencia al objeto actual que está haciendo uso de los miembros de la clase.\n",
        "\n",
        "\n",
        "\n",
        "```\n",
        "obtener_nombre(self):\n",
        "    return self.nombre      #se devuelve el nombre del objeto actual\n",
        "\n",
        "```"
      ],
      "metadata": {
        "id": "Inpp22rX_9mH"
      }
    },
    {
      "cell_type": "code",
      "source": [
        "class Persona:\n",
        "  def saludar(self, nombre):\n",
        "    print(\"hola \", nombre)\n",
        "    print(self)\n",
        "##############################################\n",
        "p = Persona()\n",
        "p.saludar (\"Juan\")\n",
        "\n",
        "p.saludar(\"Juan\")\n",
        "p1 = Persona()\n",
        "p1.saludar(\"Lina\")\n"
      ],
      "metadata": {
        "id": "9GUpG7Itd2Ub"
      },
      "execution_count": null,
      "outputs": []
    },
    {
      "cell_type": "code",
      "source": [],
      "metadata": {
        "id": "_m30YCH06nAF"
      },
      "execution_count": null,
      "outputs": []
    },
    {
      "cell_type": "markdown",
      "source": [
        "### El constructor\n",
        "\n",
        "Si en Python no especificamos un constructor, de igual manera cada clase tendrá un constructor por defecto que nos permite instanciar objetos de esa clase.  Miremos:"
      ],
      "metadata": {
        "id": "eQ4hlQmc5_J7"
      }
    },
    {
      "cell_type": "code",
      "source": [
        "class Persona:\n",
        "  pass\n",
        "\n",
        "juan = Persona()\n",
        "print (juan)"
      ],
      "metadata": {
        "id": "q3JRLdAB6oGs"
      },
      "execution_count": null,
      "outputs": []
    },
    {
      "cell_type": "markdown",
      "source": [
        "En el código anterior, se creó un objeto de la clase Persona, el objeto se llama **juan** y no hace nada, ya que la clase Persona no tiene código.  Pero el objeto existe y tiene memoria asignada para su almacenamiento.  Veamos"
      ],
      "metadata": {
        "id": "nrx-ptIz7SBa"
      }
    },
    {
      "cell_type": "code",
      "source": [
        "class Persona:\n",
        "  pass\n",
        "\n",
        "juan = Persona()\n",
        "print (\"memoria juan:\", juan) #muestra la posición de memoria\n",
        "print (\"tipo juan:\", type(juan)) #muestra de qué tipo es juan\n",
        "\n",
        "pedro = Persona()\n",
        "print (\"memoria pedro:\", pedro) #muestra la posición de memoria\n",
        "print (\"tipo pedro:\", type(pedro)) #muestra de qué tipo es pedro"
      ],
      "metadata": {
        "id": "_Mo67L_t7k8b"
      },
      "execution_count": null,
      "outputs": []
    },
    {
      "cell_type": "markdown",
      "source": [
        "#### __ init__ ()\n",
        "\n",
        "Para definir el constructor de una clase en python, usamos el método mágico **init**  Miremos:"
      ],
      "metadata": {
        "id": "JDLGbJIDx0GD"
      }
    },
    {
      "cell_type": "code",
      "source": [
        "class Persona:\n",
        "  def __init__(self):\n",
        "    print (\"Me estoy creando \", self)\n",
        "###############################################\n",
        "\n",
        "juan = Persona()   #creamos objetos de la clase Persona\n",
        "pedro = Persona()"
      ],
      "metadata": {
        "id": "hFhSBQGmCU36"
      },
      "execution_count": null,
      "outputs": []
    },
    {
      "cell_type": "code",
      "source": [
        "class Persona:\n",
        "  def __init__(self, ced, nom, ed):\n",
        "    print (\"Me estoy creando \", self)\n",
        "    self.cedula = ced\n",
        "    self.nombre = nom\n",
        "    self.edad = ed\n",
        "###############################################\n",
        "\n",
        "\n",
        "obj1 = Persona(123, \"Luis\", 35)   #creamos objetos de la clase Persona\n",
        "obj2 = Persona(345, \"Lina\", 20)\n",
        "print (obj1.cedula, obj1.nombre, obj1.edad)\n",
        "print(obj1)\n",
        "print (obj2.cedula, obj2.nombre, obj2.edad)\n",
        "print(obj2)"
      ],
      "metadata": {
        "id": "QO_1cjCrBxsF"
      },
      "execution_count": null,
      "outputs": []
    },
    {
      "cell_type": "markdown",
      "source": [
        "En Python no tenemos que declarar explícitamente los atributos de una clase.  Ellos van a estar siempre almacenados en el parámetro self.  Miremos:\n"
      ],
      "metadata": {
        "id": "zi-1hdjaDuAd"
      }
    },
    {
      "cell_type": "code",
      "source": [
        "class Persona:\n",
        "  def __init__(self, nombre, edad, ciudad):\n",
        "    self.nombre = nombre\n",
        "    self.edad = edad\n",
        "    self.ciudad = ciudad\n",
        "\n",
        "  def mostrar_informacion(self):  #mediante el self el método reconoce al objeto que está invocando el método\n",
        "    print(\"El nombre es \", self.nombre, self.edad, self.ciudad)\n",
        "###############################################\n",
        "\n",
        "juan = Persona(\"Juan Villa\", 23, \"Manizales\")\n",
        "pedro = Persona(\"Pedro Valencia\", 40, \"Pereira\")\n",
        "\n",
        "juan.mostrar_informacion()\n",
        "pedro.mostrar_informacion()"
      ],
      "metadata": {
        "id": "9sHUYTpVEHbu"
      },
      "execution_count": null,
      "outputs": []
    },
    {
      "cell_type": "markdown",
      "source": [
        "En Python se pueden crear atributos \"al vuelo\", es decir, después de crear un objeto se le pueden asignar los atributos deseados y estos formarán parte de los miembros de este objeto, los cuales recordemos podemos acceder a través del parámetro **self**  Veamos:  "
      ],
      "metadata": {
        "id": "xRY_CMoXGSc2"
      }
    },
    {
      "cell_type": "code",
      "source": [
        "class Persona:\n",
        "\n",
        "\n",
        "  def mostrar_informacion(self):\n",
        "    print(vars(self))      # devuelve un diccionario con los atributos y valores del objeto actual\n",
        "###############################################\n",
        "\n",
        "juan = Persona()\n",
        "juan.altura = 180\n",
        "juan.peso = 85\n",
        "\n",
        "juan.mostrar_informacion()\n",
        "\n",
        "obj = Persona()\n",
        "obj.sexo = \"masculino\"\n",
        "obj.salario = 1000000\n",
        "obj.tipo_sangre = \"o+\"\n",
        "obj.mostrar_informacion()\n",
        "\n",
        "#juan.mostrar_informacion()\n",
        "juan.salario = 1200000\n",
        "juan.mostrar_informacion()"
      ],
      "metadata": {
        "id": "ELKz9gvkJpsj"
      },
      "execution_count": null,
      "outputs": []
    },
    {
      "cell_type": "code",
      "source": [
        "class Persona:\n",
        "\n",
        "  def __init__(self, id, nombre):\n",
        "    self.id = id\n",
        "    self.nombre = nombre\n",
        "\n",
        "  def mostrar_informacion(self):\n",
        "    print(vars(self))      # devuelve un diccionario con los atributos y valores del objeto actual\n",
        "###############################################\n",
        "\n",
        "juan = Persona(23, \"juan\")\n",
        "juan.altura = 180\n",
        "juan.peso = 85\n",
        "\n",
        "juan.mostrar_informacion()\n",
        "\n",
        "obj = Persona(24, \"ricardo\")\n",
        "obj.sexo = \"masculino\"\n",
        "obj.salario = 1000000\n",
        "obj.tipo_sangre = \"o+\"\n",
        "obj.mostrar_informacion()\n",
        "\n",
        "#juan.mostrar_informacion()\n",
        "juan.salario = 1200000\n",
        "juan.mostrar_informacion()"
      ],
      "metadata": {
        "id": "toiZLivAB1s9"
      },
      "execution_count": null,
      "outputs": []
    },
    {
      "cell_type": "markdown",
      "source": [
        "### Otros métodos mágicos\n",
        "\n",
        "Las clases tienen por defecto algunos métodos mágicos que podemos sobreescribir para alterar su funcionamiento por defecto.  \n"
      ],
      "metadata": {
        "id": "EWoGY6_9N7ZU"
      }
    },
    {
      "cell_type": "markdown",
      "source": [
        "####__ str__ ()\n",
        "\n",
        "El método mágico **str** en una clase tiene el comportamiento por defecto de retornar una cadena con la clase a la que pertenece el objeto y su dirección de memoria.  Este método mágico es llamado cada vez que a la función **str()** le enviamos por parámetro un objeto.  Miremos:  "
      ],
      "metadata": {
        "id": "mUwUMRevOZME"
      }
    },
    {
      "cell_type": "code",
      "source": [
        "class Instructor:\n",
        "  def __str__(self):\n",
        "    return f\"Soy el instructor {self.nombre} \"\n",
        "i1 = Instructor()\n",
        "i1.nombre = \"Carlos\"\n",
        "print(i1)\n",
        "\n",
        "\n",
        "\n"
      ],
      "metadata": {
        "id": "3lHyfgZNDdJw"
      },
      "execution_count": null,
      "outputs": []
    },
    {
      "cell_type": "code",
      "source": [
        "class Lenguaje:\n",
        "  pass\n",
        "##########\n",
        "l1 = Lenguaje()\n",
        "print(l1)"
      ],
      "metadata": {
        "id": "QhGmwQEVi7ul"
      },
      "execution_count": null,
      "outputs": []
    },
    {
      "cell_type": "code",
      "source": [
        "class Persona:\n",
        "  def __init__(self):\n",
        "    print (str(self))\n",
        "###############################################\n",
        "\n",
        "juan = Persona()   #creamos objetos de la clase Persona\n",
        "print(juan)"
      ],
      "metadata": {
        "id": "KMqpJ9cOPhiL"
      },
      "execution_count": null,
      "outputs": []
    },
    {
      "cell_type": "markdown",
      "source": [
        "En toda clase podemos sobreescribir el método mágico **str** para obtener otro tipo de resultado al imprimir un objeto de dicha clase"
      ],
      "metadata": {
        "id": "u7WHnZKOQRiN"
      }
    },
    {
      "cell_type": "code",
      "source": [
        "class Persona:\n",
        "  def __str__(self):\n",
        "    return \"Este es un objeto cool otra vez\"\n",
        "\n",
        "\n",
        "###############################################\n",
        "\n",
        "juan = Persona()   #creamos objetos de la clase Persona y nos ejecuta el constructor init\n",
        "print (juan)"
      ],
      "metadata": {
        "id": "9vavvsSKQUjO"
      },
      "execution_count": null,
      "outputs": []
    },
    {
      "cell_type": "code",
      "source": [
        "class Persona:\n",
        "  def __init__(self, nombre, edad, direccion):\n",
        "    self.nombre = nombre\n",
        "    self.edad = edad\n",
        "    self.direccion = direccion\n",
        "\n",
        "  def __str__(self):\n",
        "    return self.nombre\n",
        "\n",
        "###############################################\n",
        "\n",
        "objeto1 = Persona(\"Andres Julian Valencia\", 23, \"calle 3\")\n",
        "print (objeto1)\n",
        "objeto2 = Persona(\"Ximena Diaz\", 35, \"calle 66\")\n",
        "print (objeto2)"
      ],
      "metadata": {
        "id": "VBC1BIctp9oh"
      },
      "execution_count": null,
      "outputs": []
    },
    {
      "cell_type": "markdown",
      "source": [
        "### Atributos de Instancia y de Clase\n",
        "\n",
        "Los atributos de los ejemplos anteriores son atributos de instancia, esto quiere decir que cada instancia (objeto) tiene su propio conjunto de atributos con sus propios valores.  Estos atributos son accedidos a través del parámetro **self** y el cambio de valor en un atributo de instancia no tiene efecto en los demás objetos.  Incluso, gracias a los atributos dinámicos en Python, dos instancias de la misma clase pueden tener atributos diferentes con valores por supuesto diferentes.    Miremos:"
      ],
      "metadata": {
        "id": "9B6O3wEJxhqi"
      }
    },
    {
      "cell_type": "code",
      "source": [
        "class Persona:\n",
        "  def __init__(self):\n",
        "    pass\n",
        "  def mostrar_informacion(self):\n",
        "    print(vars(self))      # devuelve un diccionario con los atributos y valores del objeto actual\n",
        "###############################################\n",
        "\n",
        "juan = Persona()\n",
        "juan.altura = 180\n",
        "juan.peso = 85\n",
        "\n",
        "pedro = Persona()\n",
        "pedro.altura = 170\n",
        "pedro.telefono = \"300232323\"\n",
        "\n",
        "print (\"Información del objeto juan:\")\n",
        "juan.mostrar_informacion()\n",
        "print (\"Información del objeto pedro:\")\n",
        "pedro.mostrar_informacion()\n",
        "print (\"Cambiamos la altura de pedro\")\n",
        "pedro.altura = 200\n",
        "print (\"Información del objeto juan:\")\n",
        "juan.mostrar_informacion()\n",
        "print (\"Información del objeto pedro:\")\n",
        "pedro.mostrar_informacion()"
      ],
      "metadata": {
        "id": "wLTGRw-_w_de"
      },
      "execution_count": null,
      "outputs": []
    },
    {
      "cell_type": "markdown",
      "source": [
        "Un atributo de clase por su parte, es un atributo cuyo valor es el mismo para todas las instancias de una clase pues pertenece a la clase y no a sus instancias, aunque estas lo puedan acceder.  En el siguiente código vamos a usar un atributo de clase para llevar la cuenta del número total de personas creadas:"
      ],
      "metadata": {
        "id": "ktBLQ5pEyRoy"
      }
    },
    {
      "cell_type": "code",
      "source": [
        "class Persona:\n",
        "  personas_total = 0 #este es un atributo de clase\n",
        "  def __init__(self):\n",
        "    Persona.personas_total += 1  #cada vez que se crea un objeto se incrementa el atributo de clase\n",
        "###############################################\n",
        "\n",
        "juan = Persona()\n",
        "print (\"personas_total a través de juan: \", juan.personas_total)\n",
        "\n",
        "\n",
        "pedro = Persona()\n",
        "print (\"personas_total a través de pedro: \", pedro.personas_total)\n",
        "print (\"personas_total a través de juan: \", juan.personas_total)\n",
        "\n",
        "\n",
        "\n",
        "luis = Persona()\n",
        "print (\"personas_total a través de luis: \", luis.personas_total)\n",
        "print (\"personas_total a través de juan: \", juan.personas_total)\n",
        "print (\"personas_total a través de pedro: \", pedro.personas_total)\n",
        "\n",
        "Persona.personas_total = 50\n",
        "\n",
        "print (\"juan ->\", juan.personas_total)\n",
        "print (\"pedro ->\", pedro.personas_total)\n"
      ],
      "metadata": {
        "id": "QqsWuyF5y1TA"
      },
      "execution_count": null,
      "outputs": []
    },
    {
      "cell_type": "markdown",
      "source": [
        "### Métodos\n",
        "\n",
        "Los métodos se definen igual que una función con la diferencia de siempre recibir el primer parámetro **self** que como vimos antes hace referencia al objeto actual.\n",
        "\n",
        "Sintaxis:\n",
        "\n",
        "\n",
        "\n",
        "```\n",
        "def mi_metodo(self):\n",
        "    cuerpo del método\n",
        "```\n",
        "\n",
        "\n",
        "\n",
        "```\n",
        "def mi_metodo(self, parametro1, parametro2, parametro_n):\n",
        "    cuerpo del método\n",
        "```"
      ],
      "metadata": {
        "id": "bq7t7RzjYWoB"
      }
    },
    {
      "cell_type": "code",
      "source": [
        "class Persona:\n",
        "\n",
        "  def __init__(self, n, e, c):\n",
        "    self.nombre = n\n",
        "    self.edad = e\n",
        "    self.ciudad = c\n",
        "\n",
        "  def cumplir_anos(self):\n",
        "    self.edad += 1\n",
        "\n",
        "  def get_edad(self):\n",
        "    return self.edad\n",
        "\n",
        "  def set_edad(self, x):\n",
        "    self.edad = x\n",
        "\n",
        "  def puede_votar(self):\n",
        "    if self.edad >= 18:\n",
        "      return True\n",
        "    else:\n",
        "      return False\n",
        "\n",
        "  def cambiar_ciudad(self, nueva_ciudad):\n",
        "    self.ciudad = nueva_ciudad\n",
        "\n",
        "  def mostrar_info(self):\n",
        "    print (f\"{self.nombre} tiene {self.edad} años y vive en {self.ciudad}. Podrá votar??? {self.puede_votar()}\")\n",
        "##############################################################################################\n",
        "p = Persona(\"Raul Diaz\", 17, \"Manizales\")\n",
        "p.mostrar_info()\n",
        "p.cumplir_anos()\n",
        "p.cambiar_ciudad(\"Cali\")\n",
        "p.mostrar_info()"
      ],
      "metadata": {
        "id": "2_EHqzluZZls"
      },
      "execution_count": null,
      "outputs": []
    },
    {
      "cell_type": "markdown",
      "source": [
        "### Propiedades\n",
        "\n",
        "Las propiedades son métodos especiales que permiten el acceso o la modificación de los atributos de una clase.  Las propiedades ayudan a la encapsulación de las clases, pues gracias a ellas, se pueden evitar errores a través del acceso directo a los atributos.  "
      ],
      "metadata": {
        "id": "9CMSmVPpQxG6"
      }
    },
    {
      "cell_type": "markdown",
      "source": [
        "Las propiedades hacen referencia a los reconocidos métodos getter (devuelven valor) y setters (asignan valor).\n",
        "\n",
        "\n",
        "Los métodos definidos como popiedades se llaman igual que el atributo.  \n",
        "\n",
        "Una propiedad de tipo get lleva el decorador @property antes del método getter y una propiedad de tipo set lleva el decorador @atributo.setter antes del método setter respectivo.   Miremos:"
      ],
      "metadata": {
        "id": "Cnosqm2zRgeN"
      }
    },
    {
      "cell_type": "code",
      "source": [
        "class Persona:\n",
        "    def __init__(self, n, e):\n",
        "      self._nombre = n\n",
        "      self._edad = e\n",
        "\n",
        "    @property\n",
        "    def nombre(self):\n",
        "      return self._nombre\n",
        "\n",
        "    @nombre.setter\n",
        "    def nombre(self, n):\n",
        "      print (\"Cambiando el nombre \")\n",
        "      self._nombre = n\n",
        "\n",
        "    @property\n",
        "    def edad(self):\n",
        "      return self._edad\n",
        "\n",
        "    @edad.setter\n",
        "    def edad(self, e):\n",
        "      self._edad = e\n",
        "\n",
        "####################################################################\n",
        "\n",
        "p = Persona (\"Juan\", 25)\n",
        "p.nombre = \"Jacinto\"  # p.cambiar_nombre(\"Jacinto\")\n",
        "print(p.nombre)       #print (p.obtener_nombre())\n",
        "\n",
        "\n",
        "\n"
      ],
      "metadata": {
        "id": "2OGtpEUpLj6f"
      },
      "execution_count": null,
      "outputs": []
    },
    {
      "cell_type": "code",
      "source": [
        "class Persona:\n",
        "    def __init__(self, n, e):\n",
        "        self.nombre = n\n",
        "        self.edad = e\n",
        "###############################\n",
        "p = Persona (\"Luis\", 20)\n",
        "print (p.nombre, p.edad)\n",
        "p.edad= -54\n",
        "print (p.nombre, p.edad)"
      ],
      "metadata": {
        "id": "irTqfYHPGIAI"
      },
      "execution_count": null,
      "outputs": []
    },
    {
      "cell_type": "code",
      "source": [
        "class Persona:\n",
        "    def __init__(self, n, e):\n",
        "        self._nombre = n\n",
        "        self._edad = e\n",
        "\n",
        "    @property      #se define propiedad getter para el atributo nombre\n",
        "    def nombre(self):\n",
        "        return self._nombre\n",
        "\n",
        "    @nombre.setter   #se define propiedad setter para el atributo nombre\n",
        "    def nombre(self, nombre):\n",
        "        print (\"Cambiando nombre\")\n",
        "        self._nombre = nombre\n",
        "\n",
        "    @property\n",
        "    def edad(self):\n",
        "        return self._edad\n",
        "\n",
        "    @edad.setter\n",
        "    def edad(self, edad):\n",
        "        print (\"Intentando cambiar edad\")\n",
        "        if edad < 0:\n",
        "            raise ValueError(\"La edad no puede ser negativa.\")\n",
        "        self._edad = edad\n",
        "\n",
        "\n",
        "######################################################################\n",
        "try:\n",
        "  per = Persona(\"Juan Camilo\", 21)\n",
        "  print (f\"El nombre de la persona es {per.nombre}\")\n",
        "  per.nombre = \"Cristina\"\n",
        "  print (f\"El nombre de la persona es {per.nombre}\")\n",
        "  per.edad =40\n",
        "  print (f\"La edad de la persona es {per.edad}\")\n",
        "  per.edad=-23\n",
        "  print (f\"lA EDAD de la persona es {per.edad}\")\n",
        "except Exception as e:\n",
        "  print(e)"
      ],
      "metadata": {
        "id": "d-tHHzmvRcwU"
      },
      "execution_count": null,
      "outputs": []
    },
    {
      "cell_type": "markdown",
      "source": [
        "### Métodos de Clase\n",
        "\n",
        "De la misma manera que existen los atributos de clase, también existen los métodos de clase.  Un método de clase es un método que tiene acceso a la clase (atributos de clase u otros métodos de clase).\n",
        "\n",
        "Para declarar un método como método de clase debemos poner el decorador **@classmethod** antes de la declaración del método de clase.\n",
        "\n",
        "\n",
        "Estos métodos en lugar de recibir como primer parámetro self, reciben como primer parámetro **cls** que representa a la clase y a través de este parámetro puede acceder a los miembros de la clase.   "
      ],
      "metadata": {
        "id": "sslXszynYZF4"
      }
    },
    {
      "cell_type": "code",
      "source": [
        "class Persona:\n",
        "  ciudad = \"Manizales\"  #atributo de clase\n",
        "\n",
        "  def __init__(self, nombre, edad):\n",
        "    self.nombre = nombre\n",
        "    self.edad = edad\n",
        "\n",
        "  def cumplir_anos(self):\n",
        "    self.edad += 1\n",
        "\n",
        "  @classmethod    #este es un método de clase\n",
        "  def cambiar_ciudad(cls, nueva_ciudad):\n",
        "    cls.ciudad = nueva_ciudad\n",
        "\n",
        "  def mostrar_info(self):\n",
        "    print (f\"{self.nombre} tiene {self.edad} años y vive en {Persona.ciudad} \")\n",
        "############################################################################\n",
        "\n",
        "\n",
        "p1 = Persona(\"Hugo\", 35)\n",
        "p2 = Persona(\"Paco\", 20)\n",
        "p3 = Persona(\"Luis\", 29)\n",
        "\n",
        "p1.mostrar_info()\n",
        "p2.mostrar_info()\n",
        "p3.mostrar_info()\n",
        "\n",
        "p1.cambiar_ciudad(\"Cali\")  #la invocación de un método de clase se realiza a través de la clase\n",
        "\n",
        "p1.mostrar_info()\n",
        "p2.mostrar_info()\n",
        "p3.mostrar_info()\n",
        "\n",
        "Persona.cambiar_ciudad(\"Popayan\")\n",
        "p1.mostrar_info()\n",
        "p2.mostrar_info()\n",
        "p3.mostrar_info()\n"
      ],
      "metadata": {
        "id": "_0Q0x3urjwDG"
      },
      "execution_count": null,
      "outputs": []
    },
    {
      "cell_type": "markdown",
      "source": [
        "### Métodos Estáticos\n",
        "Los métodos estáticos no acceden ni modifican el estado de los objetos (self) ni de las clases (cls).  Son métodos que cumplen una función particular y que quedan asociados a una determinada clase.  \n",
        "\n",
        "Para declarar un método como método estático debemos poner el decorador **@staticmethod** antes de la declaración del método estático.\n",
        "\n",
        "\n",
        "Estos métodos no reciben ni el parámetro self ni el parámetro cls ya que como lo dijimos antes no conocen ni modifican el estado de la clase ni de sus objetos.   "
      ],
      "metadata": {
        "id": "UhGwjoR4kHys"
      }
    },
    {
      "cell_type": "code",
      "source": [
        "import random\n",
        "class Persona:\n",
        "  def __init__(self, nombre, edad):\n",
        "    self.nombre = nombre\n",
        "    self.edad = edad\n",
        "\n",
        "  @staticmethod    #este es un método estático\n",
        "  def mensaje_hoy():\n",
        "    mensajes =[\"La vida es bella\", \"Mejor tarde que nunca\", \"Dios te bendiga\", \"Vive para servir\"]\n",
        "    print (random.choice(mensajes))\n",
        "\n",
        "  def mostrar_info(self):\n",
        "    print (f\"{self.nombre} tiene {self.edad} años\")\n",
        "####################################################################################################\n",
        "Persona.mensaje_hoy()\n",
        "p1 = Persona (\"Pablo\", 38)\n",
        "p1.mostrar_info()\n",
        "Persona.mensaje_hoy()"
      ],
      "metadata": {
        "id": "1Bv2bHFRlqaw"
      },
      "execution_count": null,
      "outputs": []
    },
    {
      "cell_type": "markdown",
      "source": [
        "## Apropiación"
      ],
      "metadata": {
        "id": "R4F_gTqgpgw5"
      }
    },
    {
      "cell_type": "markdown",
      "source": [
        "1.\n",
        "\n",
        "\n",
        "Cree una clase llamada **Estudiante** con los siguientes atributos de instancia: **nombre**, **nota1** y **nota2**.\n",
        "\n",
        "Defina un constructor que reciba como parámetros el nombre, la nota1 y la nota2 del estudiante.\n",
        "\n",
        "Defina los siguientes métodos de instancia: **obtener_nota_promedio()** este método devuelve la nota promedio del estudiante y **mostrar_informacion()** este método muestra en pantalla todos los datos del estudiante (nombre, nota1, nota2 y nota promedio).\n",
        "\n",
        "Pruebe el funcionamiento de la clase."
      ],
      "metadata": {
        "id": "E8B--UQupkBe"
      }
    },
    {
      "cell_type": "code",
      "source": [
        "class Estudiante:\n",
        "  def __init__(self, nombre, nota1, nota2):\n",
        "    self.nombre = nombre\n",
        "    self.nota1 = nota1\n",
        "    self.nota2= nota2\n",
        "\n",
        "  def obtener_nota_promedio(self):\n",
        "    return (self.nota1 + self.nota2)/2\n",
        "\n",
        "  def mostrar_informacion(self):\n",
        "    print (f\"Nombre: {self.nombre}, nota1: {self.nota1} nota2: {self.nota2} nota promedio: {self.obtener_nota_promedio()}\")\n",
        "########################################################\n",
        "e1 = Estudiante(\"Juan\", 5, 4)\n",
        "print (\"La nota promedio es : \", e1.obtener_nota_promedio())\n",
        "e1.mostrar_informacion()\n",
        "\n",
        "e2 = Estudiante(\"Paula\", 3, 2)\n",
        "print (\"La nota promedio es : \", e2.obtener_nota_promedio())\n",
        "e2.mostrar_informacion()\n",
        "\n"
      ],
      "metadata": {
        "id": "7pfhB1R-Xxi1"
      },
      "execution_count": null,
      "outputs": []
    },
    {
      "cell_type": "markdown",
      "source": [
        "2.\n",
        "\n",
        "Encapsule la clase **Estudiante** creada en el punto anterior, de tal manera que todos sus atributos de instancia queden **privados**.  Agregue los métodos necesarios dentro de la clase para que continúe su funcionamiento y adicionalmente solo acepte notas entre 0 y 5."
      ],
      "metadata": {
        "id": "MYH3zDvNrRjs"
      }
    },
    {
      "cell_type": "code",
      "source": [
        "class Estudiante:\n",
        "  def __init__(self, nombre, nota1, nota2):\n",
        "    self.modificar_nombre (nombre)\n",
        "    self.set_nota1(nota1)\n",
        "    self.set_nota2(nota2)\n",
        "\n",
        "  def obtener_nombre(self):\n",
        "    return self.__nombre\n",
        "  def get_nota1(self):\n",
        "    return self.__nota1\n",
        "  def get_nota2(self):\n",
        "    return self.__nota2\n",
        "\n",
        "  def modificar_nombre(self, nom):\n",
        "    self.__nombre = nom\n",
        "\n",
        "  def set_nota1 (self, n1):\n",
        "    if n1 < 0 or n1 > 5:\n",
        "      raise ValueError (\"La nota1 debe estar entre 0 y 5\")\n",
        "    self.__nota1 = n1\n",
        "\n",
        "  def set_nota2 (self, n2):\n",
        "    if n2 < 0 or n2 > 5:\n",
        "      raise ValueError (\"La nota2 debe estar entre 0 y 5\")\n",
        "    self.__nota2 = n2\n",
        "\n",
        "  def obtener_nota_promedio(self):\n",
        "    return (self.__nota1 + self.__nota2)/2\n",
        "    #return (self.get_nota1() + self.get_nota2())/2\n",
        "\n",
        "  def mostrar_informacion(self):\n",
        "    print (f\"Nombre: {self.__nombre}, nota1: {self.__nota1} nota2: {self.__nota2} nota promedio: {self.obtener_nota_promedio()}\")\n",
        "################################################################\n",
        "try:\n",
        "  e1 = Estudiante (\"Juan\", 4, -5)\n",
        "  e1.mostrar_informacion()\n",
        "except Exception as e:\n",
        "  print(e)\n"
      ],
      "metadata": {
        "id": "qlOobRipXy3U"
      },
      "execution_count": null,
      "outputs": []
    },
    {
      "cell_type": "markdown",
      "source": [
        "3.\n",
        "\n",
        "A la clase **Estudiante** del punto anterior realícele las adaptaciones necesarias para que al imprimir un objeto completo de esta clase se presente su nombre y nota promedio."
      ],
      "metadata": {
        "id": "2NNYF-pnsP2K"
      }
    },
    {
      "cell_type": "code",
      "source": [
        "class Estudiante:\n",
        "  def __init__(self, nombre, nota1, nota2):\n",
        "    self.modificar_nombre (nombre)\n",
        "    self.set_nota1(nota1)\n",
        "    self.set_nota2(nota2)\n",
        "\n",
        "  def obtener_nombre(self):\n",
        "    return self.__nombre\n",
        "  def get_nota1(self):\n",
        "    return self.__nota1\n",
        "  def get_nota2(self):\n",
        "    return self.__nota2\n",
        "\n",
        "  def modificar_nombre(self, nom):\n",
        "    self.__nombre = nom\n",
        "\n",
        "  def set_nota1 (self, n1):\n",
        "    if n1 < 0 or n1 > 5:\n",
        "      raise ValueError (\"La nota1 debe estar entre 0 y 5\")\n",
        "    self.__nota1 = n1\n",
        "\n",
        "  def set_nota2 (self, n2):\n",
        "    if n2 < 0 or n2 > 5:\n",
        "      raise ValueError (\"La nota2 debe estar entre 0 y 5\")\n",
        "    self.__nota2 = n2\n",
        "\n",
        "  def obtener_nota_promedio(self):\n",
        "    return (self.__nota1 + self.__nota2)/2\n",
        "    #return (self.get_nota1() + self.get_nota2())/2\n",
        "\n",
        "  def mostrar_informacion(self):\n",
        "    print (f\"Nombre: {self.__nombre}, nota1: {self.__nota1} nota2: {self.__nota2} nota promedio: {self.obtener_nota_promedio()}\")\n",
        "\n",
        "  def __str__(self):\n",
        "    return f\"nombre: {self.obtener_nombre()} nota promedio: {self.obtener_nota_promedio()}\"\n",
        "################################################################\n",
        "try:\n",
        "  e1 = Estudiante (\"Juan\", 4, 5)\n",
        "  #e1.mostrar_informacion()\n",
        "  print (e1)\n",
        "\n",
        "  e2 = Estudiante (\"Carlota\", 3, 2)\n",
        "  #e1.mostrar_informacion()\n",
        "  print (e2)\n",
        "except Exception as e:\n",
        "  print(e)"
      ],
      "metadata": {
        "id": "ucg4PGlOX0WT"
      },
      "execution_count": null,
      "outputs": []
    },
    {
      "cell_type": "markdown",
      "source": [
        "4.\n",
        "\n",
        "Requerimos que cualquier estudiante creado pertenezca a la misma institución de tal manera que si un estudiante cambia de institución, todos deben hacerlo.  Lleve además un control del número de estudiantes de la institución.  Realice los ajustes a la clase **Estudiante** del punto anterior para lograr estos objetivos."
      ],
      "metadata": {
        "id": "RvF0FziRs6A9"
      }
    },
    {
      "cell_type": "code",
      "source": [
        "class Estudiante:\n",
        "  institucion = \"SENA\"\n",
        "  numero_estudiantes = 0\n",
        "\n",
        "  def __init__(self, nombre, nota1, nota2):\n",
        "    self.modificar_nombre (nombre)\n",
        "    self.set_nota1(nota1)\n",
        "    self.set_nota2(nota2)\n",
        "    Estudiante.numero_estudiantes += 1\n",
        "\n",
        "  def obtener_nombre(self):\n",
        "    return self.__nombre\n",
        "  def get_nota1(self):\n",
        "    return self.__nota1\n",
        "  def get_nota2(self):\n",
        "    return self.__nota2\n",
        "\n",
        "  def modificar_nombre(self, nom):\n",
        "    self.__nombre = nom\n",
        "\n",
        "  def set_nota1 (self, n1):\n",
        "    if n1 < 0 or n1 > 5:\n",
        "      raise ValueError (\"La nota1 debe estar entre 0 y 5\")\n",
        "    self.__nota1 = n1\n",
        "\n",
        "  def set_nota2 (self, n2):\n",
        "    if n2 < 0 or n2 > 5:\n",
        "      raise ValueError (\"La nota2 debe estar entre 0 y 5\")\n",
        "    self.__nota2 = n2\n",
        "\n",
        "  def obtener_nota_promedio(self):\n",
        "    return (self.__nota1 + self.__nota2)/2\n",
        "    #return (self.get_nota1() + self.get_nota2())/2\n",
        "\n",
        "  def mostrar_informacion(self):\n",
        "    print (f\"numero estudiantes: {Estudiante.numero_estudiantes} Institucion: {Estudiante.institucion} Nombre: {self.__nombre}, nota1: {self.__nota1} nota2: {self.__nota2} nota promedio: {self.obtener_nota_promedio()}\")\n",
        "\n",
        "  def __str__(self):\n",
        "    return f\"nombre: {self.obtener_nombre()} nota promedio: {self.obtener_nota_promedio()}\"\n",
        "\n",
        "  @classmethod\n",
        "  def cambiar_institucion(cls, nueva_institucion):\n",
        "    print (\"Cambiando institucion\")\n",
        "    cls.institucion = nueva_institucion\n",
        "\n",
        "  @classmethod\n",
        "  def obtener_numero_estudiantes(cls):\n",
        "    print (f\"la cantidad de estudiantes en la institucion {cls.institucion} es: {cls.numero_estudiantes}\")\n",
        "\n",
        "################################################################\n",
        "\n",
        "try:\n",
        "  e1 = Estudiante (\"Juan\", 4, 5)\n",
        "  e1.mostrar_informacion()\n",
        "  print (e1)\n",
        "\n",
        "  e2 = Estudiante (\"Carlota\", 3, 2)\n",
        "  e2.mostrar_informacion()\n",
        "  print (e2)\n",
        "\n",
        "  Estudiante.cambiar_institucion(\"UNAL\")\n",
        "  e1.mostrar_informacion()\n",
        "  e2.mostrar_informacion()\n",
        "\n",
        "  Estudiante.obtener_numero_estudiantes()\n",
        "except Exception as e:\n",
        "  print(e)\n"
      ],
      "metadata": {
        "id": "SwHvDwNcX2EK"
      },
      "execution_count": null,
      "outputs": []
    },
    {
      "cell_type": "markdown",
      "source": [
        "5.\n",
        "\n",
        "Realice el método ver_escala() que al ser invocado en la clase Estudiante presente una tabla con la escala de calificación de todos los estudiantes de la institución.  Esta escala es la siguiente:\n",
        "![escala.png](data:image/png;base64,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)\n",
        "\n",
        "Permita que al invocar al método desde la clase **Estudiante.ver_escala()** se muestre la tabla anterior.  Utilice el módulo **tabulate** para que la presentación sea la indicada."
      ],
      "metadata": {
        "id": "GJ6C1GDhtvNe"
      }
    },
    {
      "cell_type": "code",
      "source": [
        "from tabulate import tabulate\n",
        "\n",
        "class Estudiante:\n",
        "  institucion = \"SENA\"\n",
        "  numero_estudiantes = 0\n",
        "\n",
        "  def __init__(self, nombre, nota1, nota2):\n",
        "    self.modificar_nombre (nombre)\n",
        "    self.set_nota1(nota1)\n",
        "    self.set_nota2(nota2)\n",
        "    Estudiante.numero_estudiantes += 1\n",
        "\n",
        "  def obtener_nombre(self):\n",
        "    return self.__nombre\n",
        "  def get_nota1(self):\n",
        "    return self.__nota1\n",
        "  def get_nota2(self):\n",
        "    return self.__nota2\n",
        "\n",
        "  def modificar_nombre(self, nom):\n",
        "    self.__nombre = nom\n",
        "\n",
        "  def set_nota1 (self, n1):\n",
        "    if n1 < 0 or n1 > 5:\n",
        "      raise ValueError (\"La nota1 debe estar entre 0 y 5\")\n",
        "    self.__nota1 = n1\n",
        "\n",
        "  def set_nota2 (self, n2):\n",
        "    if n2 < 0 or n2 > 5:\n",
        "      raise ValueError (\"La nota2 debe estar entre 0 y 5\")\n",
        "    self.__nota2 = n2\n",
        "\n",
        "  def obtener_nota_promedio(self):\n",
        "    return (self.__nota1 + self.__nota2)/2\n",
        "    #return (self.get_nota1() + self.get_nota2())/2\n",
        "\n",
        "  def mostrar_informacion(self):\n",
        "    print (f\"numero estudiantes: {Estudiante.numero_estudiantes} Institucion: {Estudiante.institucion} Nombre: {self.__nombre}, nota1: {self.__nota1} nota2: {self.__nota2} nota promedio: {self.obtener_nota_promedio()}\")\n",
        "\n",
        "  def __str__(self):\n",
        "    return f\"nombre: {self.obtener_nombre()} nota promedio: {self.obtener_nota_promedio()}\"\n",
        "\n",
        "  @classmethod\n",
        "  def cambiar_institucion(cls, nueva_institucion):\n",
        "    print (\"Cambiando institucion\")\n",
        "    cls.institucion = nueva_institucion\n",
        "\n",
        "  @classmethod\n",
        "  def obtener_numero_estudiantes(cls):\n",
        "    print (f\"la cantidad de estudiantes en la institucion {cls.institucion} es: {cls.numero_estudiantes}\")\n",
        "\n",
        "  @staticmethod\n",
        "  def ver_escala():\n",
        "    escala = [[\"0 a 2.9\", \"Baja\"],[\"3 a 3.9\", \"Media\"],[\"4 a 4.5\", \"Alta\"], [\"4.6 a 5\", \"Sobresaliente\"]]\n",
        "    print (tabulate(escala, headers=[\"Nota\",\"Escala\"],tablefmt=\"fancy_grid\"))\n",
        "################################################################\n",
        "\n",
        "try:\n",
        "  e1 = Estudiante (\"Juan\", 4, 5)\n",
        "  e1.mostrar_informacion()\n",
        "  print (e1)\n",
        "\n",
        "  e2 = Estudiante (\"Carlota\", 3, 2)\n",
        "  e2.mostrar_informacion()\n",
        "  print (e2)\n",
        "\n",
        "  Estudiante.cambiar_institucion(\"UNAL\")\n",
        "  e1.mostrar_informacion()\n",
        "  e2.mostrar_informacion()\n",
        "\n",
        "  Estudiante.obtener_numero_estudiantes()\n",
        "  Estudiante.ver_escala()\n",
        "\n",
        "except Exception as e:\n",
        "  print(e)"
      ],
      "metadata": {
        "id": "XZxEixW9RGTn"
      },
      "execution_count": null,
      "outputs": []
    },
    {
      "cell_type": "code",
      "source": [
        "pip show tabulate"
      ],
      "metadata": {
        "id": "PUO2uaqyRQLk"
      },
      "execution_count": null,
      "outputs": []
    }
  ]
}