{
  "nbformat": 4,
  "nbformat_minor": 0,
  "metadata": {
    "colab": {
      "private_outputs": true,
      "provenance": [],
      "include_colab_link": true
    },
    "kernelspec": {
      "name": "python3",
      "display_name": "Python 3"
    },
    "language_info": {
      "name": "python"
    }
  },
  "cells": [
    {
      "cell_type": "markdown",
      "metadata": {
        "id": "view-in-github",
        "colab_type": "text"
      },
      "source": [
        "<a href=\"https://colab.research.google.com/github/edelgado-1975/PythonSena/blob/main/12_POO_otros_conceptos%20ok.ipynb\" target=\"_parent\"><img src=\"https://colab.research.google.com/assets/colab-badge.svg\" alt=\"Open In Colab\"/></a>"
      ]
    },
    {
      "cell_type": "markdown",
      "source": [
        "![M I S I Ó N.png](data:image/png;base64,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)"
      ],
      "metadata": {
        "id": "VGVIAmLFS37E"
      }
    },
    {
      "cell_type": "markdown",
      "source": [
        "# Conceptos POO aplicados en Python\n",
        "\n",
        "Ya hemos abordado algunos de los principales conceptos de la POO en Python como **Clases**, **Objetos**, **Asociación**, **Agregación**, **Composición**, **Herencia**, **Atributos y Métodos de instancia y de clase**, **Métodos estáticos**, **Modificadores de acceso**, etc.  \n",
        "\n",
        "\n",
        "A continuación profundizaremos en otros conceptos importantes asociados a la POO y aplicados en Python"
      ],
      "metadata": {
        "id": "11eHNcqRHMoz"
      }
    },
    {
      "cell_type": "markdown",
      "source": [
        "## Encapsulación\n",
        "\n",
        "Ya anteriormente vimos cómo declarar los atributos de una clase privados __atributo_privado.  \n",
        "\n",
        "El objetivo de la encapsulación es ocultar la complejidad interna de un objeto y exponer solamente una interfaz pública que permita interactuar con él.  En términos prácticos sería poner los atributos privados (para que no puedan ser accedidos o modificados directamente) y los métodos públicos que accedan o modifiquen el estado del objeto.  \n",
        "\n",
        "**¿Ventajas de la encapsulación?**\n",
        "\n",
        "Miremos un ejemplo de una clase **sin** encapsulación y **con** encapsulación"
      ],
      "metadata": {
        "id": "ubyplAqnxXs-"
      }
    },
    {
      "cell_type": "code",
      "source": [
        "#Ejemplo sin encapsulación\n",
        "class Persona:\n",
        "    def __init__(self, nombre, edad):\n",
        "        self.nombre = nombre\n",
        "        self.edad = edad\n",
        "######################################\n",
        "\n",
        "p = Persona (\"Juan\",-30)\n",
        "print (f\"{p.nombre} tiene {p.edad} años\")\n"
      ],
      "metadata": {
        "id": "iU0Iw5SEzIPI"
      },
      "execution_count": null,
      "outputs": []
    },
    {
      "cell_type": "markdown",
      "source": [
        "Cuando permitimos que se pueda acceder directamente a los atributos de una clase, no existe manera de protegerla para evitar el acceso o modificación incorrecta de su estado.   "
      ],
      "metadata": {
        "id": "l6cnz4xOztb3"
      }
    },
    {
      "cell_type": "code",
      "source": [
        "#Ejemplo con encapsulación\n",
        "class Persona:\n",
        "    def __init__(self, nombre, edad):\n",
        "        self.set_nombre(nombre)\n",
        "        self.set_edad(edad)\n",
        "\n",
        "    def get_nombre(self):\n",
        "        return self.__nombre\n",
        "\n",
        "    def set_nombre(self, nombre):\n",
        "        self.__nombre = nombre\n",
        "\n",
        "    def get_edad(self):\n",
        "        return self.__edad\n",
        "\n",
        "    def set_edad(self, edad):\n",
        "        self.__edad = edad\n",
        "\n",
        "p = Persona (\"Juan\",-30)\n",
        "#print (f\"{p.nombre} tiene {p.edad} años\") #esta línea genera error, no podemos acceder a los atributos directamente\n",
        "print (f\"{p.get_nombre()} tiene {p.get_edad()} años\") #Solo podemos acceder a los atributos a través de los métodos públicos\n",
        "\n",
        "\n"
      ],
      "metadata": {
        "id": "J8HSErhG0D-P"
      },
      "execution_count": null,
      "outputs": []
    },
    {
      "cell_type": "markdown",
      "source": [
        "**Controlando el acceso a los atributos privados desde los métodos públicos**"
      ],
      "metadata": {
        "id": "15wD4sUg5OkI"
      }
    },
    {
      "cell_type": "code",
      "source": [
        "class Persona:\n",
        "    def __init__(self, nombre, edad):\n",
        "        self.set_nombre(nombre)\n",
        "        self.set_edad(edad)\n",
        "\n",
        "    def get_nombre(self):\n",
        "        return self.__nombre\n",
        "\n",
        "    def set_nombre(self, nombre):\n",
        "        self.__nombre = nombre\n",
        "\n",
        "    def get_edad(self):\n",
        "          return self.__edad\n",
        "\n",
        "    def set_edad(self, edad):\n",
        "        try:\n",
        "            if edad >= 0:\n",
        "                self.__edad = edad\n",
        "            else:\n",
        "                raise ValueError(\"La edad no puede ser negativa\")\n",
        "        except Exception as e:\n",
        "            self.__edad = None\n",
        "            print(e)\n",
        "######################################################################3\n",
        "p = Persona (\"Juan\",-90)\n",
        "print (f\"{p.get_nombre()} tiene {p.get_edad()} años\")"
      ],
      "metadata": {
        "id": "OpyoUb9w5aUK"
      },
      "execution_count": null,
      "outputs": []
    },
    {
      "cell_type": "markdown",
      "source": [
        "**Controlando el acceso a los atributos privados a través de las propiedades getter y setter**"
      ],
      "metadata": {
        "id": "EZVEdVmTBEhj"
      }
    },
    {
      "cell_type": "code",
      "source": [
        "class Persona:\n",
        "    def __init__(self, nombre, edad):\n",
        "        self.nombre=nombre\n",
        "        self.edad=edad\n",
        "\n",
        "    @property\n",
        "    def nombre(self):\n",
        "        return self.__nombre\n",
        "\n",
        "    @nombre.setter\n",
        "    def nombre(self, nombre):\n",
        "        self.__nombre = nombre\n",
        "\n",
        "    @property\n",
        "    def edad(self):\n",
        "        return self.__edad\n",
        "\n",
        "    @edad.setter\n",
        "    def edad(self, edad):\n",
        "        try:\n",
        "            if edad >= 0:\n",
        "                self.__edad = edad\n",
        "            else:\n",
        "                raise ValueError(\"La edad no puede ser negativa\")\n",
        "        except Exception as e:\n",
        "            self.__edad = None\n",
        "            print(e)\n",
        "######################################################################3\n",
        "p = Persona (\"Juan\",-90)\n",
        "print (f\"{p.nombre} tiene {p.edad} años\")"
      ],
      "metadata": {
        "id": "RctjTcUBCbGK"
      },
      "execution_count": null,
      "outputs": []
    },
    {
      "cell_type": "markdown",
      "source": [
        "**Ejemplo de Python implementando la encapsulación en sus propias clases**"
      ],
      "metadata": {
        "id": "x83yz4UxGG84"
      }
    },
    {
      "cell_type": "code",
      "source": [
        "lista = [] #Se define un objeto de tipo List vacío\n",
        "#lista[0] = \"hola\" #error al intentar establecer un valor directamente\n",
        "lista.insert(0,\"hola\")                   #cómo solucionarlo?\n",
        "print(lista[0])"
      ],
      "metadata": {
        "id": "FOTfumn8Fg-T"
      },
      "execution_count": null,
      "outputs": []
    },
    {
      "cell_type": "markdown",
      "source": [
        "## Sobrecarga de métodos y constructores\n",
        "\n",
        "La sobrecarga hace referencia a la capacidad de tener el mismo método definido más de una vez en una clase pero con diferentes cantidades o tipos de parámetros.  En lenguajes como Java, la sobrecarga es un concepto ampliamente aplicable por las características del lenguaje.  Un ejemplo en Java de sobrecarga de constructores es el siguiente:\n",
        "\n",
        "\n",
        "```\n",
        "public Persona(){}\n",
        "public Persona(String nombre){}\n",
        "public Persona(String nombre, int edad){}\n",
        "public Persona(String nombre, int edad, String direccion){}\n",
        "```\n",
        "Esto permitiría crear objetos de la clase Persona de diferentes maneras.\n",
        "\n",
        "En Python no existe la sobrecarga de métodos ni de constructores, es decir, aunque podemos declarar varios constructores o métodos con el mismo nombre, solo podemos utilizar aquel que tiene el mayor número de parámetros.    Veamos:\n",
        "\n"
      ],
      "metadata": {
        "id": "3NUh8C67JbtI"
      }
    },
    {
      "cell_type": "code",
      "source": [
        "class Persona:\n",
        "\n",
        "\n",
        "    def __init__(self, nombre, edad):\n",
        "        self.nombre = nombre\n",
        "        self.edad = edad\n",
        "\n",
        "    def __init__(self, nombre):\n",
        "        self.nombre = nombre\n",
        "\n",
        "    def salude(self):\n",
        "        print(\"Hola\")\n",
        "\n",
        "    def salude(self, nombre):\n",
        "        print(f\"Bueno(a)s {nombre}\")\n",
        "\n",
        "\n",
        "\n",
        "##################################################################\n",
        "p1 = Persona(\"juan\")\n",
        "#p2 = Persona(\"pedro\", 20)\n",
        "#p1.salude()\n",
        "p1.salude(\"dias\")"
      ],
      "metadata": {
        "id": "nNqWrOGzXRv5"
      },
      "execution_count": null,
      "outputs": []
    },
    {
      "cell_type": "markdown",
      "source": [
        "**¿Porqué Python no usa la sobrecarga?**\n",
        "\n",
        "\n",
        "\n",
        "¿Podrías acondicionar el código anterior para que las instrucciones de las líneas 15 y 17 funcionen sin problema?"
      ],
      "metadata": {
        "id": "gUR8NdfbZfRP"
      }
    },
    {
      "cell_type": "code",
      "source": [
        "class Persona:\n",
        "    def __init__(self, nombre, edad=None):\n",
        "        self.nombre = nombre\n",
        "        self.edad = edad\n",
        "\n",
        "    def salude(self, nombre=None):\n",
        "      if nombre is None:\n",
        "        print(\"Hola\")\n",
        "      else:\n",
        "        print(f\"Bueno(a)s {nombre}\")\n",
        "\n",
        "\n",
        "\n",
        "##################################################################\n",
        "p1 = Persona(\"juan\")\n",
        "p2 = Persona(\"pedro\", 20)\n",
        "p1.salude()\n",
        "p1.salude(\"dias\")"
      ],
      "metadata": {
        "id": "g7k0kXejg2Rr"
      },
      "execution_count": null,
      "outputs": []
    },
    {
      "cell_type": "markdown",
      "source": [
        "**Termina la siguiente clase llamada Operaciones en Python para que los llamados a los métodos sumar de las líneas 4, 5, 6 y 7 funcionen correctamente:**"
      ],
      "metadata": {
        "id": "kxyx9CI-cuth"
      }
    },
    {
      "cell_type": "code",
      "source": [
        "class Operaciones:\n",
        "  @staticmethod\n",
        "  def sumar(*args):\n",
        "    return sum(args)\n",
        "\n",
        "\n",
        "\n",
        "\n",
        "###############################\n",
        "print (Operaciones.sumar(3, 4))\n",
        "print (Operaciones.sumar(4.5, 3.2))\n",
        "print (Operaciones.sumar(3 ,4, 8, 10, 12))\n",
        "print (Operaciones.sumar(2.5 ,4, 8.2, 5, 3.5,4,5,6,7,5,3,3))"
      ],
      "metadata": {
        "id": "sWRo9p_LdSyA"
      },
      "execution_count": null,
      "outputs": []
    },
    {
      "cell_type": "code",
      "source": [],
      "metadata": {
        "id": "Fv6VRXfngSYq"
      },
      "execution_count": null,
      "outputs": []
    },
    {
      "cell_type": "markdown",
      "source": [
        "Como puedes ver, el dinamismo y la flexibilidad del lenguaje Python hace que no sea necesaria la sobrecarga."
      ],
      "metadata": {
        "id": "ZFZmyeONZRt_"
      }
    },
    {
      "cell_type": "markdown",
      "source": [
        "**Un paso más alla...**\n",
        "\n",
        "¿Qué pasa si como programador no tengo idea de los atributos que se quieran definir en tiempo de ejecución para una clase?"
      ],
      "metadata": {
        "id": "B80rpiJJgiRz"
      }
    },
    {
      "cell_type": "code",
      "source": [
        "class Persona:\n",
        "  def __init__(self, **kwargs):\n",
        "      for k in kwargs:\n",
        "          setattr(self, k, kwargs[k])\n",
        "\n",
        "  def mostrar_informacion(self):\n",
        "      print(vars(self))\n",
        " ############################################\n",
        "\n",
        "p1 = Persona(nombre=\"Juan Valencia\")\n",
        "p1.mostrar_informacion()\n",
        "\n",
        "p2 = Persona(nombre=\"Claudia Perez\", edad=27)\n",
        "p2.mostrar_informacion()\n",
        "\n",
        "p3 = Persona(doctor=\"Ricardo Luna\", edad=30, correo=\"rluna@gmail.com\")\n",
        "p3.mostrar_informacion()\n",
        "\n",
        "#p1 = Persona(atributo=valor)\n",
        "#p1 = Persona(**(atributo: valor))\n",
        "\n"
      ],
      "metadata": {
        "id": "q4ErHymbg6eR"
      },
      "execution_count": null,
      "outputs": []
    },
    {
      "cell_type": "markdown",
      "source": [
        "## Sobreescritura\n",
        "\n",
        "Se refiere a la capacidad de una subclase de modificar o extender el comportamiento de un método definido en una superclase.\n",
        "\n",
        "Es decir, si una clase hija tiene un método con el mismo nombre y parámetros que uno definido en la clase padre, entonces el método de la clase hija sobrescribe al método de la clase padre."
      ],
      "metadata": {
        "id": "AurO1aLEdfhJ"
      }
    },
    {
      "cell_type": "code",
      "source": [
        "class Animal:\n",
        "    def hacer_sonido(self):\n",
        "        print(\"Un animal está haciendo un sonido\")\n",
        "\n",
        "class Perro(Animal):\n",
        "   def hacer_sonido(self):\n",
        "    print(\"El perro está ladrando\")\n",
        "####################################################\n",
        "animal = Animal()\n",
        "animal.hacer_sonido()  # salida: \"Un animal está haciendo un sonido\"\n",
        "\n",
        "perro = Perro()\n",
        "perro.hacer_sonido()  # salida: \"El perro está ladrando\"\n",
        "\n"
      ],
      "metadata": {
        "id": "ef6tjmqUtywv"
      },
      "execution_count": null,
      "outputs": []
    },
    {
      "cell_type": "markdown",
      "source": [
        "## Polimorfismo\n",
        "\n",
        "\n",
        "Es la capacidad de objetos de diferentes clases de responder a la misma función o método de manera diferente."
      ],
      "metadata": {
        "id": "mnsi50YFW7x5"
      }
    },
    {
      "cell_type": "code",
      "source": [],
      "metadata": {
        "id": "L0EZ1XJWt2_l"
      },
      "execution_count": null,
      "outputs": []
    },
    {
      "cell_type": "markdown",
      "source": [
        "Existen diferentes clases de polimorfismos, veamos algunos ejemplos:"
      ],
      "metadata": {
        "id": "kP4mjZ01aV_y"
      }
    },
    {
      "cell_type": "markdown",
      "source": [
        "**Polimorfismo con métodos**  es quizás el tipo de polimorfismo más reconocido y consiste en la forma en la que dos diferentes objetos responden de manera diferente ante la invocación del mismo método.  "
      ],
      "metadata": {
        "id": "MYWtaWjlad5w"
      }
    },
    {
      "cell_type": "code",
      "source": [
        "#Ejemplo Polimorfismo con métodos\n",
        "class Animal:\n",
        "    def __init__(self, nombre):\n",
        "        self.nombre = nombre\n",
        "\n",
        "    def hablar(self):\n",
        "        pass\n",
        "\n",
        "class Perro(Animal):\n",
        "    def hablar(self):\n",
        "        return \"guau\"\n",
        "\n",
        "class Gato(Animal):\n",
        "    def hablar(self):\n",
        "        return \"miau\"\n",
        "######################################################\n",
        "animales = [Perro(\"Firulays\"), Gato(\"Tom\")]\n",
        "\n",
        "for animal in animales:\n",
        "    print(animal.nombre + \": \" + animal.hablar())"
      ],
      "metadata": {
        "id": "u5i91hW4a-PS"
      },
      "execution_count": null,
      "outputs": []
    },
    {
      "cell_type": "markdown",
      "source": [
        "**Polimorfismo con funciones** es la capacidad que tienen las funciones de adaptar su comportamiento para responder de manera diferente ante la invocación con diferentes parámetros"
      ],
      "metadata": {
        "id": "uqedNdFGb5qI"
      }
    },
    {
      "cell_type": "code",
      "source": [
        "#Ejemplo Polimorfismo con funciones\n",
        "def suma(a, b):\n",
        "    return a + b\n",
        "\n",
        "print(suma(2, 3))   # Salida: 5\n",
        "print(suma(\"Hola\", \" Mundo\"))   # Salida: \"Hola Mundo\"\n",
        "print(suma(5.6, 2.5))   # Salida: 8.1\n",
        "print (suma([3, 2],[4, 9]))  #Salida: [3, 2, 4, 9]"
      ],
      "metadata": {
        "id": "EkIWPMDpac5I"
      },
      "execution_count": null,
      "outputs": []
    },
    {
      "cell_type": "markdown",
      "source": [
        "**Polimorfismo paramétrico**  Hace referencia a la capacidad que tiene un método de adaptar su comportamiento de acuerdo con el objeto que recibe como parámetro, sin necesidad de escribir un método diferente para cada tipo de objeto."
      ],
      "metadata": {
        "id": "mZPivxYnev1Z"
      }
    },
    {
      "cell_type": "code",
      "source": [
        "#Ejemplo polimorfismo paramétrico\n",
        "class Animal:\n",
        "    def hacer_sonido(self):\n",
        "        pass\n",
        "\n",
        "class Perro(Animal):\n",
        "    def hacer_sonido(self):\n",
        "        print(\"¡guau!\")\n",
        "\n",
        "class Gato(Animal):\n",
        "    def hacer_sonido(self):\n",
        "        print(\"¡miau!\")\n",
        "##################################################\n",
        "\n",
        "def hacer_sonido_animal(animal):\n",
        "    if isinstance(animal, Animal):\n",
        "        animal.hacer_sonido()\n",
        "    else:\n",
        "        print(\"Este objeto no es un animal\")\n",
        "\n",
        "perro = Perro()\n",
        "gato = Gato()\n",
        "otro_objeto = object()\n",
        "\n",
        "hacer_sonido_animal(perro)   # Salida: ¡guau!\n",
        "hacer_sonido_animal(gato)    # Salida: ¡miau!\n",
        "hacer_sonido_animal(otro_objeto) # Salida: Este objeto no es un animal"
      ],
      "metadata": {
        "id": "cu3DEs1NfZcC"
      },
      "execution_count": null,
      "outputs": []
    },
    {
      "cell_type": "markdown",
      "source": [
        "## Cohesión\n",
        "\n",
        "La cohesión es el grado en que los miembros de una clase (atributos y métodos) se relacionan entre sí y trabajan armónicamente para lograr el resultado definido.\n",
        "\n",
        "En POO se recomienda que las clases tengan una alta cohesión.  Miremos un ejemplo de alta y baja cohesión usando la clase Cuenta"
      ],
      "metadata": {
        "id": "IddwzhVny4wn"
      }
    },
    {
      "cell_type": "code",
      "source": [
        "#Clase Cuenta con baja cohesión:\n",
        "class Cuenta:\n",
        "  def __init__(self, saldo, cliente, ciudad):\n",
        "    self.saldo = saldo\n",
        "    self.cliente = cliente\n",
        "    self.ciudad = ciudad\n",
        "\n",
        "  def calcular_impuesto(self):\n",
        "    if isinstance(self, Ahorro):\n",
        "      impuesto = self.saldo *0.05\n",
        "    else:\n",
        "      impuesto = self.saldo *0.07\n",
        "    return impuesto"
      ],
      "metadata": {
        "id": "VqsQ5t2Y2Yr9"
      },
      "execution_count": null,
      "outputs": []
    },
    {
      "cell_type": "code",
      "source": [
        "#Clase Cuenta con alta cohesión:\n",
        "class Cuenta:\n",
        "  def __init__(self, saldo=0):\n",
        "    self.saldo = saldo\n",
        "\n",
        "  def depositar(self, monto):\n",
        "    self.saldo += monto\n",
        "\n",
        "  def retirar(self, monto):\n",
        "    if self.saldo-monto >=0:\n",
        "      self.saldo -= monto\n",
        "\n",
        "  def consultar(self):\n",
        "    return self.saldo\n"
      ],
      "metadata": {
        "id": "cEJCJ2KowJZQ"
      },
      "execution_count": null,
      "outputs": []
    },
    {
      "cell_type": "markdown",
      "source": [
        "## Acoplamiento\n",
        "\n",
        "El acoplamiento en POO se refiere al nivel de dependencia entre las clases.  De esta manera, un alto acoplamiento significa que los cambios en una clase repercuten en otra.  \n",
        "\n",
        "En POO se recomienda tener bajo acoplamiento, de esta manera, las clases  están menos interconectadas y son más independientes. Esto puede hacer que el sistema sea más fácil de mantener y modificar."
      ],
      "metadata": {
        "id": "yHBDDzIc2cJS"
      }
    },
    {
      "cell_type": "code",
      "source": [
        "#Ejemplo Alto Acoplamiento\n",
        "class Persona:\n",
        "    def __init__(self, nombre, edad):\n",
        "        self.nombre = nombre\n",
        "        self.edad = edad\n",
        "\n",
        "    def saludar(self):\n",
        "        print(f\"Hola, mi nombre es {self.nombre} y tengo {self.edad} años.\")\n",
        "\n",
        "class Empleado:\n",
        "    def __init__(self, nombre, edad, salario):\n",
        "        self.persona = Persona(nombre, edad) #esto crea alto acoplamiento\n",
        "        self.salario = salario\n",
        "\n",
        "    def presentarse(self):\n",
        "        self.persona.saludar()\n",
        "        print(f\"Soy un empleado y mi salario es {self.salario}\")\n",
        "################################################################\n",
        "e = Empleado(\"Juan\", 30, 1200)\n",
        "e.presentarse()"
      ],
      "metadata": {
        "id": "ZC-5NoB906Xr"
      },
      "execution_count": null,
      "outputs": []
    },
    {
      "cell_type": "code",
      "source": [
        "#Ejemplo Bajo Acoplamiento\n",
        "class Persona:\n",
        "    def __init__(self, nombre, edad):\n",
        "        self.nombre = nombre\n",
        "        self.edad = edad\n",
        "\n",
        "    def saludar(self):\n",
        "        print(f\"Hola, mi nombre es {self.nombre} y tengo {self.edad} años.\")\n",
        "\n",
        "class Empleado:\n",
        "    def __init__(self, persona, salario):\n",
        "        self.persona = persona #bajo acoplamiento\n",
        "        self.salario = salario\n",
        "\n",
        "    def presentarse(self):\n",
        "        self.persona.saludar()\n",
        "        print(f\"Soy un empleado y mi salario es {self.salario}\")\n",
        "###############################################################\n",
        "p = Persona(\"Carlos\", 45)\n",
        "e = Empleado(p, 1200)\n",
        "e.presentarse()"
      ],
      "metadata": {
        "id": "prLxb5Kg5VLW"
      },
      "execution_count": null,
      "outputs": []
    },
    {
      "cell_type": "markdown",
      "source": [
        "## Clases Abstractas\n",
        "\n",
        "Una clase abstracta es una clase que no se pueden instanciar directamente y que definen métodos concretos (con código) o abstractos (métodos sin código en su cuerpo).  Estas clases abstractas son creadas para ser heredadas por otras clases concretas cuya obligación es implementar los métodos abstractos heredados.  \n",
        "\n",
        "**Sintaxis:**\n",
        "\n",
        "Para definir una clase abstracta en Python se debe importar el módulo **abc** que significa **Abstract Base Classes** este módulo cuenta con una clase **ABC** de la cual debe heredar cualquier clase abstracta.\n",
        "\n",
        "\n",
        "\n",
        "```\n",
        "from abc import ABC\n",
        "class MiClaseAbstracta(ABC):\n",
        "```\n",
        "Los métodos abstractos dentro de una clase abstracta deben llevar el decorador @abstractmethod\n",
        "\n",
        "```\n",
        "from abc import ABC, abstractmethod\n",
        "\n",
        "class MiClaseAbstracta(ABC):\n",
        "\n",
        "    @abstractmethod\n",
        "    def metodo_abstracto(self):\n",
        "        pass\n",
        "```\n"
      ],
      "metadata": {
        "id": "FKwmlZR5NCdC"
      }
    },
    {
      "cell_type": "code",
      "source": [
        "from abc import ABC, abstractmethod\n",
        "class Persona(ABC):\n",
        "\n",
        "  @abstractmethod\n",
        "  def saludo(self):\n",
        "    pass\n",
        "########################################\n",
        "p = Persona()"
      ],
      "metadata": {
        "id": "vpKwtj6WPdxI"
      },
      "execution_count": null,
      "outputs": []
    },
    {
      "cell_type": "code",
      "source": [
        "from abc import ABC, abstractmethod\n",
        "class Figura(ABC):\n",
        "\n",
        "  def mensaje (self):\n",
        "    print (\"Hola, soy una figura geométrica\")\n",
        "\n",
        "  @abstractmethod\n",
        "  def calcular_area(self, lado):\n",
        "    pass\n",
        "\n",
        "class Cuadrado(Figura):\n",
        "  def calcular_area(self, lado):\n",
        "    return lado * lado\n",
        "\n",
        "########################################\n",
        "\n",
        "c = Cuadrado()\n",
        "print (c.calcular_area(4))\n"
      ],
      "metadata": {
        "id": "Tx1i9pevQ-Fd"
      },
      "execution_count": null,
      "outputs": []
    },
    {
      "cell_type": "markdown",
      "source": [
        "## Interfaces\n",
        "\n",
        "En Python no existe una palabra reservada para definir una interfaz.  Una iterfaz en Python es una clase abstracta donde todos sus métodos son abstractos.  Al tener una interfaz, la clase concreta que hereda de ella está obligada a implementar todos los métodos definidos en la interfaz.  "
      ],
      "metadata": {
        "id": "KEQYX4dByVmq"
      }
    },
    {
      "cell_type": "code",
      "source": [
        "from abc import ABC, abstractmethod\n",
        "class Humano (ABC):\n",
        "  @abstractmethod\n",
        "  def respirar(self):\n",
        "    pass\n",
        "\n",
        "  @abstractmethod\n",
        "  def comer(self):\n",
        "    pass\n",
        "\n",
        "  @abstractmethod\n",
        "  def dormir(self):\n",
        "    pass\n",
        "\n",
        "class Estudiante(Humano):\n",
        "  def respirar(self):\n",
        "    print (\"respiro\")\n",
        "\n",
        "  def comer(self):\n",
        "    print (\"como\")\n",
        "\n",
        "\n",
        "\n",
        "  def dormir(self):\n",
        "    print (\"duermo\")\n",
        "\n",
        "est1 = Estudiante()\n",
        "est1.dormir()"
      ],
      "metadata": {
        "id": "KOVtk6hAy5Oj"
      },
      "execution_count": null,
      "outputs": []
    },
    {
      "cell_type": "markdown",
      "source": [
        "# Apropiación"
      ],
      "metadata": {
        "id": "hhnUdoQ86bMe"
      }
    },
    {
      "cell_type": "markdown",
      "source": [
        "1. Cree una clase llamada \"CuentaBancaria\" que tenga atributos privados para el número de cuenta, el titular de la cuenta y el saldo. Cree métodos para depositar, retirar y transferir dinero entre cuentas. Asegúrese de que no se puedan modificar ni el número de cuenta ni el titular de la cuenta una vez creada la instancia de la clase. Además, que el saldo nunca sea negativo y que las transferencias solo puedan realizarse entre cuentas de la misma moneda."
      ],
      "metadata": {
        "id": "kgp-BGz86iSh"
      }
    },
    {
      "cell_type": "code",
      "source": [
        "class CuentaBancaria:\n",
        "    def __init__(self, numero_cuenta, titular, saldo, moneda):\n",
        "        self.__numero_cuenta = numero_cuenta\n",
        "        self.__titular = titular\n",
        "        self.__saldo = saldo\n",
        "        self.__moneda = moneda\n",
        "\n",
        "    def obtener_numero_cuenta(self):\n",
        "        return self.__numero_cuenta\n",
        "\n",
        "    def obtener_titular(self):\n",
        "        return self.__titular\n",
        "\n",
        "    def obtener_saldo(self):\n",
        "        return self.__saldo\n",
        "\n",
        "    def obtener_moneda(self):\n",
        "        return self.__moneda\n",
        "\n",
        "    def depositar(self, cantidad):\n",
        "        if cantidad > 0:\n",
        "            self.__saldo += cantidad\n",
        "            print(f\"Depósito de {cantidad} {self.__moneda} realizado. Nuevo saldo: {self.__saldo} {self.__moneda}\")\n",
        "        else:\n",
        "            print(\"Error: La cantidad a depositar debe ser mayor que cero.\")\n",
        "\n",
        "    def retirar(self, cantidad):\n",
        "        if cantidad > 0 and cantidad <= self.__saldo:\n",
        "            self.__saldo -= cantidad\n",
        "            print(f\"Retiro de {cantidad} {self.__moneda} realizado. Nuevo saldo: {self.__saldo} {self.__moneda}\")\n",
        "        else:\n",
        "            print(\"Error: La cantidad a retirar debe ser mayor que cero y no puede superar el saldo disponible.\")\n",
        "\n",
        "    def transferir(self, otra_cuenta, cantidad):\n",
        "        if isinstance(otra_cuenta, CuentaBancaria) and self.__moneda == otra_cuenta.obtener_moneda():\n",
        "            if cantidad > 0 and cantidad <= self.__saldo:\n",
        "                self.__saldo -= cantidad\n",
        "                otra_cuenta.depositar(cantidad)\n",
        "                print(f\"Transferencia de {cantidad} {self.__moneda} realizada a la cuenta de {otra_cuenta.obtener_titular()}. Nuevo saldo: {self.__saldo} {self.__moneda}\")\n",
        "            else:\n",
        "                print(\"Error: La cantidad a transferir debe ser mayor que cero y no puede superar el saldo disponible.\")\n",
        "        else:\n",
        "            print(\"Error: Las transferencias solo pueden realizarse entre cuentas de la misma moneda.\")\n",
        "\n",
        "# Ejemplo de uso\n",
        "cuenta1 = CuentaBancaria(\"123456789\", \"Juan Pérez\", 1000, \"USD\")\n",
        "cuenta2 = CuentaBancaria(\"987654321\", \"Ana Gómez\", 500, \"USD\")\n",
        "\n",
        "cuenta1.depositar(200)\n",
        "cuenta1.retirar(50)\n",
        "cuenta1.transferir(cuenta2, 100)\n",
        "\n",
        "print(\"Saldo final de la cuenta de\", cuenta1.obtener_titular(), \":\", cuenta1.obtener_saldo(), cuenta1.obtener_moneda())\n",
        "print(\"Saldo final de la cuenta de\", cuenta2.obtener_titular(), \":\", cuenta2.obtener_saldo(), cuenta2.obtener_moneda())\n"
      ],
      "metadata": {
        "id": "C6NArYwh8M38"
      },
      "execution_count": null,
      "outputs": []
    },
    {
      "cell_type": "markdown",
      "source": [
        "2.  Cree una clase llamada Fecha que contenga un método imprimir() que funcione así:\n",
        "\n",
        "\n",
        "*   Si no recibe parámetros debe imprimir la fecha actual en formato \"dd/mm/aaaa\".\n",
        "*  Si recibe la fecha, debe imprimir la fecha recibida tal cual se recibió\n",
        "*  Si recibe además el parámetro \"formato\" debe imprimir la fecha (recibida o actual) en el formato dado.  Los formatos válidos son: (\"dd/mm/aaaa\", \"dd/mm/aa\", \"aaaa/mm/dd\", \"aa/mm/dd\") en caso de recibir algún otro formato diferente, se debe imprimir en el formato por defecto \"dd/mm/aaaa\"  \n",
        "\n"
      ],
      "metadata": {
        "id": "i1gqPo4p8Nk-"
      }
    },
    {
      "cell_type": "code",
      "source": [
        "from datetime import datetime\n",
        "\n",
        "class Fecha:\n",
        "    def imprimir(self, fecha=None, formato=\"dd/mm/aaaa\"):\n",
        "        if fecha is None:\n",
        "            fecha_actual = datetime.now()\n",
        "        else:\n",
        "            try:\n",
        "                fecha_actual = datetime.strptime(fecha, formato)\n",
        "            except ValueError:\n",
        "                print(\"Formato de fecha no válido. Usando formato por defecto.\")\n",
        "                fecha_actual = datetime.now()\n",
        "\n",
        "        if formato == \"dd/mm/aaaa\":\n",
        "            print(fecha_actual.strftime(\"%d/%m/%Y\"))\n",
        "        elif formato == \"dd/mm/aa\":\n",
        "            print(fecha_actual.strftime(\"%d/%m/%y\"))\n",
        "        elif formato == \"aaaa/mm/dd\":\n",
        "            print(fecha_actual.strftime(\"%Y/%m/%d\"))\n",
        "        elif formato == \"aa/mm/dd\":\n",
        "            print(fecha_actual.strftime(\"%y/%m/%d\"))\n",
        "        else:\n",
        "            print(fecha_actual.strftime(\"%d/%m/%Y\"))  # Formato por defecto\n",
        "\n",
        "# Ejemplos de uso\n",
        "fecha_obj = Fecha()\n",
        "fecha_obj.imprimir()  # Imprime la fecha actual en formato \"dd/mm/aaaa\"\n",
        "fecha_obj.imprimir(\"21/09/23\", \"aa/mm/dd\")  # Imprime la fecha recibida en formato \"aa/mm/dd\"\n",
        "fecha_obj.imprimir(\"2023/09/21\", \"dd/mm/aaaa\")  # Imprime la fecha recibida en formato \"dd/mm/aaaa\"\n",
        "fecha_obj.imprimir(\"2023-09-21\", \"yyyy/mm/dd\")  # Imprime la fecha recibida en formato por defecto\n"
      ],
      "metadata": {
        "id": "iaG9An7bAdNd"
      },
      "execution_count": null,
      "outputs": []
    },
    {
      "cell_type": "markdown",
      "source": [
        "3.  Cree una clase llamada Figura y tres subclases llamadas Circulo, cuadrado y Triangulo.  Realice una implementación de las clases consistentes con el nombre de cada una y sobreescriba el método **calcular_area()** en cada subclase para que el resultado sea el correcto de acuerdo con su nombre. Compruebe el funcionamiento de las diferentes clases."
      ],
      "metadata": {
        "id": "rC5RC4BiAdrE"
      }
    },
    {
      "cell_type": "code",
      "source": [
        "import math\n",
        "\n",
        "class Figura:\n",
        "    def calcular_area(self):\n",
        "        pass\n",
        "\n",
        "class Circulo(Figura):\n",
        "    def __init__(self, radio):\n",
        "        self.radio = radio\n",
        "\n",
        "    def calcular_area(self):\n",
        "        return math.pi * self.radio**2\n",
        "\n",
        "class Cuadrado(Figura):\n",
        "    def __init__(self, lado):\n",
        "        self.lado = lado\n",
        "\n",
        "    def calcular_area(self):\n",
        "        return self.lado**2\n",
        "\n",
        "class Triangulo(Figura):\n",
        "    def __init__(self, base, altura):\n",
        "        self.base = base\n",
        "        self.altura = altura\n",
        "\n",
        "    def calcular_area(self):\n",
        "        return 0.5 * self.base * self.altura\n",
        "\n",
        "# Ejemplo de uso\n",
        "circulo = Circulo(5)\n",
        "cuadrado = Cuadrado(4)\n",
        "triangulo = Triangulo(3, 6)\n",
        "\n",
        "print(\"Área del círculo:\", circulo.calcular_area())\n",
        "print(\"Área del cuadrado:\", cuadrado.calcular_area())\n",
        "print(\"Área del triángulo:\", triangulo.calcular_area())\n"
      ],
      "metadata": {
        "id": "pbYFCAm-HQbh"
      },
      "execution_count": null,
      "outputs": []
    },
    {
      "cell_type": "markdown",
      "source": [
        "4.  Cree una clase llamada \"Operacion\" con los atributos \"num1\" y \"num2\" y un método \"realizar_operacion\". Luego, cree subclases para cada tipo de operación, como \"Suma\", \"Resta\" y \"Multiplicación\", que hereden de la clase \"Operacion\". Cada subclase debe implementar su propio método \"realizar_operacion\" que realice la operación correspondiente con los números proporcionados. En el programa principal, cree una lista de operaciones de diferentes tipos y llama al método \"realizar_operacion\" de cada objeto en la lista. Observe cómo el método \"realizar_operacion\" funciona de manera diferente según el tipo de operación."
      ],
      "metadata": {
        "id": "di0bt_9XLufz"
      }
    },
    {
      "cell_type": "code",
      "source": [
        "class Operacion:\n",
        "    def __init__(self, num1, num2):\n",
        "        self.num1 = num1\n",
        "        self.num2 = num2\n",
        "\n",
        "    def realizar_operacion(self):\n",
        "        pass\n",
        "\n",
        "class Suma(Operacion):\n",
        "    def realizar_operacion(self):\n",
        "        return self.num1 + self.num2\n",
        "\n",
        "class Resta(Operacion):\n",
        "    def realizar_operacion(self):\n",
        "        return self.num1 - self.num2\n",
        "\n",
        "class Multiplicacion(Operacion):\n",
        "    def realizar_operacion(self):\n",
        "        return self.num1 * self.num2\n",
        "\n",
        "# Programa principal\n",
        "operaciones = [\n",
        "    Suma(5, 3),\n",
        "    Resta(10, 4),\n",
        "    Multiplicacion(2, 6),\n",
        "    Suma(8, 2)\n",
        "]\n",
        "\n",
        "for operacion in operaciones:\n",
        "    resultado = operacion.realizar_operacion()\n",
        "    nombre_operacion = operacion.__class__.__name__  # Obtiene el nombre de la clase\n",
        "    print(f\"{nombre_operacion}: {operacion.num1} y {operacion.num2} = {resultado}\")\n"
      ],
      "metadata": {
        "id": "hD5kTWMJL5pT"
      },
      "execution_count": null,
      "outputs": []
    },
    {
      "cell_type": "markdown",
      "source": [
        "5. Cree una Interface llamada Juego con los métodos abstractos iniciar, mostrar_puntaje, terminar.  Cree un juego sencillo que implemente la interfaz Juego y compruebe el funcionamiento del mismo."
      ],
      "metadata": {
        "id": "-qdhYJWv19uz"
      }
    },
    {
      "cell_type": "code",
      "source": [
        "from abc import ABC, abstractmethod\n",
        "\n",
        "class Juego(ABC):\n",
        "    @abstractmethod\n",
        "    def iniciar(self):\n",
        "        pass\n",
        "\n",
        "    @abstractmethod\n",
        "    def mostrar_puntaje(self):\n",
        "        pass\n",
        "\n",
        "    @abstractmethod\n",
        "    def terminar(self):\n",
        "        pass\n",
        "\n",
        "class JuegoSencillo(Juego):\n",
        "    def __init__(self, nombre):\n",
        "        self.nombre = nombre\n",
        "        self.puntaje = 0\n",
        "        self.en_curso = False\n",
        "\n",
        "    def iniciar(self):\n",
        "        print(f\"Iniciando el juego {self.nombre}\")\n",
        "        self.en_curso = True\n",
        "\n",
        "    def mostrar_puntaje(self):\n",
        "        if self.en_curso:\n",
        "            print(f\"Puntaje actual en el juego {self.nombre}: {self.puntaje}\")\n",
        "        else:\n",
        "            print(\"El juego no está en curso. Inicia el juego primero.\")\n",
        "\n",
        "    def terminar(self):\n",
        "        if self.en_curso:\n",
        "            print(f\"Terminando el juego {self.nombre}. Puntaje final: {self.puntaje}\")\n",
        "            self.en_curso = False\n",
        "        else:\n",
        "            print(\"El juego no está en curso. Inicia el juego primero.\")\n",
        "\n",
        "# Programa principal\n",
        "juego_sencillo = JuegoSencillo(\"Adivina el Número\")\n",
        "juego_sencillo.iniciar()\n",
        "juego_sencillo.mostrar_puntaje()\n",
        "juego_sencillo.terminar()\n"
      ],
      "metadata": {
        "id": "Xp3Ah4pE2kk6"
      },
      "execution_count": null,
      "outputs": []
    }
  ]
}