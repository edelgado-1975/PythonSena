{
  "nbformat": 4,
  "nbformat_minor": 0,
  "metadata": {
    "colab": {
      "provenance": [],
      "include_colab_link": true
    },
    "kernelspec": {
      "name": "python3",
      "display_name": "Python 3"
    },
    "language_info": {
      "name": "python"
    }
  },
  "cells": [
    {
      "cell_type": "markdown",
      "metadata": {
        "id": "view-in-github",
        "colab_type": "text"
      },
      "source": [
        "<a href=\"https://colab.research.google.com/github/edelgado-1975/PythonSena/blob/main/6_Jugando_con_Python%20ok.ipynb\" target=\"_parent\"><img src=\"https://colab.research.google.com/assets/colab-badge.svg\" alt=\"Open In Colab\"/></a>"
      ]
    },
    {
      "cell_type": "markdown",
      "source": [
        "![M I S I Ó N.png](data:image/png;base64,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)"
      ],
      "metadata": {
        "id": "wDskrfsObrxn"
      }
    },
    {
      "cell_type": "markdown",
      "source": [
        "#Jugando con Python"
      ],
      "metadata": {
        "id": "PvJuHc5XHGNj"
      }
    },
    {
      "cell_type": "markdown",
      "source": [
        "\n",
        "\n",
        "1.\t**Piedra papel o tijera:**  Debes preguntar al usuario una opción entre piedra, papel o tijera y una vez ingresada su opción se debe mostrar la opción ingresada por el usuario y la obtenida de manera aleatoria por el computador.  El programa debe indicar el ganador con base en las siguientes reglas: Piedra gana a Tijera, Tijera gana a Papel, Papel gana a Piedra.  En caso de empate se debe continuar hasta que haya un ganador.  Utiliza funciones.\n",
        "\n",
        "![piedra.png](data:image/png;base64,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)\n",
        "\n",
        "\n"
      ],
      "metadata": {
        "id": "L0Smmv-jGhe3"
      }
    },
    {
      "cell_type": "code",
      "source": [
        "import random\n",
        "\n",
        "def obtener_opcion_usuario():\n",
        "    while True:\n",
        "        try:\n",
        "            opcion = input(\"Elige una opción: piedra, papel o tijera: \").lower()\n",
        "            if opcion in [\"piedra\", \"papel\", \"tijera\"]:\n",
        "                return opcion\n",
        "            else:\n",
        "                print(\"Opción no válida. Inténtalo de nuevo.\")\n",
        "        except KeyboardInterrupt:\n",
        "            print(\"\\nHas interrumpido el juego. Adiós.\")\n",
        "            exit()\n",
        "\n",
        "def obtener_opcion_computadora():\n",
        "    opciones = [\"piedra\", \"papel\", \"tijera\"]\n",
        "    return random.choice(opciones)\n",
        "\n",
        "def determinar_ganador(usuario, computadora):\n",
        "    if usuario == computadora:\n",
        "        return \"Empate\"\n",
        "    elif (usuario == \"piedra\" and computadora == \"tijera\") or (usuario == \"tijera\" and computadora == \"papel\") or (usuario == \"papel\" and computadora == \"piedra\"):\n",
        "        return \"Ganaste\"\n",
        "    else:\n",
        "        return \"La computadora ganó\"\n",
        "\n",
        "while True:\n",
        "    try:\n",
        "        usuario = obtener_opcion_usuario()\n",
        "        computadora = obtener_opcion_computadora()\n",
        "\n",
        "        print(f\"Tú elegiste: {usuario}\")\n",
        "        print(f\"La computadora eligió: {computadora}\")\n",
        "\n",
        "        resultado = determinar_ganador(usuario, computadora)\n",
        "        print(resultado)\n",
        "\n",
        "        jugar_de_nuevo = input(\"¿Quieres jugar de nuevo? (si/no): \").lower()\n",
        "        if jugar_de_nuevo != \"si\":\n",
        "            break\n",
        "    except KeyboardInterrupt:\n",
        "        print(\"\\nHas interrumpido el juego. Adiós.\")\n",
        "        exit()\n"
      ],
      "metadata": {
        "id": "EOJD9dpHs3Xd",
        "outputId": "c2a2b2fb-46c9-4f1f-8738-ec3a9b6792b9",
        "colab": {
          "base_uri": "https://localhost:8080/"
        }
      },
      "execution_count": 1,
      "outputs": [
        {
          "name": "stdout",
          "output_type": "stream",
          "text": [
            "Elige una opción: piedra, papel o tijera: tijera\n",
            "Tú elegiste: tijera\n",
            "La computadora eligió: piedra\n",
            "La computadora ganó\n",
            "¿Quieres jugar de nuevo? (si/no): si\n",
            "Elige una opción: piedra, papel o tijera: papel\n",
            "Tú elegiste: papel\n",
            "La computadora eligió: papel\n",
            "Empate\n",
            "¿Quieres jugar de nuevo? (si/no): no\n"
          ]
        }
      ]
    },
    {
      "cell_type": "markdown",
      "source": [
        "2. **Ahorcado:**  Debes presentar el siguiente menú al usuario\n",
        "\n",
        "\n",
        "1.   Agregar Palabra (solicita una palabra y la agregas a una lista de palabras)\n",
        "2.  Configurar (debes preguntar el número de equivocaciones permitidas)\n",
        "3.\tJugar\n",
        "4.\tSalir\n",
        "\n",
        "\n",
        "La opción 3 de jugar debe obtener una palabra aleatoriamente de la lista de palabras y presentar en pantalla los espacios de cada letra de la palabra seleccionada.  Por ejemplo, si la palabra es paciencia, se debe mostrar en pantalla así _ _ _ _ _ _ _ _ _  Posteriormente, debe preguntar una letra al usuario y si la letra se encuentra, debe mostrarla en la posición correcta.  Para el caso anterior, si la letra seleccionada es la a, se debería mostrar así\n",
        "_ A _ _ _ _ _ _ A En caso de error debe indicar cuantas oportunidades le quedan para adivinar.  El juego termina cuando el usuario llena la palabra antes de terminar sus oportunidades (en ese caso gana) o cuando se terminan sus oportunidades sin llenar la palabra (en ese caso pierde).  Al perder o ganar se debe presentar un mensaje indicando cual era la palabra escondida.      Usar funciones y gestión de excepciones\n",
        "![ahorcado.png](data:image/png;base64,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)"
      ],
      "metadata": {
        "id": "TlvCE_pIHMtj"
      }
    },
    {
      "cell_type": "code",
      "source": [
        "import random\n",
        "\n",
        "# Variables globales\n",
        "palabras = []\n",
        "intentos_permitidos = 6\n",
        "\n",
        "def agregar_palabra():\n",
        "    palabra = input(\"Ingresa una palabra para agregar al juego: \").lower()\n",
        "    palabras.append(palabra)\n",
        "    print(f'La palabra \"{palabra}\" ha sido agregada.')\n",
        "\n",
        "def configurar_intentos():\n",
        "    global intentos_permitidos\n",
        "    while True:\n",
        "        try:\n",
        "            intentos = int(input(\"Ingresa el número de intentos permitidos (por defecto 6): \"))\n",
        "            if intentos > 0:\n",
        "                intentos_permitidos = intentos\n",
        "                break\n",
        "            else:\n",
        "                print(\"El número de intentos debe ser mayor que cero.\")\n",
        "        except ValueError:\n",
        "            print(\"Ingresa un número válido.\")\n",
        "\n",
        "def seleccionar_palabra():\n",
        "    return random.choice(palabras)\n",
        "\n",
        "def inicializar_palabra_oculta(palabra):\n",
        "    return ['_'] * len(palabra)\n",
        "\n",
        "def mostrar_palabra_oculta(palabra_oculta):\n",
        "    return ' '.join(palabra_oculta)\n",
        "\n",
        "def jugar():\n",
        "    palabra = seleccionar_palabra()\n",
        "    palabra_oculta = inicializar_palabra_oculta(palabra)\n",
        "    oportunidades = intentos_permitidos\n",
        "\n",
        "    print(\"¡Comencemos a jugar!\")\n",
        "    print(f\"Palabra: {mostrar_palabra_oculta(palabra_oculta)}\")\n",
        "\n",
        "    while True:\n",
        "        letra = input(\"Adivina una letra: \").lower()\n",
        "\n",
        "        if letra in palabra:\n",
        "            for i in range(len(palabra)):\n",
        "                if palabra[i] == letra:\n",
        "                    palabra_oculta[i] = letra\n",
        "\n",
        "            print(f\"Palabra: {mostrar_palabra_oculta(palabra_oculta)}\")\n",
        "\n",
        "            if '_' not in palabra_oculta:\n",
        "                print(\"¡Has ganado! La palabra era:\", palabra)\n",
        "                break\n",
        "        else:\n",
        "            oportunidades -= 1\n",
        "            print(f\"Letra incorrecta. Te quedan {oportunidades} oportunidades.\")\n",
        "\n",
        "        if oportunidades == 0:\n",
        "            print(\"¡Has perdido! La palabra era:\", palabra)\n",
        "            break\n",
        "\n",
        "def main():\n",
        "    while True:\n",
        "        print(\"\\nMenú:\")\n",
        "        print(\"1. Agregar Palabra\")\n",
        "        print(\"2. Configurar Intentos Permitidos\")\n",
        "        print(\"3. Jugar\")\n",
        "        print(\"4. Salir\")\n",
        "\n",
        "        opcion = input(\"Elige una opción: \")\n",
        "\n",
        "        if opcion == '1':\n",
        "            agregar_palabra()\n",
        "        elif opcion == '2':\n",
        "            configurar_intentos()\n",
        "        elif opcion == '3':\n",
        "            if len(palabras) == 0:\n",
        "                print(\"Debes agregar palabras antes de jugar.\")\n",
        "            else:\n",
        "                jugar()\n",
        "        elif opcion == '4':\n",
        "            print(\"¡Adiós!\")\n",
        "            break\n",
        "        else:\n",
        "            print(\"Opción no válida. Por favor, elige una opción del menú.\")\n",
        "\n",
        "if __name__ == \"__main__\":\n",
        "    main()\n"
      ],
      "metadata": {
        "id": "h0zClABMOPUt"
      },
      "execution_count": null,
      "outputs": []
    }
  ]
}