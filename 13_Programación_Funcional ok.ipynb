{
  "nbformat": 4,
  "nbformat_minor": 0,
  "metadata": {
    "colab": {
      "private_outputs": true,
      "provenance": [],
      "include_colab_link": true
    },
    "kernelspec": {
      "name": "python3",
      "display_name": "Python 3"
    },
    "language_info": {
      "name": "python"
    }
  },
  "cells": [
    {
      "cell_type": "markdown",
      "metadata": {
        "id": "view-in-github",
        "colab_type": "text"
      },
      "source": [
        "<a href=\"https://colab.research.google.com/github/edelgado-1975/PythonSena/blob/main/13_Programaci%C3%B3n_Funcional%20ok.ipynb\" target=\"_parent\"><img src=\"https://colab.research.google.com/assets/colab-badge.svg\" alt=\"Open In Colab\"/></a>"
      ]
    },
    {
      "cell_type": "markdown",
      "source": [
        "![M I S I Ó N.png](data:image/png;base64,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)"
      ],
      "metadata": {
        "id": "uyVSRT-3X35K"
      }
    },
    {
      "cell_type": "markdown",
      "source": [
        "# Programación Funcional en Python\n"
      ],
      "metadata": {
        "id": "Rav-C_4Dlwf1"
      }
    },
    {
      "cell_type": "markdown",
      "source": [
        "## Introducción\n",
        "\n",
        "Python es un lenguaje de programación **Multiparadigma**.  \n",
        "\n",
        "La Programación Funcional (PF) es un paradigma de programación donde las protagonistas son las funciones.  Las funciones se pueden almacenar en variables, pasar como parámetros a otras funciones, ser retornadas por otras funciones.  "
      ],
      "metadata": {
        "id": "xnEdmDpdl02Q"
      }
    },
    {
      "cell_type": "markdown",
      "source": [
        "**Ventajas de la PF**\n",
        "\n",
        "\n",
        "*   Mayor claridad del código\n",
        "*   Facilita el mantenimiento\n",
        "*   Brevedad del código\n",
        "*   Seguridad del código\n",
        "*   Velocidad de ejecución\n",
        "\n"
      ],
      "metadata": {
        "id": "ZRMoLTsTqh5C"
      }
    },
    {
      "cell_type": "markdown",
      "source": [
        "## Primeros pasos hacia la Programación Funcional\n",
        "\n",
        "En la PF las funciones son consideradas  \"Ciudadanas de primera clase\".\n",
        "\n",
        "A continuación veremos algunas bases que nos ayudarán a introducirnos y comprender mejor la PF."
      ],
      "metadata": {
        "id": "eCEzh_3xxq2h"
      }
    },
    {
      "cell_type": "markdown",
      "source": [
        "### Composición de Funciones\n",
        "\n",
        "La composición de funciones en Python es una técnica que consiste en aplicar una función a los resultados de otra función.\n",
        "\n",
        "De esta manera podemos obtener resultados más exigentes a partir de la concatenación de funciones simples y reutilizar el código de forma eficiente."
      ],
      "metadata": {
        "id": "2g6Aq3no_jRp"
      }
    },
    {
      "cell_type": "markdown",
      "source": [
        "Ejemplo:  Se requiere reemplazar parte de un texto y convertirlo a mayúscula."
      ],
      "metadata": {
        "id": "juagnytgCst_"
      }
    },
    {
      "cell_type": "code",
      "source": [
        "def a_mayuscula(texto):\n",
        "    return texto.upper()\n",
        "\n",
        "def reemplazar(texto, antiguo, nuevo):\n",
        "    return texto.replace(antiguo, nuevo)\n",
        "\n",
        "texto = \"este es un ejemplo de funciofnes anidadas en Python\"\n",
        "resultado = a_mayuscula(reemplazar(texto, \"funciones anidadas\", \"composición de funciones\"))\n",
        "print(resultado)"
      ],
      "metadata": {
        "id": "pBgrcL5TCv2v"
      },
      "execution_count": null,
      "outputs": []
    },
    {
      "cell_type": "markdown",
      "source": [
        "La siguiente función recibe un mensaje y lo devuelve encriptado reemplazando cada letra del mensaje N posiciones en el alfabeto:\n",
        "\n",
        "\n",
        "\n",
        "```\n",
        "def encriptar(mensaje, posiciones):\n",
        "    alfabeto = 'abcdefghijklmnñopqrstuvwxyz'\n",
        "    resultado = ''\n",
        "    for letra in mensaje:\n",
        "        if letra in alfabeto:\n",
        "            indice = alfabeto.index(letra)\n",
        "            nuevo_indice = (indice + posiciones) % 27\n",
        "            resultado += alfabeto[nuevo_indice]\n",
        "        else:\n",
        "            resultado += letra\n",
        "    return resultado\n",
        "```\n",
        "\n",
        "\n"
      ],
      "metadata": {
        "id": "uJ7SkgtYOL3g"
      }
    },
    {
      "cell_type": "code",
      "source": [
        "def encriptar(mensaje, posiciones):\n",
        "    alfabeto = 'abcdefghijklmnñopqrstuvwxyz'\n",
        "    resultado = ''\n",
        "    for letra in mensaje:\n",
        "        if letra in alfabeto:\n",
        "            indice = alfabeto.index(letra)\n",
        "            nuevo_indice = (indice + posiciones) % 27\n",
        "            resultado += alfabeto[nuevo_indice]\n",
        "        else:\n",
        "            resultado += letra\n",
        "    return resultado\n",
        "\n",
        "print (encriptar(input(\"Ingrese frase o palabra a encriptar:\"),3))"
      ],
      "metadata": {
        "id": "9KD0IyqI6uxz"
      },
      "execution_count": null,
      "outputs": []
    },
    {
      "cell_type": "markdown",
      "source": [
        "*   Cree una segunda función que reciba un mensaje y lo convierta a mayúscula\n",
        "*   Cree una tercera función que reciba un mensaje y lo retorne invertido.\n",
        "\n",
        "\n",
        "Mediante composición de funciones reciba un mensaje, encríptelo, convierta el mensaje encriptado a mayúsculas e invierta el mensaje encriptado en mayúsculas para generar un mensaje encriptado con mayor seguridad.  "
      ],
      "metadata": {
        "id": "M9qtC107PzHO"
      }
    },
    {
      "cell_type": "code",
      "source": [
        "def encriptar(mensaje, posiciones):\n",
        "    alfabeto = 'abcdefghijklmnñopqrstuvwxyz'\n",
        "    resultado = ''\n",
        "    for letra in mensaje:\n",
        "        if letra in alfabeto:\n",
        "            indice = alfabeto.index(letra)\n",
        "            nuevo_indice = (indice + posiciones) % 27\n",
        "            resultado += alfabeto[nuevo_indice]\n",
        "        else:\n",
        "            resultado += letra\n",
        "    return resultado\n",
        "\n",
        "def a_mayuscula(texto):\n",
        "    return texto.upper()\n",
        "\n",
        "def invertir(texto):\n",
        "  return texto[::-1]\n",
        "\n",
        "\n",
        "mensaje = input (\"Ingrese un mensaje:\")\n",
        "\n",
        "print(invertir(a_mayuscula(encriptar(mensaje,1))))\n",
        "\n"
      ],
      "metadata": {
        "id": "XRRDTDn7Odeh"
      },
      "execution_count": null,
      "outputs": []
    },
    {
      "cell_type": "markdown",
      "source": [
        "### Funciones Anidadas\n",
        "\n",
        "Una función anidada es la definición de una función al interior de otra.  En este contexto, la función interna se convierte en un \"ayudante\" para la función externa.  \n",
        "\n",
        "La función interna solo puede invocarse desde la función externa y no por fuera de ella."
      ],
      "metadata": {
        "id": "e3zO-B2rCqx3"
      }
    },
    {
      "cell_type": "code",
      "source": [
        "def funcion_principal():\n",
        "    print(\"Esta es la función principal.\")\n",
        "\n",
        "    def funcion_anidada():\n",
        "        print(\"Esta es la función anidada.\")\n",
        "\n",
        "    funcion_anidada() # Llamando a la función anidada dentro de la principal\n",
        "\n",
        "\n",
        "funcion_principal() # Llamando a la función principal\n",
        "#funcion_anidada()  # Genera error"
      ],
      "metadata": {
        "id": "OHh0rX5by2Ou"
      },
      "execution_count": null,
      "outputs": []
    },
    {
      "cell_type": "markdown",
      "source": [
        "En el siguiente código, la función dividir tiene en su interior otra función llamada validar() que le ayuda en su tarea"
      ],
      "metadata": {
        "id": "Ae6GcOPezSKM"
      }
    },
    {
      "cell_type": "code",
      "source": [
        "def dividir(n1, n2):\n",
        "\n",
        "  def validar():\n",
        "    return n2 != 0\n",
        "\n",
        "  if validar():\n",
        "    return n1/n2\n",
        "\n",
        "#print (dividir(3,2))\n",
        "print (dividir(3,0))"
      ],
      "metadata": {
        "id": "V_e2uyCxk8QF"
      },
      "execution_count": null,
      "outputs": []
    },
    {
      "cell_type": "markdown",
      "source": [
        "Las funciones internas tienen acceso a los parámetros recibidos por la función externa al igual que a las variables locales definidas en ella."
      ],
      "metadata": {
        "id": "nskLhFbR0UoU"
      }
    },
    {
      "cell_type": "markdown",
      "source": [
        "En el siguiente ejemplo se crea una función externa **login()** que solicita el nombre de usuario y contraseña y llama a la función interna **validar_usuario()** para que determine si los datos de acceso son correctos de acuerdo con la información de usuarios que se tiene."
      ],
      "metadata": {
        "id": "ir2HMoNO8XZU"
      }
    },
    {
      "cell_type": "code",
      "source": [
        "def login():\n",
        "\n",
        "    def validar_usuario():\n",
        "        # Esta función valida si el usuario existe y si su contraseña es correcta\n",
        "        usuarios = {\"user1\": \"pass1\", \"user2\": \"pass2\", \"user3\": \"pass3\"}\n",
        "        if username in usuarios and usuarios[username] == password:\n",
        "            return True\n",
        "        else:\n",
        "            return False\n",
        "\n",
        "    # Pedir al usuario su nombre de usuario y contraseña\n",
        "    username = input(\"Ingrese su nombre de usuario: \")\n",
        "    password = input(\"Ingrese su contraseña: \")\n",
        "\n",
        "    # Llamar a la función validar_usuario para validar los datos ingresados\n",
        "    if validar_usuario():\n",
        "        print(\"Inicio de sesión exitoso!\")\n",
        "    else:\n",
        "        print(\"Nombre de usuario o contraseña incorrectos.\")\n",
        "\n",
        "\n",
        "\n",
        "login()\n"
      ],
      "metadata": {
        "id": "mOSkfYTN8d21"
      },
      "execution_count": null,
      "outputs": []
    },
    {
      "cell_type": "markdown",
      "source": [
        "En el código anterior, **¿cuáles son las ventajas de usar funciones anidadas?**"
      ],
      "metadata": {
        "id": "W3AwVnkL94bN"
      }
    },
    {
      "cell_type": "markdown",
      "source": [
        "### Asignación de funciones a variables\n",
        "\n",
        "En Python podemos asignar una función a una variable.  Después de esto, la variable se comportará como la función asignada.  Miremos:  "
      ],
      "metadata": {
        "id": "YWjTTxGGCnd8"
      }
    },
    {
      "cell_type": "code",
      "source": [
        "def sumar(n1, n2):\n",
        "  return n1+n2\n",
        "\n",
        "x = sumar\n",
        "print (type(x))\n",
        "print (x(3,2))"
      ],
      "metadata": {
        "id": "qRPDMjMaCvom"
      },
      "execution_count": null,
      "outputs": []
    },
    {
      "cell_type": "markdown",
      "source": [
        "### Funciones que retornan otras funciones\n",
        "\n",
        "En python podemos tener funciones que retornen otras funciones para luego ser utilizadas por el programa.  Miremos:"
      ],
      "metadata": {
        "id": "Ar-G3J0CIItF"
      }
    },
    {
      "cell_type": "code",
      "source": [
        "def funcion_a():\n",
        "    def funcion_b():\n",
        "        return \"¡Hola desde la función B!\"\n",
        "    return funcion_b\n",
        "\n",
        "\n",
        "x = funcion_a()\n",
        "print(type(x))\n",
        "print (x())"
      ],
      "metadata": {
        "id": "gExD0QbIIchb"
      },
      "execution_count": null,
      "outputs": []
    },
    {
      "cell_type": "markdown",
      "source": [
        "### Funciones Closures\n",
        "\n",
        "Una función closure es una función interna que es retornada por su función externa y que es capaz de capturar el ambiente externo, es decir, puede dar acceso a las variables o parámetros de la función externa.  "
      ],
      "metadata": {
        "id": "p1kJN06H_rzK"
      }
    },
    {
      "cell_type": "markdown",
      "source": [
        "En el siguiente ejemplo tenemos una función externa llamada **potencia** que recibe un número que indica la potencia a la que se quiere elevar una base.  Esta función externa retorna a la función interna **eleva** que  recibe la base y devuelve esa base elevada a la potencia recibida por la función externa.\n"
      ],
      "metadata": {
        "id": "wdr1dsEHLnIT"
      }
    },
    {
      "cell_type": "code",
      "source": [
        "def potencia(n):\n",
        "    def comportamiento(x):\n",
        "        return x ** n\n",
        "    return comportamiento\n",
        "\n",
        "cuadrado = potencia(2) #se crea la función cuadrado que envía 2 como parámetro\n",
        "print(type(cuadrado))                       #a la función externa potencia y queda con el comportamiento\n",
        "print(cuadrado(5))\n",
        "print(cuadrado(12))\n",
        "\n",
        "cubo = potencia(3)\n",
        "print(cubo(5))\n",
        "\n",
        "diez = potencia(10)\n",
        "print(diez(2))\n",
        "\n",
        "raiz_cuadrada = potencia(0.5)\n",
        "print(raiz_cuadrada(9))"
      ],
      "metadata": {
        "id": "2cYEagHGMxMS"
      },
      "execution_count": null,
      "outputs": []
    },
    {
      "cell_type": "markdown",
      "source": [
        "Complete el siguiente código creando una closure function sin modificar las últimas 4 líneas del programa dadas y con la suficiente flexibilidad para comprobar otros múltiplos en cualquier momento."
      ],
      "metadata": {
        "id": "ox6NyfCCQDlT"
      }
    },
    {
      "cell_type": "code",
      "source": [
        "#Termine el código a partir de este punto\n",
        "def multiplo(x):\n",
        "  def pepito (y):\n",
        "    return y % x == 0\n",
        "  return pepito\n",
        "\n",
        "deseado = int(input(\"Ingrese el multiplo deseado:\"))\n",
        "conocer_si_es_multiplo_de = multiplo(deseado)\n",
        "print (f\"Multiplo de {deseado}? {conocer_si_es_multiplo_de(int(input('Ingrese numero: ')))}\")"
      ],
      "metadata": {
        "id": "kJ3Na0uMM3J0"
      },
      "execution_count": null,
      "outputs": []
    },
    {
      "cell_type": "markdown",
      "source": [
        "Las funciones closures no solo pueden capturar y reconocer los parámetros de la función externa, sino también sus variables locales.  De este modo, se pueden usar estas variables de la función externa para construir los resultados esperados en la función interna.  "
      ],
      "metadata": {
        "id": "tCuqQrrFVJLZ"
      }
    },
    {
      "cell_type": "markdown",
      "source": [
        "Queremos una función llamada **alcancia(moneda)** que cada vez que reciba una moneda muestre en pantalla el total de dinero acumulado en la alcancía.  \n",
        "\n",
        "Intentemos inicialmente hacerlo sin closure functions..."
      ],
      "metadata": {
        "id": "E-NDLt5CVlsa"
      }
    },
    {
      "cell_type": "code",
      "source": [
        "suma = -9999\n",
        "def alcancia(moneda):\n",
        "  global suma\n",
        "  suma = suma + moneda\n",
        "  print(suma)\n",
        "\n",
        "\n",
        "\n",
        "alcancia(200)\n",
        "alcancia (500)\n",
        "alcancia (500)\n",
        "alcancia (100)"
      ],
      "metadata": {
        "id": "4X960jnrCT0R"
      },
      "execution_count": null,
      "outputs": []
    },
    {
      "cell_type": "markdown",
      "source": [
        "\n",
        "\n",
        "---\n",
        "\n"
      ],
      "metadata": {
        "id": "pXAuqElcduBB"
      }
    },
    {
      "cell_type": "markdown",
      "source": [
        "Ahora miremos la solución con funciones closures.  "
      ],
      "metadata": {
        "id": "yLGXhZXmdvJI"
      }
    },
    {
      "cell_type": "code",
      "source": [
        "def alc():\n",
        "  total=0\n",
        "  def guardar(moneda):\n",
        "    nonlocal total\n",
        "    total = total + moneda\n",
        "    print (total)\n",
        "  return guardar\n",
        "\n",
        "alcancia = alc()\n",
        "\n",
        "alcancia(200)\n",
        "alcancia (500)\n",
        "alcancia (500)\n",
        "alcancia (100)"
      ],
      "metadata": {
        "id": "Lv9ihFL_Vkeb"
      },
      "execution_count": null,
      "outputs": []
    },
    {
      "cell_type": "markdown",
      "source": [
        "Bajo esta solución, no tendremos ningún inconveniente con las dependencias de las funciones a variables globales, pues estas quedan encapsuladas dentro de la función externa a la que la función closure accede.  "
      ],
      "metadata": {
        "id": "r9sc8y94eA8p"
      }
    },
    {
      "cell_type": "markdown",
      "source": [
        "### Funciones como parámetros de otras funciones\n",
        "\n",
        "En python una función puede recibir a otras funciones como parámetros.  Miremos:"
      ],
      "metadata": {
        "id": "Yi9PxYughDLo"
      }
    },
    {
      "cell_type": "code",
      "source": [
        "def es_par(numero):\n",
        "    return numero % 2 == 0\n",
        "\n",
        "def incremente_en_5(numero):\n",
        "    return numero+5\n",
        "\n",
        "def ejecutar_funcion(funcion, argumento): #esta funcion recibe otra funcion como parámetro\n",
        "    res = funcion(argumento) #ejecuta la función recibida\n",
        "    return res\n",
        "\n",
        "print (ejecutar_funcion(es_par, 5))\n",
        "print (ejecutar_funcion(es_par, 18))\n",
        "print (ejecutar_funcion(incremente_en_5, 18))"
      ],
      "metadata": {
        "id": "WITHUFVsh32Y"
      },
      "execution_count": null,
      "outputs": []
    },
    {
      "cell_type": "markdown",
      "source": [
        "Cree una función llamada **transformar_lista(lista, funcion)** esta función recibe una lista de números ingresados por el usuario y una de estas funciones (siguiente, anterior, duplicar)\n",
        "\n",
        "La función siguiente debe transformar cada número de la lista por su número siguiente:  si recibe [3,7,0] devolverá [4,8,1]\n",
        "\n",
        "La función anterior debe transformar cada número de la lista por su número anterior:  si recibe [3,7,0] devolverá [2,6,-1]\n",
        "\n",
        "La función duplicar debe duplicar cada número de la lista:  si recibe [3,7,0] devolverá [6,14,0]\n",
        "\n",
        "Compruebe que la función transformar_lista funciona correctamente enviando cualquiera de las 3 funciones como parámetro"
      ],
      "metadata": {
        "id": "BStpoDFBjPbB"
      }
    },
    {
      "cell_type": "code",
      "source": [
        "def siguiente (num):\n",
        "  return num+1\n",
        "\n",
        "def anterior (num):\n",
        "  return num-1\n",
        "\n",
        "def duplicar (num):\n",
        "  return num*2\n",
        "\n",
        "def transformar_lista(lista, funcion):\n",
        "  transformada = []\n",
        "  for elemento in lista:\n",
        "    transformada.append(funcion(elemento))\n",
        "  return transformada\n",
        "\n",
        "lista = input(\"Ingrese una lista de números separados por comas: \").split(\",\")\n",
        "lista = [int(numero) for numero in lista]\n",
        "\n",
        "t1 = transformar_lista(lista, siguiente)\n",
        "t2 = transformar_lista(lista, anterior)\n",
        "t3 = transformar_lista(lista, duplicar)\n",
        "\n",
        "print(\"siguiente \", t1)\n",
        "print(\"anterior \", t2)\n",
        "print(\"duplicar \", t3)\n",
        "\n",
        "\n",
        "\n",
        "\n",
        "\n",
        "\n",
        "\n"
      ],
      "metadata": {
        "id": "y6vhnhHFjkEt"
      },
      "execution_count": null,
      "outputs": []
    },
    {
      "cell_type": "code",
      "source": [],
      "metadata": {
        "id": "2bpCfsnc6uch"
      },
      "execution_count": null,
      "outputs": []
    },
    {
      "cell_type": "markdown",
      "source": [
        "# Apropiación"
      ],
      "metadata": {
        "id": "cCN37L-o_eAe"
      }
    },
    {
      "cell_type": "markdown",
      "source": [
        "1.\n",
        "Realice una función llamada **promedio_cuadrados(nums, func1, func2)** que recibe una lista de números y dos funciones como parámetros: **funcion_cuadrado(x)** y **funcion_promedio(lista)**\n",
        "Esta función debe devolver el promedio de los cuadrados de los números recibidos.\n",
        "\n",
        "La función **funcion_cuadrado(x)** acepta un número como parámetro y devuelve ese número al cuadrado.\n",
        "\n",
        "La función **funcion_promedio(lista)**  acepta una lista de números como parámetro y devuelve el promedio de esos números.\n",
        "\n",
        "\n",
        "Compruebe el funcionamiento del programa.\n",
        "\n"
      ],
      "metadata": {
        "id": "lpIv7MWnAqQG"
      }
    },
    {
      "cell_type": "code",
      "source": [
        "def funcion_cuadrado(x):\n",
        "    return x ** 2\n",
        "\n",
        "def funcion_promedio(lista):\n",
        "    if not lista:\n",
        "        return 0\n",
        "    return sum(lista) / len(lista)\n",
        "\n",
        "def promedio_cuadrados(nums, func1, func2):\n",
        "    cuadrados = [func1(num) for num in nums]\n",
        "    resultado = func2(cuadrados)\n",
        "    return resultado\n",
        "\n",
        "# Ejemplo de uso\n",
        "numeros = [1, 2, 3, 4, 5, 6, 7, 8, 9]\n",
        "resultado = promedio_cuadrados(numeros, funcion_cuadrado, funcion_promedio)\n",
        "print(f\"El promedio de los cuadrados de los números es: {resultado}\")\n",
        "\n",
        "\n",
        "\"\"\"\n",
        "1. Realice una función llamada promedio_cuadrados(nums, func1, func2) que recibe una lista de números y dos funciones como parámetros: funcion_cuadrado(x) y funcion_promedio(lista) Esta función debe devolver el promedio de los cuadrados de los números recibidos.\n",
        "La función funcion_cuadrado(x) acepta un número como parámetro y devuelve ese número al cuadrado.\n",
        "La función funcion_promedio(lista) acepta una lista de números como parámetro y devuelve el promedio de esos números.\n",
        "Compruebe el funcionamiento del programa.\n",
        "\n",
        "\"\"\"\n",
        "\n",
        "import random\n",
        "\n",
        "# ------------------------------------------------------------------------------\n",
        "# Funciones\n",
        "# ------------------------------------------------------------------------------\n",
        "\n",
        "# Calcula y retorna el cuadrado del número recibido como parámetro\n",
        "def funcion_cuadrado( x ):\n",
        "    return x ** 2\n",
        "\n",
        "# Calcula y retorna el promedio de una lista de números recibidos como parámetro\n",
        "def funcion_promedio( lista ):\n",
        "    return sum( lista ) / len( lista )\n",
        "\n",
        "# Función de orden superior la cual calcula y retorna el promedio de los\n",
        "# cuadrados de los números recibidos. Adicionalmente, se recibe como parámetros\n",
        "# las dos funciones definidas previamente: cuadrado y promedio\n",
        "def promedio_cuadrados( nums, func1, func2 ):\n",
        "    cuadrados = []\n",
        "    for num in nums :\n",
        "      cuadrados.append( func1( num ) )\n",
        "\n",
        "    return func2( cuadrados )\n",
        "\n",
        "# ------------------------------------------------------------------------------\n",
        "# Inicio de la ejecución\n",
        "# ------------------------------------------------------------------------------\n",
        "\n",
        "# Se genera una lista de 10 números aleatorios entre 1 y 10\n",
        "numeros = [ random.randint(1, 10) for _ in range( 4 ) ]\n",
        "print( \"Números aleatorios generados:\", numeros )\n",
        "\n",
        "# Se invoca la función de orden superior\n",
        "resultado = promedio_cuadrados( numeros, funcion_cuadrado, funcion_promedio )\n",
        "\n",
        "# Se imprime el valor retornado por la función de orden superior\n",
        "print( resultado )\n",
        "\n"
      ],
      "metadata": {
        "id": "WL--t2n7_epd"
      },
      "execution_count": null,
      "outputs": []
    },
    {
      "cell_type": "markdown",
      "source": [
        "2.\n",
        "Realice una función llamada **validar_contrasena(contraseña, func1, func2)** que recibe una contraseña como parámetro y dos funciones\n",
        "**longitud_valida(cadena)** y **caracteres_especiales(cadena)**.  Esta función debe retornar True si la contraseña recibida es correcta con base en las reglase de validación de las dos funciones que recibe como parámetro, y False en caso de que alguna regla de validación no se cumpla.\n",
        "\n",
        "La función **longitud_valida(cadena)** recibe un texto como parámetro y devuelve True si el texto tiene al menos 8 caracteres, y False en caso contrario.\n",
        "\n",
        "La función **caracteres_especiales(cadena)** recibe una cadena como parámetro y devuelve True si la cadena contiene al menos un carácter especial y False en caso contrario.\n",
        "\n",
        "Comprobar el funcionamiento del programa.\n"
      ],
      "metadata": {
        "id": "QCJrhbT4Cxzc"
      }
    },
    {
      "cell_type": "code",
      "source": [],
      "metadata": {
        "id": "_rmGgExqEKtT"
      },
      "execution_count": null,
      "outputs": []
    },
    {
      "cell_type": "markdown",
      "source": [
        "3.  \n",
        "Realice una función sencilla que imprima un saludo por ejemplo \"Hola\", acompañado del número de veces que se ha llamado a esa función.  por ejemplo, la primera vez que se llame a la función debe imprimir \"Hola 1\", la segunda vez \"Hola 2\" y así sucesivamente. Utilice closure functions.\n",
        "\n"
      ],
      "metadata": {
        "id": "InuW_w_ZGkb3"
      }
    },
    {
      "cell_type": "code",
      "source": [],
      "metadata": {
        "id": "HHfESHayGly4"
      },
      "execution_count": null,
      "outputs": []
    },
    {
      "cell_type": "markdown",
      "source": [
        "4.\n",
        "Se requiere hacer transformaciones a un texto con base en los siguientes criterios:\n",
        "\n",
        "\n",
        "*   Pasar el texto a minúscula sostenida\n",
        "*   Reemplazar cada letra a del texto por el signo de @\n",
        "*   Eliminar los números del texto\n",
        "*   Eliminar los espacios antes y despues del texto.\n",
        "\n",
        "Solicite el texto al usuario y presente el texto transformado usando composición de funciones.\n",
        "\n"
      ],
      "metadata": {
        "id": "aNyHBiULJ4F8"
      }
    },
    {
      "cell_type": "code",
      "source": [],
      "metadata": {
        "id": "0EUuNGM0LZ-2"
      },
      "execution_count": null,
      "outputs": []
    }
  ]
}