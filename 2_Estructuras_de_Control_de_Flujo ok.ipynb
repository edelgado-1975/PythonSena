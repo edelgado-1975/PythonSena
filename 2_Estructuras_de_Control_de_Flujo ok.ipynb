{
  "nbformat": 4,
  "nbformat_minor": 0,
  "metadata": {
    "colab": {
      "provenance": [],
      "include_colab_link": true
    },
    "kernelspec": {
      "name": "python3",
      "display_name": "Python 3"
    },
    "language_info": {
      "name": "python"
    }
  },
  "cells": [
    {
      "cell_type": "markdown",
      "metadata": {
        "id": "view-in-github",
        "colab_type": "text"
      },
      "source": [
        "<a href=\"https://colab.research.google.com/github/edelgado-1975/PythonSena/blob/main/2_Estructuras_de_Control_de_Flujo%20ok.ipynb\" target=\"_parent\"><img src=\"https://colab.research.google.com/assets/colab-badge.svg\" alt=\"Open In Colab\"/></a>"
      ]
    },
    {
      "cell_type": "markdown",
      "source": [
        "![M I S I Ó N.png](data:image/png;base64,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)"
      ],
      "metadata": {
        "id": "qizIKPfp36j2"
      }
    },
    {
      "cell_type": "markdown",
      "source": [
        "# Estructuras de Control de Flujo\n",
        "Lo primero a decir de las estructuras de control de flujo es que el alcance de la estructura no está controlado por llaves  { } o por palabras reservadas sino por sangría.\n",
        "\n",
        "La sangría en python es una forma de decirle a un intérprete de Python que el grupo de declaraciones pertenece a un bloque de código en particular."
      ],
      "metadata": {
        "id": "SXAZ0xi25B2W"
      }
    },
    {
      "cell_type": "markdown",
      "source": [
        "Aunque podemos aplicar un espacio como sangría en un bloque de código y manteniendo la consistencia el programa puede funcionar, la recomendación de Python PEP8 es tener 4 espacios de sangría.  No debemos combinar espacios con tabulación."
      ],
      "metadata": {
        "id": "o3jfUA147FNm"
      }
    },
    {
      "cell_type": "markdown",
      "source": [
        "##La sentencia Condicional IF\n"
      ],
      "metadata": {
        "id": "An4YLqZg8eDN"
      }
    },
    {
      "cell_type": "markdown",
      "source": [
        "###Condicionales Simples\n",
        "Sintaxis condicional simple **if**"
      ],
      "metadata": {
        "id": "iO3GPLq0DeLs"
      }
    },
    {
      "cell_type": "code",
      "source": [
        "if condicion:\n",
        "    codigo\n",
        "    codigo\n"
      ],
      "metadata": {
        "id": "QGI3B9NQ8qLf"
      },
      "execution_count": null,
      "outputs": []
    },
    {
      "cell_type": "markdown",
      "source": [
        "Podemos ver que el final de la condición se expresa mediante los dos puntos **:**\n",
        "\n",
        "Ejemplo condicional simple **if**"
      ],
      "metadata": {
        "id": "T7xu_CQd85Ml"
      }
    },
    {
      "cell_type": "code",
      "source": [
        "edad = int(input(\"Ingrese su edad\"))\n",
        "if edad >=18:\n",
        "  print (\"puede votar\")"
      ],
      "metadata": {
        "id": "Y7JfcjDA89hN",
        "outputId": "575ca755-e8c2-4959-ea33-f7798a13d5f9",
        "colab": {
          "base_uri": "https://localhost:8080/"
        }
      },
      "execution_count": null,
      "outputs": [
        {
          "output_type": "stream",
          "name": "stdout",
          "text": [
            "Ingrese su edad25\n",
            "puede votar\n"
          ]
        }
      ]
    },
    {
      "cell_type": "markdown",
      "source": [
        "###Condicionales Dobles\n",
        "Sintaxis condicional doble **if-else**"
      ],
      "metadata": {
        "id": "Va8TsYkc9m6E"
      }
    },
    {
      "cell_type": "code",
      "source": [
        "if condicion:\n",
        "    codigo\n",
        "    codigo\n",
        "else:\n",
        "    codigo\n",
        "    codigo"
      ],
      "metadata": {
        "id": "5GXTnFcO9-6N"
      },
      "execution_count": null,
      "outputs": []
    },
    {
      "cell_type": "markdown",
      "source": [
        "Como podemos ver es necesario que el if y el else se encuentren alineados y que haya consistencia en el número de espacios para la sangría de los bloques de código.\n",
        "\n",
        "Ejemplo condicional doble **if-else**"
      ],
      "metadata": {
        "id": "HHJcuty7-Hgt"
      }
    },
    {
      "cell_type": "code",
      "source": [
        "edad = int(input(\"Ingrese su edad\"))\n",
        "if edad >= 18:\n",
        "    print (\"puede votar\")\n",
        "else:\n",
        "    print (\"no puede votar\")"
      ],
      "metadata": {
        "id": "hL3DqMSG-k99"
      },
      "execution_count": null,
      "outputs": []
    },
    {
      "cell_type": "markdown",
      "source": [
        "De esta manera, todo lo que esté dentro del respectivo bloque se ejecutará o no de acuerdo con la evaluación de la condición.  Pero lo que esté por fuera al nivel del if, se ejecutará de todos modos."
      ],
      "metadata": {
        "id": "Z2yLj0ND_RHT"
      }
    },
    {
      "cell_type": "code",
      "source": [
        "edad = int(input(\"Ingrese su edad\"))\n",
        "if edad >= 18:\n",
        "    print (\"puede votar\")\n",
        "else:\n",
        "    print (\"no puede votar\")\n",
        "\n",
        "print (\"viva la democracia!\")"
      ],
      "metadata": {
        "id": "Cr5KuljN_qkb"
      },
      "execution_count": null,
      "outputs": []
    },
    {
      "cell_type": "markdown",
      "source": [
        "###Condicionales Múltiples\n",
        "Sintaxis condicional múltiple **if-elif-else**"
      ],
      "metadata": {
        "id": "hydW36GPAM7w"
      }
    },
    {
      "cell_type": "code",
      "source": [
        "if condicion:\n",
        "    codigo\n",
        "    codigo\n",
        "elif condicion:\n",
        "    codigo\n",
        "    codigo\n",
        "elif condicion:\n",
        "    codigo\n",
        "    codigo\n",
        "else:\n",
        "    codigo\n",
        "    codigo\n"
      ],
      "metadata": {
        "id": "ctqgvAqaAeiX"
      },
      "execution_count": null,
      "outputs": []
    },
    {
      "cell_type": "markdown",
      "source": [
        "En este tipo de estructuras, al encontrarse una condición que se cumpla, las demás no serán evaluadas.  El bloque else es opcional, pero de incluirse, siempre debe ser el último.\n",
        "\n",
        "Ejemplo condicional múltiple **if-elif-else**"
      ],
      "metadata": {
        "id": "ZnuX4IKkBH2V"
      }
    },
    {
      "cell_type": "code",
      "source": [
        "edad = int(input(\"Ingrese su edad\"))\n",
        "if edad >= 18:\n",
        "    print (\"puede votar\")\n",
        "elif edad >= 17:\n",
        "    print (\"En un año o menos podrá votar\")\n",
        "else:\n",
        "    print (\"No puede votar\")"
      ],
      "metadata": {
        "id": "-s0SCmuDCBzg"
      },
      "execution_count": null,
      "outputs": []
    },
    {
      "cell_type": "markdown",
      "source": [
        "###Condicionales Anidadas\n",
        "Las condiciones anidadas son condiciones al interior de otras.  En este tipo de condiciones, la consistencia en la  sangría es la que le permite al intérprete reconocer cuál condición y bloque se encuentra dentro de alguna otra condición o bloque\n",
        "\n",
        "Sintaxis **Condicional anidada**"
      ],
      "metadata": {
        "id": "9tBFWjFzC9eb"
      }
    },
    {
      "cell_type": "code",
      "source": [
        "if condicion:\n",
        "    codigo\n",
        "    codigo\n",
        "    if condicion:\n",
        "        codigo\n",
        "        codigo\n",
        "\n"
      ],
      "metadata": {
        "id": "lEvkVIdpEfm5"
      },
      "execution_count": null,
      "outputs": []
    },
    {
      "cell_type": "markdown",
      "source": [
        "Las condiciones anidadas pueden llevar varios niveles de anidamiento y cada condición en si misma puede ser de tipo simple, doble o múltiple\n",
        "\n",
        "Ejemplo condicional anidada"
      ],
      "metadata": {
        "id": "AW4C6CIoE7iY"
      }
    },
    {
      "cell_type": "code",
      "source": [
        "edad = int(input(\"Ingrese su edad\"))\n",
        "if edad >= 18:\n",
        "    print (\"puede votar\")\n",
        "else:\n",
        "    if edad >=17:\n",
        "        print (\"En un año o menos podrá votar\")\n",
        "    else:\n",
        "        print (\"no puede votar\")"
      ],
      "metadata": {
        "id": "b_6EtjEzFPTW"
      },
      "execution_count": null,
      "outputs": []
    },
    {
      "cell_type": "markdown",
      "source": [
        "###Operadores Lógicos\n",
        "\n",
        "![logicos.png](data:image/png;base64,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)"
      ],
      "metadata": {
        "id": "7rkvP6gZMXAD"
      }
    },
    {
      "cell_type": "markdown",
      "source": [
        "Puedes identificar qué pasa en el siguiente código con una persona\n",
        "* a) soltera, linda de 20 años y no buena persona?\n",
        "* b) buena persona, no linda, soltera y de 45 años?\n",
        "* c) soltera de 31 años, no buena persona y linda?\n",
        "* d) casada, de 25 años, linda y buena persona?"
      ],
      "metadata": {
        "id": "H8E0s11WRHUm"
      }
    },
    {
      "cell_type": "code",
      "source": [
        "estado_civil = input (\"Ingrese estado civil (s,c):\")\n",
        "edad= int(input(\"Ingrese edad:\"))\n",
        "buena_persona = input (\"Es buena persona? (s,n):\")\n",
        "linda = input (\"es linda? (s,n):\")\n",
        "if estado_civil==\"c\":\n",
        "    print (\"No me caso! ni me comprometo\")\n",
        "elif edad <= 30 or linda == \"s\" and buena_persona ==\"s\":\n",
        "    print (\"Si me caso!\")\n",
        "else:\n",
        "    print (\"solo me comprometo\")"
      ],
      "metadata": {
        "id": "f7lt64TON_Dw",
        "outputId": "00b6920b-5a3b-42d6-bd3a-4e75b2eaf237",
        "colab": {
          "base_uri": "https://localhost:8080/"
        }
      },
      "execution_count": null,
      "outputs": [
        {
          "output_type": "stream",
          "name": "stdout",
          "text": [
            "Ingrese estado civil (s,c):s\n",
            "Ingrese edad:20\n",
            "Es buena persona? (s,n):n\n",
            "es linda? (s,n):s\n",
            "Si me caso!\n"
          ]
        }
      ]
    },
    {
      "cell_type": "markdown",
      "source": [
        "casada, de 25 años, linda y buena persona?"
      ],
      "metadata": {
        "id": "y0FloA0C8ih5"
      }
    },
    {
      "cell_type": "markdown",
      "source": [
        "## Apropiación [Ejercicios Condicionales]"
      ],
      "metadata": {
        "id": "CUvMQHriNJsL"
      }
    },
    {
      "cell_type": "markdown",
      "source": [
        "1. En un sistema de automatización industrial, un motor puede estar encendido o apagado. Si la temperatura de la máquina supera los 80 grados, el motor debe apagarse automáticamente. Escribir un programa que controle el estado del motor y lo apague si la temperatura supera los 80 grados."
      ],
      "metadata": {
        "id": "AfDu_DrH9rOa"
      }
    },
    {
      "cell_type": "code",
      "source": [
        "import random\n",
        "\n",
        "def controlar_motor():\n",
        "    # Simulación de la lectura de temperatura\n",
        "    temperatura = random.uniform(50,100)\n",
        "\n",
        "    if temperatura > 80:\n",
        "        print(f\"Temperatura: {temperatura} es superior a 80 grados. Apagando el motor.\")\n",
        "    elif temperatura > 70:\n",
        "        print(f\"Temperatura: {temperatura} grados. El motor está encendido.\")\n",
        "        controlar_motor()  # Llamada recursiva para seguir monitoreando la temperatura\n",
        "    else:\n",
        "        print(f\"Temperatura: {temperatura} grados. La temperatura es segura. El motor está encendido.\")\n",
        "\n",
        "# Iniciar el control del motor\n",
        "controlar_motor()\n"
      ],
      "metadata": {
        "id": "ciE9Zm2a-AOS",
        "outputId": "356b0dc1-3fcf-4c6c-e649-59024fc68f21",
        "colab": {
          "base_uri": "https://localhost:8080/"
        }
      },
      "execution_count": null,
      "outputs": [
        {
          "output_type": "stream",
          "name": "stdout",
          "text": [
            "Temperatura: 53.952386604968844 grados. La temperatura es segura. El motor está encendido.\n"
          ]
        }
      ]
    },
    {
      "cell_type": "code",
      "source": [
        "temp = int(input(\"Ingrese temperatura del motor\"))\n",
        "if temp > 80:\n",
        "  print(\"Apagar motor\")"
      ],
      "metadata": {
        "id": "m2qpa0o9Y8SO",
        "outputId": "5b3e3b54-9a67-4262-ad94-697cb0d49de8",
        "colab": {
          "base_uri": "https://localhost:8080/"
        }
      },
      "execution_count": null,
      "outputs": [
        {
          "name": "stdout",
          "output_type": "stream",
          "text": [
            "Ingrese temperatura del motor1\n"
          ]
        }
      ]
    },
    {
      "cell_type": "markdown",
      "source": [
        "\n",
        "\n",
        "---\n",
        "\n"
      ],
      "metadata": {
        "id": "BnfLpAER-BVZ"
      }
    },
    {
      "cell_type": "markdown",
      "source": [
        "2. Un programa de descarga de archivos multimedia tiene diferentes velocidades de descarga según la calidad de la conexión a internet del usuario. Si la conexión es mayor a 20 Mbps, la velocidad de descarga será de 10 Mbps, si la conexión es menor a 20 Mbps pero mayor a 5 Mbps, la velocidad será de 5 Mbps y si la conexión es menor a 5 Mbps, la velocidad de descarga será de 1 Mbps.\n",
        "\n",
        "Escribir un programa que calcule el tiempo de descarga de un archivo y el ancho de banda utilizado, según la velocidad de descarga."
      ],
      "metadata": {
        "id": "8GxCH_yK7-vK"
      }
    },
    {
      "cell_type": "code",
      "source": [
        "def calcular_tiempo_descarga(velocidad_descarga, tamano_archivo):\n",
        "    if velocidad_descarga > 20:\n",
        "        velocidad_real = 10\n",
        "    elif velocidad_descarga > 5:\n",
        "        velocidad_real = 5\n",
        "    else:\n",
        "        velocidad_real = 1\n",
        "\n",
        "    tiempo_descarga = tamano_archivo / velocidad_real\n",
        "    ancho_banda_utilizado = velocidad_real\n",
        "\n",
        "    return tiempo_descarga, ancho_banda_utilizado\n",
        "\n",
        "tamano_archivo = float(input(\"Tamaño del archivo (en MB): \"))\n",
        "velocidad_descarga = float(input(\"Velocidad de descarga (en Mbps): \"))\n",
        "\n",
        "tiempo, ancho_banda = calcular_tiempo_descarga(velocidad_descarga, tamano_archivo)\n",
        "\n",
        "print(f\"Tiempo de descarga: {tiempo:.2f} segundos\")\n",
        "print(f\"Ancho de banda utilizado: {ancho_banda} Mbps\")\n",
        "\n"
      ],
      "metadata": {
        "id": "23OPmJZL8u_F",
        "outputId": "bf9f7280-3886-423f-fa57-bff4e1f64a02",
        "colab": {
          "base_uri": "https://localhost:8080/"
        }
      },
      "execution_count": null,
      "outputs": [
        {
          "output_type": "stream",
          "name": "stdout",
          "text": [
            "Tamaño del archivo (en MB): 5000\n",
            "Velocidad de descarga (en Mbps): 100\n",
            "Tiempo de descarga: 500.00 segundos\n",
            "Ancho de banda utilizado: 10 Mbps\n"
          ]
        }
      ]
    },
    {
      "cell_type": "markdown",
      "source": [
        "\n",
        "\n",
        "---\n",
        "\n"
      ],
      "metadata": {
        "id": "0ZpdANDd8yl5"
      }
    },
    {
      "cell_type": "markdown",
      "source": [
        "3.  Una universidad ofrece un descuento a los estudiantes que depende del estrato y la edad. Si el estrato es 1 y su edad es menor a 18 el descuento será del 20% sobre el valor de la matrícula. Si el estrato es 1 y el alumno tiene 18 o mas años, el descuento será del 15%. Si el estrato es 2 y la edad es menor a 18 años, el descuento será del 10% y si el estrato es 2 y la edad es 18 años o mas, el descuento será del 5%.\n",
        "\n",
        "Escribir el precio que deberá pagar un estudiante por su matrícula y el valor del descuento."
      ],
      "metadata": {
        "id": "Ytlg0OV6Xx3e"
      }
    },
    {
      "cell_type": "code",
      "source": [
        "original = int(input(\"Ingrese costo de matricula sin descuento:\"))\n",
        "edad = int(input(\"Ingrese edad de estudiante:\"))\n",
        "estrato = int(input(\"Ingrese estrato de estudiante:\"))\n",
        "if estrato == 1 and edad < 18:\n",
        "   desc = original * 0.2\n",
        "elif estrato == 1 and edad >= 18:\n",
        "   desc = original * 0.15\n",
        "elif estrato == 2 and edad < 18:\n",
        "   desc = original * 0.10\n",
        "elif estrato == 2 and edad >= 18:\n",
        "   desc = original * 0.05\n",
        "else:\n",
        "   desc = 0\n",
        "paga = original - desc\n",
        "print (f\"El estudiante paga {paga} y el descuento es de {desc}\")"
      ],
      "metadata": {
        "id": "SC9Fij-jX7VF"
      },
      "execution_count": null,
      "outputs": []
    },
    {
      "cell_type": "markdown",
      "source": [
        "\n",
        "\n",
        "---\n",
        "\n"
      ],
      "metadata": {
        "id": "u-JH2rJk82UJ"
      }
    },
    {
      "cell_type": "markdown",
      "source": [
        "3 a.En un sistema de control de calidad, se deben inspeccionar las piezas de un producto para determinar si cumplen con los estándares de calidad. Si la pieza es defectuosa, se debe marcar como rechazada y enviar una alerta al operador. Si la pieza cumple con los estándares de calidad, se debe marcar como aprobada y continuar con la producción.  \n",
        "\n",
        "Realice un programa que lea una entrada binaria en la que los 1s significan estándares de calidad cumplidos y los 0s significan estándares de calidad No cumplidos.  El programa debe rechazar la pieza ante cualquier estándar no cumplido."
      ],
      "metadata": {
        "id": "dnNdKbx3_4ZN"
      }
    },
    {
      "cell_type": "code",
      "source": [],
      "metadata": {
        "id": "8BS7BClKAFbW"
      },
      "execution_count": null,
      "outputs": []
    },
    {
      "cell_type": "markdown",
      "source": [
        "4.  Tomando como base los resultados obtenidos en un laboratorio de análisis clínicos, un médico determina si una persona tiene anemia o no, lo cual depende de su nivel de hemoglobina en la sangre, de su edad y de su sexo.\n",
        "\n",
        "  Si el nivel de hemoglobina que tiene una persona es menor que el rango que le corresponde, se determina su resultado como positivo y en caso contrario como negativo.\n",
        "\n",
        "  La tabla en la que el medico se basa para obtener el\n",
        "resultado es la siguiente:\n",
        "\n",
        "![hemo.png](data:image/png;base64,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)"
      ],
      "metadata": {
        "id": "ztVfRyV1W31z"
      }
    },
    {
      "cell_type": "code",
      "source": [],
      "metadata": {
        "id": "AISfV4SB9aIa"
      },
      "execution_count": null,
      "outputs": []
    },
    {
      "cell_type": "markdown",
      "source": [
        "\n",
        "\n",
        "---\n",
        "\n"
      ],
      "metadata": {
        "id": "py_nKW-69a7a"
      }
    },
    {
      "cell_type": "markdown",
      "source": [
        "5. En un sistema de control de calidad, se deben inspeccionar las piezas de un producto para determinar si cumplen con los estándares de calidad. Si la pieza es defectuosa, se debe marcar como rechazada y enviar una alerta al operador. Si la pieza cumple con los estándares de calidad, se debe marcar como aprobada y continuar con la producción.  \n",
        "\n",
        "Realice un programa que lea una entrada binaria en la que los 1s significan estándares de calidad cumplidos y los 0s significan estándares de calidad No cumplidos.  El programa debe rechazar la pieza ante cualquier estándar no cumplido."
      ],
      "metadata": {
        "id": "z94ZLviY_gcr"
      }
    },
    {
      "cell_type": "code",
      "source": [
        "calidad = input(\"Ingrese estandares de calidad [entrada binaria defectos (0s) cumplimientos(1s)]:\")\n",
        "defectos = calidad.count(\"0\")\n",
        "entradas = len(calidad)\n",
        "if defectos > 0:\n",
        "  print (\"Pieza rechazada, tiene\",defectos, \"defectos/\",entradas, \"controles\")\n",
        "else:\n",
        "  print (\"Pieza aprobada sin defectos en sus \",entradas, \"controles\")\n"
      ],
      "metadata": {
        "id": "6SuGUgThAMqO"
      },
      "execution_count": null,
      "outputs": []
    },
    {
      "cell_type": "markdown",
      "source": [
        "\n",
        "\n",
        "---\n",
        "\n"
      ],
      "metadata": {
        "id": "HyAShHbhANKT"
      }
    },
    {
      "cell_type": "markdown",
      "source": [
        "##Los Ciclos"
      ],
      "metadata": {
        "id": "AbxijSl6MS_P"
      }
    },
    {
      "cell_type": "markdown",
      "source": [
        "###El ciclo while\n",
        "\n",
        "El ciclo while es muy sencillo, solo ponemos la condición a evaluar y en su interior el código que se ejecuta mientras la condición se cumpla; manteniendo las reglas de sangría ya conocidas\n",
        "\n",
        "**Sintaxis**"
      ],
      "metadata": {
        "id": "g7wqLNK0MkgG"
      }
    },
    {
      "cell_type": "markdown",
      "source": [],
      "metadata": {
        "id": "nVXSGLToXfps"
      }
    },
    {
      "cell_type": "code",
      "source": [
        "while condicion:\n",
        "    codigo\n",
        "    codigo\n"
      ],
      "metadata": {
        "id": "83S2j-sxMzq2"
      },
      "execution_count": null,
      "outputs": []
    },
    {
      "cell_type": "markdown",
      "source": [
        "**Ejemplo Ciclo while**"
      ],
      "metadata": {
        "id": "igjabjZlNQVO"
      }
    },
    {
      "cell_type": "code",
      "source": [
        "x = 1\n",
        "while x < 100:\n",
        "    print (x)\n",
        "    x+=1       #es lo mismo que x=x+1\n"
      ],
      "metadata": {
        "id": "i0-l4XLHNTn2"
      },
      "execution_count": null,
      "outputs": []
    },
    {
      "cell_type": "code",
      "source": [
        "for i in range(1,101):\n",
        "  print (i)"
      ],
      "metadata": {
        "id": "6BuByZN2xG17"
      },
      "execution_count": null,
      "outputs": []
    },
    {
      "cell_type": "code",
      "source": [
        "color = \"rojo\"\n",
        "while color != \"blanco\":\n",
        "  color = input(\"ingrese color\")\n",
        "  print (\"el color seleccionado fue\", color)\n"
      ],
      "metadata": {
        "id": "IDZfmLvKSAmq"
      },
      "execution_count": null,
      "outputs": []
    },
    {
      "cell_type": "markdown",
      "source": [
        "###El ciclo for\n",
        "La sintaxis general del ciclo for es\n",
        "\n",
        "**for** nombre_variable **in** iterable**:**"
      ],
      "metadata": {
        "id": "OJ29XsR0OfUh"
      }
    },
    {
      "cell_type": "code",
      "source": [
        "for variable in iterable:\n",
        "    codigo\n",
        "    codigo"
      ],
      "metadata": {
        "id": "20_EyRnQSBUo"
      },
      "execution_count": null,
      "outputs": []
    },
    {
      "cell_type": "code",
      "source": [
        "for x in [1,2,3,98,5]:\n",
        "  print (x)"
      ],
      "metadata": {
        "id": "YKOYhK-hThsw"
      },
      "execution_count": null,
      "outputs": []
    },
    {
      "cell_type": "code",
      "source": [
        "for x in \"SENA\":\n",
        "  print (x)"
      ],
      "metadata": {
        "id": "U6v9FOpUT-Gy"
      },
      "execution_count": null,
      "outputs": []
    },
    {
      "cell_type": "markdown",
      "source": [
        "Es común usar la función **range()** para generar el iterable deseado, en caso de querer ejecutar el ciclo for un número determinado de veces.\n",
        "\n",
        "La función **range()** tiene los siguientes parámetros:\n",
        "range(start, stop, step).\n",
        "\n",
        "start: (opcional) valor inicial, por defecto 0\n",
        "\n",
        "stop: (obligatorio) posición final, detiene el ciclo antes de llegar a ella\n",
        "\n",
        "step: (opcional) incremento en cada paso, por defecto 1\n",
        "\n",
        "**Ejemplo**"
      ],
      "metadata": {
        "id": "uTwHzLEwSJHf"
      }
    },
    {
      "cell_type": "markdown",
      "source": [],
      "metadata": {
        "id": "eD90-HoEYuvV"
      }
    },
    {
      "cell_type": "code",
      "source": [
        "for x in range (1, 10):\n",
        "    print (x)"
      ],
      "metadata": {
        "id": "x-TUBY3eST4_"
      },
      "execution_count": null,
      "outputs": []
    },
    {
      "cell_type": "code",
      "source": [
        "for x in range (5):\n",
        "  print (\"hola\")"
      ],
      "metadata": {
        "id": "U4d3zmpfyBQl"
      },
      "execution_count": null,
      "outputs": []
    },
    {
      "cell_type": "code",
      "source": [
        "for x in range (2, 12, 2):\n",
        "    print (x)"
      ],
      "metadata": {
        "id": "rgo-wNoSS3nK",
        "colab": {
          "base_uri": "https://localhost:8080/"
        },
        "outputId": "5163fe8a-e2b8-4036-ef92-f00bd1f1a016"
      },
      "execution_count": null,
      "outputs": [
        {
          "output_type": "stream",
          "name": "stdout",
          "text": [
            "2\n",
            "4\n",
            "6\n",
            "8\n",
            "10\n"
          ]
        }
      ]
    },
    {
      "cell_type": "markdown",
      "source": [
        "[2,4,6,8,10]"
      ],
      "metadata": {
        "id": "poBhKtFeZQmX"
      }
    },
    {
      "cell_type": "code",
      "source": [
        "for x in range (10):\n",
        "    print (x)"
      ],
      "metadata": {
        "id": "8iEuzjWOTC5q"
      },
      "execution_count": null,
      "outputs": []
    },
    {
      "cell_type": "markdown",
      "source": [
        "[0,1,2,3,4,5,6,7,8,9]"
      ],
      "metadata": {
        "id": "q7_jaIDEaAOc"
      }
    },
    {
      "cell_type": "code",
      "source": [
        "for x in range (9,0,-1):\n",
        "    print (x)"
      ],
      "metadata": {
        "id": "oiUv5goFTfhQ"
      },
      "execution_count": null,
      "outputs": []
    },
    {
      "cell_type": "code",
      "source": [
        "for x in range (3,100,3):\n",
        "    print (x)"
      ],
      "metadata": {
        "id": "jwLcNHuwTWt0"
      },
      "execution_count": null,
      "outputs": []
    },
    {
      "cell_type": "markdown",
      "source": [
        "###break y continue\n",
        "Podemos salir abrúptamente de un ciclo (break) o pasar abrúptamente a la ejecución del siguiente paso del ciclo a verificar el cumplimiento de la condición (continue)"
      ],
      "metadata": {
        "id": "YVvMf32SWhta"
      }
    },
    {
      "cell_type": "markdown",
      "source": [
        "**¿Qué mostraría el siguiente programa?**"
      ],
      "metadata": {
        "id": "F-cPfSNN6PCL"
      }
    },
    {
      "cell_type": "code",
      "source": [
        "print(\"La instrucción break:\")\n",
        "for i in range(1, 6):\n",
        "    if i == 3:\n",
        "        break\n",
        "\n",
        "    print(\"Dentro del bucle.\", i)\n",
        "\n",
        "print(\"Fuera del bucle.\")"
      ],
      "metadata": {
        "id": "ocvf-fgZW-zk"
      },
      "execution_count": null,
      "outputs": []
    },
    {
      "cell_type": "code",
      "source": [
        "while True:\n",
        "  n = int (input(\"ingrese numero:\"))\n",
        "  if n < 0:\n",
        "    break"
      ],
      "metadata": {
        "id": "hXLJfIISW_8B"
      },
      "execution_count": null,
      "outputs": []
    },
    {
      "cell_type": "markdown",
      "source": [
        "La instrucción break:\n",
        "Dentro del bucle. 1\n",
        "Dentro del bucle. 2\n",
        "Fuera del bucle."
      ],
      "metadata": {
        "id": "sKpAdc7LcAzN"
      }
    },
    {
      "cell_type": "markdown",
      "source": [
        "**¿Qué mostraría el siguiente programa?**"
      ],
      "metadata": {
        "id": "Vo-EU__R6ZXK"
      }
    },
    {
      "cell_type": "code",
      "source": [
        "# continue - ejemplo\n",
        "\n",
        "print(\"\\nLa instrucción continue:\")\n",
        "for i in range(1, 6):\n",
        "    if i == 3:\n",
        "        continue\n",
        "    print(\"Dentro del bucle.\", i)\n",
        "print(\"Fuera del bucle.\")"
      ],
      "metadata": {
        "id": "Paue0Sg16elS"
      },
      "execution_count": null,
      "outputs": []
    },
    {
      "cell_type": "code",
      "source": [
        "num = int(input(\"ingrese un numero\"))\n",
        "while num != 3:\n",
        "  print (\"gano\")\n",
        "  num = int(input(\"ingrese un numero\"))\n",
        "print (\"perdio\")"
      ],
      "metadata": {
        "id": "qesV0s0hyoc-"
      },
      "execution_count": null,
      "outputs": []
    },
    {
      "cell_type": "code",
      "source": [
        "while True:\n",
        "  num = int(input(\"ingrese un numero\"))\n",
        "  if num == 3:\n",
        "    print (\"perdio\")\n",
        "    break\n",
        "  else:\n",
        "    print (\"gano\")\n"
      ],
      "metadata": {
        "id": "7SVbPFxuz7NI"
      },
      "execution_count": null,
      "outputs": []
    },
    {
      "cell_type": "markdown",
      "source": [],
      "metadata": {
        "id": "lH2H2egLdIYm"
      }
    },
    {
      "cell_type": "markdown",
      "source": [
        "## Apropiación [Ejercicios Cíclicos]"
      ],
      "metadata": {
        "id": "bmt2SZpXfz5S"
      }
    },
    {
      "cell_type": "markdown",
      "source": [
        "1. Leer una serie de números por parte del usuario hasta que el número ingresado sea negativo y determinar:\n",
        "\n",
        "\n",
        "*   Sumatoria de los números leídos\n",
        "*   Cantidad de números pares e impares\n",
        "*   El número menor y mayor leído\n",
        "\n",
        "\n",
        "\n"
      ],
      "metadata": {
        "id": "Yv9_iohtWZSS"
      }
    },
    {
      "cell_type": "code",
      "source": [],
      "metadata": {
        "id": "PezUjtu-hcPg"
      },
      "execution_count": null,
      "outputs": []
    },
    {
      "cell_type": "markdown",
      "source": [
        "2. Leer un número y presentar la tabla de multiplicar de ese número entre 1 y 10.  Utilizar el siguiente formato de ejemplo:\n",
        "\n",
        "```\n",
        "1 x 1 = 1\n",
        "1 x 2 = 2\n",
        "1 x 3 = 3\n",
        "1 x 4 = 4\n",
        "1 x 5 = 5\n",
        "```\n",
        "\n",
        "\n"
      ],
      "metadata": {
        "id": "xk6cS1rQhbqg"
      }
    },
    {
      "cell_type": "markdown",
      "source": [
        "3. En un partido de fútbol, se ofrece un descuento a los aficionados que depende del estrato y la edad.  Si el estrato es 1 y su edad es menor a 18 el descuento será del 20% sobre el valor de la boleta.   Si el estrato es 1 y el alumno tiene 18 o mas años, el descuento será del 15%.  Si  el estrato es 2 y la edad es menor a 18 años, el descuento será del 10% y si el estrato es 2 y la edad es 18 años o más, el descuento será del 5%.  Determinar el total del dinero recaudado y descontado por las últimas N personas que ingresan al partido."
      ],
      "metadata": {
        "id": "rplIFw2MiWwB"
      }
    },
    {
      "cell_type": "code",
      "source": [
        "numper = int(input(\"Digite la cantidad de personas que asisten: \"))\n",
        "\n",
        "tot_rec = 0\n",
        "tot_des = 0\n",
        "\n",
        "#se repite el numero de veces que tiene la variable numper y se les pregunta el estrato la edad y el precio de la entrada\n",
        "for i in range(numper):\n",
        "    estrato = int(input(\"Digite el estrato de la persona: \"))\n",
        "    edad = int(input(\"Digite la edad de la persona: \"))\n",
        "    precio_ent = float(input(\"Digite el costo de la entrada: \"))\n",
        "\n",
        "# se evalua de acuerdo a los datos que se capturaron\n",
        "    if estrato == 1:\n",
        "        if edad < 18:\n",
        "            descu = precio_ent * 0.20\n",
        "        else:\n",
        "            descu = precio_ent * 0.15\n",
        "    elif estrato == 2:\n",
        "        if edad < 18:\n",
        "            descu = precio_ent * 0.10\n",
        "        else:\n",
        "            descu = precio_ent * 0.05\n",
        "\n",
        "    paga = precio_ent - descu\n",
        "\n",
        "tot_rec += precio_ent\n",
        "tot_des += descu\n",
        "\n",
        "print(f\"Total recaudado: ${tot_rec:.3f}\")\n",
        "print(f\"Total descontado: ${tot_des:.3f}\")"
      ],
      "metadata": {
        "id": "eb1N3igVkTSO"
      },
      "execution_count": null,
      "outputs": []
    },
    {
      "cell_type": "markdown",
      "source": [
        "4. Realice un juego que simule el lanzamiento de un dado (muestre un valor aleatorio entre 1 y 6) el programa debe llevar la cuenta del total de lanzamientos.  Si el jugador lanza 10 veces sin sacar 1 gana el juego, en caso de sacar el 1 antes de los 10 lanzamientos pierde.\n",
        "Nota: si ya lanzó 10 veces sin sacar el 1 y ganó, no se le debe dejar volver a lanzar"
      ],
      "metadata": {
        "id": "aGq1q-5okUJO"
      }
    },
    {
      "cell_type": "code",
      "source": [
        "import random\n",
        "x = random.randrange(1,6)\n",
        "print (x)"
      ],
      "metadata": {
        "id": "Ko0rH_zCZyEO",
        "colab": {
          "base_uri": "https://localhost:8080/"
        },
        "outputId": "e08d991f-2be9-482c-f479-758f21fbb63d"
      },
      "execution_count": 7,
      "outputs": [
        {
          "output_type": "stream",
          "name": "stdout",
          "text": [
            "5\n"
          ]
        }
      ]
    },
    {
      "cell_type": "code",
      "source": [],
      "metadata": {
        "id": "yoDg06-Zn_Dg"
      },
      "execution_count": null,
      "outputs": []
    },
    {
      "cell_type": "markdown",
      "source": [
        "5.  Leer un password de ingreso a un programa y mostrar el mensaje de bienvenida si es correcto. Mientras no lo sea, debe mostrar el mensaje de Password incorrecto. El programa debe terminar automáticamente al quinto intento fallido."
      ],
      "metadata": {
        "id": "bfE_Jl79Eoth"
      }
    },
    {
      "cell_type": "code",
      "source": [],
      "metadata": {
        "id": "WYNtRX6xErNj"
      },
      "execution_count": null,
      "outputs": []
    }
  ]
}