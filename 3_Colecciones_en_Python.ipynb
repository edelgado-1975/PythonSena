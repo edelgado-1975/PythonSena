{
  "nbformat": 4,
  "nbformat_minor": 0,
  "metadata": {
    "colab": {
      "provenance": [],
      "include_colab_link": true
    },
    "kernelspec": {
      "name": "python3",
      "display_name": "Python 3"
    },
    "language_info": {
      "name": "python"
    },
    "gpuClass": "standard"
  },
  "cells": [
    {
      "cell_type": "markdown",
      "metadata": {
        "id": "view-in-github",
        "colab_type": "text"
      },
      "source": [
        "<a href=\"https://colab.research.google.com/github/edelgado-1975/PythonSena/blob/main/3_Colecciones_en_Python.ipynb\" target=\"_parent\"><img src=\"https://colab.research.google.com/assets/colab-badge.svg\" alt=\"Open In Colab\"/></a>"
      ]
    },
    {
      "cell_type": "markdown",
      "source": [
        "![M I S I Ó N.png](data:image/png;base64,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)"
      ],
      "metadata": {
        "id": "vw5APt_lsvl1"
      }
    },
    {
      "cell_type": "markdown",
      "source": [
        "# Introducción\n",
        "Las colecciones nos permiten agrupar datos, objetos y otras estructuras bajo un mismo nombre.\n",
        "\n",
        "**¿Ventajas?**\n",
        "\n",
        "En Python existen tres colecciones básicas: Listas, Tuplas y Diccionarios"
      ],
      "metadata": {
        "id": "cEuiOwYXEEhj"
      }
    },
    {
      "cell_type": "markdown",
      "source": [
        "# Listas\n",
        "Las listas son el tipo de colección en Python equivalente a los arreglos.  Colección ordenada de elementos accesibles a través de un índice"
      ],
      "metadata": {
        "id": "GxC4AneJEEkC"
      }
    },
    {
      "cell_type": "markdown",
      "source": [
        "## Creación y Acceso\n",
        "Las listas utilizan corchetes para la creación y acceso de sus elementos"
      ],
      "metadata": {
        "id": "GH1WtaTIHNU2"
      }
    },
    {
      "cell_type": "code",
      "source": [
        "lenguajes = [\"Python\", \"Java\", \"PHP\"]\n",
        "print (lenguajes)  #Imprime la lista completa\n",
        "print (lenguajes[0]) #Imprime el valor de la posición 0\n",
        "lenguajes [0] = \"Python 3\" #Da un nuevo valor al elemento de la posición 0\n",
        "print (lenguajes)"
      ],
      "metadata": {
        "id": "KRETkeAaHfxP"
      },
      "execution_count": null,
      "outputs": []
    },
    {
      "cell_type": "markdown",
      "source": [
        "¿Podrías indicar qué imprime el siguiente código?"
      ],
      "metadata": {
        "id": "O5feNDzhIPB1"
      }
    },
    {
      "cell_type": "code",
      "source": [
        "numeros = [3,4,6,2,6,8,4,9]\n",
        "res = numeros [-3] + numeros [5]\n",
        "print (res)"
      ],
      "metadata": {
        "id": "SaAJ67vaJDl5"
      },
      "execution_count": null,
      "outputs": []
    },
    {
      "cell_type": "markdown",
      "source": [
        "otra forma alternativa de crear listas es mediante la función **list** que recibe como argumento un objeto iterable"
      ],
      "metadata": {
        "id": "txcOSCzaxAmC"
      }
    },
    {
      "cell_type": "code",
      "source": [
        "mi_lista = list (\"1234567\")\n",
        "print (mi_lista)"
      ],
      "metadata": {
        "id": "xUYkCipIxOki"
      },
      "execution_count": null,
      "outputs": []
    },
    {
      "cell_type": "markdown",
      "source": [
        "Una lista en Python puede almacenar elementos de cualquier tipo de dato, incluso otras listas"
      ],
      "metadata": {
        "id": "NJzfNDOwxd95"
      }
    },
    {
      "cell_type": "code",
      "source": [
        "mi_lista = [2, 3.5, True, \"amigo\", [3, 8, \"a\"]]\n",
        "print (mi_lista)"
      ],
      "metadata": {
        "id": "ivEsMuG1xkMT"
      },
      "execution_count": null,
      "outputs": []
    },
    {
      "cell_type": "markdown",
      "source": [
        "¿De qué manera accederías al elemento con valor 6 en la siguiente lista?.  Completa el código de la línea 2"
      ],
      "metadata": {
        "id": "wGOD71_4ySKR"
      }
    },
    {
      "cell_type": "code",
      "source": [
        "mi_lista = [1, 2, 3, ['p', 'q', [5, 6, 7]]]\n"
      ],
      "metadata": {
        "id": "fNID_nv9yAkp"
      },
      "execution_count": null,
      "outputs": []
    },
    {
      "cell_type": "markdown",
      "source": [
        "¿Acertaste? De esa manera podemos acceder a cualquier elemento de una lista.\n",
        "\n",
        "¿Recuerdas el concepto de **Slicing** que vimos con los datos tipo cadena?.  Pues también es aplicable a las listas.\n",
        "\n",
        "\n",
        "¿Podrías indicarnos antes de ejecutar el código, que devuelven las siguientes líneas?"
      ],
      "metadata": {
        "id": "5gEOgkinzRws"
      }
    },
    {
      "cell_type": "code",
      "source": [
        "mi_lista = list (range (1,10))\n",
        "print (mi_lista)\n",
        "print (mi_lista [1:4])\n",
        "print (mi_lista [:2])\n",
        "print (mi_lista [7:])\n",
        "print (mi_lista [-5:-1])\n",
        "print (mi_lista [-3:])"
      ],
      "metadata": {
        "id": "Hipn8kA-yf5h"
      },
      "execution_count": null,
      "outputs": []
    },
    {
      "cell_type": "markdown",
      "source": [
        "Como vamos viendo, las listas en Python son muy flexibles.  Aquí algunas otras operaciones nativas sobre las listas."
      ],
      "metadata": {
        "id": "kA1QSutQ2kJ5"
      }
    },
    {
      "cell_type": "code",
      "source": [
        "mi_lista = [1, 2, 3, 4, 5]\n",
        "mi_lista [0:3] = [\"a\", \"b\", \"c\"] #Asignación de varios valores\n",
        "print (mi_lista)"
      ],
      "metadata": {
        "id": "cgOrO8be20lY"
      },
      "execution_count": null,
      "outputs": []
    },
    {
      "cell_type": "code",
      "source": [
        "mi_lista = [1, 2, 3, 4, 5]\n",
        "mi_lista = mi_lista + [6] #Agregar un valor con el operador +\n",
        "print (mi_lista)\n",
        "mi_lista = mi_lista + [7, 8, 9] #Agregar varios valores\n",
        "print (mi_lista)"
      ],
      "metadata": {
        "id": "wMhObyzE4Eov"
      },
      "execution_count": null,
      "outputs": []
    },
    {
      "cell_type": "code",
      "source": [
        "mi_lista = [1, 2, 3]\n",
        "x, y, z = mi_lista #Asignar a varias variables el contenido de una lista\n",
        "print (f\"valor de x {x}\")\n",
        "print (f\"valor de y {y}\")\n",
        "print (f\"valor de z {z}\")"
      ],
      "metadata": {
        "id": "kNLyyeB943Eo"
      },
      "execution_count": null,
      "outputs": []
    },
    {
      "cell_type": "markdown",
      "source": [
        "## Eliminación  e Inserción\n",
        "Para eliminar un elemento de una lista utilizamos la palabra reservada del\n",
        "\n",
        "\n",
        "\n"
      ],
      "metadata": {
        "id": "-AUkdsBwKAYX"
      }
    },
    {
      "cell_type": "code",
      "source": [
        "lenguajes = [\"Python\", \"Java\", \"PHP\"]\n",
        "del lenguajes[1]\n",
        "print (lenguajes)"
      ],
      "metadata": {
        "id": "9ZGyDZeHKVOy"
      },
      "execution_count": null,
      "outputs": []
    },
    {
      "cell_type": "markdown",
      "source": [
        "Podemos insertar datos en una posición específica con la función **insert** o al final de la lista con **append**"
      ],
      "metadata": {
        "id": "WWm54yMJK1Fm"
      }
    },
    {
      "cell_type": "code",
      "source": [
        "lenguajes = [\"Python\", \"Java\", \"PHP\"]\n",
        "lenguajes.append (\"C++\")\n",
        "lenguajes.append (\"Ruby\")\n",
        "lenguajes.insert(2, \"Visual Basic\")\n",
        "print (lenguajes)"
      ],
      "metadata": {
        "id": "oZbWacCwLGvS"
      },
      "execution_count": null,
      "outputs": []
    },
    {
      "cell_type": "markdown",
      "source": [
        "Para saber si un elemento se encuentra dentro de una lista usamos la palabra reservada **in**"
      ],
      "metadata": {
        "id": "6MPulHGJf4oC"
      }
    },
    {
      "cell_type": "code",
      "source": [
        "lenguajes = [\"Python\", \"Java\", \"PHP\"]\n",
        "print (\"Python\" in lenguajes)\n",
        "print (\"C#\" in lenguajes)"
      ],
      "metadata": {
        "id": "zGORIdYogDAh"
      },
      "execution_count": null,
      "outputs": []
    },
    {
      "cell_type": "markdown",
      "source": [
        "## Recorrido de listas\n",
        "Dado que cada lista es un objeto iterable, las podemos recorrer con nuestro ciclo for\n",
        "\n",
        "\n",
        "\n",
        "```\n",
        "for variable in lista:\n",
        "```\n",
        "\n"
      ],
      "metadata": {
        "id": "AaYnIwhtKdQU"
      }
    },
    {
      "cell_type": "code",
      "source": [
        "numeros = [1, 2, 3, 4, 5]\n",
        "for num in numeros:\n",
        "  print (num)"
      ],
      "metadata": {
        "id": "bBNGvnlXKs_t",
        "colab": {
          "base_uri": "https://localhost:8080/"
        },
        "outputId": "3981c2b2-d3c6-4870-cebb-cfa3e34e4cb9"
      },
      "execution_count": null,
      "outputs": [
        {
          "output_type": "stream",
          "name": "stdout",
          "text": [
            "1\n",
            "2\n",
            "3\n",
            "4\n",
            "5\n"
          ]
        }
      ]
    },
    {
      "cell_type": "markdown",
      "source": [
        "También nos las podemos arreglar para recorrer una lista a través de sus índices como convencionalmente se hace en otros lenguajes.  Para ello, necesitamos usar el método **len** que nos devuelve la longitud de la lista."
      ],
      "metadata": {
        "id": "K3qEpb4bNT1M"
      }
    },
    {
      "cell_type": "code",
      "source": [
        "mi_lista = [4, 5, 6, 7]\n",
        "\n",
        "for indice in range(0, len(mi_lista)):\n",
        "\t  print(mi_lista[indice])"
      ],
      "metadata": {
        "id": "wYApk6k2Np9z"
      },
      "execution_count": null,
      "outputs": []
    },
    {
      "cell_type": "markdown",
      "source": [
        "Python nos ofrece una forma alternativa de acceder al índice de cada elemento de una lista a través de la función **enumerate**"
      ],
      "metadata": {
        "id": "9NsPczwKOZ9L"
      }
    },
    {
      "cell_type": "code",
      "source": [
        "numeros = [3, 29, 34, 42, 54]\n",
        "for x in enumerate(numeros):\n",
        "  print (x)"
      ],
      "metadata": {
        "id": "RQe67pGxLPO1"
      },
      "execution_count": null,
      "outputs": []
    },
    {
      "cell_type": "markdown",
      "source": [
        "Debido a que la función enumerate devuelve para cada elemento de la lista un par (índice - valor), podemos obtener ambos al tiempo en la misma variable como en el ejemplo anterior o acceder a cada uno a través de variables diferentes.  Veamos:"
      ],
      "metadata": {
        "id": "Ki6_V-giOwB9"
      }
    },
    {
      "cell_type": "code",
      "source": [
        "numeros = [\"A\", \"B\", \"C\", \"D\", \"E\"]\n",
        "for indice, valor in enumerate(numeros):\n",
        "  print (f\"El valor {valor} se encuentra en la posicion {indice}\")\n"
      ],
      "metadata": {
        "id": "fcRhVPG1RP07"
      },
      "execution_count": null,
      "outputs": []
    },
    {
      "cell_type": "markdown",
      "source": [
        "Con lo visto hasta ahora, muéstranos cómo recorrerías una lista de la cual no conoces su longitud usando el ciclo while."
      ],
      "metadata": {
        "id": "9plIGi2RSW9e"
      }
    },
    {
      "cell_type": "code",
      "source": [],
      "metadata": {
        "id": "yAnrxSoESpC8"
      },
      "execution_count": null,
      "outputs": []
    },
    {
      "cell_type": "markdown",
      "source": [
        "Se cuenta con dos listas y se desean recorrer de manera simultánea mostrando el valor de las dos en cada posición.  ¿Ayudarías a terminar el código de tal manera que se obtenga el siguiente resultado?\n",
        "\n",
        "\n",
        "```\n",
        "ma - pa\n",
        "me - pe\n",
        "mi - pi\n",
        "mo - po\n",
        "mu - pu\n",
        "```"
      ],
      "metadata": {
        "id": "GprLf6BwVboj"
      }
    },
    {
      "cell_type": "code",
      "source": [
        "lista_1 = [\"ma\", \"me\", \"mi\", \"mo\", \"mu\"]\n",
        "lista_2 = [\"pa\", \"pe\", \"pi\", \"po\", \"pu\"]\n",
        "\n",
        "#continua aquí"
      ],
      "metadata": {
        "id": "m09ku3q4Vydc"
      },
      "execution_count": null,
      "outputs": []
    },
    {
      "cell_type": "code",
      "source": [],
      "metadata": {
        "id": "p4zvfOZpuowl"
      },
      "execution_count": null,
      "outputs": []
    },
    {
      "cell_type": "markdown",
      "source": [],
      "metadata": {
        "id": "2XVwQ9EcunPT"
      }
    },
    {
      "cell_type": "markdown",
      "source": [
        "\n",
        "\n",
        "---\n",
        "\n",
        "\n",
        "Después de haberlo logrado, miremos otra alternativa para el recorrido de dos listas simultáneamente a través de la función **zip**"
      ],
      "metadata": {
        "id": "2t985EwzdXc7"
      }
    },
    {
      "cell_type": "code",
      "source": [
        "lista_1 = [\"ma\", \"me\", \"mi\", \"mo\", \"mu\"]\n",
        "lista_2 = [\"pa\", \"pe\", \"pi\", \"po\", \"pu\"]\n",
        "for x in zip (lista_1, lista_2):\n",
        "    print (x)"
      ],
      "metadata": {
        "id": "ru3CrSjce6Jp"
      },
      "execution_count": null,
      "outputs": []
    },
    {
      "cell_type": "markdown",
      "source": [
        "A la función **zip** le podemos pasar cualquier número de listas y tendrá la capacidad de generar un iterador que las recorra simultáneamente."
      ],
      "metadata": {
        "id": "Adctfu71e_BZ"
      }
    },
    {
      "cell_type": "code",
      "source": [
        "lista_1 = [\"ma\", \"me\", \"mi\", \"mo\", \"mu\"]\n",
        "lista_2 = [\"pa\", \"pe\", \"pi\", \"po\", \"pu\"]\n",
        "lista_3 = [\"la\", \"le\", \"li\", \"lo\", \"lu\"]\n",
        "for x in zip (lista_1, lista_2, lista_3):\n",
        "    print (x)"
      ],
      "metadata": {
        "id": "DZE99JjXdoq0",
        "colab": {
          "base_uri": "https://localhost:8080/"
        },
        "outputId": "829546b1-0489-4a1a-8ceb-824768a24a96"
      },
      "execution_count": null,
      "outputs": [
        {
          "output_type": "stream",
          "name": "stdout",
          "text": [
            "('ma', 'pa', 'la')\n",
            "('me', 'pe', 'le')\n",
            "('mi', 'pi', 'li')\n",
            "('mo', 'po', 'lo')\n",
            "('mu', 'pu', 'lu')\n"
          ]
        }
      ]
    },
    {
      "cell_type": "markdown",
      "source": [
        "## Métodos aplicables a las listas\n",
        "\n",
        "Existen diferentes métodos útiles a la hora de trabajar con listas.  Aquí algunas de ellas:"
      ],
      "metadata": {
        "id": "RhVGkLjPwKVS"
      }
    },
    {
      "cell_type": "markdown",
      "source": [
        "El método **sort()** ordena los elementos de una lista"
      ],
      "metadata": {
        "id": "lTyoUzxQhC25"
      }
    },
    {
      "cell_type": "code",
      "source": [
        "mi_lista = [5, 6, 3, 8, 1]\n",
        "mi_lista.sort()  #ordena la lista\n",
        "print (mi_lista)"
      ],
      "metadata": {
        "id": "xY-1BOT4hNhK"
      },
      "execution_count": null,
      "outputs": []
    },
    {
      "cell_type": "markdown",
      "source": [
        "Podemos pasarle el argumento **reverse=True** al método **sort()** para que ordene inversamente"
      ],
      "metadata": {
        "id": "lVFiiueeP_F5"
      }
    },
    {
      "cell_type": "code",
      "source": [
        "mi_lista = [5, 6, 3, 8, 1]\n",
        "mi_lista.sort(reverse=True)  #ordena la lista\n",
        "print (mi_lista)"
      ],
      "metadata": {
        "id": "dsIszimLQUFA"
      },
      "execution_count": null,
      "outputs": []
    },
    {
      "cell_type": "markdown",
      "source": [
        "El método **remove()** recibe como argumento un objeto y lo borra de la lista"
      ],
      "metadata": {
        "id": "KwKrAT_hjOxy"
      }
    },
    {
      "cell_type": "code",
      "source": [
        "lenguajes = [\"Python\", \"Java\", \"PHP\"]\n",
        "lenguajes.remove(\"Java\")\n",
        "print (lenguajes)"
      ],
      "metadata": {
        "id": "NzulJ0Fiji8h"
      },
      "execution_count": null,
      "outputs": []
    },
    {
      "cell_type": "markdown",
      "source": [
        "Nota que la diferencia entre **remove()** y **del** es que al primero le puedo enviar el valor que deseo remover mientras que el segundo **del** trabaja con los índices"
      ],
      "metadata": {
        "id": "RRlLTCMQju_h"
      }
    },
    {
      "cell_type": "code",
      "source": [
        "lenguajes = [\"Python\", \"Java\", \"PHP\"]\n",
        "del lenguajes [1]\n",
        "print (lenguajes)"
      ],
      "metadata": {
        "id": "BZ25aReMkLoQ"
      },
      "execution_count": null,
      "outputs": []
    },
    {
      "cell_type": "markdown",
      "source": [
        "El método **reverse()** invierte el contenido de la lista"
      ],
      "metadata": {
        "id": "fuVKm3BWOqGI"
      }
    },
    {
      "cell_type": "code",
      "source": [
        "lenguajes = [\"Python\", \"Java\", \"PHP\"]\n",
        "lenguajes.reverse()\n",
        "print (lenguajes)"
      ],
      "metadata": {
        "id": "eo9WVMTNO0f4",
        "colab": {
          "base_uri": "https://localhost:8080/"
        },
        "outputId": "b2e51ca6-1b60-4a92-a723-9522e887d247"
      },
      "execution_count": null,
      "outputs": [
        {
          "output_type": "stream",
          "name": "stdout",
          "text": [
            "['PHP', 'Java', 'Python']\n"
          ]
        }
      ]
    },
    {
      "cell_type": "markdown",
      "source": [
        "Las cadenas no tienen el método .reverse() pero podemos simularlo haciendo unas conversiones entre listas y cadenas:\n",
        "\n"
      ],
      "metadata": {
        "id": "QbORA-0uPMpP"
      }
    },
    {
      "cell_type": "code",
      "source": [
        "cadena = \"Hola mundo\"\n",
        "lista = list(cadena)\n",
        "lista.reverse()\n",
        "cadena = \"\".join(lista)\n",
        "print (cadena)"
      ],
      "metadata": {
        "id": "MggJ4mJRPRa_"
      },
      "execution_count": null,
      "outputs": []
    },
    {
      "cell_type": "markdown",
      "source": [
        "**Otros métodos o funciones aplicables sobre listas**"
      ],
      "metadata": {
        "id": "k8MIBbqmkZzB"
      }
    },
    {
      "cell_type": "markdown",
      "source": [
        "\n",
        "```\n",
        "clear()\n",
        "Vacía todos los ítems de una lista:\n",
        "lista.clear()\n",
        "[]\n",
        "\n",
        "extend()\n",
        "Une una lista a otra:\n",
        "l1 = [1,2,3]\n",
        "l2 = [4,5,6]\n",
        "l1.extend(l2)\n",
        "[1, 2, 3, 4, 5, 6]\n",
        "\n",
        "count()\n",
        "Cuenta el número de veces que aparece un ítem:\n",
        "[\"Hola\", \"mundo\", \"mundo\"].count(\"Hola\")\n",
        "1\n",
        "\n",
        "index()\n",
        "Devuelve el índice en el que aparece un ítem (error si no aparece):\n",
        "[\"Hola\", \"mundo\", \"mundo\"].index(\"mundo\")\n",
        "1\n",
        "\n",
        "pop()\n",
        "Extrae un ítem de la lista y lo borra:\n",
        "l = [10,20,30,40,50]\n",
        "print(l.pop())\n",
        "50\n",
        "[10, 20, 30, 40]\n",
        "\n",
        "```\n",
        "\n"
      ],
      "metadata": {
        "id": "-jx3mZEoM2bQ"
      }
    },
    {
      "cell_type": "code",
      "source": [],
      "metadata": {
        "id": "CcyvwK7yUEbt"
      },
      "execution_count": null,
      "outputs": []
    },
    {
      "cell_type": "markdown",
      "source": [
        "# Tuplas\n",
        "\n"
      ],
      "metadata": {
        "id": "3LvAFsIZOfqT"
      }
    },
    {
      "cell_type": "markdown",
      "source": [
        "## Generalidades\n",
        "Las Tuplas son similares a las listas pero con la característica de ser inmutables, es decir, sus valores no pueden cambiar.  Las Tuplas se crean con paréntesis **()** en lugar de corchetes **[]**  pero al igual que las listas, se accede a sus posiciones con corchetes **[]**  Veamos:"
      ],
      "metadata": {
        "id": "_gbU5KnUXHI6"
      }
    },
    {
      "cell_type": "code",
      "source": [
        "mi_tupla = (\"a\",\"b\",\"c\",\"d\")\n",
        "print (type(mi_tupla))\n",
        "print (mi_tupla)\n",
        "print (mi_tupla[1])\n",
        "print (mi_tupla[1:3])\n",
        "print (mi_tupla[:-1])"
      ],
      "metadata": {
        "id": "8OIYoPwcPRCa"
      },
      "execution_count": null,
      "outputs": []
    },
    {
      "cell_type": "markdown",
      "source": [
        "Intenta cambiar el contenido de la posición 1 en la siguiente tupla por el valor de \"f\":"
      ],
      "metadata": {
        "id": "U-LrOEjPP5TK"
      }
    },
    {
      "cell_type": "code",
      "source": [
        "mi_tupla = (\"a\",\"b\",\"c\",\"d\")\n",
        "#tu código aqui\n",
        "print (mi_tupla[1])"
      ],
      "metadata": {
        "id": "1d6QX9M2P_Ei"
      },
      "execution_count": null,
      "outputs": []
    },
    {
      "cell_type": "markdown",
      "source": [
        "Como puedes ver, el contenido de una **tupla es inmutable**\n",
        "\n",
        "**¿Qué ventaja tiene entonces una Tupla sobre una Lista?**"
      ],
      "metadata": {
        "id": "BnIxsoCLQTDi"
      }
    },
    {
      "cell_type": "markdown",
      "source": [
        "Las Tuplas al igual que las Listas pueden almacenar diferentes tipos de elementos y pueden conformarse por otras listas o tuplas internas.  El acceso a sus elementos funciona igual que con las listas."
      ],
      "metadata": {
        "id": "iA0DEa9kRq-P"
      }
    },
    {
      "cell_type": "code",
      "source": [
        "mi_tupla = (100, 'Hola', [1, 2, 3], -50)\n",
        "print (mi_tupla[2][-1]) #accediendo al número 3\n",
        "mi_tupla = (100, 'Hola', (1, (200, 'D', [\"x\",\"y\",\"z\"])), (1, 2, 3), -50)\n",
        "print (mi_tupla [2][1][2][1]) #accediendo a la letra \"y\""
      ],
      "metadata": {
        "id": "iMwNL2RTR8l8"
      },
      "execution_count": null,
      "outputs": []
    },
    {
      "cell_type": "markdown",
      "source": [
        "Las Tuplas comparten varios métodos de las listas, sin embargo, por ser inmutables, las Tuplas no usan ningún método en cuyo resultado sea un cambio de contenido.  Ejemplo append(), insert(), remove(), sort(), reverse(), etc."
      ],
      "metadata": {
        "id": "SVKTOAmPUheb"
      }
    },
    {
      "cell_type": "code",
      "source": [
        "mi_tupla = (1,2,5,2,6,9,3,2,78,45,3,2,0)\n",
        "print (mi_tupla.count (2)) #funciona.  No cambia el contenido de la tupla"
      ],
      "metadata": {
        "id": "aB6gIg8aTs6z"
      },
      "execution_count": null,
      "outputs": []
    },
    {
      "cell_type": "code",
      "source": [
        "mi_tupla = (1,2,5,2,6,9,3,2,78,45,3,2,0)\n",
        "mi_tupla.sort() #No funciona.  Cambia el contenido de la tupla"
      ],
      "metadata": {
        "id": "kewlI1SRVclr"
      },
      "execution_count": null,
      "outputs": []
    },
    {
      "cell_type": "markdown",
      "source": [
        "Las tuplas también las podemos crear a partir de la función **tuple** que recibe un objeto iterable"
      ],
      "metadata": {
        "id": "lxdiRmMEWsIL"
      }
    },
    {
      "cell_type": "code",
      "source": [
        "mi_tupla = tuple (\"amoamimama\")\n",
        "print (mi_tupla)"
      ],
      "metadata": {
        "id": "7CNUDgKjTMCS"
      },
      "execution_count": null,
      "outputs": []
    },
    {
      "cell_type": "markdown",
      "source": [
        "Por lo demás, podemos resumir diciendo que las listas y las tuplas son semejantes, con la diferencia que las segundas no pueden cambiar su contenido."
      ],
      "metadata": {
        "id": "XQlOBYc1Yf9T"
      }
    },
    {
      "cell_type": "code",
      "source": [
        "mi_tupla = tuple (input (\"ingrese una frase\"))\n",
        "print (mi_tupla)\n",
        "print (f\"La cantidad de elementos de la tupla es {len(mi_tupla)}\")\n",
        "for dato in mi_tupla:\n",
        "  print (dato)\n",
        "\n",
        "for dato in enumerate(mi_tupla):\n",
        "  print (dato)"
      ],
      "metadata": {
        "id": "izqZO1iTVaUp"
      },
      "execution_count": null,
      "outputs": []
    },
    {
      "cell_type": "markdown",
      "source": [
        "## Paso de Tupla a Lista y Lista a Tupla\n",
        "Las funciones **list** y **tuple** son las que nos permiten realizar este tipo de conversiones.  miremos"
      ],
      "metadata": {
        "id": "HF2kqu_rZEsx"
      }
    },
    {
      "cell_type": "markdown",
      "source": [
        "**Paso de Lista a Tupla**"
      ],
      "metadata": {
        "id": "YvpaPveyZg5I"
      }
    },
    {
      "cell_type": "code",
      "source": [
        "mi_lista = [1,2,3,4,5]\n",
        "print (f\"{mi_lista} es de tipo {type(mi_lista)}\")\n",
        "mi_tupla = tuple (mi_lista)\n",
        "print (f\"{mi_tupla} es de tipo {type(mi_tupla)}\")\n"
      ],
      "metadata": {
        "id": "JmrlAZFRZkKI"
      },
      "execution_count": null,
      "outputs": []
    },
    {
      "cell_type": "markdown",
      "source": [
        "**Paso de Tupla a Lista**"
      ],
      "metadata": {
        "id": "neNSiurnaGiI"
      }
    },
    {
      "cell_type": "code",
      "source": [
        "mi_tupla = (1,2,3,4,5)\n",
        "print (f\"{mi_tupla} es de tipo {type(mi_tupla)}\")\n",
        "mi_lista = list (mi_tupla)\n",
        "print (f\"{mi_lista} es de tipo {type(mi_lista)}\")"
      ],
      "metadata": {
        "id": "0uZS7zMiaMdw"
      },
      "execution_count": null,
      "outputs": []
    },
    {
      "cell_type": "code",
      "source": [
        "mi_tupla = (3,8,5,1,9)\n",
        "mi_lista = list (mi_tupla)\n",
        "mi_lista.sort()\n",
        "mi_tupla = tuple (mi_lista)\n",
        "print (mi_tupla)"
      ],
      "metadata": {
        "id": "g6IjfFxRQcSC"
      },
      "execution_count": null,
      "outputs": []
    },
    {
      "cell_type": "markdown",
      "source": [
        "# Apropiación"
      ],
      "metadata": {
        "id": "AyhBW3VYhe1g"
      }
    },
    {
      "cell_type": "markdown",
      "source": [
        "1. Pregunte al usuario cuántos elementos desea ingresar en una lista, luego solicite cada uno de ellos y presente el contenido de la lista y su contenido invertido."
      ],
      "metadata": {
        "id": "-hASHdigSodq"
      }
    },
    {
      "cell_type": "markdown",
      "source": [
        "2. Solicite al usuario dos frases y devuelva una lista con todas las letras que se repiten en la misma posición de ambas listas"
      ],
      "metadata": {
        "id": "o2u9DifrUB3v"
      }
    },
    {
      "cell_type": "markdown",
      "source": [
        "3. Cree una aplicación que presente un menú con las siguientes opciones:\n",
        "\n",
        "\n",
        "```\n",
        "Aplicaciones con Listas\n",
        "\n",
        "1. Ingresar lista nueva\n",
        "2. Ordenar lista\n",
        "3. Promedio lista\n",
        "4. Buscar elemento\n",
        "5. Salir\n",
        "```\n",
        "\n",
        "**Ingresar lista** solicita los elementos de una lista validando que cada elemento sea un número entero y terminando con el ingreso del caracter numeral **#**\n",
        "\n",
        "**Ordenar lista** Presenta los valores de la lista ordenados.\n",
        "\n",
        "**Promedio lista** Muestra el promedio de los valores de la lista\n",
        "\n",
        "**Buscar elemento** solicita un número a buscar en la lista e indica si se encuentra en ella y cuántas veces aparece.\n",
        "\n",
        "**Salir** Termina la ejecución del programa\n"
      ],
      "metadata": {
        "id": "57MOa7cTUIN-"
      }
    },
    {
      "cell_type": "markdown",
      "source": [
        "1. Leer una frase y almacenar en una tupla la frase leída pero sin espacios.  Mostrar el contenido de la tupla."
      ],
      "metadata": {
        "id": "_oDncwIBhkJ-"
      }
    },
    {
      "cell_type": "code",
      "source": [
        "frase = input(\"Ingrese frase\")\n",
        "lista = []\n",
        "for letra in frase:\n",
        "  if letra != \" \":\n",
        "     lista.append(letra)\n",
        "\n",
        "tupla = tuple(lista)\n",
        "print (tupla)\n",
        "\n"
      ],
      "metadata": {
        "id": "YEHlGBCmjuyX"
      },
      "execution_count": null,
      "outputs": []
    },
    {
      "cell_type": "markdown",
      "source": [
        "2.\n",
        "*   Leer 4 números y almacenarlos en una Tupla\n",
        "*   Mostrar el contenido de la Tupla\n",
        "*   Presentar 4 listas, en las que se encuentren los divisores de cada valor almacenado en la tupla\n",
        "\n"
      ],
      "metadata": {
        "id": "yGmDHdn5jwlW"
      }
    },
    {
      "cell_type": "code",
      "source": [
        "l1, l2, l3, l4 = [],[],[],[]\n",
        "tupla = (int(input(\"Ingrese numero 1:\")), int(input(\"Ingrese numero 2:\")), int(input(\"Ingrese numero 3:\")), int(input(\"Ingrese numero 4:\")))\n",
        "print (tupla)\n",
        "\n",
        "for pos in range (0,4):\n",
        "  for x in range (1, tupla[pos]+1):\n",
        "    if (tupla[pos] % x == 0):\n",
        "      if pos == 0:\n",
        "        l1.append(x)\n",
        "      elif pos == 1:\n",
        "        l2.append(x)\n",
        "      elif pos == 2:\n",
        "        l3.append(x)\n",
        "      else:\n",
        "        l4.append(x)\n",
        "\n",
        "print (l1, l2, l3, l4, sep=\"\\n\")"
      ],
      "metadata": {
        "id": "yrpsj-Ooldf-"
      },
      "execution_count": null,
      "outputs": []
    },
    {
      "cell_type": "markdown",
      "source": [
        "# Conjuntos"
      ],
      "metadata": {
        "id": "2EhnrQKGcoOh"
      }
    },
    {
      "cell_type": "markdown",
      "source": [
        "## Generalidades\n",
        "Los conjuntos son colecciones **desordenadas** y que **no aceptan valores repetidos**.  Se crean con Llaves **{}** o llamando a la función **set**. Los conjuntos permiten cambiar su contenido pero dado que no poseen un orden, **no aceptan operaciones indexadas**.  Miremos:"
      ],
      "metadata": {
        "id": "Cwk9pyE8crGB"
      }
    },
    {
      "cell_type": "code",
      "source": [
        "mi_conjunto = {2,5,6,2,3,4,2}\n",
        "print (mi_conjunto) #Los valores repetidos no se toman en cuenta\n",
        "print (type(mi_conjunto))"
      ],
      "metadata": {
        "id": "vSnPmA7Mga1u",
        "colab": {
          "base_uri": "https://localhost:8080/"
        },
        "outputId": "09773cac-b1c4-4b72-f881-11184e71a921"
      },
      "execution_count": null,
      "outputs": [
        {
          "output_type": "stream",
          "name": "stdout",
          "text": [
            "{2, 3, 4, 5, 6}\n",
            "<class 'set'>\n"
          ]
        }
      ]
    },
    {
      "cell_type": "code",
      "source": [
        "mi_conjunto = set (range (1,9))\n",
        "print (mi_conjunto)"
      ],
      "metadata": {
        "id": "aUzyVQl-Rp9r",
        "colab": {
          "base_uri": "https://localhost:8080/"
        },
        "outputId": "982d1909-5539-459f-ee1c-9c68fa9d9ce2"
      },
      "execution_count": null,
      "outputs": [
        {
          "output_type": "stream",
          "name": "stdout",
          "text": [
            "{1, 2, 3, 4, 5, 6, 7, 8}\n"
          ]
        }
      ]
    },
    {
      "cell_type": "markdown",
      "source": [
        "En los conjuntos el orden de inserción no es necesariamente el orden de almacenamiento"
      ],
      "metadata": {
        "id": "wF-f6s7MnNGO"
      }
    },
    {
      "cell_type": "code",
      "source": [
        "mi_conjunto = {'P', 'H', 'A', 'Z'}\n",
        "print (mi_conjunto)"
      ],
      "metadata": {
        "id": "xKpIK_o1m4tt",
        "colab": {
          "base_uri": "https://localhost:8080/"
        },
        "outputId": "b9f2161e-ab43-4620-fa84-b173d8e5bf57"
      },
      "execution_count": null,
      "outputs": [
        {
          "output_type": "stream",
          "name": "stdout",
          "text": [
            "{'A', 'Z', 'H', 'P'}\n"
          ]
        }
      ]
    },
    {
      "cell_type": "markdown",
      "source": [
        "Para adicionar elementos al conjunto utilizamos el método **add()**"
      ],
      "metadata": {
        "id": "EJnCCw7CmWqH"
      }
    },
    {
      "cell_type": "code",
      "source": [
        "mi_conjunto = set (range (1,9))\n",
        "print (mi_conjunto)\n",
        "mi_conjunto.add(30)\n",
        "print (mi_conjunto)"
      ],
      "metadata": {
        "id": "bQuEWNi5mea9"
      },
      "execution_count": null,
      "outputs": []
    },
    {
      "cell_type": "code",
      "source": [
        "lista = [1,2,3,3,2,4,5,1]\n",
        "mi_conjunto = set(lista)\n",
        "lista = list(mi_conjunto)\n",
        "print (lista)\n"
      ],
      "metadata": {
        "id": "izsdK8eUS3Sw"
      },
      "execution_count": null,
      "outputs": []
    },
    {
      "cell_type": "markdown",
      "source": [
        "Comprobamos si un elemento se encuentra o no dentro de un conjunto con la palabra reservada **in**"
      ],
      "metadata": {
        "id": "cph7fTFInzV9"
      }
    },
    {
      "cell_type": "code",
      "source": [
        "mi_conjunto = {3,4,6,8,2}\n",
        "print (mi_conjunto)\n",
        "num = int(input(\"Cual número desea saber si está en el conjunto:\"))\n",
        "print (f\"Está el nummero {num} en el conjunto {mi_conjunto}?: {num in mi_conjunto}\")"
      ],
      "metadata": {
        "id": "itGSK3_Vn_zP"
      },
      "execution_count": null,
      "outputs": []
    },
    {
      "cell_type": "markdown",
      "source": [
        "**Recorrido de conjuntos**"
      ],
      "metadata": {
        "id": "YgNVCGLXUetX"
      }
    },
    {
      "cell_type": "code",
      "source": [
        "mi_conjunto = {2,3,5,6,7,4}\n",
        "for valor in mi_conjunto:\n",
        "  print (valor)"
      ],
      "metadata": {
        "id": "2-ulHf63Ujai"
      },
      "execution_count": null,
      "outputs": []
    },
    {
      "cell_type": "markdown",
      "source": [
        "## Métodos en Conjuntos"
      ],
      "metadata": {
        "id": "T40UDyD-p_fd"
      }
    },
    {
      "cell_type": "markdown",
      "source": [
        "**discard()** quita un elemento del conjunto"
      ],
      "metadata": {
        "id": "rnCIphQnqI-V"
      }
    },
    {
      "cell_type": "code",
      "source": [
        "c = {2,5,7,9,3,1}\n",
        "c.discard (5)\n",
        "print(c)"
      ],
      "metadata": {
        "id": "pU7KNG27qZuN",
        "colab": {
          "base_uri": "https://localhost:8080/"
        },
        "outputId": "5034c5cb-fb3c-4a71-c179-aa757a16d833"
      },
      "execution_count": null,
      "outputs": [
        {
          "output_type": "stream",
          "name": "stdout",
          "text": [
            "{1, 2, 3, 7, 9}\n"
          ]
        }
      ]
    },
    {
      "cell_type": "markdown",
      "source": [
        "**isdisjoint()** Comprueba si el conjunto es disjunto de otro conjunto, es decir, si no hay ningún elemento en común entre ellos:"
      ],
      "metadata": {
        "id": "sSX_XYZDq1Al"
      }
    },
    {
      "cell_type": "code",
      "source": [
        "c1 = {2,5,7}\n",
        "c2 = {9,3,1}\n",
        "print (f\"c1 disjoint c2 = {c1.isdisjoint(c2)}\")\n",
        "c3 = {9,3,5}\n",
        "print (f\"c1 disjoint c3 = {c1.isdisjoint(c3)}\")"
      ],
      "metadata": {
        "id": "Nb16_0Hzq_3F",
        "colab": {
          "base_uri": "https://localhost:8080/"
        },
        "outputId": "caf37515-5665-4123-88de-739d4309d13c"
      },
      "execution_count": null,
      "outputs": [
        {
          "output_type": "stream",
          "name": "stdout",
          "text": [
            "c1 disjoint c2 = True\n",
            "c1 disjoint c3 = False\n"
          ]
        }
      ]
    },
    {
      "cell_type": "markdown",
      "source": [
        "**issubset()**  Comprueba si el conjunto es subconjunto de otro conjunto, es decir, si sus ítems se encuentran todos dentro de otro:"
      ],
      "metadata": {
        "id": "P-TUPUP5rrct"
      }
    },
    {
      "cell_type": "code",
      "source": [
        "c1 = {2,5,7}\n",
        "c2 = {2,5}\n",
        "print (f\"c1 issubset c2 = {c1.issubset(c2)}\")\n",
        "c3 = {2,7,3,5}\n",
        "print (f\"c1 issubset c3 = {c1.issubset(c3)}\")"
      ],
      "metadata": {
        "id": "Zyym9quMrwjT",
        "colab": {
          "base_uri": "https://localhost:8080/"
        },
        "outputId": "09553abf-95d1-4436-f3ab-07581eec3f22"
      },
      "execution_count": null,
      "outputs": [
        {
          "output_type": "stream",
          "name": "stdout",
          "text": [
            "c1 issubset c2 = False\n",
            "c1 issubset c3 = True\n"
          ]
        }
      ]
    },
    {
      "cell_type": "markdown",
      "source": [
        "**issuperset()** Comprueba si el conjunto es contenedor de otro subconjunto, es decir, si contiene todos los ítems de otro:"
      ],
      "metadata": {
        "id": "WKha5G9NsQss"
      }
    },
    {
      "cell_type": "code",
      "source": [
        "c1 = {2,5,7}\n",
        "c2 = {2,5}\n",
        "print (f\"c1 issuperset c2 = {c1.issuperset(c2)}\")\n",
        "c3 = {2,7,3,5}\n",
        "print (f\"c1 issuperset c3 = {c1.issuperset(c3)}\")"
      ],
      "metadata": {
        "id": "lnBMujhdsV99",
        "colab": {
          "base_uri": "https://localhost:8080/"
        },
        "outputId": "6db11a5f-a2c8-4da0-c14b-839f70fdc4e1"
      },
      "execution_count": null,
      "outputs": [
        {
          "output_type": "stream",
          "name": "stdout",
          "text": [
            "c1 issuperset c2 = True\n",
            "c1 issuperset c3 = False\n"
          ]
        }
      ]
    },
    {
      "cell_type": "markdown",
      "source": [
        "**union()** Une un conjunto a otro y devuelve el resultado en un nuevo conjunto:"
      ],
      "metadata": {
        "id": "wnMGqmN8ts_k"
      }
    },
    {
      "cell_type": "code",
      "source": [
        "c1 = {2,5,7}\n",
        "c2 = {2,5,3}\n",
        "print (f\"c1 union c2 = {c1.union(c2)}\")"
      ],
      "metadata": {
        "id": "QwaqS1_Ktykk",
        "colab": {
          "base_uri": "https://localhost:8080/"
        },
        "outputId": "7a98c9cd-864b-407e-c937-389f6aa9eca4"
      },
      "execution_count": null,
      "outputs": [
        {
          "output_type": "stream",
          "name": "stdout",
          "text": [
            "c1 union c2 = {2, 3, 5, 7}\n"
          ]
        }
      ]
    },
    {
      "cell_type": "markdown",
      "source": [
        "**difference()**  Encuentra los elementos no comunes entre dos conjuntos:"
      ],
      "metadata": {
        "id": "e0baX4Vft_9b"
      }
    },
    {
      "cell_type": "code",
      "source": [
        "c1 = {2,5,7}\n",
        "c2 = {2,5,3}\n",
        "print (f\"c1 difference c2 = {c1.difference(c2)}\")\n",
        "print (f\"c2 difference c1 = {c2.difference(c1)}\")"
      ],
      "metadata": {
        "id": "OKG6ms8auLVz",
        "colab": {
          "base_uri": "https://localhost:8080/"
        },
        "outputId": "4fa74634-fb41-42de-f0c2-dd2d859f7006"
      },
      "execution_count": null,
      "outputs": [
        {
          "output_type": "stream",
          "name": "stdout",
          "text": [
            "c1 difference c2 = {7}\n",
            "c2 difference c1 = {3}\n"
          ]
        }
      ]
    },
    {
      "cell_type": "markdown",
      "source": [
        "**symmetric_difference()**\n",
        "Devuelve los elementos simétricamente diferentes entre dos conjuntos, es decir, todos los elementos que no concuerdan entre los dos conjuntos:"
      ],
      "metadata": {
        "id": "bEyqDsBmu567"
      }
    },
    {
      "cell_type": "code",
      "source": [
        "c1 = {2,5,7,8,9,12}\n",
        "c2 = {2,5,3,0,8}\n",
        "print (f\"c1 symmetric_difference c2 = {c1.symmetric_difference(c2)}\")"
      ],
      "metadata": {
        "id": "XVfvXQhnu-JT",
        "colab": {
          "base_uri": "https://localhost:8080/"
        },
        "outputId": "462251d4-782f-44f8-9b2a-f4d3c2f07a49"
      },
      "execution_count": null,
      "outputs": [
        {
          "output_type": "stream",
          "name": "stdout",
          "text": [
            "c1 symmetric_difference c2 = {0, 3, 7, 9, 12}\n"
          ]
        }
      ]
    },
    {
      "cell_type": "markdown",
      "source": [
        "**intersection()**  Devuelve un conjunto con los elementos comunes en dos conjuntos:"
      ],
      "metadata": {
        "id": "h5QQ35YjungL"
      }
    },
    {
      "cell_type": "code",
      "source": [
        "c1 = {2,5,7}\n",
        "c2 = {2,5,3}\n",
        "print (f\"c1 intersection c2 = {c1.intersection(c2)}\")"
      ],
      "metadata": {
        "id": "PlgBqQqxusiD",
        "colab": {
          "base_uri": "https://localhost:8080/"
        },
        "outputId": "9971d901-9592-481f-e822-392f66b9083d"
      },
      "execution_count": null,
      "outputs": [
        {
          "output_type": "stream",
          "name": "stdout",
          "text": [
            "c1 intersection c2 = {2, 5}\n"
          ]
        }
      ]
    },
    {
      "cell_type": "markdown",
      "source": [
        "## Apropiación Conjuntos"
      ],
      "metadata": {
        "id": "_l-WC6EnTmXv"
      }
    },
    {
      "cell_type": "markdown",
      "source": [
        "1. Leer una frase y devolver el conjunto de caracteres diferentes que se encuentran presentes en la frase leída."
      ],
      "metadata": {
        "id": "hastHcJCTuKO"
      }
    },
    {
      "cell_type": "code",
      "source": [],
      "metadata": {
        "id": "79VnB7zHWVG2"
      },
      "execution_count": null,
      "outputs": []
    },
    {
      "cell_type": "markdown",
      "source": [
        "2. En una escuela se permite la inscripción de sus alumnos a las siguientes actividades deportivas: futbol (f), baloncesto (b).\n",
        "Realice un programa que permita ingresar el nombre de sus estudiantes e inscribir a cada uno en uno o los dos deportes.\n",
        "\n",
        "La aplicación debe mostrar los siguientes listados:\n",
        "  * Estudiantes inscritos en fulbol\n",
        "  * Estudiantes inscritos en baloncesto\n",
        "  * Estudiantes inscritos en ambos deportes\n",
        "  * Todos los estudiantes inscritos en algún deporte\n",
        "  * Estudiantes inscritos en solo un deporte.\n",
        "\n",
        "\n",
        "\n",
        "\n",
        "Genere un menú con las opciones de la aplicación\n"
      ],
      "metadata": {
        "id": "lf2PwtJvWVz9"
      }
    },
    {
      "cell_type": "markdown",
      "source": [
        "# Diccionarios"
      ],
      "metadata": {
        "id": "WpmW_tViZY_1"
      }
    },
    {
      "cell_type": "markdown",
      "source": [
        "## Generalidades\n",
        "\n",
        "Los diccionarios son un tipo de colección donde cada elemento almacenado contiene una estructura de tipo clave-valor.  En los diccionarios las claves deben ser únicas, pues es através de ellas que podemos acceder a los valores.  La definición al igual que los conjuntos es por medio de llaves **{}**\n",
        "\n"
      ],
      "metadata": {
        "id": "KVeWtD0baEwT"
      }
    },
    {
      "cell_type": "code",
      "source": [
        "mi_dic = {1: \"uno\", 2:\"dos\"}\n",
        "print(mi_dic[1])\n",
        "print(mi_dic)"
      ],
      "metadata": {
        "colab": {
          "base_uri": "https://localhost:8080/"
        },
        "id": "ZhGToHlhl4b6",
        "outputId": "da600e4e-9c80-44f6-b61d-4901081389c2"
      },
      "execution_count": null,
      "outputs": [
        {
          "output_type": "stream",
          "name": "stdout",
          "text": [
            "uno\n",
            "{1: 'uno', 2: 'dos'}\n"
          ]
        }
      ]
    },
    {
      "cell_type": "markdown",
      "source": [
        "## Acceso\n",
        "\n",
        "Para acceder a un valor determinado del diccionario ya no lo hacemos por su posición sino por su clave.  Las claves pueden ser de tipo numéricas o strings.  Si intentamos acceder a un elemento del diccionario a través de una clave que no existe obtendremos un error."
      ],
      "metadata": {
        "id": "Xb4l40JWdsN1"
      }
    },
    {
      "cell_type": "code",
      "source": [
        "capitales = {\"Manizales\": \"Caldas\", \"Pereira\": \"Risaralda\", \"Cali\": \"Valle\"}\n",
        "print (capitales)#mostrar todos los pares clave-valor\n",
        "print (f\"La capital de Manizales es {capitales['Manizales']}\")#acceso por clave\n",
        "capitales[\"Armenia\"] = \"Quindio\" #agregar elemento al diccionario\n",
        "print (capitales)"
      ],
      "metadata": {
        "id": "uceR103cavwk",
        "colab": {
          "base_uri": "https://localhost:8080/"
        },
        "outputId": "cc5044a1-e9dc-4e7c-9020-0a11a814b400"
      },
      "execution_count": null,
      "outputs": [
        {
          "output_type": "stream",
          "name": "stdout",
          "text": [
            "{'Manizales': 'Caldas', 'Pereira': 'Risaralda', 'Cali': 'Valle'}\n",
            "La capital de Manizales es Caldas\n",
            "{'Manizales': 'Caldas', 'Pereira': 'Risaralda', 'Cali': 'Valle', 'Armenia': 'Quindio'}\n"
          ]
        }
      ]
    },
    {
      "cell_type": "markdown",
      "source": [
        "Los diccionarios son mutables, por lo tanto podemos cambiar los valores de sus elementos"
      ],
      "metadata": {
        "id": "Av6_3KMLca3U"
      }
    },
    {
      "cell_type": "code",
      "source": [
        "capitales = {\"Manizales\": \"Caldas\", \"Pereira\": \"Risaralda\", \"Cali\": \"Valle\"}\n",
        "capitales[\"Cali\"] = \"Valle del Cauca\"\n",
        "print (capitales)"
      ],
      "metadata": {
        "id": "3JU8-bGSct4z",
        "colab": {
          "base_uri": "https://localhost:8080/"
        },
        "outputId": "d113ec8d-1aab-4c0a-9928-d19078eee62e"
      },
      "execution_count": null,
      "outputs": [
        {
          "output_type": "stream",
          "name": "stdout",
          "text": [
            "{'Manizales': 'Caldas', 'Pereira': 'Risaralda', 'Cali': 'Valle del Cauca'}\n"
          ]
        }
      ]
    },
    {
      "cell_type": "markdown",
      "source": [
        "## Eliminación\n",
        "\n",
        "Usamos la función **del()** para borrar un elemento del diccionario"
      ],
      "metadata": {
        "id": "z4NUbwPJdy_i"
      }
    },
    {
      "cell_type": "code",
      "source": [
        "capitales = {\"Manizales\": \"Caldas\", \"Pereira\": \"Risaralda\", \"Cali\": \"Valle\"}\n",
        "del(capitales [\"Cali\"]) #se elimina el elemento con la clave dada\n",
        "print (capitales)"
      ],
      "metadata": {
        "id": "0nlLFDcVeG6U",
        "colab": {
          "base_uri": "https://localhost:8080/"
        },
        "outputId": "56e72ad4-76c4-4271-cc24-8ef17d8edeb9"
      },
      "execution_count": null,
      "outputs": [
        {
          "output_type": "stream",
          "name": "stdout",
          "text": [
            "{'Manizales': 'Caldas', 'Pereira': 'Risaralda'}\n"
          ]
        }
      ]
    },
    {
      "cell_type": "markdown",
      "source": [
        "Los valores en cada campo de un diccionario pueden ser de cualquier tipo e incluso de otro tipo de colección"
      ],
      "metadata": {
        "id": "lCnqoXFKfuea"
      }
    },
    {
      "cell_type": "code",
      "source": [
        "alumnos = {\"juan\": [23,\"calle 10\", 323], \"Luis\": [45, \"carrera 12\"]}\n",
        "print (alumnos[\"Luis\"])"
      ],
      "metadata": {
        "id": "U7K5I38WfHVj",
        "colab": {
          "base_uri": "https://localhost:8080/"
        },
        "outputId": "69c2f3fd-199e-4d27-e841-5203d0208915"
      },
      "execution_count": null,
      "outputs": [
        {
          "output_type": "stream",
          "name": "stdout",
          "text": [
            "[45, 'carrera 12']\n"
          ]
        }
      ]
    },
    {
      "cell_type": "markdown",
      "source": [
        "## Recorrido de diccionarios"
      ],
      "metadata": {
        "id": "47FGsZZkgD3h"
      }
    },
    {
      "cell_type": "code",
      "source": [
        "edades = {'Hector':27,'Juan':45,'Maria':34}\n",
        "\n",
        "for x in edades:\n",
        "    print(x) #Acceso a las claves\n",
        "\n",
        "for clave in edades:\n",
        "    print(edades[clave]) #Acceso a los valores\n",
        "\n"
      ],
      "metadata": {
        "id": "lPbtsHe2gItZ",
        "colab": {
          "base_uri": "https://localhost:8080/"
        },
        "outputId": "a0616627-a741-4ecd-8a9f-8dcd566943da"
      },
      "execution_count": null,
      "outputs": [
        {
          "output_type": "stream",
          "name": "stdout",
          "text": [
            "Hector\n",
            "Juan\n",
            "Maria\n",
            "27\n",
            "45\n",
            "34\n"
          ]
        }
      ]
    },
    {
      "cell_type": "markdown",
      "source": [
        "El método **items()**  devuelve el par clave-valor en una misma variable"
      ],
      "metadata": {
        "id": "_ThGf-iLhXt0"
      }
    },
    {
      "cell_type": "code",
      "source": [
        "edades = {'Hector':27,'Juan':45,'Maria':34}\n",
        "for x in edades.items():\n",
        "    print(x) #obteniendo clave-valor en la misma variable\n",
        "\n",
        "for p, q in edades.items():\n",
        "    print(p,\" - \", q) #obteniendo clave y valor en diferentes variables"
      ],
      "metadata": {
        "id": "X-21f6LchhBb",
        "colab": {
          "base_uri": "https://localhost:8080/"
        },
        "outputId": "547dc020-bef1-4439-dbb3-9218431d5933"
      },
      "execution_count": null,
      "outputs": [
        {
          "output_type": "stream",
          "name": "stdout",
          "text": [
            "('Hector', 27)\n",
            "('Juan', 45)\n",
            "('Maria', 34)\n",
            "Hector  -  27\n",
            "Juan  -  45\n",
            "Maria  -  34\n"
          ]
        }
      ]
    },
    {
      "cell_type": "markdown",
      "source": [
        "El método **keys()** devuelve las llaves"
      ],
      "metadata": {
        "id": "6WbmozaUjEba"
      }
    },
    {
      "cell_type": "code",
      "source": [
        "for item in edades.keys():\n",
        "    print(item)"
      ],
      "metadata": {
        "colab": {
          "base_uri": "https://localhost:8080/"
        },
        "id": "1GCTUCNSiy0y",
        "outputId": "bd86cad2-8523-450a-cf1c-f8a3e2bb738a"
      },
      "execution_count": null,
      "outputs": [
        {
          "output_type": "stream",
          "name": "stdout",
          "text": [
            "Hector\n",
            "Juan\n",
            "Maria\n"
          ]
        }
      ]
    },
    {
      "cell_type": "markdown",
      "source": [
        "El método **values()** devuelve los valores"
      ],
      "metadata": {
        "id": "1wj-yslyjLSK"
      }
    },
    {
      "cell_type": "code",
      "source": [
        "for item in edades.values():\n",
        "    print(item)"
      ],
      "metadata": {
        "colab": {
          "base_uri": "https://localhost:8080/"
        },
        "id": "oqcQ14QXjWJ5",
        "outputId": "afa08a8e-5021-4502-ede1-8ff433d6e6a2"
      },
      "execution_count": null,
      "outputs": [
        {
          "output_type": "stream",
          "name": "stdout",
          "text": [
            "27\n",
            "45\n",
            "34\n"
          ]
        }
      ]
    },
    {
      "cell_type": "markdown",
      "source": [
        "# Apropiación Diccionarios"
      ],
      "metadata": {
        "id": "S1zvcQH3jpEB"
      }
    },
    {
      "cell_type": "markdown",
      "source": [
        "1. Realice un programa traductor de frutas del español al inglés.  Para ello, solicite el nombre de una fruta al usuario y muestre su traducción al inglés.  Si la fruta no se encuentra en el diccionario, permítale al usuario agregarla con su respectiva traducción.  El programa solo termina cuando el usuario ingresa una fruta que no está en el diccionario y no desea agregarla."
      ],
      "metadata": {
        "id": "VWFUSko6jrkA"
      }
    },
    {
      "cell_type": "code",
      "source": [],
      "metadata": {
        "id": "LMaWFGfttm87"
      },
      "execution_count": null,
      "outputs": []
    },
    {
      "cell_type": "code",
      "source": [
        "alu = {\"1\": [\"Juan\", 33]}\n",
        "print (alu[\"1\"][0])"
      ],
      "metadata": {
        "id": "daCJ1Ao2hSQa",
        "colab": {
          "base_uri": "https://localhost:8080/"
        },
        "outputId": "c80704c4-65e9-4b6c-9812-99f4bd9a7530"
      },
      "execution_count": null,
      "outputs": [
        {
          "output_type": "stream",
          "name": "stdout",
          "text": [
            "Juan\n"
          ]
        }
      ]
    },
    {
      "cell_type": "markdown",
      "source": [
        "2. Se requiere almacenar la siguiente información de los 5 estudiantes de un grupo:\n",
        "**id, nombre, edad, nota**\n",
        "\n",
        "Posteriormente:\n",
        "* (a) Mostrar toda la información de todos los estudiantes.\n",
        "* (b) solicitar el id de un estudiante para mostrar su respectiva información.\n"
      ],
      "metadata": {
        "id": "8THzvfrMmeDo"
      }
    }
  ]
}